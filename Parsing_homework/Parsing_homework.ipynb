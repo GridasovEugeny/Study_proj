{
 "cells": [
  {
   "cell_type": "markdown",
   "id": "d1ac33bb-1364-40ee-a09e-76fe83ee2ec8",
   "metadata": {},
   "source": [
    "# Парсер telegram links"
   ]
  },
  {
   "cell_type": "markdown",
   "id": "d55cc8a6-e64d-4c9c-a587-2c28aa9862a7",
   "metadata": {},
   "source": [
    "Планируется след. модель исползования - выгружаю вакансии за определенный период предобрабатываю, сохраняю в отдельный файл для какой нибудь аналитики.   \n",
    "Т.е вся логика ноутбука сводится к одному такому циклу работы."
   ]
  },
  {
   "cell_type": "code",
   "execution_count": 1,
   "id": "5660adaa-6a01-4a66-95a9-75db32c63b62",
   "metadata": {},
   "outputs": [],
   "source": [
    "#!pip install pyrogram tgcrypto\n",
    "#!pip install python-dotenv\n",
    "#C:\\Users\\Evgeny\\Jupyter_notebooks\\Yandex\\web_homework"
   ]
  },
  {
   "cell_type": "markdown",
   "id": "7a4d8253-9199-4d7b-aa0c-daf6111c71d2",
   "metadata": {},
   "source": [
    "## Сбор данных"
   ]
  },
  {
   "cell_type": "code",
   "execution_count": 2,
   "id": "90970c2d",
   "metadata": {},
   "outputs": [],
   "source": [
    "import os\n",
    "import re\n",
    "import pandas as pd\n",
    "import numpy as np\n",
    "import json\n",
    "import pyrogram\n",
    "import requests\n",
    "\n",
    "\n",
    "#from bs4 import BeautifulSoup\n",
    "from dotenv import load_dotenv\n",
    "\n",
    "from pyrogram import Client\n",
    "from datetime import datetime\n"
   ]
  },
  {
   "cell_type": "markdown",
   "id": "db0683fa-f0de-4e50-95fe-35b77be25a91",
   "metadata": {},
   "source": [
    "### Telegram"
   ]
  },
  {
   "cell_type": "markdown",
   "id": "5627a0e1-fc59-47e8-8981-190a8d295795",
   "metadata": {},
   "source": [
    "Баш на windows не работает корректно, сыплет вопросами и ошибками, хотя установлен и включен. Запускаю скрипт питоном машины, тк. пакеты мы все равно устанавливаем не в ядро ноутбука, а в питон машины. Так же пути с точкой, вида - '.env', не работают. Думаю все косяки связанны с windows (╯°□°）╯︵ ┻━┻. По этому я немного поправил скрипты и на моей машине это работает.  \n",
    "┬─┬ ノ( ゜-゜ノ)"
   ]
  },
  {
   "cell_type": "markdown",
   "id": "992e0437-3837-4282-8fd4-5a186e395c15",
   "metadata": {},
   "source": [
    "#### Выгрузка сообщений"
   ]
  },
  {
   "cell_type": "markdown",
   "id": "f135a780-909d-4479-b800-61a447e69668",
   "metadata": {},
   "source": [
    "'telegram.csv' используется как временный рабочий фрейм с загруженными сообщениями из телеграма, в котором информация обрабатывается затем попадает в основной DF и 'telegram.csv' удаляется."
   ]
  },
  {
   "cell_type": "code",
   "execution_count": 3,
   "id": "309e1ceb-3fe0-4a29-8336-af9c31be2102",
   "metadata": {},
   "outputs": [],
   "source": [
    "#Здесь задаю каналы и кол-во сообщений\n",
    "target_chanels = ['datajob', 'foranalysts', 'analyst_job', 'data_hr', 'analysts_hunter','biheadhunter', 'datasciencejobs']\n",
    "arg1 = ','.join(target_chanels)\n",
    "arg2 = 50\n",
    "\n",
    "#Данные приложения из переменных среды\n",
    "dotenv_path = os.path.join('env')\n",
    "\n",
    "if os.path.exists(dotenv_path):\n",
    "    load_dotenv(dotenv_path)\n",
    "    \n",
    "arg3 = os.environ['API_ID']\n",
    "arg4 = os.environ['API_HASH']\n",
    "\n",
    "command_line = f'-id {arg3} -hash {arg4} -t {arg1} -n {arg2}'"
   ]
  },
  {
   "cell_type": "code",
   "execution_count": 4,
   "id": "f0b0ce8a-8b8c-4d8c-88ee-1d575dabf510",
   "metadata": {},
   "outputs": [
    {
     "name": "stdout",
     "output_type": "stream",
     "text": [
      "Pyrogram v1.2.9, Copyright (C) 2017-2021 Dan <https://github.com/delivrance>\n",
      "Licensed under the terms of the GNU Lesser General Public License v3 or later (LGPLv3+)\n",
      "\n",
      "Success:  C:\\Users\\Evgeny\\Jupyter_notebooks\\Yandex\\web_homework\\telegram.csv\n"
     ]
    }
   ],
   "source": [
    "!python pyro_run.py $command_line"
   ]
  },
  {
   "cell_type": "code",
   "execution_count": 5,
   "id": "32314ddf-16a6-41bd-9ccc-3b1eee32abe0",
   "metadata": {},
   "outputs": [],
   "source": [
    "telegram_raw = pd.read_csv('telegram.csv')"
   ]
  },
  {
   "cell_type": "code",
   "execution_count": 6,
   "id": "b2b06d60-910d-41ee-9304-af1ab082e157",
   "metadata": {},
   "outputs": [
    {
     "name": "stdout",
     "output_type": "stream",
     "text": [
      "<class 'pandas.core.frame.DataFrame'>\n",
      "RangeIndex: 350 entries, 0 to 349\n",
      "Data columns (total 5 columns):\n",
      " #   Column      Non-Null Count  Dtype \n",
      "---  ------      --------------  ----- \n",
      " 0   chat        250 non-null    object\n",
      " 1   message_id  350 non-null    int64 \n",
      " 2   date        350 non-null    int64 \n",
      " 3   text        321 non-null    object\n",
      " 4   entities    277 non-null    object\n",
      "dtypes: int64(2), object(3)\n",
      "memory usage: 13.8+ KB\n"
     ]
    }
   ],
   "source": [
    "telegram_raw.info()"
   ]
  },
  {
   "cell_type": "markdown",
   "id": "ed6e87de-94f9-4efc-aacb-24a9176eebe3",
   "metadata": {},
   "source": [
    "Сообщения без структуры и текста"
   ]
  },
  {
   "cell_type": "code",
   "execution_count": 7,
   "id": "77eb9ad6-ba3e-4f06-a803-9306fe2f840a",
   "metadata": {},
   "outputs": [],
   "source": [
    "#telegram_raw[telegram_raw['entities'].isna()]\n",
    "#telegram_raw[telegram_raw['chat'].isna()]"
   ]
  },
  {
   "cell_type": "code",
   "execution_count": 8,
   "id": "1eacbb4f-6ed0-4caf-bea0-d8c527d60cbf",
   "metadata": {},
   "outputs": [],
   "source": [
    "#Дропаю все сообщения без структуры, тк пока не разобрался что это за сообщения такие.\n",
    "telegram_raw = telegram_raw.dropna(subset=['chat'])\n",
    "telegram_raw = telegram_raw.dropna(subset=['entities'])"
   ]
  },
  {
   "cell_type": "markdown",
   "id": "30717bc3-ab7f-467a-95a0-b1a25e379906",
   "metadata": {},
   "source": [
    "Сообщения можно различать по chat id + message_id. Так же из всей информации о чате пока что оставляю только id"
   ]
  },
  {
   "cell_type": "code",
   "execution_count": 9,
   "id": "98bddbb6-504c-4751-bfc6-bab60454d7dc",
   "metadata": {},
   "outputs": [],
   "source": [
    "#id канала\n",
    "telegram_raw['id'] = telegram_raw['chat'].apply(lambda x: re.findall(r'-\\d*,', x)[0][1:-1]) + telegram_raw['message_id'].apply(str)\n",
    "#Название канала\n",
    "telegram_raw['channel'] = telegram_raw['chat'].apply(lambda x: re.findall(r'\\\"username\\\": \\\"\\w+\\\"', x)[0][13:-1])"
   ]
  },
  {
   "cell_type": "code",
   "execution_count": 10,
   "id": "157a745e-a945-4afb-bc41-1b282dc9dfba",
   "metadata": {},
   "outputs": [],
   "source": [
    "telegram_raw = telegram_raw.drop('chat', axis=1)\n",
    "telegram_raw = telegram_raw.drop('message_id', axis=1)"
   ]
  },
  {
   "cell_type": "markdown",
   "id": "dfad9c8b-2047-4d13-977f-afcc18521562",
   "metadata": {},
   "source": [
    "id приятней видеть первым"
   ]
  },
  {
   "cell_type": "code",
   "execution_count": 11,
   "id": "75349b1c-03fa-40ff-a9ea-669f6ed70845",
   "metadata": {},
   "outputs": [],
   "source": [
    "c_names = list(telegram_raw.columns)\n",
    "c_names[0], c_names[-1]  = c_names[-1], c_names[0]\n",
    "telegram_raw = telegram_raw[c_names]"
   ]
  },
  {
   "cell_type": "markdown",
   "id": "eb728b56-5911-4d71-943c-45e1270c8974",
   "metadata": {},
   "source": [
    "#### Парсинг"
   ]
  },
  {
   "cell_type": "markdown",
   "id": "04f60218-83d8-4386-a3f4-4cbb40708993",
   "metadata": {},
   "source": [
    "Разметка сообщений телеграма оказалась крайней не надежной, по этому использую смесь из re и того что размечено в json для парсинга."
   ]
  },
  {
   "cell_type": "code",
   "execution_count": 12,
   "id": "0bb58a11-51db-4fac-96ee-2c99f7a3d982",
   "metadata": {},
   "outputs": [],
   "source": [
    "#Парсим контакты из текста сообщения, по разметке в джсон\n",
    "#Пока что сделал так, но выглядит перегруженно и неочень\n",
    "def parse_contact_links_debug(x):\n",
    "    url_reg = 'http\\S+'\n",
    "    telegram_reg = '\\S+t.me\\S+'\n",
    "    \n",
    "    urls = list()\n",
    "    emails = list()\n",
    "    mentions = list()\n",
    "    tags = list()\n",
    "#    print(x['entities'])\n",
    "    try:\n",
    "        for i in json.loads(x['entities']):\n",
    "#            print(i)\n",
    "            offset = i['offset']\n",
    "            lenght = i['length']\n",
    "            #это могут быть ссылки и на телеграм и на ютуб и на сайт с вакансией\n",
    "            if i['type'] == 'text_link':\n",
    "                place = x['text'][offset : offset + lenght]\n",
    "#                print(place)\n",
    "                tmp = re.findall(url_reg, place)\n",
    "                for link in tmp:\n",
    "                    urls.append(link)\n",
    "                tmp = re.findall(telegram_reg, place)\n",
    "                for link in tmp:\n",
    "                    mentions.append(link)\n",
    "            #пока что верим что тут только эмейлы\n",
    "            elif i['type'] == 'email':\n",
    "                emails.append(x['text'][offset : offset + lenght])\n",
    "            #ссылка на телеграм\n",
    "            elif i['type'] == 'mention':\n",
    "                mentions.append('https://t.me/' + x['text'][offset +1 : offset + lenght])#пропускаю @\n",
    "            #это могут быть ссылки и на телеграм и на ютуб и на сайт с вакансией\n",
    "            elif i['type'] == 'url':\n",
    "                place = x['text'][offset -4 : offset + lenght]# увидел что у offset url встречается ошибка в 4 знака в смещеннии\n",
    "#                print(place)\n",
    "                tmp = re.findall(url_reg, place)\n",
    "                for link in tmp:\n",
    "#                    print(link)\n",
    "                    urls.append(link)\n",
    "                tmp = re.findall(telegram_reg, place)\n",
    "                for link in tmp:\n",
    "                    mentions.append(link)\n",
    "            #теги\n",
    "            elif i['type'] == 'hashtag':\n",
    "                tmp = x['text'][offset : offset + lenght]\n",
    "                tags.append(x['text'][offset : offset + lenght])\n",
    "                \n",
    "    except Exception as e:\n",
    "        print(e)\n",
    "        return None, None, None\n",
    "    \n",
    "    urls = (lambda x: x if(len(x) != 0) else None)(urls)\n",
    "    emails = (lambda x: x if(len(x) != 0) else None)(emails)\n",
    "    mentions = (lambda x: x if(len(x) != 0) else None)(mentions)\n",
    "    tags = (lambda x: x if(len(x) != 0) else None)(tags)\n",
    "    \n",
    "    return urls, emails, mentions, tags"
   ]
  },
  {
   "cell_type": "markdown",
   "id": "6994b666-41d7-44f9-bfe0-b97939f5160f",
   "metadata": {},
   "source": [
    "Получаю столбцы контактов и можно удалять entities столбец"
   ]
  },
  {
   "cell_type": "code",
   "execution_count": 13,
   "id": "0bfb9b8d-de42-447d-b097-2826dc902caf",
   "metadata": {},
   "outputs": [],
   "source": [
    "tmp_df = telegram_raw.apply(parse_contact_links_debug, axis=1, result_type='expand')\n",
    "tmp_df.columns = ['urls', 'emails', 'mentions', 'tags']\n",
    "\n",
    "#telegram_raw = telegram_raw.drop('entities', axis=1)\n",
    "telegram_raw = pd.concat([telegram_raw, tmp_df], axis=1)\n",
    "telegram_raw = telegram_raw.drop('entities', axis=1)"
   ]
  },
  {
   "cell_type": "markdown",
   "id": "329cf9ea-d801-408a-abca-cc8015be0a89",
   "metadata": {},
   "source": [
    "На данном этапе сохраняю нужные данные в csv, что бы скриптом брать оттуда ссылки и парсить их. Потом обратно заджойнить по id.   \n",
    "Планирую такого вида файл скармливать павукам и получать его же но с html. Думаю есть решения лучше чем csv например через json.  "
   ]
  },
  {
   "cell_type": "code",
   "execution_count": 14,
   "id": "1796a619-2627-4afa-b257-9ed2780c665a",
   "metadata": {},
   "outputs": [],
   "source": [
    "f1 = telegram_raw['urls'].notna()\n",
    "#f2 = telegram_raw[f1]['urls'].apply(lambda x: len(x) == 1)\n",
    "#Нужные столбцы\n",
    "columns = ['id', 'urls']"
   ]
  },
  {
   "cell_type": "code",
   "execution_count": 15,
   "id": "ec10aa56-835e-4df1-a274-30977d1d0b3c",
   "metadata": {},
   "outputs": [],
   "source": [
    "tmp_df = telegram_raw.loc[f1, columns]\n",
    "#Проблема 1 - после сохранения лист становится строкой. . .\n",
    "#Так же воможно испортились столбцы 'chat' и 'entities'\n",
    "\n",
    "#Пока не придумал что делать с остальными ссылками\n",
    "#по этому парсить буду 1ю ссылку в списке\n",
    "tmp_df['urls'] = tmp_df['urls'].apply(lambda x: x[0])\n",
    "tmp_df['desc_html'] = pd.NA\n",
    "tmp_df.to_csv('tmp_urls.csv', index=False)"
   ]
  },
  {
   "cell_type": "markdown",
   "id": "fd40c265-55e7-4ad2-a6ad-d936dba101e7",
   "metadata": {},
   "source": [
    "HTML вакансий будет собираться, Scrapy павуками. /╲/\\╭( ͡° ͡° ͜ʖ ͡° ͡°)╮/\\╱\\"
   ]
  },
  {
   "cell_type": "code",
   "execution_count": 16,
   "id": "138de869-4deb-431c-93fa-98bd93707b16",
   "metadata": {},
   "outputs": [],
   "source": [
    "#!pip install Scrapy"
   ]
  },
  {
   "cell_type": "code",
   "execution_count": 17,
   "id": "a1bbaa7a-18e5-4d03-bc33-295de6191f35",
   "metadata": {},
   "outputs": [],
   "source": [
    "!python spider_nest.py -s > 'spider_nest_logs' 2>&1"
   ]
  },
  {
   "cell_type": "code",
   "execution_count": 18,
   "id": "cf005748-a61d-4a8e-9be7-9d2e37ee49db",
   "metadata": {},
   "outputs": [],
   "source": [
    "tmp_df = pd.read_csv('tmp_urls.csv', dtype={'id':object, 'urls':object, 'desc_html':object})"
   ]
  },
  {
   "cell_type": "markdown",
   "id": "cd88b972-70e1-42a4-8698-3fe6f9fdab7a",
   "metadata": {},
   "source": [
    "Проверяю как запарсилось"
   ]
  },
  {
   "cell_type": "code",
   "execution_count": 19,
   "id": "8a24eba2-e970-4a11-8972-a5f6825be9ff",
   "metadata": {},
   "outputs": [],
   "source": [
    "from IPython.core.display import display, HTML, clear_output\n",
    "import ipywidgets as widgets"
   ]
  },
  {
   "cell_type": "code",
   "execution_count": 20,
   "id": "2b1e95a7-dcd9-4d6a-ae24-353255ee7786",
   "metadata": {},
   "outputs": [],
   "source": [
    "#HTML(tmp_df.loc[10, 'desc_html'])"
   ]
  },
  {
   "cell_type": "markdown",
   "id": "7570cf30-d382-4bd5-b78a-28e2cdd848d8",
   "metadata": {},
   "source": [
    "Далее джойним html обратно"
   ]
  },
  {
   "cell_type": "code",
   "execution_count": 21,
   "id": "2eb7a5f0-a373-4f26-8149-d44b611de8ef",
   "metadata": {},
   "outputs": [],
   "source": [
    "#В этой ячейке случалось страшное\n",
    "#пришлось приводить столбцы к инту потом обратно к стр, что джойн сработал\n",
    "#После перезапуска ядра все работает и так Оо.\n",
    "\n",
    "telegram_raw.id = telegram_raw.id.astype(str)\n",
    "tmp_df.id = tmp_df.id.astype(str)\n",
    "\n",
    "telegram_raw = telegram_raw.join(tmp_df.loc[:,['id', 'desc_html']].set_index('id'), on='id')"
   ]
  },
  {
   "cell_type": "markdown",
   "id": "44b5f0a0-8998-4b54-98c3-008962ef02a6",
   "metadata": {},
   "source": [
    "Теперь можно парсить текст, html и теги что бы получить информацию для анализа."
   ]
  },
  {
   "cell_type": "markdown",
   "id": "87643b04-0701-4efc-96f4-379ba1f2be63",
   "metadata": {},
   "source": [
    "Мои критерии"
   ]
  },
  {
   "cell_type": "markdown",
   "id": "1916b4c1-0df9-48e9-aba5-b3411e081a44",
   "metadata": {},
   "source": [
    "Достаем работодателя, местоположение, удаленка или нет, опыт работы, телефон."
   ]
  },
  {
   "cell_type": "code",
   "execution_count": 22,
   "id": "17144198-b21e-4f9a-9d03-999768603209",
   "metadata": {},
   "outputs": [],
   "source": [
    "employe_r = r'Компания: |'\n",
    "area_r = r'Город|офисе в|офис в'\n",
    "phone_r = r'\\+\\d{11}|8\\d{10}'"
   ]
  },
  {
   "cell_type": "markdown",
   "id": "64f5a733-126d-40c1-ae14-0306f2d8b386",
   "metadata": {},
   "source": [
    "Листалка вакансий"
   ]
  },
  {
   "cell_type": "code",
   "execution_count": 23,
   "id": "408d865e-7b5c-4869-bb76-4b5c7a76e7af",
   "metadata": {
    "jupyter": {
     "source_hidden": true
    },
    "tags": []
   },
   "outputs": [],
   "source": [
    "pd.set_option('display.max_colwidth', None)"
   ]
  },
  {
   "cell_type": "code",
   "execution_count": 24,
   "id": "8d6753c5-2ae5-49dd-8022-f04639a99cc8",
   "metadata": {
    "jupyter": {
     "source_hidden": true
    },
    "tags": []
   },
   "outputs": [
    {
     "data": {
      "application/vnd.jupyter.widget-view+json": {
       "model_id": "52caf4b78add4af3a7ed456ee6178c1b",
       "version_major": 2,
       "version_minor": 0
      },
      "text/plain": [
       "Button(description='Показать вакансии', style=ButtonStyle())"
      ]
     },
     "metadata": {},
     "output_type": "display_data"
    },
    {
     "data": {
      "application/vnd.jupyter.widget-view+json": {
       "model_id": "122521dd1bdd4c93b659dd4b48f9322a",
       "version_major": 2,
       "version_minor": 0
      },
      "text/plain": [
       "IntSlider(value=0, max=222)"
      ]
     },
     "metadata": {},
     "output_type": "display_data"
    },
    {
     "data": {
      "application/vnd.jupyter.widget-view+json": {
       "model_id": "6116da3e849248a8880501e721df92c3",
       "version_major": 2,
       "version_minor": 0
      },
      "text/plain": [
       "Output()"
      ]
     },
     "metadata": {},
     "output_type": "display_data"
    }
   ],
   "source": [
    "button_2 = widgets.Button(description=\"Показать вакансии\")\n",
    "input_0 = widgets.IntSlider(min=0,max=len(telegram_raw),step=1)\n",
    "output_2 = widgets.Output()\n",
    "\n",
    "display(button_2, input_0, output_2)\n",
    "\n",
    "counter_2 = 0\n",
    "def on_trait_change_0(b):\n",
    "    global counter_2\n",
    "    counter_2 = b['new']['value']\n",
    "    \n",
    "def on_clicked_2(b):\n",
    "    with output_2:\n",
    "        try:\n",
    "            global counter_2\n",
    "            clear_output()\n",
    "            print('Строка № ', counter_2)\n",
    "            display(telegram_raw.iloc[counter_2][['channel','text']])\n",
    "            counter_2 += 1\n",
    "            if counter_2 == len(telegram_raw):\n",
    "                counter_2 = 0\n",
    "                print('Вакансии закончились')\n",
    "        except Exception as e:\n",
    "            print(e)\n",
    "            \n",
    "button_2.on_click(on_clicked_2)\n",
    "input_0.observe(on_trait_change_0)"
   ]
  },
  {
   "cell_type": "markdown",
   "id": "5422467e-575b-47cc-8a8e-4d4e273abfbd",
   "metadata": {},
   "source": [
    "На этом этапе мне стало понятно, что, из не структурированного текста, получить названия компаний и их местоположения, подходом в лоб через re не так то просто. Потребуется как то разметить текст и много времени с экспериментами. По этому я остановлюсь на том что могу сделать в рамках дз.  А именно - посмотрю подходящие вакансии и немного проанализую каналы."
   ]
  },
  {
   "cell_type": "code",
   "execution_count": 25,
   "id": "439977bd-34c6-4d16-8e49-c8278476f38d",
   "metadata": {},
   "outputs": [],
   "source": [
    "def parse_phone(row):\n",
    "    phone_r = r'\\+\\d{11}|8\\d{10}'\n",
    "    tmp = re.findall(phone_r, row['text'])\n",
    "    if len(tmp) > 0:\n",
    "        return tmp\n",
    "    return pd.NA"
   ]
  },
  {
   "cell_type": "code",
   "execution_count": 26,
   "id": "34179891-3719-4071-bd9b-3879a725abba",
   "metadata": {},
   "outputs": [],
   "source": [
    "telegram_raw['phone'] = telegram_raw.apply(parse_phone, axis=1)"
   ]
  },
  {
   "cell_type": "markdown",
   "id": "f37ce727-2769-4849-ba4e-cf603c106edb",
   "metadata": {},
   "source": [
    "### Анализ каналов и вакансий"
   ]
  },
  {
   "cell_type": "markdown",
   "id": "da4be18a-55d1-4352-ab30-9a2135d28fa4",
   "metadata": {},
   "source": [
    "Смотрим как распределяются виды оставленных контактов по каналам"
   ]
  },
  {
   "cell_type": "code",
   "execution_count": 27,
   "id": "7fd66b79-85c9-46dd-9cee-cefd53d52228",
   "metadata": {},
   "outputs": [],
   "source": [
    "import numpy as np\n",
    "import matplotlib\n",
    "import matplotlib.pyplot as plt"
   ]
  },
  {
   "cell_type": "code",
   "execution_count": 28,
   "id": "d7d4b209-013d-4a5d-ae5a-2c49ad6c6bea",
   "metadata": {},
   "outputs": [],
   "source": [
    "tmp_cols = ['mentions', 'urls', 'emails', 'phone']\n",
    "contacts_by_channels = telegram_raw.groupby('channel').count().loc[:, tmp_cols]"
   ]
  },
  {
   "cell_type": "code",
   "execution_count": 29,
   "id": "c4c8d94a-2e37-484a-8408-06c685d3f7ba",
   "metadata": {},
   "outputs": [],
   "source": [
    "font = {'family' : 'DejaVu Sans',\n",
    "        'weight' : 'bold',\n",
    "        'size'   : 18}\n",
    "\n",
    "matplotlib.rc('font', **font)"
   ]
  },
  {
   "cell_type": "code",
   "execution_count": 30,
   "id": "f1137f83-2d07-4232-858f-3e7c75a6d110",
   "metadata": {},
   "outputs": [
    {
     "data": {
      "text/plain": [
       "<AxesSubplot:xlabel='channel'>"
      ]
     },
     "execution_count": 30,
     "metadata": {},
     "output_type": "execute_result"
    },
    {
     "data": {
      "image/png": "[encoded data removed]",
      "text/plain": [
       "<Figure size 1152x576 with 1 Axes>"
      ]
     },
     "metadata": {
      "needs_background": "light"
     },
     "output_type": "display_data"
    }
   ],
   "source": [
    "contacts_by_channels.plot.bar(figsize=(16,8))"
   ]
  },
  {
   "cell_type": "markdown",
   "id": "d060f446-6dc2-439b-88e2-58dcc34042b1",
   "metadata": {},
   "source": [
    "Видно что в основном оставляют телеграм и ссылки, мыло редко и телефон совсем редко. Воможно с помощью телефона оставляют свой телеграм."
   ]
  },
  {
   "cell_type": "markdown",
   "id": "08792a99-949b-4ac9-9e67-7b19203264dc",
   "metadata": {},
   "source": [
    "#### Поиск подхожящих вакансий"
   ]
  },
  {
   "cell_type": "markdown",
   "id": "5d4ed418-c076-4186-ae18-f57f7a89755a",
   "metadata": {},
   "source": [
    "Отбираю вакансии аналитика и смотрю какая часть вакансий на канале подходит мне."
   ]
  },
  {
   "cell_type": "code",
   "execution_count": 31,
   "id": "7a0e345c-1c88-44a5-ba62-6395c8685c3d",
   "metadata": {
    "tags": []
   },
   "outputs": [],
   "source": [
    "def search_tags(row, tag):\n",
    "    tag = tag.lower().replace(' ','_')\n",
    "    for t in row['tags']:\n",
    "        if not (re.search(tag, t.lower()) is None):\n",
    "            return True\n",
    "    return False"
   ]
  },
  {
   "cell_type": "code",
   "execution_count": 32,
   "id": "5dcdc6af-f814-41b5-b307-3f5a1f7e9a0d",
   "metadata": {
    "tags": []
   },
   "outputs": [],
   "source": [
    "def search_text(row, tag):\n",
    "    tag = tag.lower()\n",
    "    return not (re.search(tag, row['text'].lower()) is None)"
   ]
  },
  {
   "cell_type": "code",
   "execution_count": 33,
   "id": "742657b2-268d-4de1-a74b-ca3641f140c1",
   "metadata": {
    "tags": []
   },
   "outputs": [],
   "source": [
    "def search_desc_html(row, tag):\n",
    "    tag = tag.lower()\n",
    "    return not (re.search(tag, str(row['desc_html']).lower()) is None)"
   ]
  },
  {
   "cell_type": "code",
   "execution_count": 34,
   "id": "23398739-3ed8-4ccc-a80e-72481dec5d25",
   "metadata": {
    "tags": []
   },
   "outputs": [],
   "source": [
    "def search_all(row, tag):\n",
    "    tmp = False\n",
    "    if(not (pd.isnull(row['text']))):\n",
    "        tmp = search_text(row, tag)\n",
    "    if(not pd.isna(row['text'])):\n",
    "        tmp = tmp|search_text(row, tag)\n",
    "    if(not pd.isna(row['desc_html'])):\n",
    "        tmp = tmp|search_desc_html(row, tag)\n",
    "    return tmp"
   ]
  },
  {
   "cell_type": "markdown",
   "id": "95b2c318-0f33-4e8b-bdd3-be07e9e46bb5",
   "metadata": {},
   "source": [
    "Интересующие меня направления и скилы"
   ]
  },
  {
   "cell_type": "code",
   "execution_count": 35,
   "id": "d786c7d2-1654-462f-a791-81bb7c45cd07",
   "metadata": {},
   "outputs": [],
   "source": [
    "import itertools\n",
    "#all_analytic = r'analyst|analytic|аналитик|Data Analyst|BI Aналитик|DA Aналитик|bi|business intelligence|биай'\n",
    "#da_analytic = r'Data Analyst|DA Aналитик|Дата Аналитик|Data '\n",
    "#bi_analytic = r'BI Aналитик|bi|business intelligence|биай'\n",
    "a = ['analyst','analytic','аналитик','analitic']\n",
    "d = ['data', 'da', 'дата', 'дэйта']\n",
    "b = ['bi', 'business intelligence', 'биэй', 'биай', 'бизнес']\n",
    "\n",
    "#Беру все перестановки из 2х множеств\n",
    "da = '|'.join(map(' '.join, itertools.chain(itertools.product(a, d), itertools.product(d, a))))\n",
    "ba = '|'.join(map(' '.join, itertools.chain(itertools.product(a, b), itertools.product(b, a))))\n",
    "a_as_min = '|'.join(a)\n",
    "\n",
    "location = r'remote|удаленка|удаленно|ремоут'\n",
    "skill0 = r'python'\n",
    "skill1 = r'sql'\n",
    "skill2 = r'tableu'\n",
    "skill3 = r'статистический анализ'"
   ]
  },
  {
   "cell_type": "markdown",
   "id": "5bcb859d-86dc-4a05-98be-d3ac379890d9",
   "metadata": {},
   "source": [
    "Отбор подходящих вакансий."
   ]
  },
  {
   "cell_type": "code",
   "execution_count": 36,
   "id": "ddac61dc-be6e-4198-a390-c7473228d23c",
   "metadata": {},
   "outputs": [],
   "source": [
    "telegram_raw['da'] = telegram_raw.apply(search_all,args=(ba,), axis=1)\n",
    "telegram_raw['ba'] = telegram_raw.apply(search_all,args=(da,), axis=1)\n",
    "telegram_raw['any_a'] = telegram_raw.apply(search_all,args=(a_as_min,), axis=1)"
   ]
  },
  {
   "cell_type": "code",
   "execution_count": 37,
   "id": "c4dd9d77-48e6-460c-84cd-ed1e71063ef2",
   "metadata": {},
   "outputs": [],
   "source": [
    "tmp_cols = ['da','ba','any_a']\n",
    "target_vac_by_channels = telegram_raw.groupby('channel').sum()[tmp_cols]"
   ]
  },
  {
   "cell_type": "code",
   "execution_count": 38,
   "id": "c5d2514a-db76-4e3e-ba4f-ae5e9ce9399b",
   "metadata": {},
   "outputs": [
    {
     "data": {
      "text/plain": [
       "<AxesSubplot:xlabel='channel'>"
      ]
     },
     "execution_count": 38,
     "metadata": {},
     "output_type": "execute_result"
    },
    {
     "data": {
      "image/png": "[encoded data removed]",
      "text/plain": [
       "<Figure size 1440x576 with 1 Axes>"
      ]
     },
     "metadata": {
      "needs_background": "light"
     },
     "output_type": "display_data"
    }
   ],
   "source": [
    "target_vac_by_channels.plot.bar(figsize=(20,8))"
   ]
  },
  {
   "cell_type": "markdown",
   "id": "69ac806c-6e6a-4963-9b36-3ecaeb5e2afa",
   "metadata": {},
   "source": [
    "Теперь видна некоторая статистика каналов относительно видой вакансий аналитика на них. Тк. это всего лишь одна выбрка, она конечно же не репрезентативна. Но далее в таком ключе можно собрать более детальную статистику по каналам, ведя историю вакансий в сообщениях. Так же это поможет выбрать более подходящие для поиска нужной вакансии."
   ]
  },
  {
   "cell_type": "markdown",
   "id": "3a915c35-df16-4261-81fc-c59b01a1a11d",
   "metadata": {},
   "source": [
    "## Вывод"
   ]
  },
  {
   "cell_type": "markdown",
   "id": "013fd952-8095-4c53-a557-6f6b68de1c1c",
   "metadata": {},
   "source": [
    "В ходе дз были изучены и закреплены навыки работы с инструментами скрепинга и парсинга, инструментами для работы c json и html. Так же навыки работы с интересными штуками вроде интерфейсов в ipython и др. Изучены основы работы с открытыми api telegram. Способы взаимодействия со внешними скриптами из ноутбука. После сбора данных, были проанализированны каналы с вакансиями в telegram и подобраны вакансии отвечающие критериям поиска. Наболее ценно, что в ходе дз сформировался подходящий для пет проекта материал. К сожалению времени что бы выполнить задание в полной мере у меня не хватило. По этому работа может выглядеть сжатой и скачущей, в общем недоделанной. За что извиняюсь."
   ]
  },
  {
   "cell_type": "markdown",
   "id": "3fc5680e-eba1-423f-821a-92542f08815b",
   "metadata": {},
   "source": [
    "PS:У меня на машине ноутбук запускается без ошибок, надеюсь после переноса на другую все будет работать. Вроде все ссылки были условные."
   ]
  }
 ],
 "metadata": {
  "kernelspec": {
   "display_name": "Python 3 (ipykernel)",
   "language": "python",
   "name": "python3"
  },
  "language_info": {
   "codemirror_mode": {
    "name": "ipython",
    "version": 3
   },
   "file_extension": ".py",
   "mimetype": "text/x-python",
   "name": "python",
   "nbconvert_exporter": "python",
   "pygments_lexer": "ipython3",
   "version": "3.8.8"
  }
 },
 "nbformat": 4,
 "nbformat_minor": 5
}
