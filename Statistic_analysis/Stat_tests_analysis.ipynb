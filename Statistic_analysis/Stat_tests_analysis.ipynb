{
 "cells": [
  {
   "cell_type": "markdown",
   "metadata": {},
   "source": [
    "# Определение перспективного тарифа для телеком-компании"
   ]
  },
  {
   "cell_type": "markdown",
   "metadata": {},
   "source": [
    "Цель проекта - сделать предварительный анализ тарифов на небольшой выборке клиентов 500 человек. Проанализировать поведение клиентов и сделать вывод — какой тариф лучше"
   ]
  },
  {
   "cell_type": "markdown",
   "metadata": {
    "jupyter": {
     "source_hidden": true
    },
    "tags": []
   },
   "source": [
    "| Название проекта | Описание | Используемые библиотеки | \n",
    "| :---------------------- | :---------------------- | :---------------------- |\n",
    "| [Финальный проект по A\\B тестированию](AB_test) | Проверить корректность проведения A\\B теста| *pandas*, *numpy*, *scipy*, *seaborn*|\n",
    "| [Финальный проект по анализу данных](Final_project)| Сформировать модель монетизации игрового приложения основанную на рекламе во время игрового события. Проверка статистических гипотез.| *pandas*, *numpy*, *scipy*, *seaborn*|\n",
    "| [Анализ рынка видеоигр](Games_analysis) | Провести анализ рынка видеоигр, различных игровых платформ, с целью предсказания закономерностей на след. год.| *pandas*, *numpy*, *scipy*, *seaborn*|\n",
    "| [Основы машинного обучения](ML_basics) |Формирование плана действий по удержанию клиентов| *pandas*, *numpy*, *scipy*, *sklearn*, *seaborn*|\n",
    "| [Парсер вакансий](Parsing_homework) |Разработать механизм парсинга вакансий из телеграм каналов| *pandas*, *numpy*, *matplotlib*, *Scrapy*|\n",
    "| [Робо-кафе](Preprocessing) |Анализ открытых данных заведений общественного питания Москвы| *pandas*, *numpy*, *seaborn*|\n",
    "| [Мегалайн](Statistic_analysis) | Определение перспективного тарифа для телеком-компании. Проверка статистических гипотез.| *pandas*, *numpy*, *scipy*, *seaborn*|"
   ]
  },
  {
   "cell_type": "markdown",
   "metadata": {},
   "source": [
    "## Изучение данных"
   ]
  },
  {
   "cell_type": "code",
   "execution_count": 1,
   "metadata": {},
   "outputs": [],
   "source": [
    "import numpy as np\n",
    "import pandas as pd\n",
    "import scipy.stats as st\n",
    "import seaborn as sns\n",
    "import scipy.stats as st"
   ]
  },
  {
   "cell_type": "code",
   "execution_count": 2,
   "metadata": {},
   "outputs": [],
   "source": [
    "calls_data = pd.read_csv('/datasets/calls.csv')\n",
    "internet_data = pd.read_csv('/datasets/internet.csv')\n",
    "messages_data = pd.read_csv('/datasets/messages.csv')\n",
    "tariffs_data = pd.read_csv('/datasets/tariffs.csv')\n",
    "users_data = pd.read_csv('/datasets/users.csv')"
   ]
  },
  {
   "cell_type": "markdown",
   "metadata": {},
   "source": [
    "### Звонки"
   ]
  },
  {
   "cell_type": "code",
   "execution_count": 3,
   "metadata": {},
   "outputs": [
    {
     "name": "stdout",
     "output_type": "stream",
     "text": [
      "<class 'pandas.core.frame.DataFrame'>\n",
      "RangeIndex: 202607 entries, 0 to 202606\n",
      "Data columns (total 4 columns):\n",
      " #   Column     Non-Null Count   Dtype  \n",
      "---  ------     --------------   -----  \n",
      " 0   id         202607 non-null  object \n",
      " 1   call_date  202607 non-null  object \n",
      " 2   duration   202607 non-null  float64\n",
      " 3   user_id    202607 non-null  int64  \n",
      "dtypes: float64(1), int64(1), object(2)\n",
      "memory usage: 6.2+ MB\n"
     ]
    }
   ],
   "source": [
    "calls_data.info()"
   ]
  },
  {
   "cell_type": "code",
   "execution_count": 4,
   "metadata": {},
   "outputs": [
    {
     "data": {
      "text/plain": [
       "count    202607.000000\n",
       "mean          6.755887\n",
       "std           5.843365\n",
       "min           0.000000\n",
       "25%           1.300000\n",
       "50%           6.000000\n",
       "75%          10.700000\n",
       "max          38.000000\n",
       "Name: duration, dtype: float64"
      ]
     },
     "execution_count": 4,
     "metadata": {},
     "output_type": "execute_result"
    }
   ],
   "source": [
    "calls_data['duration'].describe()"
   ]
  },
  {
   "cell_type": "code",
   "execution_count": 5,
   "metadata": {},
   "outputs": [
    {
     "data": {
      "text/html": [
       "<div>\n",
       "<style scoped>\n",
       "    .dataframe tbody tr th:only-of-type {\n",
       "        vertical-align: middle;\n",
       "    }\n",
       "\n",
       "    .dataframe tbody tr th {\n",
       "        vertical-align: top;\n",
       "    }\n",
       "\n",
       "    .dataframe thead th {\n",
       "        text-align: right;\n",
       "    }\n",
       "</style>\n",
       "<table border=\"1\" class=\"dataframe\">\n",
       "  <thead>\n",
       "    <tr style=\"text-align: right;\">\n",
       "      <th></th>\n",
       "      <th>id</th>\n",
       "      <th>call_date</th>\n",
       "      <th>duration</th>\n",
       "      <th>user_id</th>\n",
       "    </tr>\n",
       "  </thead>\n",
       "  <tbody>\n",
       "    <tr>\n",
       "      <th>0</th>\n",
       "      <td>1000_0</td>\n",
       "      <td>2018-07-25</td>\n",
       "      <td>0.00</td>\n",
       "      <td>1000</td>\n",
       "    </tr>\n",
       "    <tr>\n",
       "      <th>1</th>\n",
       "      <td>1000_1</td>\n",
       "      <td>2018-08-17</td>\n",
       "      <td>0.00</td>\n",
       "      <td>1000</td>\n",
       "    </tr>\n",
       "    <tr>\n",
       "      <th>2</th>\n",
       "      <td>1000_2</td>\n",
       "      <td>2018-06-11</td>\n",
       "      <td>2.85</td>\n",
       "      <td>1000</td>\n",
       "    </tr>\n",
       "    <tr>\n",
       "      <th>3</th>\n",
       "      <td>1000_3</td>\n",
       "      <td>2018-09-21</td>\n",
       "      <td>13.80</td>\n",
       "      <td>1000</td>\n",
       "    </tr>\n",
       "    <tr>\n",
       "      <th>4</th>\n",
       "      <td>1000_4</td>\n",
       "      <td>2018-12-15</td>\n",
       "      <td>5.18</td>\n",
       "      <td>1000</td>\n",
       "    </tr>\n",
       "  </tbody>\n",
       "</table>\n",
       "</div>"
      ],
      "text/plain": [
       "       id   call_date  duration  user_id\n",
       "0  1000_0  2018-07-25      0.00     1000\n",
       "1  1000_1  2018-08-17      0.00     1000\n",
       "2  1000_2  2018-06-11      2.85     1000\n",
       "3  1000_3  2018-09-21     13.80     1000\n",
       "4  1000_4  2018-12-15      5.18     1000"
      ]
     },
     "execution_count": 5,
     "metadata": {},
     "output_type": "execute_result"
    }
   ],
   "source": [
    "calls_data.head()"
   ]
  },
  {
   "cell_type": "code",
   "execution_count": 6,
   "metadata": {},
   "outputs": [
    {
     "data": {
      "text/plain": [
       "365"
      ]
     },
     "execution_count": 6,
     "metadata": {},
     "output_type": "execute_result"
    }
   ],
   "source": [
    "calls_data.call_date.nunique()"
   ]
  },
  {
   "cell_type": "code",
   "execution_count": 7,
   "metadata": {},
   "outputs": [
    {
     "data": {
      "text/html": [
       "<div>\n",
       "<style scoped>\n",
       "    .dataframe tbody tr th:only-of-type {\n",
       "        vertical-align: middle;\n",
       "    }\n",
       "\n",
       "    .dataframe tbody tr th {\n",
       "        vertical-align: top;\n",
       "    }\n",
       "\n",
       "    .dataframe thead th {\n",
       "        text-align: right;\n",
       "    }\n",
       "</style>\n",
       "<table border=\"1\" class=\"dataframe\">\n",
       "  <thead>\n",
       "    <tr style=\"text-align: right;\">\n",
       "      <th></th>\n",
       "      <th>duration</th>\n",
       "      <th>user_id</th>\n",
       "    </tr>\n",
       "  </thead>\n",
       "  <tbody>\n",
       "    <tr>\n",
       "      <th>count</th>\n",
       "      <td>202607.000000</td>\n",
       "      <td>202607.000000</td>\n",
       "    </tr>\n",
       "    <tr>\n",
       "      <th>mean</th>\n",
       "      <td>6.755887</td>\n",
       "      <td>1253.940619</td>\n",
       "    </tr>\n",
       "    <tr>\n",
       "      <th>std</th>\n",
       "      <td>5.843365</td>\n",
       "      <td>144.722751</td>\n",
       "    </tr>\n",
       "    <tr>\n",
       "      <th>min</th>\n",
       "      <td>0.000000</td>\n",
       "      <td>1000.000000</td>\n",
       "    </tr>\n",
       "    <tr>\n",
       "      <th>25%</th>\n",
       "      <td>1.300000</td>\n",
       "      <td>1126.000000</td>\n",
       "    </tr>\n",
       "    <tr>\n",
       "      <th>50%</th>\n",
       "      <td>6.000000</td>\n",
       "      <td>1260.000000</td>\n",
       "    </tr>\n",
       "    <tr>\n",
       "      <th>75%</th>\n",
       "      <td>10.700000</td>\n",
       "      <td>1379.000000</td>\n",
       "    </tr>\n",
       "    <tr>\n",
       "      <th>max</th>\n",
       "      <td>38.000000</td>\n",
       "      <td>1499.000000</td>\n",
       "    </tr>\n",
       "  </tbody>\n",
       "</table>\n",
       "</div>"
      ],
      "text/plain": [
       "            duration        user_id\n",
       "count  202607.000000  202607.000000\n",
       "mean        6.755887    1253.940619\n",
       "std         5.843365     144.722751\n",
       "min         0.000000    1000.000000\n",
       "25%         1.300000    1126.000000\n",
       "50%         6.000000    1260.000000\n",
       "75%        10.700000    1379.000000\n",
       "max        38.000000    1499.000000"
      ]
     },
     "execution_count": 7,
     "metadata": {},
     "output_type": "execute_result"
    }
   ],
   "source": [
    "calls_data.describe()"
   ]
  },
  {
   "cell_type": "markdown",
   "metadata": {},
   "source": [
    "### Интернет трафик"
   ]
  },
  {
   "cell_type": "code",
   "execution_count": 8,
   "metadata": {},
   "outputs": [
    {
     "name": "stdout",
     "output_type": "stream",
     "text": [
      "<class 'pandas.core.frame.DataFrame'>\n",
      "RangeIndex: 149396 entries, 0 to 149395\n",
      "Data columns (total 5 columns):\n",
      " #   Column        Non-Null Count   Dtype  \n",
      "---  ------        --------------   -----  \n",
      " 0   Unnamed: 0    149396 non-null  int64  \n",
      " 1   id            149396 non-null  object \n",
      " 2   mb_used       149396 non-null  float64\n",
      " 3   session_date  149396 non-null  object \n",
      " 4   user_id       149396 non-null  int64  \n",
      "dtypes: float64(1), int64(2), object(2)\n",
      "memory usage: 5.7+ MB\n"
     ]
    }
   ],
   "source": [
    "internet_data.info()"
   ]
  },
  {
   "cell_type": "code",
   "execution_count": 9,
   "metadata": {},
   "outputs": [
    {
     "data": {
      "text/html": [
       "<div>\n",
       "<style scoped>\n",
       "    .dataframe tbody tr th:only-of-type {\n",
       "        vertical-align: middle;\n",
       "    }\n",
       "\n",
       "    .dataframe tbody tr th {\n",
       "        vertical-align: top;\n",
       "    }\n",
       "\n",
       "    .dataframe thead th {\n",
       "        text-align: right;\n",
       "    }\n",
       "</style>\n",
       "<table border=\"1\" class=\"dataframe\">\n",
       "  <thead>\n",
       "    <tr style=\"text-align: right;\">\n",
       "      <th></th>\n",
       "      <th>Unnamed: 0</th>\n",
       "      <th>mb_used</th>\n",
       "      <th>user_id</th>\n",
       "    </tr>\n",
       "  </thead>\n",
       "  <tbody>\n",
       "    <tr>\n",
       "      <th>count</th>\n",
       "      <td>149396.000000</td>\n",
       "      <td>149396.000000</td>\n",
       "      <td>149396.000000</td>\n",
       "    </tr>\n",
       "    <tr>\n",
       "      <th>mean</th>\n",
       "      <td>74697.500000</td>\n",
       "      <td>370.192426</td>\n",
       "      <td>1252.099842</td>\n",
       "    </tr>\n",
       "    <tr>\n",
       "      <th>std</th>\n",
       "      <td>43127.054745</td>\n",
       "      <td>278.300951</td>\n",
       "      <td>144.050823</td>\n",
       "    </tr>\n",
       "    <tr>\n",
       "      <th>min</th>\n",
       "      <td>0.000000</td>\n",
       "      <td>0.000000</td>\n",
       "      <td>1000.000000</td>\n",
       "    </tr>\n",
       "    <tr>\n",
       "      <th>25%</th>\n",
       "      <td>37348.750000</td>\n",
       "      <td>138.187500</td>\n",
       "      <td>1130.000000</td>\n",
       "    </tr>\n",
       "    <tr>\n",
       "      <th>50%</th>\n",
       "      <td>74697.500000</td>\n",
       "      <td>348.015000</td>\n",
       "      <td>1251.000000</td>\n",
       "    </tr>\n",
       "    <tr>\n",
       "      <th>75%</th>\n",
       "      <td>112046.250000</td>\n",
       "      <td>559.552500</td>\n",
       "      <td>1380.000000</td>\n",
       "    </tr>\n",
       "    <tr>\n",
       "      <th>max</th>\n",
       "      <td>149395.000000</td>\n",
       "      <td>1724.830000</td>\n",
       "      <td>1499.000000</td>\n",
       "    </tr>\n",
       "  </tbody>\n",
       "</table>\n",
       "</div>"
      ],
      "text/plain": [
       "          Unnamed: 0        mb_used        user_id\n",
       "count  149396.000000  149396.000000  149396.000000\n",
       "mean    74697.500000     370.192426    1252.099842\n",
       "std     43127.054745     278.300951     144.050823\n",
       "min         0.000000       0.000000    1000.000000\n",
       "25%     37348.750000     138.187500    1130.000000\n",
       "50%     74697.500000     348.015000    1251.000000\n",
       "75%    112046.250000     559.552500    1380.000000\n",
       "max    149395.000000    1724.830000    1499.000000"
      ]
     },
     "execution_count": 9,
     "metadata": {},
     "output_type": "execute_result"
    }
   ],
   "source": [
    "internet_data.describe()"
   ]
  },
  {
   "cell_type": "code",
   "execution_count": 10,
   "metadata": {},
   "outputs": [
    {
     "data": {
      "text/html": [
       "<div>\n",
       "<style scoped>\n",
       "    .dataframe tbody tr th:only-of-type {\n",
       "        vertical-align: middle;\n",
       "    }\n",
       "\n",
       "    .dataframe tbody tr th {\n",
       "        vertical-align: top;\n",
       "    }\n",
       "\n",
       "    .dataframe thead th {\n",
       "        text-align: right;\n",
       "    }\n",
       "</style>\n",
       "<table border=\"1\" class=\"dataframe\">\n",
       "  <thead>\n",
       "    <tr style=\"text-align: right;\">\n",
       "      <th></th>\n",
       "      <th>Unnamed: 0</th>\n",
       "      <th>id</th>\n",
       "      <th>mb_used</th>\n",
       "      <th>session_date</th>\n",
       "      <th>user_id</th>\n",
       "    </tr>\n",
       "  </thead>\n",
       "  <tbody>\n",
       "    <tr>\n",
       "      <th>0</th>\n",
       "      <td>0</td>\n",
       "      <td>1000_0</td>\n",
       "      <td>112.95</td>\n",
       "      <td>2018-11-25</td>\n",
       "      <td>1000</td>\n",
       "    </tr>\n",
       "    <tr>\n",
       "      <th>1</th>\n",
       "      <td>1</td>\n",
       "      <td>1000_1</td>\n",
       "      <td>1052.81</td>\n",
       "      <td>2018-09-07</td>\n",
       "      <td>1000</td>\n",
       "    </tr>\n",
       "    <tr>\n",
       "      <th>2</th>\n",
       "      <td>2</td>\n",
       "      <td>1000_2</td>\n",
       "      <td>1197.26</td>\n",
       "      <td>2018-06-25</td>\n",
       "      <td>1000</td>\n",
       "    </tr>\n",
       "    <tr>\n",
       "      <th>3</th>\n",
       "      <td>3</td>\n",
       "      <td>1000_3</td>\n",
       "      <td>550.27</td>\n",
       "      <td>2018-08-22</td>\n",
       "      <td>1000</td>\n",
       "    </tr>\n",
       "    <tr>\n",
       "      <th>4</th>\n",
       "      <td>4</td>\n",
       "      <td>1000_4</td>\n",
       "      <td>302.56</td>\n",
       "      <td>2018-09-24</td>\n",
       "      <td>1000</td>\n",
       "    </tr>\n",
       "  </tbody>\n",
       "</table>\n",
       "</div>"
      ],
      "text/plain": [
       "   Unnamed: 0      id  mb_used session_date  user_id\n",
       "0           0  1000_0   112.95   2018-11-25     1000\n",
       "1           1  1000_1  1052.81   2018-09-07     1000\n",
       "2           2  1000_2  1197.26   2018-06-25     1000\n",
       "3           3  1000_3   550.27   2018-08-22     1000\n",
       "4           4  1000_4   302.56   2018-09-24     1000"
      ]
     },
     "execution_count": 10,
     "metadata": {},
     "output_type": "execute_result"
    }
   ],
   "source": [
    "internet_data.head()"
   ]
  },
  {
   "cell_type": "markdown",
   "metadata": {},
   "source": [
    "### Смс сообщения"
   ]
  },
  {
   "cell_type": "markdown",
   "metadata": {},
   "source": [
    "### Смс сообщения"
   ]
  },
  {
   "cell_type": "code",
   "execution_count": 11,
   "metadata": {},
   "outputs": [
    {
     "name": "stdout",
     "output_type": "stream",
     "text": [
      "<class 'pandas.core.frame.DataFrame'>\n",
      "RangeIndex: 123036 entries, 0 to 123035\n",
      "Data columns (total 3 columns):\n",
      " #   Column        Non-Null Count   Dtype \n",
      "---  ------        --------------   ----- \n",
      " 0   id            123036 non-null  object\n",
      " 1   message_date  123036 non-null  object\n",
      " 2   user_id       123036 non-null  int64 \n",
      "dtypes: int64(1), object(2)\n",
      "memory usage: 2.8+ MB\n"
     ]
    }
   ],
   "source": [
    "messages_data.info()"
   ]
  },
  {
   "cell_type": "code",
   "execution_count": 12,
   "metadata": {},
   "outputs": [
    {
     "data": {
      "text/html": [
       "<div>\n",
       "<style scoped>\n",
       "    .dataframe tbody tr th:only-of-type {\n",
       "        vertical-align: middle;\n",
       "    }\n",
       "\n",
       "    .dataframe tbody tr th {\n",
       "        vertical-align: top;\n",
       "    }\n",
       "\n",
       "    .dataframe thead th {\n",
       "        text-align: right;\n",
       "    }\n",
       "</style>\n",
       "<table border=\"1\" class=\"dataframe\">\n",
       "  <thead>\n",
       "    <tr style=\"text-align: right;\">\n",
       "      <th></th>\n",
       "      <th>id</th>\n",
       "      <th>message_date</th>\n",
       "      <th>user_id</th>\n",
       "    </tr>\n",
       "  </thead>\n",
       "  <tbody>\n",
       "    <tr>\n",
       "      <th>0</th>\n",
       "      <td>1000_0</td>\n",
       "      <td>2018-06-27</td>\n",
       "      <td>1000</td>\n",
       "    </tr>\n",
       "    <tr>\n",
       "      <th>1</th>\n",
       "      <td>1000_1</td>\n",
       "      <td>2018-10-08</td>\n",
       "      <td>1000</td>\n",
       "    </tr>\n",
       "    <tr>\n",
       "      <th>2</th>\n",
       "      <td>1000_2</td>\n",
       "      <td>2018-08-04</td>\n",
       "      <td>1000</td>\n",
       "    </tr>\n",
       "    <tr>\n",
       "      <th>3</th>\n",
       "      <td>1000_3</td>\n",
       "      <td>2018-06-16</td>\n",
       "      <td>1000</td>\n",
       "    </tr>\n",
       "    <tr>\n",
       "      <th>4</th>\n",
       "      <td>1000_4</td>\n",
       "      <td>2018-12-05</td>\n",
       "      <td>1000</td>\n",
       "    </tr>\n",
       "    <tr>\n",
       "      <th>5</th>\n",
       "      <td>1000_5</td>\n",
       "      <td>2018-06-20</td>\n",
       "      <td>1000</td>\n",
       "    </tr>\n",
       "    <tr>\n",
       "      <th>6</th>\n",
       "      <td>1000_6</td>\n",
       "      <td>2018-11-19</td>\n",
       "      <td>1000</td>\n",
       "    </tr>\n",
       "    <tr>\n",
       "      <th>7</th>\n",
       "      <td>1000_7</td>\n",
       "      <td>2018-10-29</td>\n",
       "      <td>1000</td>\n",
       "    </tr>\n",
       "    <tr>\n",
       "      <th>8</th>\n",
       "      <td>1000_8</td>\n",
       "      <td>2018-06-25</td>\n",
       "      <td>1000</td>\n",
       "    </tr>\n",
       "    <tr>\n",
       "      <th>9</th>\n",
       "      <td>1000_9</td>\n",
       "      <td>2018-12-18</td>\n",
       "      <td>1000</td>\n",
       "    </tr>\n",
       "  </tbody>\n",
       "</table>\n",
       "</div>"
      ],
      "text/plain": [
       "       id message_date  user_id\n",
       "0  1000_0   2018-06-27     1000\n",
       "1  1000_1   2018-10-08     1000\n",
       "2  1000_2   2018-08-04     1000\n",
       "3  1000_3   2018-06-16     1000\n",
       "4  1000_4   2018-12-05     1000\n",
       "5  1000_5   2018-06-20     1000\n",
       "6  1000_6   2018-11-19     1000\n",
       "7  1000_7   2018-10-29     1000\n",
       "8  1000_8   2018-06-25     1000\n",
       "9  1000_9   2018-12-18     1000"
      ]
     },
     "execution_count": 12,
     "metadata": {},
     "output_type": "execute_result"
    }
   ],
   "source": [
    "messages_data.head(10)"
   ]
  },
  {
   "cell_type": "markdown",
   "metadata": {},
   "source": [
    "### Тарифы"
   ]
  },
  {
   "cell_type": "code",
   "execution_count": 13,
   "metadata": {
    "scrolled": true
   },
   "outputs": [
    {
     "data": {
      "text/html": [
       "<div>\n",
       "<style scoped>\n",
       "    .dataframe tbody tr th:only-of-type {\n",
       "        vertical-align: middle;\n",
       "    }\n",
       "\n",
       "    .dataframe tbody tr th {\n",
       "        vertical-align: top;\n",
       "    }\n",
       "\n",
       "    .dataframe thead th {\n",
       "        text-align: right;\n",
       "    }\n",
       "</style>\n",
       "<table border=\"1\" class=\"dataframe\">\n",
       "  <thead>\n",
       "    <tr style=\"text-align: right;\">\n",
       "      <th></th>\n",
       "      <th>messages_included</th>\n",
       "      <th>mb_per_month_included</th>\n",
       "      <th>minutes_included</th>\n",
       "      <th>rub_monthly_fee</th>\n",
       "      <th>rub_per_gb</th>\n",
       "      <th>rub_per_message</th>\n",
       "      <th>rub_per_minute</th>\n",
       "      <th>tariff_name</th>\n",
       "    </tr>\n",
       "  </thead>\n",
       "  <tbody>\n",
       "    <tr>\n",
       "      <th>0</th>\n",
       "      <td>50</td>\n",
       "      <td>15360</td>\n",
       "      <td>500</td>\n",
       "      <td>550</td>\n",
       "      <td>200</td>\n",
       "      <td>3</td>\n",
       "      <td>3</td>\n",
       "      <td>smart</td>\n",
       "    </tr>\n",
       "    <tr>\n",
       "      <th>1</th>\n",
       "      <td>1000</td>\n",
       "      <td>30720</td>\n",
       "      <td>3000</td>\n",
       "      <td>1950</td>\n",
       "      <td>150</td>\n",
       "      <td>1</td>\n",
       "      <td>1</td>\n",
       "      <td>ultra</td>\n",
       "    </tr>\n",
       "  </tbody>\n",
       "</table>\n",
       "</div>"
      ],
      "text/plain": [
       "   messages_included  mb_per_month_included  minutes_included  \\\n",
       "0                 50                  15360               500   \n",
       "1               1000                  30720              3000   \n",
       "\n",
       "   rub_monthly_fee  rub_per_gb  rub_per_message  rub_per_minute tariff_name  \n",
       "0              550         200                3               3       smart  \n",
       "1             1950         150                1               1       ultra  "
      ]
     },
     "execution_count": 13,
     "metadata": {},
     "output_type": "execute_result"
    }
   ],
   "source": [
    "tariffs_data.head()"
   ]
  },
  {
   "cell_type": "markdown",
   "metadata": {},
   "source": [
    "### Пользователи"
   ]
  },
  {
   "cell_type": "code",
   "execution_count": 14,
   "metadata": {},
   "outputs": [
    {
     "name": "stdout",
     "output_type": "stream",
     "text": [
      "<class 'pandas.core.frame.DataFrame'>\n",
      "RangeIndex: 500 entries, 0 to 499\n",
      "Data columns (total 8 columns):\n",
      " #   Column      Non-Null Count  Dtype \n",
      "---  ------      --------------  ----- \n",
      " 0   user_id     500 non-null    int64 \n",
      " 1   age         500 non-null    int64 \n",
      " 2   churn_date  38 non-null     object\n",
      " 3   city        500 non-null    object\n",
      " 4   first_name  500 non-null    object\n",
      " 5   last_name   500 non-null    object\n",
      " 6   reg_date    500 non-null    object\n",
      " 7   tariff      500 non-null    object\n",
      "dtypes: int64(2), object(6)\n",
      "memory usage: 31.4+ KB\n"
     ]
    }
   ],
   "source": [
    "users_data.info()"
   ]
  },
  {
   "cell_type": "code",
   "execution_count": 15,
   "metadata": {},
   "outputs": [
    {
     "data": {
      "text/html": [
       "<div>\n",
       "<style scoped>\n",
       "    .dataframe tbody tr th:only-of-type {\n",
       "        vertical-align: middle;\n",
       "    }\n",
       "\n",
       "    .dataframe tbody tr th {\n",
       "        vertical-align: top;\n",
       "    }\n",
       "\n",
       "    .dataframe thead th {\n",
       "        text-align: right;\n",
       "    }\n",
       "</style>\n",
       "<table border=\"1\" class=\"dataframe\">\n",
       "  <thead>\n",
       "    <tr style=\"text-align: right;\">\n",
       "      <th></th>\n",
       "      <th>user_id</th>\n",
       "      <th>age</th>\n",
       "      <th>churn_date</th>\n",
       "      <th>city</th>\n",
       "      <th>first_name</th>\n",
       "      <th>last_name</th>\n",
       "      <th>reg_date</th>\n",
       "      <th>tariff</th>\n",
       "    </tr>\n",
       "  </thead>\n",
       "  <tbody>\n",
       "    <tr>\n",
       "      <th>408</th>\n",
       "      <td>1408</td>\n",
       "      <td>53</td>\n",
       "      <td>NaN</td>\n",
       "      <td>Самара</td>\n",
       "      <td>Касьян</td>\n",
       "      <td>Кукушкин</td>\n",
       "      <td>2018-05-27</td>\n",
       "      <td>smart</td>\n",
       "    </tr>\n",
       "    <tr>\n",
       "      <th>132</th>\n",
       "      <td>1132</td>\n",
       "      <td>24</td>\n",
       "      <td>NaN</td>\n",
       "      <td>Москва</td>\n",
       "      <td>Маргарита</td>\n",
       "      <td>Алехина</td>\n",
       "      <td>2018-09-01</td>\n",
       "      <td>smart</td>\n",
       "    </tr>\n",
       "    <tr>\n",
       "      <th>195</th>\n",
       "      <td>1195</td>\n",
       "      <td>19</td>\n",
       "      <td>NaN</td>\n",
       "      <td>Москва</td>\n",
       "      <td>Веселина</td>\n",
       "      <td>Петухова</td>\n",
       "      <td>2018-10-14</td>\n",
       "      <td>smart</td>\n",
       "    </tr>\n",
       "    <tr>\n",
       "      <th>54</th>\n",
       "      <td>1054</td>\n",
       "      <td>33</td>\n",
       "      <td>NaN</td>\n",
       "      <td>Омск</td>\n",
       "      <td>Кристина</td>\n",
       "      <td>Платонова</td>\n",
       "      <td>2018-03-20</td>\n",
       "      <td>smart</td>\n",
       "    </tr>\n",
       "    <tr>\n",
       "      <th>481</th>\n",
       "      <td>1481</td>\n",
       "      <td>70</td>\n",
       "      <td>NaN</td>\n",
       "      <td>Москва</td>\n",
       "      <td>Клавдия</td>\n",
       "      <td>Чижова</td>\n",
       "      <td>2018-02-26</td>\n",
       "      <td>smart</td>\n",
       "    </tr>\n",
       "    <tr>\n",
       "      <th>358</th>\n",
       "      <td>1358</td>\n",
       "      <td>64</td>\n",
       "      <td>NaN</td>\n",
       "      <td>Ставрополь</td>\n",
       "      <td>Демьян</td>\n",
       "      <td>Логинов</td>\n",
       "      <td>2018-02-21</td>\n",
       "      <td>smart</td>\n",
       "    </tr>\n",
       "    <tr>\n",
       "      <th>406</th>\n",
       "      <td>1406</td>\n",
       "      <td>68</td>\n",
       "      <td>NaN</td>\n",
       "      <td>Казань</td>\n",
       "      <td>Станислав</td>\n",
       "      <td>Семёнов</td>\n",
       "      <td>2018-12-15</td>\n",
       "      <td>smart</td>\n",
       "    </tr>\n",
       "    <tr>\n",
       "      <th>208</th>\n",
       "      <td>1208</td>\n",
       "      <td>69</td>\n",
       "      <td>NaN</td>\n",
       "      <td>Пермь</td>\n",
       "      <td>Ева</td>\n",
       "      <td>Сахарова</td>\n",
       "      <td>2018-03-24</td>\n",
       "      <td>ultra</td>\n",
       "    </tr>\n",
       "    <tr>\n",
       "      <th>91</th>\n",
       "      <td>1091</td>\n",
       "      <td>36</td>\n",
       "      <td>NaN</td>\n",
       "      <td>Набережные Челны</td>\n",
       "      <td>Вера</td>\n",
       "      <td>Суслова</td>\n",
       "      <td>2018-05-08</td>\n",
       "      <td>ultra</td>\n",
       "    </tr>\n",
       "    <tr>\n",
       "      <th>119</th>\n",
       "      <td>1119</td>\n",
       "      <td>53</td>\n",
       "      <td>NaN</td>\n",
       "      <td>Петрозаводск</td>\n",
       "      <td>Олег</td>\n",
       "      <td>Сухарев</td>\n",
       "      <td>2018-04-22</td>\n",
       "      <td>smart</td>\n",
       "    </tr>\n",
       "  </tbody>\n",
       "</table>\n",
       "</div>"
      ],
      "text/plain": [
       "     user_id  age churn_date              city first_name  last_name  \\\n",
       "408     1408   53        NaN            Самара     Касьян   Кукушкин   \n",
       "132     1132   24        NaN            Москва  Маргарита    Алехина   \n",
       "195     1195   19        NaN            Москва   Веселина   Петухова   \n",
       "54      1054   33        NaN              Омск   Кристина  Платонова   \n",
       "481     1481   70        NaN            Москва    Клавдия     Чижова   \n",
       "358     1358   64        NaN        Ставрополь     Демьян    Логинов   \n",
       "406     1406   68        NaN            Казань  Станислав    Семёнов   \n",
       "208     1208   69        NaN             Пермь        Ева   Сахарова   \n",
       "91      1091   36        NaN  Набережные Челны       Вера    Суслова   \n",
       "119     1119   53        NaN      Петрозаводск       Олег    Сухарев   \n",
       "\n",
       "       reg_date tariff  \n",
       "408  2018-05-27  smart  \n",
       "132  2018-09-01  smart  \n",
       "195  2018-10-14  smart  \n",
       "54   2018-03-20  smart  \n",
       "481  2018-02-26  smart  \n",
       "358  2018-02-21  smart  \n",
       "406  2018-12-15  smart  \n",
       "208  2018-03-24  ultra  \n",
       "91   2018-05-08  ultra  \n",
       "119  2018-04-22  smart  "
      ]
     },
     "execution_count": 15,
     "metadata": {},
     "output_type": "execute_result"
    }
   ],
   "source": [
    "users_data.sample(10)"
   ]
  },
  {
   "cell_type": "code",
   "execution_count": 16,
   "metadata": {
    "scrolled": true
   },
   "outputs": [
    {
     "data": {
      "text/plain": [
       "Москва              99\n",
       "Санкт-Петербург     39\n",
       "Новосибирск         16\n",
       "Омск                14\n",
       "Казань              14\n",
       "Уфа                 12\n",
       "Ульяновск           11\n",
       "Набережные Челны    11\n",
       "Екатеринбург        11\n",
       "Краснодар           11\n",
       "Самара               9\n",
       "Челябинск            9\n",
       "Пермь                8\n",
       "Нижний Новгород      8\n",
       "Волгоград            8\n",
       "Красноярск           7\n",
       "Улан-Удэ             7\n",
       "Новокузнецк          7\n",
       "Вологда              7\n",
       "Воронеж              6\n",
       "Тюмень               6\n",
       "Пенза                6\n",
       "Томск                6\n",
       "Киров                6\n",
       "Ростов-на-Дону       6\n",
       "Иркутск              6\n",
       "Сочи                 6\n",
       "Ставрополь           5\n",
       "Балашиха             5\n",
       "Магнитогорск         5\n",
       "Махачкала            5\n",
       "Владивосток          5\n",
       "Кострома             4\n",
       "Рязань               4\n",
       "Астрахань            4\n",
       "Петрозаводск         4\n",
       "Чита                 4\n",
       "Саранск              4\n",
       "Тольятти             4\n",
       "Хабаровск            4\n",
       "Новороссийск         4\n",
       "Мурманск             4\n",
       "Калуга               4\n",
       "Чебоксары            3\n",
       "Барнаул              3\n",
       "Владимир             3\n",
       "Брянск               3\n",
       "Нижний Тагил         3\n",
       "Стерлитамак          3\n",
       "Череповец            3\n",
       "Саратов              3\n",
       "Ярославль            3\n",
       "Якутск               3\n",
       "Курган               3\n",
       "Орёл                 3\n",
       "Тверь                3\n",
       "Севастополь          3\n",
       "Курск                2\n",
       "Грозный              2\n",
       "Кемерово             2\n",
       "Сургут               2\n",
       "Тамбов               2\n",
       "Оренбург             2\n",
       "Волжский             2\n",
       "Калининград          2\n",
       "Владикавказ          2\n",
       "Смоленск             2\n",
       "Липецк               2\n",
       "Белгород             2\n",
       "Тула                 2\n",
       "Ижевск               2\n",
       "Нижневартовск        1\n",
       "Химки                1\n",
       "Архангельск          1\n",
       "Подольск             1\n",
       "Иваново              1\n",
       "Name: city, dtype: int64"
      ]
     },
     "metadata": {},
     "output_type": "display_data"
    }
   ],
   "source": [
    "pd.set_option('max_rows', 100)\n",
    "display(users_data['city'].value_counts())\n",
    "pd.reset_option('max_rows')"
   ]
  },
  {
   "cell_type": "code",
   "execution_count": 17,
   "metadata": {},
   "outputs": [
    {
     "data": {
      "text/html": [
       "<div>\n",
       "<style scoped>\n",
       "    .dataframe tbody tr th:only-of-type {\n",
       "        vertical-align: middle;\n",
       "    }\n",
       "\n",
       "    .dataframe tbody tr th {\n",
       "        vertical-align: top;\n",
       "    }\n",
       "\n",
       "    .dataframe thead th {\n",
       "        text-align: right;\n",
       "    }\n",
       "</style>\n",
       "<table border=\"1\" class=\"dataframe\">\n",
       "  <thead>\n",
       "    <tr style=\"text-align: right;\">\n",
       "      <th></th>\n",
       "      <th>user_id</th>\n",
       "      <th>age</th>\n",
       "      <th>churn_date</th>\n",
       "      <th>city</th>\n",
       "      <th>first_name</th>\n",
       "      <th>last_name</th>\n",
       "      <th>reg_date</th>\n",
       "      <th>tariff</th>\n",
       "    </tr>\n",
       "  </thead>\n",
       "  <tbody>\n",
       "  </tbody>\n",
       "</table>\n",
       "</div>"
      ],
      "text/plain": [
       "Empty DataFrame\n",
       "Columns: [user_id, age, churn_date, city, first_name, last_name, reg_date, tariff]\n",
       "Index: []"
      ]
     },
     "execution_count": 17,
     "metadata": {},
     "output_type": "execute_result"
    }
   ],
   "source": [
    "users_data[users_data[users_data.columns.drop(['user_id', 'tariff', 'churn_date', 'reg_date',])].duplicated() == True]"
   ]
  },
  {
   "cell_type": "code",
   "execution_count": 18,
   "metadata": {},
   "outputs": [
    {
     "data": {
      "text/html": [
       "<div>\n",
       "<style scoped>\n",
       "    .dataframe tbody tr th:only-of-type {\n",
       "        vertical-align: middle;\n",
       "    }\n",
       "\n",
       "    .dataframe tbody tr th {\n",
       "        vertical-align: top;\n",
       "    }\n",
       "\n",
       "    .dataframe thead th {\n",
       "        text-align: right;\n",
       "    }\n",
       "</style>\n",
       "<table border=\"1\" class=\"dataframe\">\n",
       "  <thead>\n",
       "    <tr style=\"text-align: right;\">\n",
       "      <th></th>\n",
       "      <th>age</th>\n",
       "      <th>city</th>\n",
       "      <th>first_name</th>\n",
       "      <th>last_name</th>\n",
       "    </tr>\n",
       "  </thead>\n",
       "  <tbody>\n",
       "    <tr>\n",
       "      <th>0</th>\n",
       "      <td>52</td>\n",
       "      <td>Краснодар</td>\n",
       "      <td>Рафаил</td>\n",
       "      <td>Верещагин</td>\n",
       "    </tr>\n",
       "    <tr>\n",
       "      <th>1</th>\n",
       "      <td>41</td>\n",
       "      <td>Москва</td>\n",
       "      <td>Иван</td>\n",
       "      <td>Ежов</td>\n",
       "    </tr>\n",
       "    <tr>\n",
       "      <th>2</th>\n",
       "      <td>59</td>\n",
       "      <td>Стерлитамак</td>\n",
       "      <td>Евгений</td>\n",
       "      <td>Абрамович</td>\n",
       "    </tr>\n",
       "    <tr>\n",
       "      <th>3</th>\n",
       "      <td>23</td>\n",
       "      <td>Москва</td>\n",
       "      <td>Белла</td>\n",
       "      <td>Белякова</td>\n",
       "    </tr>\n",
       "    <tr>\n",
       "      <th>4</th>\n",
       "      <td>68</td>\n",
       "      <td>Новокузнецк</td>\n",
       "      <td>Татьяна</td>\n",
       "      <td>Авдеенко</td>\n",
       "    </tr>\n",
       "    <tr>\n",
       "      <th>...</th>\n",
       "      <td>...</td>\n",
       "      <td>...</td>\n",
       "      <td>...</td>\n",
       "      <td>...</td>\n",
       "    </tr>\n",
       "    <tr>\n",
       "      <th>495</th>\n",
       "      <td>65</td>\n",
       "      <td>Иркутск</td>\n",
       "      <td>Авксентий</td>\n",
       "      <td>Фокин</td>\n",
       "    </tr>\n",
       "    <tr>\n",
       "      <th>496</th>\n",
       "      <td>36</td>\n",
       "      <td>Вологда</td>\n",
       "      <td>Трифон</td>\n",
       "      <td>Блохин</td>\n",
       "    </tr>\n",
       "    <tr>\n",
       "      <th>497</th>\n",
       "      <td>32</td>\n",
       "      <td>Челябинск</td>\n",
       "      <td>Каролина</td>\n",
       "      <td>Агеева</td>\n",
       "    </tr>\n",
       "    <tr>\n",
       "      <th>498</th>\n",
       "      <td>68</td>\n",
       "      <td>Владикавказ</td>\n",
       "      <td>Всеволод</td>\n",
       "      <td>Акимчин</td>\n",
       "    </tr>\n",
       "    <tr>\n",
       "      <th>499</th>\n",
       "      <td>35</td>\n",
       "      <td>Пермь</td>\n",
       "      <td>Гектор</td>\n",
       "      <td>Корнилов</td>\n",
       "    </tr>\n",
       "  </tbody>\n",
       "</table>\n",
       "<p>500 rows × 4 columns</p>\n",
       "</div>"
      ],
      "text/plain": [
       "     age         city first_name  last_name\n",
       "0     52    Краснодар     Рафаил  Верещагин\n",
       "1     41       Москва       Иван       Ежов\n",
       "2     59  Стерлитамак    Евгений  Абрамович\n",
       "3     23       Москва      Белла   Белякова\n",
       "4     68  Новокузнецк    Татьяна   Авдеенко\n",
       "..   ...          ...        ...        ...\n",
       "495   65      Иркутск  Авксентий      Фокин\n",
       "496   36      Вологда     Трифон     Блохин\n",
       "497   32    Челябинск   Каролина     Агеева\n",
       "498   68  Владикавказ   Всеволод    Акимчин\n",
       "499   35        Пермь     Гектор   Корнилов\n",
       "\n",
       "[500 rows x 4 columns]"
      ]
     },
     "execution_count": 18,
     "metadata": {},
     "output_type": "execute_result"
    }
   ],
   "source": [
    "users_data[users_data.columns.drop(['user_id', 'tariff', 'churn_date', 'reg_date'])]"
   ]
  },
  {
   "cell_type": "markdown",
   "metadata": {},
   "source": [
    "Дубликатов на уровне фио, город, возраст, нет."
   ]
  },
  {
   "cell_type": "markdown",
   "metadata": {},
   "source": [
    "## Предобработка данных"
   ]
  },
  {
   "cell_type": "markdown",
   "metadata": {},
   "source": [
    "### Звонки"
   ]
  },
  {
   "cell_type": "code",
   "execution_count": 19,
   "metadata": {},
   "outputs": [],
   "source": [
    "calls_data['call_date'] = pd.to_datetime(calls_data['call_date'])"
   ]
  },
  {
   "cell_type": "markdown",
   "metadata": {},
   "source": [
    "Округление звонков"
   ]
  },
  {
   "cell_type": "code",
   "execution_count": 20,
   "metadata": {},
   "outputs": [],
   "source": [
    "calls_data['duration'] = np.ceil(calls_data['duration']).astype('int')"
   ]
  },
  {
   "cell_type": "code",
   "execution_count": 21,
   "metadata": {},
   "outputs": [
    {
     "name": "stdout",
     "output_type": "stream",
     "text": [
      "<class 'pandas.core.frame.DataFrame'>\n",
      "RangeIndex: 202607 entries, 0 to 202606\n",
      "Data columns (total 4 columns):\n",
      " #   Column     Non-Null Count   Dtype         \n",
      "---  ------     --------------   -----         \n",
      " 0   id         202607 non-null  object        \n",
      " 1   call_date  202607 non-null  datetime64[ns]\n",
      " 2   duration   202607 non-null  int64         \n",
      " 3   user_id    202607 non-null  int64         \n",
      "dtypes: datetime64[ns](1), int64(2), object(1)\n",
      "memory usage: 6.2+ MB\n"
     ]
    }
   ],
   "source": [
    "calls_data.info()"
   ]
  },
  {
   "cell_type": "markdown",
   "metadata": {},
   "source": [
    "Расчет по месяцам"
   ]
  },
  {
   "cell_type": "code",
   "execution_count": 22,
   "metadata": {},
   "outputs": [],
   "source": [
    "calls_monthly = (calls_data\n",
    "                 .groupby(['user_id', calls_data['call_date'].dt.month])\n",
    "                 .agg({'duration':['sum', 'count']})\n",
    "                 .reset_index()\n",
    "                )"
   ]
  },
  {
   "cell_type": "code",
   "execution_count": 23,
   "metadata": {},
   "outputs": [],
   "source": [
    "calls_monthly.columns = ['user_id', 'month','minutes', 'calls_count']"
   ]
  },
  {
   "cell_type": "code",
   "execution_count": 24,
   "metadata": {},
   "outputs": [
    {
     "name": "stdout",
     "output_type": "stream",
     "text": [
      "<class 'pandas.core.frame.DataFrame'>\n",
      "RangeIndex: 3174 entries, 0 to 3173\n",
      "Data columns (total 4 columns):\n",
      " #   Column       Non-Null Count  Dtype\n",
      "---  ------       --------------  -----\n",
      " 0   user_id      3174 non-null   int64\n",
      " 1   month        3174 non-null   int64\n",
      " 2   minutes      3174 non-null   int64\n",
      " 3   calls_count  3174 non-null   int64\n",
      "dtypes: int64(4)\n",
      "memory usage: 99.3 KB\n"
     ]
    }
   ],
   "source": [
    "calls_monthly.info()"
   ]
  },
  {
   "cell_type": "code",
   "execution_count": 25,
   "metadata": {},
   "outputs": [
    {
     "data": {
      "text/plain": [
       "0         2018-07\n",
       "1         2018-08\n",
       "2         2018-06\n",
       "3         2018-09\n",
       "4         2018-12\n",
       "           ...   \n",
       "202602    2018-12\n",
       "202603    2018-10\n",
       "202604    2018-11\n",
       "202605    2018-10\n",
       "202606    2018-12\n",
       "Name: call_date, Length: 202607, dtype: period[M]"
      ]
     },
     "execution_count": 25,
     "metadata": {},
     "output_type": "execute_result"
    }
   ],
   "source": [
    "calls_data['call_date'].dt.to_period('M')"
   ]
  },
  {
   "cell_type": "markdown",
   "metadata": {},
   "source": [
    "### Интернет трафик"
   ]
  },
  {
   "cell_type": "code",
   "execution_count": 26,
   "metadata": {},
   "outputs": [],
   "source": [
    "internet_data['session_date'] = pd.to_datetime(internet_data['session_date'])"
   ]
  },
  {
   "cell_type": "code",
   "execution_count": 27,
   "metadata": {},
   "outputs": [
    {
     "name": "stdout",
     "output_type": "stream",
     "text": [
      "<class 'pandas.core.frame.DataFrame'>\n",
      "RangeIndex: 149396 entries, 0 to 149395\n",
      "Data columns (total 5 columns):\n",
      " #   Column        Non-Null Count   Dtype         \n",
      "---  ------        --------------   -----         \n",
      " 0   Unnamed: 0    149396 non-null  int64         \n",
      " 1   id            149396 non-null  object        \n",
      " 2   mb_used       149396 non-null  float64       \n",
      " 3   session_date  149396 non-null  datetime64[ns]\n",
      " 4   user_id       149396 non-null  int64         \n",
      "dtypes: datetime64[ns](1), float64(1), int64(2), object(1)\n",
      "memory usage: 5.7+ MB\n"
     ]
    }
   ],
   "source": [
    "internet_data.info()"
   ]
  },
  {
   "cell_type": "markdown",
   "metadata": {},
   "source": [
    "Расчет по месяцам"
   ]
  },
  {
   "cell_type": "code",
   "execution_count": 28,
   "metadata": {},
   "outputs": [],
   "source": [
    "internet_monthly = (internet_data\n",
    "                    .groupby(['user_id', internet_data['session_date'].dt.month])\n",
    "                    .agg({'mb_used':'sum'})\n",
    "                    .reset_index()\n",
    "                    .rename(columns={'session_date':'month'})\n",
    "                   )"
   ]
  },
  {
   "cell_type": "code",
   "execution_count": 29,
   "metadata": {},
   "outputs": [
    {
     "name": "stdout",
     "output_type": "stream",
     "text": [
      "<class 'pandas.core.frame.DataFrame'>\n",
      "RangeIndex: 3203 entries, 0 to 3202\n",
      "Data columns (total 3 columns):\n",
      " #   Column   Non-Null Count  Dtype  \n",
      "---  ------   --------------  -----  \n",
      " 0   user_id  3203 non-null   int64  \n",
      " 1   month    3203 non-null   int64  \n",
      " 2   mb_used  3203 non-null   float64\n",
      "dtypes: float64(1), int64(2)\n",
      "memory usage: 75.2 KB\n"
     ]
    }
   ],
   "source": [
    "internet_monthly.info()"
   ]
  },
  {
   "cell_type": "markdown",
   "metadata": {},
   "source": [
    "### Смс сообщения"
   ]
  },
  {
   "cell_type": "code",
   "execution_count": 30,
   "metadata": {},
   "outputs": [],
   "source": [
    "messages_data['message_date'] = pd.to_datetime(messages_data['message_date'])"
   ]
  },
  {
   "cell_type": "code",
   "execution_count": 31,
   "metadata": {},
   "outputs": [
    {
     "name": "stdout",
     "output_type": "stream",
     "text": [
      "<class 'pandas.core.frame.DataFrame'>\n",
      "RangeIndex: 123036 entries, 0 to 123035\n",
      "Data columns (total 3 columns):\n",
      " #   Column        Non-Null Count   Dtype         \n",
      "---  ------        --------------   -----         \n",
      " 0   id            123036 non-null  object        \n",
      " 1   message_date  123036 non-null  datetime64[ns]\n",
      " 2   user_id       123036 non-null  int64         \n",
      "dtypes: datetime64[ns](1), int64(1), object(1)\n",
      "memory usage: 2.8+ MB\n"
     ]
    }
   ],
   "source": [
    "messages_data.info()"
   ]
  },
  {
   "cell_type": "markdown",
   "metadata": {},
   "source": [
    "Расчет по месяцам"
   ]
  },
  {
   "cell_type": "code",
   "execution_count": 32,
   "metadata": {},
   "outputs": [],
   "source": [
    "messages_monthly = (messages_data\n",
    "                    .groupby(['user_id', messages_data['message_date'].dt.month])\n",
    "                    .agg({'id':'count'})\n",
    "                    .reset_index()\n",
    "                    .rename(columns={'message_date':'month', 'id':'messages_count'})\n",
    "                   )"
   ]
  },
  {
   "cell_type": "code",
   "execution_count": 33,
   "metadata": {},
   "outputs": [
    {
     "name": "stdout",
     "output_type": "stream",
     "text": [
      "<class 'pandas.core.frame.DataFrame'>\n",
      "RangeIndex: 2717 entries, 0 to 2716\n",
      "Data columns (total 3 columns):\n",
      " #   Column          Non-Null Count  Dtype\n",
      "---  ------          --------------  -----\n",
      " 0   user_id         2717 non-null   int64\n",
      " 1   month           2717 non-null   int64\n",
      " 2   messages_count  2717 non-null   int64\n",
      "dtypes: int64(3)\n",
      "memory usage: 63.8 KB\n"
     ]
    }
   ],
   "source": [
    "messages_monthly.info()"
   ]
  },
  {
   "cell_type": "markdown",
   "metadata": {},
   "source": [
    "### Пользователи"
   ]
  },
  {
   "cell_type": "code",
   "execution_count": 34,
   "metadata": {},
   "outputs": [],
   "source": [
    "users_data['reg_date'] = pd.to_datetime(users_data['reg_date'])"
   ]
  },
  {
   "cell_type": "code",
   "execution_count": 35,
   "metadata": {},
   "outputs": [
    {
     "name": "stdout",
     "output_type": "stream",
     "text": [
      "<class 'pandas.core.frame.DataFrame'>\n",
      "RangeIndex: 500 entries, 0 to 499\n",
      "Data columns (total 8 columns):\n",
      " #   Column      Non-Null Count  Dtype         \n",
      "---  ------      --------------  -----         \n",
      " 0   user_id     500 non-null    int64         \n",
      " 1   age         500 non-null    int64         \n",
      " 2   churn_date  38 non-null     object        \n",
      " 3   city        500 non-null    object        \n",
      " 4   first_name  500 non-null    object        \n",
      " 5   last_name   500 non-null    object        \n",
      " 6   reg_date    500 non-null    datetime64[ns]\n",
      " 7   tariff      500 non-null    object        \n",
      "dtypes: datetime64[ns](1), int64(2), object(5)\n",
      "memory usage: 31.4+ KB\n"
     ]
    }
   ],
   "source": [
    "users_data.info()"
   ]
  },
  {
   "cell_type": "code",
   "execution_count": 36,
   "metadata": {},
   "outputs": [],
   "source": [
    "users_paid_monthly = users_data.merge(\n",
    "    (calls_monthly\n",
    "     .merge(internet_monthly, how='outer', on=['user_id', 'month'])\n",
    "     .merge(messages_monthly, how='outer', on=['user_id', 'month'])\n",
    "    ), how='left'\n",
    ")"
   ]
  },
  {
   "cell_type": "code",
   "execution_count": 37,
   "metadata": {},
   "outputs": [
    {
     "name": "stdout",
     "output_type": "stream",
     "text": [
      "<class 'pandas.core.frame.DataFrame'>\n",
      "Int64Index: 3216 entries, 0 to 3215\n",
      "Data columns (total 13 columns):\n",
      " #   Column          Non-Null Count  Dtype         \n",
      "---  ------          --------------  -----         \n",
      " 0   user_id         3216 non-null   int64         \n",
      " 1   age             3216 non-null   int64         \n",
      " 2   churn_date      189 non-null    object        \n",
      " 3   city            3216 non-null   object        \n",
      " 4   first_name      3216 non-null   object        \n",
      " 5   last_name       3216 non-null   object        \n",
      " 6   reg_date        3216 non-null   datetime64[ns]\n",
      " 7   tariff          3216 non-null   object        \n",
      " 8   month           3214 non-null   float64       \n",
      " 9   minutes         3174 non-null   float64       \n",
      " 10  calls_count     3174 non-null   float64       \n",
      " 11  mb_used         3203 non-null   float64       \n",
      " 12  messages_count  2717 non-null   float64       \n",
      "dtypes: datetime64[ns](1), float64(5), int64(2), object(5)\n",
      "memory usage: 351.8+ KB\n"
     ]
    }
   ],
   "source": [
    "users_paid_monthly.info()"
   ]
  },
  {
   "cell_type": "code",
   "execution_count": 38,
   "metadata": {},
   "outputs": [
    {
     "name": "stdout",
     "output_type": "stream",
     "text": [
      "<class 'pandas.core.frame.DataFrame'>\n",
      "Int64Index: 3216 entries, 0 to 3215\n",
      "Data columns (total 13 columns):\n",
      " #   Column          Non-Null Count  Dtype         \n",
      "---  ------          --------------  -----         \n",
      " 0   user_id         3216 non-null   int64         \n",
      " 1   age             3216 non-null   int64         \n",
      " 2   churn_date      189 non-null    object        \n",
      " 3   city            3216 non-null   object        \n",
      " 4   first_name      3216 non-null   object        \n",
      " 5   last_name       3216 non-null   object        \n",
      " 6   reg_date        3216 non-null   datetime64[ns]\n",
      " 7   tariff          3216 non-null   object        \n",
      " 8   month           3214 non-null   float64       \n",
      " 9   minutes         3174 non-null   float64       \n",
      " 10  calls_count     3174 non-null   float64       \n",
      " 11  mb_used         3203 non-null   float64       \n",
      " 12  messages_count  2717 non-null   float64       \n",
      "dtypes: datetime64[ns](1), float64(5), int64(2), object(5)\n",
      "memory usage: 351.8+ KB\n"
     ]
    }
   ],
   "source": [
    "users_paid_monthly.info()"
   ]
  },
  {
   "cell_type": "markdown",
   "metadata": {},
   "source": [
    "#### Обработка NA"
   ]
  },
  {
   "cell_type": "markdown",
   "metadata": {},
   "source": [
    "Есть группа пользователей без информации о использовании тарифа."
   ]
  },
  {
   "cell_type": "code",
   "execution_count": 39,
   "metadata": {},
   "outputs": [
    {
     "data": {
      "text/html": [
       "<div>\n",
       "<style scoped>\n",
       "    .dataframe tbody tr th:only-of-type {\n",
       "        vertical-align: middle;\n",
       "    }\n",
       "\n",
       "    .dataframe tbody tr th {\n",
       "        vertical-align: top;\n",
       "    }\n",
       "\n",
       "    .dataframe thead th {\n",
       "        text-align: right;\n",
       "    }\n",
       "</style>\n",
       "<table border=\"1\" class=\"dataframe\">\n",
       "  <thead>\n",
       "    <tr style=\"text-align: right;\">\n",
       "      <th></th>\n",
       "      <th>user_id</th>\n",
       "      <th>age</th>\n",
       "      <th>churn_date</th>\n",
       "      <th>city</th>\n",
       "      <th>first_name</th>\n",
       "      <th>last_name</th>\n",
       "      <th>reg_date</th>\n",
       "      <th>tariff</th>\n",
       "      <th>month</th>\n",
       "      <th>minutes</th>\n",
       "      <th>calls_count</th>\n",
       "      <th>mb_used</th>\n",
       "      <th>messages_count</th>\n",
       "    </tr>\n",
       "  </thead>\n",
       "  <tbody>\n",
       "    <tr>\n",
       "      <th>570</th>\n",
       "      <td>1091</td>\n",
       "      <td>36</td>\n",
       "      <td>NaN</td>\n",
       "      <td>Набережные Челны</td>\n",
       "      <td>Вера</td>\n",
       "      <td>Суслова</td>\n",
       "      <td>2018-05-08</td>\n",
       "      <td>ultra</td>\n",
       "      <td>5.0</td>\n",
       "      <td>NaN</td>\n",
       "      <td>NaN</td>\n",
       "      <td>10703.37</td>\n",
       "      <td>30.0</td>\n",
       "    </tr>\n",
       "    <tr>\n",
       "      <th>571</th>\n",
       "      <td>1091</td>\n",
       "      <td>36</td>\n",
       "      <td>NaN</td>\n",
       "      <td>Набережные Челны</td>\n",
       "      <td>Вера</td>\n",
       "      <td>Суслова</td>\n",
       "      <td>2018-05-08</td>\n",
       "      <td>ultra</td>\n",
       "      <td>6.0</td>\n",
       "      <td>NaN</td>\n",
       "      <td>NaN</td>\n",
       "      <td>10236.19</td>\n",
       "      <td>30.0</td>\n",
       "    </tr>\n",
       "    <tr>\n",
       "      <th>572</th>\n",
       "      <td>1091</td>\n",
       "      <td>36</td>\n",
       "      <td>NaN</td>\n",
       "      <td>Набережные Челны</td>\n",
       "      <td>Вера</td>\n",
       "      <td>Суслова</td>\n",
       "      <td>2018-05-08</td>\n",
       "      <td>ultra</td>\n",
       "      <td>7.0</td>\n",
       "      <td>NaN</td>\n",
       "      <td>NaN</td>\n",
       "      <td>16444.98</td>\n",
       "      <td>35.0</td>\n",
       "    </tr>\n",
       "    <tr>\n",
       "      <th>573</th>\n",
       "      <td>1091</td>\n",
       "      <td>36</td>\n",
       "      <td>NaN</td>\n",
       "      <td>Набережные Челны</td>\n",
       "      <td>Вера</td>\n",
       "      <td>Суслова</td>\n",
       "      <td>2018-05-08</td>\n",
       "      <td>ultra</td>\n",
       "      <td>8.0</td>\n",
       "      <td>NaN</td>\n",
       "      <td>NaN</td>\n",
       "      <td>12633.88</td>\n",
       "      <td>31.0</td>\n",
       "    </tr>\n",
       "    <tr>\n",
       "      <th>574</th>\n",
       "      <td>1091</td>\n",
       "      <td>36</td>\n",
       "      <td>NaN</td>\n",
       "      <td>Набережные Челны</td>\n",
       "      <td>Вера</td>\n",
       "      <td>Суслова</td>\n",
       "      <td>2018-05-08</td>\n",
       "      <td>ultra</td>\n",
       "      <td>9.0</td>\n",
       "      <td>NaN</td>\n",
       "      <td>NaN</td>\n",
       "      <td>16597.11</td>\n",
       "      <td>32.0</td>\n",
       "    </tr>\n",
       "    <tr>\n",
       "      <th>575</th>\n",
       "      <td>1091</td>\n",
       "      <td>36</td>\n",
       "      <td>NaN</td>\n",
       "      <td>Набережные Челны</td>\n",
       "      <td>Вера</td>\n",
       "      <td>Суслова</td>\n",
       "      <td>2018-05-08</td>\n",
       "      <td>ultra</td>\n",
       "      <td>10.0</td>\n",
       "      <td>NaN</td>\n",
       "      <td>NaN</td>\n",
       "      <td>15644.73</td>\n",
       "      <td>44.0</td>\n",
       "    </tr>\n",
       "    <tr>\n",
       "      <th>576</th>\n",
       "      <td>1091</td>\n",
       "      <td>36</td>\n",
       "      <td>NaN</td>\n",
       "      <td>Набережные Челны</td>\n",
       "      <td>Вера</td>\n",
       "      <td>Суслова</td>\n",
       "      <td>2018-05-08</td>\n",
       "      <td>ultra</td>\n",
       "      <td>11.0</td>\n",
       "      <td>NaN</td>\n",
       "      <td>NaN</td>\n",
       "      <td>11864.25</td>\n",
       "      <td>28.0</td>\n",
       "    </tr>\n",
       "    <tr>\n",
       "      <th>577</th>\n",
       "      <td>1091</td>\n",
       "      <td>36</td>\n",
       "      <td>NaN</td>\n",
       "      <td>Набережные Челны</td>\n",
       "      <td>Вера</td>\n",
       "      <td>Суслова</td>\n",
       "      <td>2018-05-08</td>\n",
       "      <td>ultra</td>\n",
       "      <td>12.0</td>\n",
       "      <td>NaN</td>\n",
       "      <td>NaN</td>\n",
       "      <td>13280.45</td>\n",
       "      <td>42.0</td>\n",
       "    </tr>\n",
       "    <tr>\n",
       "      <th>671</th>\n",
       "      <td>1106</td>\n",
       "      <td>67</td>\n",
       "      <td>NaN</td>\n",
       "      <td>Калуга</td>\n",
       "      <td>Исаак</td>\n",
       "      <td>Костин</td>\n",
       "      <td>2018-04-26</td>\n",
       "      <td>ultra</td>\n",
       "      <td>4.0</td>\n",
       "      <td>NaN</td>\n",
       "      <td>NaN</td>\n",
       "      <td>2923.49</td>\n",
       "      <td>9.0</td>\n",
       "    </tr>\n",
       "    <tr>\n",
       "      <th>672</th>\n",
       "      <td>1106</td>\n",
       "      <td>67</td>\n",
       "      <td>NaN</td>\n",
       "      <td>Калуга</td>\n",
       "      <td>Исаак</td>\n",
       "      <td>Костин</td>\n",
       "      <td>2018-04-26</td>\n",
       "      <td>ultra</td>\n",
       "      <td>5.0</td>\n",
       "      <td>NaN</td>\n",
       "      <td>NaN</td>\n",
       "      <td>16573.01</td>\n",
       "      <td>28.0</td>\n",
       "    </tr>\n",
       "    <tr>\n",
       "      <th>673</th>\n",
       "      <td>1106</td>\n",
       "      <td>67</td>\n",
       "      <td>NaN</td>\n",
       "      <td>Калуга</td>\n",
       "      <td>Исаак</td>\n",
       "      <td>Костин</td>\n",
       "      <td>2018-04-26</td>\n",
       "      <td>ultra</td>\n",
       "      <td>6.0</td>\n",
       "      <td>NaN</td>\n",
       "      <td>NaN</td>\n",
       "      <td>20016.74</td>\n",
       "      <td>30.0</td>\n",
       "    </tr>\n",
       "    <tr>\n",
       "      <th>674</th>\n",
       "      <td>1106</td>\n",
       "      <td>67</td>\n",
       "      <td>NaN</td>\n",
       "      <td>Калуга</td>\n",
       "      <td>Исаак</td>\n",
       "      <td>Костин</td>\n",
       "      <td>2018-04-26</td>\n",
       "      <td>ultra</td>\n",
       "      <td>7.0</td>\n",
       "      <td>NaN</td>\n",
       "      <td>NaN</td>\n",
       "      <td>21626.86</td>\n",
       "      <td>24.0</td>\n",
       "    </tr>\n",
       "    <tr>\n",
       "      <th>675</th>\n",
       "      <td>1106</td>\n",
       "      <td>67</td>\n",
       "      <td>NaN</td>\n",
       "      <td>Калуга</td>\n",
       "      <td>Исаак</td>\n",
       "      <td>Костин</td>\n",
       "      <td>2018-04-26</td>\n",
       "      <td>ultra</td>\n",
       "      <td>8.0</td>\n",
       "      <td>NaN</td>\n",
       "      <td>NaN</td>\n",
       "      <td>19088.67</td>\n",
       "      <td>25.0</td>\n",
       "    </tr>\n",
       "    <tr>\n",
       "      <th>676</th>\n",
       "      <td>1106</td>\n",
       "      <td>67</td>\n",
       "      <td>NaN</td>\n",
       "      <td>Калуга</td>\n",
       "      <td>Исаак</td>\n",
       "      <td>Костин</td>\n",
       "      <td>2018-04-26</td>\n",
       "      <td>ultra</td>\n",
       "      <td>9.0</td>\n",
       "      <td>NaN</td>\n",
       "      <td>NaN</td>\n",
       "      <td>21934.03</td>\n",
       "      <td>23.0</td>\n",
       "    </tr>\n",
       "    <tr>\n",
       "      <th>677</th>\n",
       "      <td>1106</td>\n",
       "      <td>67</td>\n",
       "      <td>NaN</td>\n",
       "      <td>Калуга</td>\n",
       "      <td>Исаак</td>\n",
       "      <td>Костин</td>\n",
       "      <td>2018-04-26</td>\n",
       "      <td>ultra</td>\n",
       "      <td>10.0</td>\n",
       "      <td>NaN</td>\n",
       "      <td>NaN</td>\n",
       "      <td>14010.32</td>\n",
       "      <td>33.0</td>\n",
       "    </tr>\n",
       "    <tr>\n",
       "      <th>678</th>\n",
       "      <td>1106</td>\n",
       "      <td>67</td>\n",
       "      <td>NaN</td>\n",
       "      <td>Калуга</td>\n",
       "      <td>Исаак</td>\n",
       "      <td>Костин</td>\n",
       "      <td>2018-04-26</td>\n",
       "      <td>ultra</td>\n",
       "      <td>11.0</td>\n",
       "      <td>NaN</td>\n",
       "      <td>NaN</td>\n",
       "      <td>21289.27</td>\n",
       "      <td>29.0</td>\n",
       "    </tr>\n",
       "    <tr>\n",
       "      <th>679</th>\n",
       "      <td>1106</td>\n",
       "      <td>67</td>\n",
       "      <td>NaN</td>\n",
       "      <td>Калуга</td>\n",
       "      <td>Исаак</td>\n",
       "      <td>Костин</td>\n",
       "      <td>2018-04-26</td>\n",
       "      <td>ultra</td>\n",
       "      <td>12.0</td>\n",
       "      <td>NaN</td>\n",
       "      <td>NaN</td>\n",
       "      <td>18701.51</td>\n",
       "      <td>24.0</td>\n",
       "    </tr>\n",
       "    <tr>\n",
       "      <th>827</th>\n",
       "      <td>1128</td>\n",
       "      <td>51</td>\n",
       "      <td>2018-12-23</td>\n",
       "      <td>Волжский</td>\n",
       "      <td>Ксения</td>\n",
       "      <td>Агаева</td>\n",
       "      <td>2018-12-15</td>\n",
       "      <td>ultra</td>\n",
       "      <td>NaN</td>\n",
       "      <td>NaN</td>\n",
       "      <td>NaN</td>\n",
       "      <td>NaN</td>\n",
       "      <td>NaN</td>\n",
       "    </tr>\n",
       "    <tr>\n",
       "      <th>1475</th>\n",
       "      <td>1231</td>\n",
       "      <td>63</td>\n",
       "      <td>NaN</td>\n",
       "      <td>Чебоксары</td>\n",
       "      <td>Касьян</td>\n",
       "      <td>Авдюков</td>\n",
       "      <td>2018-05-23</td>\n",
       "      <td>ultra</td>\n",
       "      <td>5.0</td>\n",
       "      <td>NaN</td>\n",
       "      <td>NaN</td>\n",
       "      <td>10858.89</td>\n",
       "      <td>55.0</td>\n",
       "    </tr>\n",
       "    <tr>\n",
       "      <th>1476</th>\n",
       "      <td>1231</td>\n",
       "      <td>63</td>\n",
       "      <td>NaN</td>\n",
       "      <td>Чебоксары</td>\n",
       "      <td>Касьян</td>\n",
       "      <td>Авдюков</td>\n",
       "      <td>2018-05-23</td>\n",
       "      <td>ultra</td>\n",
       "      <td>6.0</td>\n",
       "      <td>NaN</td>\n",
       "      <td>NaN</td>\n",
       "      <td>27825.92</td>\n",
       "      <td>201.0</td>\n",
       "    </tr>\n",
       "    <tr>\n",
       "      <th>1477</th>\n",
       "      <td>1231</td>\n",
       "      <td>63</td>\n",
       "      <td>NaN</td>\n",
       "      <td>Чебоксары</td>\n",
       "      <td>Касьян</td>\n",
       "      <td>Авдюков</td>\n",
       "      <td>2018-05-23</td>\n",
       "      <td>ultra</td>\n",
       "      <td>7.0</td>\n",
       "      <td>NaN</td>\n",
       "      <td>NaN</td>\n",
       "      <td>27695.83</td>\n",
       "      <td>211.0</td>\n",
       "    </tr>\n",
       "    <tr>\n",
       "      <th>1478</th>\n",
       "      <td>1231</td>\n",
       "      <td>63</td>\n",
       "      <td>NaN</td>\n",
       "      <td>Чебоксары</td>\n",
       "      <td>Касьян</td>\n",
       "      <td>Авдюков</td>\n",
       "      <td>2018-05-23</td>\n",
       "      <td>ultra</td>\n",
       "      <td>8.0</td>\n",
       "      <td>NaN</td>\n",
       "      <td>NaN</td>\n",
       "      <td>32045.70</td>\n",
       "      <td>180.0</td>\n",
       "    </tr>\n",
       "    <tr>\n",
       "      <th>1479</th>\n",
       "      <td>1231</td>\n",
       "      <td>63</td>\n",
       "      <td>NaN</td>\n",
       "      <td>Чебоксары</td>\n",
       "      <td>Касьян</td>\n",
       "      <td>Авдюков</td>\n",
       "      <td>2018-05-23</td>\n",
       "      <td>ultra</td>\n",
       "      <td>9.0</td>\n",
       "      <td>NaN</td>\n",
       "      <td>NaN</td>\n",
       "      <td>33189.47</td>\n",
       "      <td>188.0</td>\n",
       "    </tr>\n",
       "    <tr>\n",
       "      <th>1480</th>\n",
       "      <td>1231</td>\n",
       "      <td>63</td>\n",
       "      <td>NaN</td>\n",
       "      <td>Чебоксары</td>\n",
       "      <td>Касьян</td>\n",
       "      <td>Авдюков</td>\n",
       "      <td>2018-05-23</td>\n",
       "      <td>ultra</td>\n",
       "      <td>10.0</td>\n",
       "      <td>NaN</td>\n",
       "      <td>NaN</td>\n",
       "      <td>31032.93</td>\n",
       "      <td>185.0</td>\n",
       "    </tr>\n",
       "    <tr>\n",
       "      <th>1481</th>\n",
       "      <td>1231</td>\n",
       "      <td>63</td>\n",
       "      <td>NaN</td>\n",
       "      <td>Чебоксары</td>\n",
       "      <td>Касьян</td>\n",
       "      <td>Авдюков</td>\n",
       "      <td>2018-05-23</td>\n",
       "      <td>ultra</td>\n",
       "      <td>11.0</td>\n",
       "      <td>NaN</td>\n",
       "      <td>NaN</td>\n",
       "      <td>27431.63</td>\n",
       "      <td>173.0</td>\n",
       "    </tr>\n",
       "    <tr>\n",
       "      <th>1482</th>\n",
       "      <td>1231</td>\n",
       "      <td>63</td>\n",
       "      <td>NaN</td>\n",
       "      <td>Чебоксары</td>\n",
       "      <td>Касьян</td>\n",
       "      <td>Авдюков</td>\n",
       "      <td>2018-05-23</td>\n",
       "      <td>ultra</td>\n",
       "      <td>12.0</td>\n",
       "      <td>NaN</td>\n",
       "      <td>NaN</td>\n",
       "      <td>32448.00</td>\n",
       "      <td>191.0</td>\n",
       "    </tr>\n",
       "    <tr>\n",
       "      <th>1723</th>\n",
       "      <td>1273</td>\n",
       "      <td>46</td>\n",
       "      <td>NaN</td>\n",
       "      <td>Курган</td>\n",
       "      <td>Рэм</td>\n",
       "      <td>Корнилов</td>\n",
       "      <td>2018-05-15</td>\n",
       "      <td>ultra</td>\n",
       "      <td>5.0</td>\n",
       "      <td>220.0</td>\n",
       "      <td>24.0</td>\n",
       "      <td>NaN</td>\n",
       "      <td>21.0</td>\n",
       "    </tr>\n",
       "    <tr>\n",
       "      <th>1724</th>\n",
       "      <td>1273</td>\n",
       "      <td>46</td>\n",
       "      <td>NaN</td>\n",
       "      <td>Курган</td>\n",
       "      <td>Рэм</td>\n",
       "      <td>Корнилов</td>\n",
       "      <td>2018-05-15</td>\n",
       "      <td>ultra</td>\n",
       "      <td>6.0</td>\n",
       "      <td>230.0</td>\n",
       "      <td>40.0</td>\n",
       "      <td>NaN</td>\n",
       "      <td>38.0</td>\n",
       "    </tr>\n",
       "    <tr>\n",
       "      <th>1725</th>\n",
       "      <td>1273</td>\n",
       "      <td>46</td>\n",
       "      <td>NaN</td>\n",
       "      <td>Курган</td>\n",
       "      <td>Рэм</td>\n",
       "      <td>Корнилов</td>\n",
       "      <td>2018-05-15</td>\n",
       "      <td>ultra</td>\n",
       "      <td>7.0</td>\n",
       "      <td>253.0</td>\n",
       "      <td>44.0</td>\n",
       "      <td>NaN</td>\n",
       "      <td>37.0</td>\n",
       "    </tr>\n",
       "    <tr>\n",
       "      <th>1726</th>\n",
       "      <td>1273</td>\n",
       "      <td>46</td>\n",
       "      <td>NaN</td>\n",
       "      <td>Курган</td>\n",
       "      <td>Рэм</td>\n",
       "      <td>Корнилов</td>\n",
       "      <td>2018-05-15</td>\n",
       "      <td>ultra</td>\n",
       "      <td>8.0</td>\n",
       "      <td>253.0</td>\n",
       "      <td>53.0</td>\n",
       "      <td>NaN</td>\n",
       "      <td>41.0</td>\n",
       "    </tr>\n",
       "    <tr>\n",
       "      <th>1727</th>\n",
       "      <td>1273</td>\n",
       "      <td>46</td>\n",
       "      <td>NaN</td>\n",
       "      <td>Курган</td>\n",
       "      <td>Рэм</td>\n",
       "      <td>Корнилов</td>\n",
       "      <td>2018-05-15</td>\n",
       "      <td>ultra</td>\n",
       "      <td>9.0</td>\n",
       "      <td>223.0</td>\n",
       "      <td>33.0</td>\n",
       "      <td>NaN</td>\n",
       "      <td>32.0</td>\n",
       "    </tr>\n",
       "    <tr>\n",
       "      <th>1728</th>\n",
       "      <td>1273</td>\n",
       "      <td>46</td>\n",
       "      <td>NaN</td>\n",
       "      <td>Курган</td>\n",
       "      <td>Рэм</td>\n",
       "      <td>Корнилов</td>\n",
       "      <td>2018-05-15</td>\n",
       "      <td>ultra</td>\n",
       "      <td>10.0</td>\n",
       "      <td>315.0</td>\n",
       "      <td>40.0</td>\n",
       "      <td>NaN</td>\n",
       "      <td>35.0</td>\n",
       "    </tr>\n",
       "    <tr>\n",
       "      <th>1729</th>\n",
       "      <td>1273</td>\n",
       "      <td>46</td>\n",
       "      <td>NaN</td>\n",
       "      <td>Курган</td>\n",
       "      <td>Рэм</td>\n",
       "      <td>Корнилов</td>\n",
       "      <td>2018-05-15</td>\n",
       "      <td>ultra</td>\n",
       "      <td>11.0</td>\n",
       "      <td>272.0</td>\n",
       "      <td>45.0</td>\n",
       "      <td>NaN</td>\n",
       "      <td>29.0</td>\n",
       "    </tr>\n",
       "    <tr>\n",
       "      <th>1730</th>\n",
       "      <td>1273</td>\n",
       "      <td>46</td>\n",
       "      <td>NaN</td>\n",
       "      <td>Курган</td>\n",
       "      <td>Рэм</td>\n",
       "      <td>Корнилов</td>\n",
       "      <td>2018-05-15</td>\n",
       "      <td>ultra</td>\n",
       "      <td>12.0</td>\n",
       "      <td>260.0</td>\n",
       "      <td>41.0</td>\n",
       "      <td>NaN</td>\n",
       "      <td>39.0</td>\n",
       "    </tr>\n",
       "    <tr>\n",
       "      <th>2083</th>\n",
       "      <td>1328</td>\n",
       "      <td>44</td>\n",
       "      <td>NaN</td>\n",
       "      <td>Мурманск</td>\n",
       "      <td>Рауль</td>\n",
       "      <td>Аркадьев</td>\n",
       "      <td>2018-10-16</td>\n",
       "      <td>ultra</td>\n",
       "      <td>10.0</td>\n",
       "      <td>NaN</td>\n",
       "      <td>NaN</td>\n",
       "      <td>22427.98</td>\n",
       "      <td>6.0</td>\n",
       "    </tr>\n",
       "    <tr>\n",
       "      <th>2084</th>\n",
       "      <td>1328</td>\n",
       "      <td>44</td>\n",
       "      <td>NaN</td>\n",
       "      <td>Мурманск</td>\n",
       "      <td>Рауль</td>\n",
       "      <td>Аркадьев</td>\n",
       "      <td>2018-10-16</td>\n",
       "      <td>ultra</td>\n",
       "      <td>11.0</td>\n",
       "      <td>NaN</td>\n",
       "      <td>NaN</td>\n",
       "      <td>35525.58</td>\n",
       "      <td>8.0</td>\n",
       "    </tr>\n",
       "    <tr>\n",
       "      <th>2085</th>\n",
       "      <td>1328</td>\n",
       "      <td>44</td>\n",
       "      <td>NaN</td>\n",
       "      <td>Мурманск</td>\n",
       "      <td>Рауль</td>\n",
       "      <td>Аркадьев</td>\n",
       "      <td>2018-10-16</td>\n",
       "      <td>ultra</td>\n",
       "      <td>12.0</td>\n",
       "      <td>NaN</td>\n",
       "      <td>NaN</td>\n",
       "      <td>39419.73</td>\n",
       "      <td>7.0</td>\n",
       "    </tr>\n",
       "    <tr>\n",
       "      <th>2335</th>\n",
       "      <td>1371</td>\n",
       "      <td>50</td>\n",
       "      <td>2018-12-30</td>\n",
       "      <td>Омск</td>\n",
       "      <td>Ириней</td>\n",
       "      <td>Трофимов</td>\n",
       "      <td>2018-12-25</td>\n",
       "      <td>smart</td>\n",
       "      <td>NaN</td>\n",
       "      <td>NaN</td>\n",
       "      <td>NaN</td>\n",
       "      <td>NaN</td>\n",
       "      <td>NaN</td>\n",
       "    </tr>\n",
       "    <tr>\n",
       "      <th>2359</th>\n",
       "      <td>1373</td>\n",
       "      <td>34</td>\n",
       "      <td>NaN</td>\n",
       "      <td>Улан-Удэ</td>\n",
       "      <td>Нелли</td>\n",
       "      <td>Афанасенко</td>\n",
       "      <td>2018-01-17</td>\n",
       "      <td>smart</td>\n",
       "      <td>6.0</td>\n",
       "      <td>NaN</td>\n",
       "      <td>NaN</td>\n",
       "      <td>12442.88</td>\n",
       "      <td>48.0</td>\n",
       "    </tr>\n",
       "    <tr>\n",
       "      <th>2389</th>\n",
       "      <td>1377</td>\n",
       "      <td>59</td>\n",
       "      <td>NaN</td>\n",
       "      <td>Брянск</td>\n",
       "      <td>Альфред</td>\n",
       "      <td>Семин</td>\n",
       "      <td>2018-02-25</td>\n",
       "      <td>ultra</td>\n",
       "      <td>2.0</td>\n",
       "      <td>179.0</td>\n",
       "      <td>23.0</td>\n",
       "      <td>NaN</td>\n",
       "      <td>2.0</td>\n",
       "    </tr>\n",
       "    <tr>\n",
       "      <th>2502</th>\n",
       "      <td>1392</td>\n",
       "      <td>54</td>\n",
       "      <td>2018-09-27</td>\n",
       "      <td>Челябинск</td>\n",
       "      <td>Алла</td>\n",
       "      <td>Беликова</td>\n",
       "      <td>2018-02-27</td>\n",
       "      <td>ultra</td>\n",
       "      <td>2.0</td>\n",
       "      <td>13.0</td>\n",
       "      <td>2.0</td>\n",
       "      <td>NaN</td>\n",
       "      <td>3.0</td>\n",
       "    </tr>\n",
       "    <tr>\n",
       "      <th>2860</th>\n",
       "      <td>1446</td>\n",
       "      <td>64</td>\n",
       "      <td>NaN</td>\n",
       "      <td>Липецк</td>\n",
       "      <td>Антонина</td>\n",
       "      <td>Артемчук</td>\n",
       "      <td>2018-08-31</td>\n",
       "      <td>smart</td>\n",
       "      <td>8.0</td>\n",
       "      <td>50.0</td>\n",
       "      <td>4.0</td>\n",
       "      <td>NaN</td>\n",
       "      <td>1.0</td>\n",
       "    </tr>\n",
       "    <tr>\n",
       "      <th>3047</th>\n",
       "      <td>1473</td>\n",
       "      <td>18</td>\n",
       "      <td>NaN</td>\n",
       "      <td>Красноярск</td>\n",
       "      <td>Николай</td>\n",
       "      <td>Лебедев</td>\n",
       "      <td>2018-08-05</td>\n",
       "      <td>ultra</td>\n",
       "      <td>8.0</td>\n",
       "      <td>NaN</td>\n",
       "      <td>NaN</td>\n",
       "      <td>12905.40</td>\n",
       "      <td>17.0</td>\n",
       "    </tr>\n",
       "    <tr>\n",
       "      <th>3048</th>\n",
       "      <td>1473</td>\n",
       "      <td>18</td>\n",
       "      <td>NaN</td>\n",
       "      <td>Красноярск</td>\n",
       "      <td>Николай</td>\n",
       "      <td>Лебедев</td>\n",
       "      <td>2018-08-05</td>\n",
       "      <td>ultra</td>\n",
       "      <td>9.0</td>\n",
       "      <td>NaN</td>\n",
       "      <td>NaN</td>\n",
       "      <td>17289.85</td>\n",
       "      <td>19.0</td>\n",
       "    </tr>\n",
       "    <tr>\n",
       "      <th>3049</th>\n",
       "      <td>1473</td>\n",
       "      <td>18</td>\n",
       "      <td>NaN</td>\n",
       "      <td>Красноярск</td>\n",
       "      <td>Николай</td>\n",
       "      <td>Лебедев</td>\n",
       "      <td>2018-08-05</td>\n",
       "      <td>ultra</td>\n",
       "      <td>10.0</td>\n",
       "      <td>NaN</td>\n",
       "      <td>NaN</td>\n",
       "      <td>13688.65</td>\n",
       "      <td>20.0</td>\n",
       "    </tr>\n",
       "    <tr>\n",
       "      <th>3050</th>\n",
       "      <td>1473</td>\n",
       "      <td>18</td>\n",
       "      <td>NaN</td>\n",
       "      <td>Красноярск</td>\n",
       "      <td>Николай</td>\n",
       "      <td>Лебедев</td>\n",
       "      <td>2018-08-05</td>\n",
       "      <td>ultra</td>\n",
       "      <td>11.0</td>\n",
       "      <td>NaN</td>\n",
       "      <td>NaN</td>\n",
       "      <td>21673.80</td>\n",
       "      <td>14.0</td>\n",
       "    </tr>\n",
       "    <tr>\n",
       "      <th>3051</th>\n",
       "      <td>1473</td>\n",
       "      <td>18</td>\n",
       "      <td>NaN</td>\n",
       "      <td>Красноярск</td>\n",
       "      <td>Николай</td>\n",
       "      <td>Лебедев</td>\n",
       "      <td>2018-08-05</td>\n",
       "      <td>ultra</td>\n",
       "      <td>12.0</td>\n",
       "      <td>NaN</td>\n",
       "      <td>NaN</td>\n",
       "      <td>18418.26</td>\n",
       "      <td>20.0</td>\n",
       "    </tr>\n",
       "    <tr>\n",
       "      <th>3074</th>\n",
       "      <td>1476</td>\n",
       "      <td>50</td>\n",
       "      <td>NaN</td>\n",
       "      <td>Москва</td>\n",
       "      <td>Валентина</td>\n",
       "      <td>Семенова</td>\n",
       "      <td>2018-04-30</td>\n",
       "      <td>ultra</td>\n",
       "      <td>4.0</td>\n",
       "      <td>NaN</td>\n",
       "      <td>NaN</td>\n",
       "      <td>530.78</td>\n",
       "      <td>NaN</td>\n",
       "    </tr>\n",
       "    <tr>\n",
       "      <th>3151</th>\n",
       "      <td>1489</td>\n",
       "      <td>35</td>\n",
       "      <td>NaN</td>\n",
       "      <td>Санкт-Петербург</td>\n",
       "      <td>Павел</td>\n",
       "      <td>Гончаров</td>\n",
       "      <td>2018-08-15</td>\n",
       "      <td>smart</td>\n",
       "      <td>8.0</td>\n",
       "      <td>NaN</td>\n",
       "      <td>NaN</td>\n",
       "      <td>11050.56</td>\n",
       "      <td>17.0</td>\n",
       "    </tr>\n",
       "    <tr>\n",
       "      <th>3152</th>\n",
       "      <td>1489</td>\n",
       "      <td>35</td>\n",
       "      <td>NaN</td>\n",
       "      <td>Санкт-Петербург</td>\n",
       "      <td>Павел</td>\n",
       "      <td>Гончаров</td>\n",
       "      <td>2018-08-15</td>\n",
       "      <td>smart</td>\n",
       "      <td>9.0</td>\n",
       "      <td>NaN</td>\n",
       "      <td>NaN</td>\n",
       "      <td>17206.30</td>\n",
       "      <td>32.0</td>\n",
       "    </tr>\n",
       "    <tr>\n",
       "      <th>3153</th>\n",
       "      <td>1489</td>\n",
       "      <td>35</td>\n",
       "      <td>NaN</td>\n",
       "      <td>Санкт-Петербург</td>\n",
       "      <td>Павел</td>\n",
       "      <td>Гончаров</td>\n",
       "      <td>2018-08-15</td>\n",
       "      <td>smart</td>\n",
       "      <td>10.0</td>\n",
       "      <td>NaN</td>\n",
       "      <td>NaN</td>\n",
       "      <td>19559.44</td>\n",
       "      <td>21.0</td>\n",
       "    </tr>\n",
       "    <tr>\n",
       "      <th>3154</th>\n",
       "      <td>1489</td>\n",
       "      <td>35</td>\n",
       "      <td>NaN</td>\n",
       "      <td>Санкт-Петербург</td>\n",
       "      <td>Павел</td>\n",
       "      <td>Гончаров</td>\n",
       "      <td>2018-08-15</td>\n",
       "      <td>smart</td>\n",
       "      <td>11.0</td>\n",
       "      <td>NaN</td>\n",
       "      <td>NaN</td>\n",
       "      <td>17491.56</td>\n",
       "      <td>20.0</td>\n",
       "    </tr>\n",
       "    <tr>\n",
       "      <th>3155</th>\n",
       "      <td>1489</td>\n",
       "      <td>35</td>\n",
       "      <td>NaN</td>\n",
       "      <td>Санкт-Петербург</td>\n",
       "      <td>Павел</td>\n",
       "      <td>Гончаров</td>\n",
       "      <td>2018-08-15</td>\n",
       "      <td>smart</td>\n",
       "      <td>12.0</td>\n",
       "      <td>NaN</td>\n",
       "      <td>NaN</td>\n",
       "      <td>17322.51</td>\n",
       "      <td>35.0</td>\n",
       "    </tr>\n",
       "  </tbody>\n",
       "</table>\n",
       "</div>"
      ],
      "text/plain": [
       "      user_id  age  churn_date              city first_name   last_name  \\\n",
       "570      1091   36         NaN  Набережные Челны       Вера     Суслова   \n",
       "571      1091   36         NaN  Набережные Челны       Вера     Суслова   \n",
       "572      1091   36         NaN  Набережные Челны       Вера     Суслова   \n",
       "573      1091   36         NaN  Набережные Челны       Вера     Суслова   \n",
       "574      1091   36         NaN  Набережные Челны       Вера     Суслова   \n",
       "575      1091   36         NaN  Набережные Челны       Вера     Суслова   \n",
       "576      1091   36         NaN  Набережные Челны       Вера     Суслова   \n",
       "577      1091   36         NaN  Набережные Челны       Вера     Суслова   \n",
       "671      1106   67         NaN            Калуга      Исаак      Костин   \n",
       "672      1106   67         NaN            Калуга      Исаак      Костин   \n",
       "673      1106   67         NaN            Калуга      Исаак      Костин   \n",
       "674      1106   67         NaN            Калуга      Исаак      Костин   \n",
       "675      1106   67         NaN            Калуга      Исаак      Костин   \n",
       "676      1106   67         NaN            Калуга      Исаак      Костин   \n",
       "677      1106   67         NaN            Калуга      Исаак      Костин   \n",
       "678      1106   67         NaN            Калуга      Исаак      Костин   \n",
       "679      1106   67         NaN            Калуга      Исаак      Костин   \n",
       "827      1128   51  2018-12-23          Волжский     Ксения      Агаева   \n",
       "1475     1231   63         NaN         Чебоксары     Касьян     Авдюков   \n",
       "1476     1231   63         NaN         Чебоксары     Касьян     Авдюков   \n",
       "1477     1231   63         NaN         Чебоксары     Касьян     Авдюков   \n",
       "1478     1231   63         NaN         Чебоксары     Касьян     Авдюков   \n",
       "1479     1231   63         NaN         Чебоксары     Касьян     Авдюков   \n",
       "1480     1231   63         NaN         Чебоксары     Касьян     Авдюков   \n",
       "1481     1231   63         NaN         Чебоксары     Касьян     Авдюков   \n",
       "1482     1231   63         NaN         Чебоксары     Касьян     Авдюков   \n",
       "1723     1273   46         NaN            Курган        Рэм    Корнилов   \n",
       "1724     1273   46         NaN            Курган        Рэм    Корнилов   \n",
       "1725     1273   46         NaN            Курган        Рэм    Корнилов   \n",
       "1726     1273   46         NaN            Курган        Рэм    Корнилов   \n",
       "1727     1273   46         NaN            Курган        Рэм    Корнилов   \n",
       "1728     1273   46         NaN            Курган        Рэм    Корнилов   \n",
       "1729     1273   46         NaN            Курган        Рэм    Корнилов   \n",
       "1730     1273   46         NaN            Курган        Рэм    Корнилов   \n",
       "2083     1328   44         NaN          Мурманск      Рауль    Аркадьев   \n",
       "2084     1328   44         NaN          Мурманск      Рауль    Аркадьев   \n",
       "2085     1328   44         NaN          Мурманск      Рауль    Аркадьев   \n",
       "2335     1371   50  2018-12-30              Омск     Ириней    Трофимов   \n",
       "2359     1373   34         NaN          Улан-Удэ      Нелли  Афанасенко   \n",
       "2389     1377   59         NaN            Брянск    Альфред       Семин   \n",
       "2502     1392   54  2018-09-27         Челябинск       Алла    Беликова   \n",
       "2860     1446   64         NaN            Липецк   Антонина    Артемчук   \n",
       "3047     1473   18         NaN        Красноярск    Николай     Лебедев   \n",
       "3048     1473   18         NaN        Красноярск    Николай     Лебедев   \n",
       "3049     1473   18         NaN        Красноярск    Николай     Лебедев   \n",
       "3050     1473   18         NaN        Красноярск    Николай     Лебедев   \n",
       "3051     1473   18         NaN        Красноярск    Николай     Лебедев   \n",
       "3074     1476   50         NaN            Москва  Валентина    Семенова   \n",
       "3151     1489   35         NaN   Санкт-Петербург      Павел    Гончаров   \n",
       "3152     1489   35         NaN   Санкт-Петербург      Павел    Гончаров   \n",
       "3153     1489   35         NaN   Санкт-Петербург      Павел    Гончаров   \n",
       "3154     1489   35         NaN   Санкт-Петербург      Павел    Гончаров   \n",
       "3155     1489   35         NaN   Санкт-Петербург      Павел    Гончаров   \n",
       "\n",
       "       reg_date tariff  month  minutes  calls_count   mb_used  messages_count  \n",
       "570  2018-05-08  ultra    5.0      NaN          NaN  10703.37            30.0  \n",
       "571  2018-05-08  ultra    6.0      NaN          NaN  10236.19            30.0  \n",
       "572  2018-05-08  ultra    7.0      NaN          NaN  16444.98            35.0  \n",
       "573  2018-05-08  ultra    8.0      NaN          NaN  12633.88            31.0  \n",
       "574  2018-05-08  ultra    9.0      NaN          NaN  16597.11            32.0  \n",
       "575  2018-05-08  ultra   10.0      NaN          NaN  15644.73            44.0  \n",
       "576  2018-05-08  ultra   11.0      NaN          NaN  11864.25            28.0  \n",
       "577  2018-05-08  ultra   12.0      NaN          NaN  13280.45            42.0  \n",
       "671  2018-04-26  ultra    4.0      NaN          NaN   2923.49             9.0  \n",
       "672  2018-04-26  ultra    5.0      NaN          NaN  16573.01            28.0  \n",
       "673  2018-04-26  ultra    6.0      NaN          NaN  20016.74            30.0  \n",
       "674  2018-04-26  ultra    7.0      NaN          NaN  21626.86            24.0  \n",
       "675  2018-04-26  ultra    8.0      NaN          NaN  19088.67            25.0  \n",
       "676  2018-04-26  ultra    9.0      NaN          NaN  21934.03            23.0  \n",
       "677  2018-04-26  ultra   10.0      NaN          NaN  14010.32            33.0  \n",
       "678  2018-04-26  ultra   11.0      NaN          NaN  21289.27            29.0  \n",
       "679  2018-04-26  ultra   12.0      NaN          NaN  18701.51            24.0  \n",
       "827  2018-12-15  ultra    NaN      NaN          NaN       NaN             NaN  \n",
       "1475 2018-05-23  ultra    5.0      NaN          NaN  10858.89            55.0  \n",
       "1476 2018-05-23  ultra    6.0      NaN          NaN  27825.92           201.0  \n",
       "1477 2018-05-23  ultra    7.0      NaN          NaN  27695.83           211.0  \n",
       "1478 2018-05-23  ultra    8.0      NaN          NaN  32045.70           180.0  \n",
       "1479 2018-05-23  ultra    9.0      NaN          NaN  33189.47           188.0  \n",
       "1480 2018-05-23  ultra   10.0      NaN          NaN  31032.93           185.0  \n",
       "1481 2018-05-23  ultra   11.0      NaN          NaN  27431.63           173.0  \n",
       "1482 2018-05-23  ultra   12.0      NaN          NaN  32448.00           191.0  \n",
       "1723 2018-05-15  ultra    5.0    220.0         24.0       NaN            21.0  \n",
       "1724 2018-05-15  ultra    6.0    230.0         40.0       NaN            38.0  \n",
       "1725 2018-05-15  ultra    7.0    253.0         44.0       NaN            37.0  \n",
       "1726 2018-05-15  ultra    8.0    253.0         53.0       NaN            41.0  \n",
       "1727 2018-05-15  ultra    9.0    223.0         33.0       NaN            32.0  \n",
       "1728 2018-05-15  ultra   10.0    315.0         40.0       NaN            35.0  \n",
       "1729 2018-05-15  ultra   11.0    272.0         45.0       NaN            29.0  \n",
       "1730 2018-05-15  ultra   12.0    260.0         41.0       NaN            39.0  \n",
       "2083 2018-10-16  ultra   10.0      NaN          NaN  22427.98             6.0  \n",
       "2084 2018-10-16  ultra   11.0      NaN          NaN  35525.58             8.0  \n",
       "2085 2018-10-16  ultra   12.0      NaN          NaN  39419.73             7.0  \n",
       "2335 2018-12-25  smart    NaN      NaN          NaN       NaN             NaN  \n",
       "2359 2018-01-17  smart    6.0      NaN          NaN  12442.88            48.0  \n",
       "2389 2018-02-25  ultra    2.0    179.0         23.0       NaN             2.0  \n",
       "2502 2018-02-27  ultra    2.0     13.0          2.0       NaN             3.0  \n",
       "2860 2018-08-31  smart    8.0     50.0          4.0       NaN             1.0  \n",
       "3047 2018-08-05  ultra    8.0      NaN          NaN  12905.40            17.0  \n",
       "3048 2018-08-05  ultra    9.0      NaN          NaN  17289.85            19.0  \n",
       "3049 2018-08-05  ultra   10.0      NaN          NaN  13688.65            20.0  \n",
       "3050 2018-08-05  ultra   11.0      NaN          NaN  21673.80            14.0  \n",
       "3051 2018-08-05  ultra   12.0      NaN          NaN  18418.26            20.0  \n",
       "3074 2018-04-30  ultra    4.0      NaN          NaN    530.78             NaN  \n",
       "3151 2018-08-15  smart    8.0      NaN          NaN  11050.56            17.0  \n",
       "3152 2018-08-15  smart    9.0      NaN          NaN  17206.30            32.0  \n",
       "3153 2018-08-15  smart   10.0      NaN          NaN  19559.44            21.0  \n",
       "3154 2018-08-15  smart   11.0      NaN          NaN  17491.56            20.0  \n",
       "3155 2018-08-15  smart   12.0      NaN          NaN  17322.51            35.0  "
      ]
     },
     "execution_count": 39,
     "metadata": {},
     "output_type": "execute_result"
    }
   ],
   "source": [
    "(users_paid_monthly[\n",
    "    users_paid_monthly[users_paid_monthly.columns.drop(['churn_date', 'messages_count'])]\n",
    "    .isna().any(axis=1)]\n",
    ")"
   ]
  },
  {
   "cell_type": "code",
   "execution_count": 40,
   "metadata": {},
   "outputs": [
    {
     "data": {
      "text/html": [
       "<div>\n",
       "<style scoped>\n",
       "    .dataframe tbody tr th:only-of-type {\n",
       "        vertical-align: middle;\n",
       "    }\n",
       "\n",
       "    .dataframe tbody tr th {\n",
       "        vertical-align: top;\n",
       "    }\n",
       "\n",
       "    .dataframe thead th {\n",
       "        text-align: right;\n",
       "    }\n",
       "</style>\n",
       "<table border=\"1\" class=\"dataframe\">\n",
       "  <thead>\n",
       "    <tr style=\"text-align: right;\">\n",
       "      <th></th>\n",
       "      <th>user_id</th>\n",
       "      <th>age</th>\n",
       "      <th>churn_date</th>\n",
       "      <th>city</th>\n",
       "      <th>first_name</th>\n",
       "      <th>last_name</th>\n",
       "      <th>reg_date</th>\n",
       "      <th>tariff</th>\n",
       "      <th>month</th>\n",
       "      <th>minutes</th>\n",
       "      <th>calls_count</th>\n",
       "      <th>mb_used</th>\n",
       "      <th>messages_count</th>\n",
       "    </tr>\n",
       "  </thead>\n",
       "  <tbody>\n",
       "    <tr>\n",
       "      <th>827</th>\n",
       "      <td>1128</td>\n",
       "      <td>51</td>\n",
       "      <td>2018-12-23</td>\n",
       "      <td>Волжский</td>\n",
       "      <td>Ксения</td>\n",
       "      <td>Агаева</td>\n",
       "      <td>2018-12-15</td>\n",
       "      <td>ultra</td>\n",
       "      <td>NaN</td>\n",
       "      <td>NaN</td>\n",
       "      <td>NaN</td>\n",
       "      <td>NaN</td>\n",
       "      <td>NaN</td>\n",
       "    </tr>\n",
       "    <tr>\n",
       "      <th>2335</th>\n",
       "      <td>1371</td>\n",
       "      <td>50</td>\n",
       "      <td>2018-12-30</td>\n",
       "      <td>Омск</td>\n",
       "      <td>Ириней</td>\n",
       "      <td>Трофимов</td>\n",
       "      <td>2018-12-25</td>\n",
       "      <td>smart</td>\n",
       "      <td>NaN</td>\n",
       "      <td>NaN</td>\n",
       "      <td>NaN</td>\n",
       "      <td>NaN</td>\n",
       "      <td>NaN</td>\n",
       "    </tr>\n",
       "  </tbody>\n",
       "</table>\n",
       "</div>"
      ],
      "text/plain": [
       "      user_id  age  churn_date      city first_name last_name   reg_date  \\\n",
       "827      1128   51  2018-12-23  Волжский     Ксения    Агаева 2018-12-15   \n",
       "2335     1371   50  2018-12-30      Омск     Ириней  Трофимов 2018-12-25   \n",
       "\n",
       "     tariff  month  minutes  calls_count  mb_used  messages_count  \n",
       "827   ultra    NaN      NaN          NaN      NaN             NaN  \n",
       "2335  smart    NaN      NaN          NaN      NaN             NaN  "
      ]
     },
     "metadata": {},
     "output_type": "display_data"
    }
   ],
   "source": [
    "nan_users = (users_paid_monthly[users_paid_monthly[['month', 'minutes', 'calls_count', 'mb_used', 'messages_count']]\n",
    "                    .isna()\n",
    "                    .all(axis=1)]\n",
    ")\n",
    "display(nan_users)"
   ]
  },
  {
   "cell_type": "code",
   "execution_count": 41,
   "metadata": {},
   "outputs": [],
   "source": [
    "#users_paid_monthly[users_paid_monthly['user_id'].isin(nan_users['user_id'])]"
   ]
  },
  {
   "cell_type": "markdown",
   "metadata": {},
   "source": [
    "Пользователи по активности которых нет никаких записей, пользователь 1128 неподходит по лайфтайму. Остальные зарегестрированы больше месяца, возможно какая то ошибка. При расчете эти пользователи мне не нужны так как нет информации по оплате."
   ]
  },
  {
   "cell_type": "markdown",
   "metadata": {},
   "source": [
    "Так же пользователем не пользовавшимся интернетом, сообщениями или звонками в каком либо месяце я ставлю 0 вместо na"
   ]
  },
  {
   "cell_type": "code",
   "execution_count": 42,
   "metadata": {},
   "outputs": [],
   "source": [
    "users_paid_monthly['mb_used'].fillna(0, inplace=True)\n",
    "users_paid_monthly['minutes'].fillna(0, inplace=True)\n",
    "users_paid_monthly['messages_count'].fillna(0, inplace=True)\n",
    "users_paid_monthly['calls_count'].fillna(0, inplace=True)"
   ]
  },
  {
   "cell_type": "code",
   "execution_count": 43,
   "metadata": {},
   "outputs": [
    {
     "name": "stdout",
     "output_type": "stream",
     "text": [
      "<class 'pandas.core.frame.DataFrame'>\n",
      "Int64Index: 3216 entries, 0 to 3215\n",
      "Data columns (total 13 columns):\n",
      " #   Column          Non-Null Count  Dtype         \n",
      "---  ------          --------------  -----         \n",
      " 0   user_id         3216 non-null   int64         \n",
      " 1   age             3216 non-null   int64         \n",
      " 2   churn_date      189 non-null    object        \n",
      " 3   city            3216 non-null   object        \n",
      " 4   first_name      3216 non-null   object        \n",
      " 5   last_name       3216 non-null   object        \n",
      " 6   reg_date        3216 non-null   datetime64[ns]\n",
      " 7   tariff          3216 non-null   object        \n",
      " 8   month           3214 non-null   float64       \n",
      " 9   minutes         3216 non-null   float64       \n",
      " 10  calls_count     3216 non-null   float64       \n",
      " 11  mb_used         3216 non-null   float64       \n",
      " 12  messages_count  3216 non-null   float64       \n",
      "dtypes: datetime64[ns](1), float64(5), int64(2), object(5)\n",
      "memory usage: 351.8+ KB\n"
     ]
    }
   ],
   "source": [
    "users_paid_monthly.info()"
   ]
  },
  {
   "cell_type": "markdown",
   "metadata": {},
   "source": [
    "#### Вычисление платы"
   ]
  },
  {
   "cell_type": "code",
   "execution_count": 44,
   "metadata": {},
   "outputs": [],
   "source": [
    "def calc_paid_monthly(users, tariffs):\n",
    "    \n",
    "    tmp = users.iloc[:,[-1,-2,-4,-6]]\n",
    "    paid = list()\n",
    "    for index, row in tmp.iterrows():\n",
    "        #Вычитаю предусмотренные тарифом величины и зануляю отрицательные значения row[3] название тарифа\n",
    "        res = (row[[0,1,2]].values - tariffs.set_index('tariff_name').loc[row[3]].iloc[[0,1,2]].values).clip(min=0)\n",
    "        #Округляю трафик в гигабайты\n",
    "        res[1] =  int(np.ceil(np.true_divide(res[1],1024)))\n",
    "        #Умножаю на стоимость избыточных ресурсов\n",
    "        res = res.dot(tariffs.set_index('tariff_name').loc[row[3]].iloc[[-2,-3,-1]])\n",
    "        #Месячная плата\n",
    "        res+= tariffs.set_index('tariff_name').loc[row[3]]['rub_monthly_fee']\n",
    "        paid.append(res)\n",
    "    return paid"
   ]
  },
  {
   "cell_type": "code",
   "execution_count": 45,
   "metadata": {},
   "outputs": [],
   "source": [
    "tmp_paid = users_paid_monthly.iloc[:,[-1,-2,-4,-6]].copy()"
   ]
  },
  {
   "cell_type": "code",
   "execution_count": 46,
   "metadata": {},
   "outputs": [
    {
     "name": "stdout",
     "output_type": "stream",
     "text": [
      "<class 'pandas.core.frame.DataFrame'>\n",
      "Int64Index: 3216 entries, 0 to 3215\n",
      "Data columns (total 4 columns):\n",
      " #   Column          Non-Null Count  Dtype  \n",
      "---  ------          --------------  -----  \n",
      " 0   messages_count  3216 non-null   float64\n",
      " 1   mb_used         3216 non-null   float64\n",
      " 2   minutes         3216 non-null   float64\n",
      " 3   tariff          3216 non-null   object \n",
      "dtypes: float64(3), object(1)\n",
      "memory usage: 125.6+ KB\n"
     ]
    }
   ],
   "source": [
    "tmp_paid.info()"
   ]
  },
  {
   "cell_type": "code",
   "execution_count": 47,
   "metadata": {},
   "outputs": [],
   "source": [
    "tmp_paid.loc[tmp_paid['tariff'] == 'smart', ['messages_count','mb_used','minutes']] = (\n",
    "    np.subtract(tmp_paid.loc[tmp_paid['tariff'] == 'smart', ['messages_count','mb_used','minutes']],\n",
    "                tariffs_data.iloc[0,[0,1,2]].values)\n",
    ")"
   ]
  },
  {
   "cell_type": "code",
   "execution_count": 48,
   "metadata": {},
   "outputs": [],
   "source": [
    "tmp_paid.loc[tmp_paid['tariff'] == 'ultra', ['messages_count','mb_used','minutes']] = (\n",
    "    np.subtract(tmp_paid.loc[tmp_paid['tariff'] == 'ultra', ['messages_count','mb_used','minutes']],\n",
    "                tariffs_data.iloc[1,[0,1,2]].values)\n",
    ")"
   ]
  },
  {
   "cell_type": "code",
   "execution_count": 49,
   "metadata": {},
   "outputs": [],
   "source": [
    "tmp_paid.loc[:, ['messages_count','mb_used','minutes']] = np.clip(tmp_paid.loc[:, ['messages_count','mb_used','minutes']], 0, None)"
   ]
  },
  {
   "cell_type": "code",
   "execution_count": 50,
   "metadata": {},
   "outputs": [],
   "source": [
    "tmp_paid['mb_used'] = np.ceil(np.true_divide(tmp_paid['mb_used'], 1024))"
   ]
  },
  {
   "cell_type": "code",
   "execution_count": 51,
   "metadata": {},
   "outputs": [],
   "source": [
    "tmp_paid.loc[tmp_paid['tariff'] == 'smart', 'paid'] = (tmp_paid.loc[tmp_paid['tariff'] == 'smart', ['messages_count','mb_used','minutes']]\n",
    "                    .dot(tariffs_data.iloc[0,[5,4,6]].values)\n",
    "                    + tariffs_data.iloc[0, 3]\n",
    "                   )"
   ]
  },
  {
   "cell_type": "code",
   "execution_count": 52,
   "metadata": {},
   "outputs": [],
   "source": [
    "tmp_paid.loc[tmp_paid['tariff'] == 'ultra', 'paid']  = (tmp_paid.loc[tmp_paid['tariff'] == 'ultra', ['messages_count','mb_used','minutes']]\n",
    "                    .dot(tariffs_data.iloc[1,[5,4,6]].values)\n",
    "                    + tariffs_data.iloc[1, 3]\n",
    "                   )"
   ]
  },
  {
   "cell_type": "code",
   "execution_count": 53,
   "metadata": {},
   "outputs": [],
   "source": [
    "users_paid_monthly['paid'] = pd.to_numeric(tmp_paid['paid'])"
   ]
  },
  {
   "cell_type": "code",
   "execution_count": 54,
   "metadata": {},
   "outputs": [],
   "source": [
    "#users_paid_monthly['paid'] = calc_paid_monthly(users_paid_monthly, tariffs_data)"
   ]
  },
  {
   "cell_type": "code",
   "execution_count": 55,
   "metadata": {},
   "outputs": [
    {
     "data": {
      "text/html": [
       "<div>\n",
       "<style scoped>\n",
       "    .dataframe tbody tr th:only-of-type {\n",
       "        vertical-align: middle;\n",
       "    }\n",
       "\n",
       "    .dataframe tbody tr th {\n",
       "        vertical-align: top;\n",
       "    }\n",
       "\n",
       "    .dataframe thead th {\n",
       "        text-align: right;\n",
       "    }\n",
       "</style>\n",
       "<table border=\"1\" class=\"dataframe\">\n",
       "  <thead>\n",
       "    <tr style=\"text-align: right;\">\n",
       "      <th></th>\n",
       "      <th>user_id</th>\n",
       "      <th>age</th>\n",
       "      <th>churn_date</th>\n",
       "      <th>city</th>\n",
       "      <th>first_name</th>\n",
       "      <th>last_name</th>\n",
       "      <th>reg_date</th>\n",
       "      <th>tariff</th>\n",
       "      <th>month</th>\n",
       "      <th>minutes</th>\n",
       "      <th>calls_count</th>\n",
       "      <th>mb_used</th>\n",
       "      <th>messages_count</th>\n",
       "      <th>paid</th>\n",
       "    </tr>\n",
       "  </thead>\n",
       "  <tbody>\n",
       "    <tr>\n",
       "      <th>0</th>\n",
       "      <td>1000</td>\n",
       "      <td>52</td>\n",
       "      <td>NaN</td>\n",
       "      <td>Краснодар</td>\n",
       "      <td>Рафаил</td>\n",
       "      <td>Верещагин</td>\n",
       "      <td>2018-05-25</td>\n",
       "      <td>ultra</td>\n",
       "      <td>5.0</td>\n",
       "      <td>159.0</td>\n",
       "      <td>22.0</td>\n",
       "      <td>2253.49</td>\n",
       "      <td>22.0</td>\n",
       "      <td>1950</td>\n",
       "    </tr>\n",
       "    <tr>\n",
       "      <th>1</th>\n",
       "      <td>1000</td>\n",
       "      <td>52</td>\n",
       "      <td>NaN</td>\n",
       "      <td>Краснодар</td>\n",
       "      <td>Рафаил</td>\n",
       "      <td>Верещагин</td>\n",
       "      <td>2018-05-25</td>\n",
       "      <td>ultra</td>\n",
       "      <td>6.0</td>\n",
       "      <td>172.0</td>\n",
       "      <td>43.0</td>\n",
       "      <td>23233.77</td>\n",
       "      <td>60.0</td>\n",
       "      <td>1950</td>\n",
       "    </tr>\n",
       "    <tr>\n",
       "      <th>2</th>\n",
       "      <td>1000</td>\n",
       "      <td>52</td>\n",
       "      <td>NaN</td>\n",
       "      <td>Краснодар</td>\n",
       "      <td>Рафаил</td>\n",
       "      <td>Верещагин</td>\n",
       "      <td>2018-05-25</td>\n",
       "      <td>ultra</td>\n",
       "      <td>7.0</td>\n",
       "      <td>340.0</td>\n",
       "      <td>47.0</td>\n",
       "      <td>14003.64</td>\n",
       "      <td>75.0</td>\n",
       "      <td>1950</td>\n",
       "    </tr>\n",
       "    <tr>\n",
       "      <th>3</th>\n",
       "      <td>1000</td>\n",
       "      <td>52</td>\n",
       "      <td>NaN</td>\n",
       "      <td>Краснодар</td>\n",
       "      <td>Рафаил</td>\n",
       "      <td>Верещагин</td>\n",
       "      <td>2018-05-25</td>\n",
       "      <td>ultra</td>\n",
       "      <td>8.0</td>\n",
       "      <td>408.0</td>\n",
       "      <td>52.0</td>\n",
       "      <td>14055.93</td>\n",
       "      <td>81.0</td>\n",
       "      <td>1950</td>\n",
       "    </tr>\n",
       "    <tr>\n",
       "      <th>4</th>\n",
       "      <td>1000</td>\n",
       "      <td>52</td>\n",
       "      <td>NaN</td>\n",
       "      <td>Краснодар</td>\n",
       "      <td>Рафаил</td>\n",
       "      <td>Верещагин</td>\n",
       "      <td>2018-05-25</td>\n",
       "      <td>ultra</td>\n",
       "      <td>9.0</td>\n",
       "      <td>466.0</td>\n",
       "      <td>58.0</td>\n",
       "      <td>14568.91</td>\n",
       "      <td>57.0</td>\n",
       "      <td>1950</td>\n",
       "    </tr>\n",
       "    <tr>\n",
       "      <th>...</th>\n",
       "      <td>...</td>\n",
       "      <td>...</td>\n",
       "      <td>...</td>\n",
       "      <td>...</td>\n",
       "      <td>...</td>\n",
       "      <td>...</td>\n",
       "      <td>...</td>\n",
       "      <td>...</td>\n",
       "      <td>...</td>\n",
       "      <td>...</td>\n",
       "      <td>...</td>\n",
       "      <td>...</td>\n",
       "      <td>...</td>\n",
       "      <td>...</td>\n",
       "    </tr>\n",
       "    <tr>\n",
       "      <th>3211</th>\n",
       "      <td>1498</td>\n",
       "      <td>68</td>\n",
       "      <td>2018-10-25</td>\n",
       "      <td>Владикавказ</td>\n",
       "      <td>Всеволод</td>\n",
       "      <td>Акимчин</td>\n",
       "      <td>2018-07-19</td>\n",
       "      <td>smart</td>\n",
       "      <td>10.0</td>\n",
       "      <td>247.0</td>\n",
       "      <td>41.0</td>\n",
       "      <td>20579.36</td>\n",
       "      <td>42.0</td>\n",
       "      <td>1750</td>\n",
       "    </tr>\n",
       "    <tr>\n",
       "      <th>3212</th>\n",
       "      <td>1499</td>\n",
       "      <td>35</td>\n",
       "      <td>NaN</td>\n",
       "      <td>Пермь</td>\n",
       "      <td>Гектор</td>\n",
       "      <td>Корнилов</td>\n",
       "      <td>2018-09-27</td>\n",
       "      <td>smart</td>\n",
       "      <td>9.0</td>\n",
       "      <td>70.0</td>\n",
       "      <td>9.0</td>\n",
       "      <td>1845.75</td>\n",
       "      <td>11.0</td>\n",
       "      <td>550</td>\n",
       "    </tr>\n",
       "    <tr>\n",
       "      <th>3213</th>\n",
       "      <td>1499</td>\n",
       "      <td>35</td>\n",
       "      <td>NaN</td>\n",
       "      <td>Пермь</td>\n",
       "      <td>Гектор</td>\n",
       "      <td>Корнилов</td>\n",
       "      <td>2018-09-27</td>\n",
       "      <td>smart</td>\n",
       "      <td>10.0</td>\n",
       "      <td>449.0</td>\n",
       "      <td>68.0</td>\n",
       "      <td>17788.51</td>\n",
       "      <td>48.0</td>\n",
       "      <td>1150</td>\n",
       "    </tr>\n",
       "    <tr>\n",
       "      <th>3214</th>\n",
       "      <td>1499</td>\n",
       "      <td>35</td>\n",
       "      <td>NaN</td>\n",
       "      <td>Пермь</td>\n",
       "      <td>Гектор</td>\n",
       "      <td>Корнилов</td>\n",
       "      <td>2018-09-27</td>\n",
       "      <td>smart</td>\n",
       "      <td>11.0</td>\n",
       "      <td>612.0</td>\n",
       "      <td>74.0</td>\n",
       "      <td>17963.31</td>\n",
       "      <td>59.0</td>\n",
       "      <td>1513</td>\n",
       "    </tr>\n",
       "    <tr>\n",
       "      <th>3215</th>\n",
       "      <td>1499</td>\n",
       "      <td>35</td>\n",
       "      <td>NaN</td>\n",
       "      <td>Пермь</td>\n",
       "      <td>Гектор</td>\n",
       "      <td>Корнилов</td>\n",
       "      <td>2018-09-27</td>\n",
       "      <td>smart</td>\n",
       "      <td>12.0</td>\n",
       "      <td>492.0</td>\n",
       "      <td>69.0</td>\n",
       "      <td>13055.58</td>\n",
       "      <td>66.0</td>\n",
       "      <td>598</td>\n",
       "    </tr>\n",
       "  </tbody>\n",
       "</table>\n",
       "<p>3216 rows × 14 columns</p>\n",
       "</div>"
      ],
      "text/plain": [
       "      user_id  age  churn_date         city first_name  last_name   reg_date  \\\n",
       "0        1000   52         NaN    Краснодар     Рафаил  Верещагин 2018-05-25   \n",
       "1        1000   52         NaN    Краснодар     Рафаил  Верещагин 2018-05-25   \n",
       "2        1000   52         NaN    Краснодар     Рафаил  Верещагин 2018-05-25   \n",
       "3        1000   52         NaN    Краснодар     Рафаил  Верещагин 2018-05-25   \n",
       "4        1000   52         NaN    Краснодар     Рафаил  Верещагин 2018-05-25   \n",
       "...       ...  ...         ...          ...        ...        ...        ...   \n",
       "3211     1498   68  2018-10-25  Владикавказ   Всеволод    Акимчин 2018-07-19   \n",
       "3212     1499   35         NaN        Пермь     Гектор   Корнилов 2018-09-27   \n",
       "3213     1499   35         NaN        Пермь     Гектор   Корнилов 2018-09-27   \n",
       "3214     1499   35         NaN        Пермь     Гектор   Корнилов 2018-09-27   \n",
       "3215     1499   35         NaN        Пермь     Гектор   Корнилов 2018-09-27   \n",
       "\n",
       "     tariff  month  minutes  calls_count   mb_used  messages_count  paid  \n",
       "0     ultra    5.0    159.0         22.0   2253.49            22.0  1950  \n",
       "1     ultra    6.0    172.0         43.0  23233.77            60.0  1950  \n",
       "2     ultra    7.0    340.0         47.0  14003.64            75.0  1950  \n",
       "3     ultra    8.0    408.0         52.0  14055.93            81.0  1950  \n",
       "4     ultra    9.0    466.0         58.0  14568.91            57.0  1950  \n",
       "...     ...    ...      ...          ...       ...             ...   ...  \n",
       "3211  smart   10.0    247.0         41.0  20579.36            42.0  1750  \n",
       "3212  smart    9.0     70.0          9.0   1845.75            11.0   550  \n",
       "3213  smart   10.0    449.0         68.0  17788.51            48.0  1150  \n",
       "3214  smart   11.0    612.0         74.0  17963.31            59.0  1513  \n",
       "3215  smart   12.0    492.0         69.0  13055.58            66.0   598  \n",
       "\n",
       "[3216 rows x 14 columns]"
      ]
     },
     "execution_count": 55,
     "metadata": {},
     "output_type": "execute_result"
    }
   ],
   "source": [
    "users_paid_monthly"
   ]
  },
  {
   "cell_type": "markdown",
   "metadata": {},
   "source": [
    "## Анализ данных"
   ]
  },
  {
   "cell_type": "code",
   "execution_count": 56,
   "metadata": {},
   "outputs": [],
   "source": [
    "users_tariff_limits_overwhelm = pd.DataFrame(0,index=['smart', 'ultra'], columns=['calls',  'traffic', 'messages'])"
   ]
  },
  {
   "cell_type": "code",
   "execution_count": 57,
   "metadata": {},
   "outputs": [
    {
     "name": "stdout",
     "output_type": "stream",
     "text": [
      "Mean 417.747533632287, Variance 190.477\n"
     ]
    }
   ],
   "source": [
    "_,_,m,var,_,_= st.describe(users_paid_monthly[users_paid_monthly['tariff'] == 'smart']['minutes'])\n",
    "print(f'Mean {m}, Variance {var**(1/2):.3f}')"
   ]
  },
  {
   "cell_type": "code",
   "execution_count": 58,
   "metadata": {},
   "outputs": [
    {
     "name": "stdout",
     "output_type": "stream",
     "text": [
      "Mean 526.0892494929006, Variance 317.888\n"
     ]
    }
   ],
   "source": [
    "_,_,m,var,_,_= st.describe(users_paid_monthly[users_paid_monthly['tariff'] == 'ultra']['minutes'])\n",
    "print(f'Mean {m}, Variance {var**(1/2):.3f}')"
   ]
  },
  {
   "cell_type": "markdown",
   "metadata": {},
   "source": [
    "### Звонки"
   ]
  },
  {
   "cell_type": "code",
   "execution_count": 59,
   "metadata": {},
   "outputs": [
    {
     "data": {
      "image/png": "[encoded data removed]",
      "text/plain": [
       "<Figure size 1145x1440 with 12 Axes>"
      ]
     },
     "metadata": {
      "needs_background": "light"
     },
     "output_type": "display_data"
    }
   ],
   "source": [
    "g = sns.FacetGrid(users_paid_monthly, col = 'month', col_wrap=3, hue= 'tariff', height=5)\n",
    "_ = g.map(sns.kdeplot, \"minutes\")\n",
    "_ = g.add_legend()"
   ]
  },
  {
   "cell_type": "markdown",
   "metadata": {},
   "source": [
    "Считаю процент пользователей вышедших за лимит"
   ]
  },
  {
   "cell_type": "code",
   "execution_count": 60,
   "metadata": {},
   "outputs": [],
   "source": [
    "norms = users_paid_monthly[users_paid_monthly['tariff'] == 'smart']['minutes'].value_counts(normalize=True).reset_index()\n",
    "users_tariff_limits_overwhelm.loc['smart','calls'] = norms[norms['index'] > 500]['minutes'].sum()"
   ]
  },
  {
   "cell_type": "code",
   "execution_count": 61,
   "metadata": {},
   "outputs": [],
   "source": [
    "norms = users_paid_monthly[users_paid_monthly['tariff'] == 'ultra']['minutes'].value_counts(normalize=True).reset_index()\n",
    "users_tariff_limits_overwhelm.loc['ultra','calls'] = norms[norms['index'] > 3000]['minutes'].sum()"
   ]
  },
  {
   "cell_type": "code",
   "execution_count": 62,
   "metadata": {},
   "outputs": [
    {
     "data": {
      "text/html": [
       "<div>\n",
       "<style scoped>\n",
       "    .dataframe tbody tr th:only-of-type {\n",
       "        vertical-align: middle;\n",
       "    }\n",
       "\n",
       "    .dataframe tbody tr th {\n",
       "        vertical-align: top;\n",
       "    }\n",
       "\n",
       "    .dataframe thead th {\n",
       "        text-align: right;\n",
       "    }\n",
       "</style>\n",
       "<table border=\"1\" class=\"dataframe\">\n",
       "  <thead>\n",
       "    <tr style=\"text-align: right;\">\n",
       "      <th></th>\n",
       "      <th>calls</th>\n",
       "      <th>traffic</th>\n",
       "      <th>messages</th>\n",
       "    </tr>\n",
       "  </thead>\n",
       "  <tbody>\n",
       "    <tr>\n",
       "      <th>smart</th>\n",
       "      <td>0.338117</td>\n",
       "      <td>0</td>\n",
       "      <td>0</td>\n",
       "    </tr>\n",
       "    <tr>\n",
       "      <th>ultra</th>\n",
       "      <td>0.000000</td>\n",
       "      <td>0</td>\n",
       "      <td>0</td>\n",
       "    </tr>\n",
       "  </tbody>\n",
       "</table>\n",
       "</div>"
      ],
      "text/plain": [
       "          calls  traffic  messages\n",
       "smart  0.338117        0         0\n",
       "ultra  0.000000        0         0"
      ]
     },
     "execution_count": 62,
     "metadata": {},
     "output_type": "execute_result"
    }
   ],
   "source": [
    "users_tariff_limits_overwhelm"
   ]
  },
  {
   "cell_type": "code",
   "execution_count": 63,
   "metadata": {},
   "outputs": [
    {
     "data": {
      "text/html": [
       "<div>\n",
       "<style scoped>\n",
       "    .dataframe tbody tr th:only-of-type {\n",
       "        vertical-align: middle;\n",
       "    }\n",
       "\n",
       "    .dataframe tbody tr th {\n",
       "        vertical-align: top;\n",
       "    }\n",
       "\n",
       "    .dataframe thead th {\n",
       "        text-align: right;\n",
       "    }\n",
       "</style>\n",
       "<table border=\"1\" class=\"dataframe\">\n",
       "  <thead>\n",
       "    <tr style=\"text-align: right;\">\n",
       "      <th></th>\n",
       "      <th>messages_included</th>\n",
       "      <th>mb_per_month_included</th>\n",
       "      <th>minutes_included</th>\n",
       "      <th>rub_monthly_fee</th>\n",
       "      <th>rub_per_gb</th>\n",
       "      <th>rub_per_message</th>\n",
       "      <th>rub_per_minute</th>\n",
       "      <th>tariff_name</th>\n",
       "    </tr>\n",
       "  </thead>\n",
       "  <tbody>\n",
       "    <tr>\n",
       "      <th>0</th>\n",
       "      <td>50</td>\n",
       "      <td>15360</td>\n",
       "      <td>500</td>\n",
       "      <td>550</td>\n",
       "      <td>200</td>\n",
       "      <td>3</td>\n",
       "      <td>3</td>\n",
       "      <td>smart</td>\n",
       "    </tr>\n",
       "    <tr>\n",
       "      <th>1</th>\n",
       "      <td>1000</td>\n",
       "      <td>30720</td>\n",
       "      <td>3000</td>\n",
       "      <td>1950</td>\n",
       "      <td>150</td>\n",
       "      <td>1</td>\n",
       "      <td>1</td>\n",
       "      <td>ultra</td>\n",
       "    </tr>\n",
       "  </tbody>\n",
       "</table>\n",
       "</div>"
      ],
      "text/plain": [
       "   messages_included  mb_per_month_included  minutes_included  \\\n",
       "0                 50                  15360               500   \n",
       "1               1000                  30720              3000   \n",
       "\n",
       "   rub_monthly_fee  rub_per_gb  rub_per_message  rub_per_minute tariff_name  \n",
       "0              550         200                3               3       smart  \n",
       "1             1950         150                1               1       ultra  "
      ]
     },
     "execution_count": 63,
     "metadata": {},
     "output_type": "execute_result"
    }
   ],
   "source": [
    "tariffs_data"
   ]
  },
  {
   "cell_type": "markdown",
   "metadata": {},
   "source": [
    "Распределения близки к нормальному."
   ]
  },
  {
   "cell_type": "markdown",
   "metadata": {},
   "source": [
    "Пользователей тарифа смарт имеют среднее время разговора в 400 минут, 33% пользователей переходит за границу в 500 минут."
   ]
  },
  {
   "cell_type": "markdown",
   "metadata": {},
   "source": [
    "Пользователи тарифа ультра имют среднее время разговора в 550 минут, никто не выходит за границу 3000 минут разговора."
   ]
  },
  {
   "cell_type": "markdown",
   "metadata": {},
   "source": [
    "### Интернет траффик"
   ]
  },
  {
   "cell_type": "code",
   "execution_count": 64,
   "metadata": {},
   "outputs": [],
   "source": [
    "users_paid_monthly['gb_used'] = np.ceil(np.true_divide(users_paid_monthly['mb_used'], 1024))"
   ]
  },
  {
   "cell_type": "code",
   "execution_count": 65,
   "metadata": {},
   "outputs": [
    {
     "name": "stdout",
     "output_type": "stream",
     "text": [
      "Mean 16.32152466367713, Variance 5.756\n"
     ]
    }
   ],
   "source": [
    "_,_,m,var,_,_= st.describe(users_paid_monthly[users_paid_monthly['tariff'] == 'smart']['gb_used'])\n",
    "print(f'Mean {m}, Variance {var**(1/2):.3f}')"
   ]
  },
  {
   "cell_type": "code",
   "execution_count": 66,
   "metadata": {},
   "outputs": [
    {
     "name": "stdout",
     "output_type": "stream",
     "text": [
      "Mean 19.474645030425965, Variance 9.868\n"
     ]
    }
   ],
   "source": [
    "_,_,m,var,_,_= st.describe(users_paid_monthly[users_paid_monthly['tariff'] == 'ultra']['gb_used'])\n",
    "print(f'Mean {m}, Variance {var**(1/2):.3f}')"
   ]
  },
  {
   "cell_type": "code",
   "execution_count": 67,
   "metadata": {},
   "outputs": [
    {
     "data": {
      "image/png": "[encoded data removed]",
      "text/plain": [
       "<Figure size 1145x1440 with 12 Axes>"
      ]
     },
     "metadata": {
      "needs_background": "light"
     },
     "output_type": "display_data"
    }
   ],
   "source": [
    "g = sns.FacetGrid(users_paid_monthly, col = 'month', col_wrap=3, hue= 'tariff', height=5)\n",
    "_ = g.map(sns.kdeplot, \"gb_used\")\n",
    "_ = g.add_legend()"
   ]
  },
  {
   "cell_type": "code",
   "execution_count": 68,
   "metadata": {},
   "outputs": [],
   "source": [
    "norms = users_paid_monthly[users_paid_monthly['tariff'] == 'smart']['gb_used'].value_counts(normalize=True).reset_index()\n",
    "users_tariff_limits_overwhelm.loc['smart','traffic'] = norms[norms['index'] > 15]['gb_used'].sum()"
   ]
  },
  {
   "cell_type": "code",
   "execution_count": 69,
   "metadata": {},
   "outputs": [],
   "source": [
    "norms = users_paid_monthly[users_paid_monthly['tariff'] == 'ultra']['gb_used'].value_counts(normalize=True).reset_index()\n",
    "users_tariff_limits_overwhelm.loc['ultra','traffic']  = norms[norms['index'] > 30]['gb_used'].sum()"
   ]
  },
  {
   "cell_type": "code",
   "execution_count": 70,
   "metadata": {},
   "outputs": [
    {
     "data": {
      "text/html": [
       "<div>\n",
       "<style scoped>\n",
       "    .dataframe tbody tr th:only-of-type {\n",
       "        vertical-align: middle;\n",
       "    }\n",
       "\n",
       "    .dataframe tbody tr th {\n",
       "        vertical-align: top;\n",
       "    }\n",
       "\n",
       "    .dataframe thead th {\n",
       "        text-align: right;\n",
       "    }\n",
       "</style>\n",
       "<table border=\"1\" class=\"dataframe\">\n",
       "  <thead>\n",
       "    <tr style=\"text-align: right;\">\n",
       "      <th></th>\n",
       "      <th>calls</th>\n",
       "      <th>traffic</th>\n",
       "      <th>messages</th>\n",
       "    </tr>\n",
       "  </thead>\n",
       "  <tbody>\n",
       "    <tr>\n",
       "      <th>smart</th>\n",
       "      <td>0.338117</td>\n",
       "      <td>0.584753</td>\n",
       "      <td>0</td>\n",
       "    </tr>\n",
       "    <tr>\n",
       "      <th>ultra</th>\n",
       "      <td>0.000000</td>\n",
       "      <td>0.135903</td>\n",
       "      <td>0</td>\n",
       "    </tr>\n",
       "  </tbody>\n",
       "</table>\n",
       "</div>"
      ],
      "text/plain": [
       "          calls   traffic  messages\n",
       "smart  0.338117  0.584753         0\n",
       "ultra  0.000000  0.135903         0"
      ]
     },
     "execution_count": 70,
     "metadata": {},
     "output_type": "execute_result"
    }
   ],
   "source": [
    "users_tariff_limits_overwhelm"
   ]
  },
  {
   "cell_type": "code",
   "execution_count": 71,
   "metadata": {},
   "outputs": [
    {
     "data": {
      "text/html": [
       "<div>\n",
       "<style scoped>\n",
       "    .dataframe tbody tr th:only-of-type {\n",
       "        vertical-align: middle;\n",
       "    }\n",
       "\n",
       "    .dataframe tbody tr th {\n",
       "        vertical-align: top;\n",
       "    }\n",
       "\n",
       "    .dataframe thead th {\n",
       "        text-align: right;\n",
       "    }\n",
       "</style>\n",
       "<table border=\"1\" class=\"dataframe\">\n",
       "  <thead>\n",
       "    <tr style=\"text-align: right;\">\n",
       "      <th></th>\n",
       "      <th>messages_included</th>\n",
       "      <th>mb_per_month_included</th>\n",
       "      <th>minutes_included</th>\n",
       "      <th>rub_monthly_fee</th>\n",
       "      <th>rub_per_gb</th>\n",
       "      <th>rub_per_message</th>\n",
       "      <th>rub_per_minute</th>\n",
       "      <th>tariff_name</th>\n",
       "    </tr>\n",
       "  </thead>\n",
       "  <tbody>\n",
       "    <tr>\n",
       "      <th>0</th>\n",
       "      <td>50</td>\n",
       "      <td>15360</td>\n",
       "      <td>500</td>\n",
       "      <td>550</td>\n",
       "      <td>200</td>\n",
       "      <td>3</td>\n",
       "      <td>3</td>\n",
       "      <td>smart</td>\n",
       "    </tr>\n",
       "    <tr>\n",
       "      <th>1</th>\n",
       "      <td>1000</td>\n",
       "      <td>30720</td>\n",
       "      <td>3000</td>\n",
       "      <td>1950</td>\n",
       "      <td>150</td>\n",
       "      <td>1</td>\n",
       "      <td>1</td>\n",
       "      <td>ultra</td>\n",
       "    </tr>\n",
       "  </tbody>\n",
       "</table>\n",
       "</div>"
      ],
      "text/plain": [
       "   messages_included  mb_per_month_included  minutes_included  \\\n",
       "0                 50                  15360               500   \n",
       "1               1000                  30720              3000   \n",
       "\n",
       "   rub_monthly_fee  rub_per_gb  rub_per_message  rub_per_minute tariff_name  \n",
       "0              550         200                3               3       smart  \n",
       "1             1950         150                1               1       ultra  "
      ]
     },
     "execution_count": 71,
     "metadata": {},
     "output_type": "execute_result"
    }
   ],
   "source": [
    "tariffs_data"
   ]
  },
  {
   "cell_type": "markdown",
   "metadata": {},
   "source": [
    "Распределения близки к нормальному."
   ]
  },
  {
   "cell_type": "markdown",
   "metadata": {},
   "source": [
    "Пользователи тарифа смарт в среднем потребляют 16гю трафика и имеют дисперсию в 10гб. В среднем 58% пользователей превышают лимит в 15гб, при среднем потреблении в 16гб трафика."
   ]
  },
  {
   "cell_type": "markdown",
   "metadata": {},
   "source": [
    "Пользователи ультра в среднем потребляют 19гб трафика и имеют в два раза большую дисперсию в 10гб. В среднем 13% пользователей ультра превышают лимит в 30гб."
   ]
  },
  {
   "cell_type": "markdown",
   "metadata": {},
   "source": [
    "В 5, 6, 9, 12 месяц, графики распределения трафика имеют 2 точки экстремума, возможно пользователей тарифа ультра можно разделить на 2 различные группы по потребностям в трафике. "
   ]
  },
  {
   "cell_type": "markdown",
   "metadata": {},
   "source": [
    "### Смс сообщения"
   ]
  },
  {
   "cell_type": "code",
   "execution_count": 72,
   "metadata": {},
   "outputs": [
    {
     "name": "stdout",
     "output_type": "stream",
     "text": [
      "Mean 33.36905829596412, Variance 28.230\n"
     ]
    }
   ],
   "source": [
    "_,_,m,var,_,_= st.describe(users_paid_monthly[users_paid_monthly['tariff'] == 'smart']['messages_count'])\n",
    "print(f'Mean {m}, Variance {var**(1/2):.3f}')"
   ]
  },
  {
   "cell_type": "code",
   "execution_count": 73,
   "metadata": {},
   "outputs": [
    {
     "name": "stdout",
     "output_type": "stream",
     "text": [
      "Mean 49.31338742393509, Variance 47.806\n"
     ]
    }
   ],
   "source": [
    "_,_,m,var,_,_= st.describe(users_paid_monthly[users_paid_monthly['tariff'] == 'ultra']['messages_count'])\n",
    "print(f'Mean {m}, Variance {var**(1/2):.3f}')"
   ]
  },
  {
   "cell_type": "code",
   "execution_count": 74,
   "metadata": {},
   "outputs": [
    {
     "data": {
      "image/png": "[encoded data removed]",
      "text/plain": [
       "<Figure size 1145x1440 with 12 Axes>"
      ]
     },
     "metadata": {
      "needs_background": "light"
     },
     "output_type": "display_data"
    }
   ],
   "source": [
    "g = sns.FacetGrid(users_paid_monthly, col = 'month', col_wrap=3, hue= 'tariff', height=5)\n",
    "_ = g.map(sns.kdeplot, \"messages_count\")\n",
    "_ = g.add_legend()"
   ]
  },
  {
   "cell_type": "code",
   "execution_count": 75,
   "metadata": {},
   "outputs": [],
   "source": [
    "norms = users_paid_monthly[users_paid_monthly['tariff'] == 'smart']['messages_count'].value_counts(normalize=True).reset_index()\n",
    "users_tariff_limits_overwhelm.loc['smart','messages'] = norms[norms['index'] > 50]['messages_count'].sum()"
   ]
  },
  {
   "cell_type": "code",
   "execution_count": 76,
   "metadata": {},
   "outputs": [],
   "source": [
    "norms = users_paid_monthly[users_paid_monthly['tariff'] == 'ultra']['messages_count'].value_counts(normalize=True).reset_index()\n",
    "users_tariff_limits_overwhelm.loc['ultra','messages'] = norms[norms['index'] > 1000]['messages_count'].sum()"
   ]
  },
  {
   "cell_type": "code",
   "execution_count": 77,
   "metadata": {},
   "outputs": [
    {
     "data": {
      "text/html": [
       "<div>\n",
       "<style scoped>\n",
       "    .dataframe tbody tr th:only-of-type {\n",
       "        vertical-align: middle;\n",
       "    }\n",
       "\n",
       "    .dataframe tbody tr th {\n",
       "        vertical-align: top;\n",
       "    }\n",
       "\n",
       "    .dataframe thead th {\n",
       "        text-align: right;\n",
       "    }\n",
       "</style>\n",
       "<table border=\"1\" class=\"dataframe\">\n",
       "  <thead>\n",
       "    <tr style=\"text-align: right;\">\n",
       "      <th></th>\n",
       "      <th>calls</th>\n",
       "      <th>traffic</th>\n",
       "      <th>messages</th>\n",
       "    </tr>\n",
       "  </thead>\n",
       "  <tbody>\n",
       "    <tr>\n",
       "      <th>smart</th>\n",
       "      <td>0.338117</td>\n",
       "      <td>0.584753</td>\n",
       "      <td>0.252915</td>\n",
       "    </tr>\n",
       "    <tr>\n",
       "      <th>ultra</th>\n",
       "      <td>0.000000</td>\n",
       "      <td>0.135903</td>\n",
       "      <td>0.000000</td>\n",
       "    </tr>\n",
       "  </tbody>\n",
       "</table>\n",
       "</div>"
      ],
      "text/plain": [
       "          calls   traffic  messages\n",
       "smart  0.338117  0.584753  0.252915\n",
       "ultra  0.000000  0.135903  0.000000"
      ]
     },
     "execution_count": 77,
     "metadata": {},
     "output_type": "execute_result"
    }
   ],
   "source": [
    "users_tariff_limits_overwhelm"
   ]
  },
  {
   "cell_type": "code",
   "execution_count": 78,
   "metadata": {},
   "outputs": [
    {
     "data": {
      "text/html": [
       "<div>\n",
       "<style scoped>\n",
       "    .dataframe tbody tr th:only-of-type {\n",
       "        vertical-align: middle;\n",
       "    }\n",
       "\n",
       "    .dataframe tbody tr th {\n",
       "        vertical-align: top;\n",
       "    }\n",
       "\n",
       "    .dataframe thead th {\n",
       "        text-align: right;\n",
       "    }\n",
       "</style>\n",
       "<table border=\"1\" class=\"dataframe\">\n",
       "  <thead>\n",
       "    <tr style=\"text-align: right;\">\n",
       "      <th></th>\n",
       "      <th>messages_included</th>\n",
       "      <th>mb_per_month_included</th>\n",
       "      <th>minutes_included</th>\n",
       "      <th>rub_monthly_fee</th>\n",
       "      <th>rub_per_gb</th>\n",
       "      <th>rub_per_message</th>\n",
       "      <th>rub_per_minute</th>\n",
       "      <th>tariff_name</th>\n",
       "    </tr>\n",
       "  </thead>\n",
       "  <tbody>\n",
       "    <tr>\n",
       "      <th>0</th>\n",
       "      <td>50</td>\n",
       "      <td>15360</td>\n",
       "      <td>500</td>\n",
       "      <td>550</td>\n",
       "      <td>200</td>\n",
       "      <td>3</td>\n",
       "      <td>3</td>\n",
       "      <td>smart</td>\n",
       "    </tr>\n",
       "    <tr>\n",
       "      <th>1</th>\n",
       "      <td>1000</td>\n",
       "      <td>30720</td>\n",
       "      <td>3000</td>\n",
       "      <td>1950</td>\n",
       "      <td>150</td>\n",
       "      <td>1</td>\n",
       "      <td>1</td>\n",
       "      <td>ultra</td>\n",
       "    </tr>\n",
       "  </tbody>\n",
       "</table>\n",
       "</div>"
      ],
      "text/plain": [
       "   messages_included  mb_per_month_included  minutes_included  \\\n",
       "0                 50                  15360               500   \n",
       "1               1000                  30720              3000   \n",
       "\n",
       "   rub_monthly_fee  rub_per_gb  rub_per_message  rub_per_minute tariff_name  \n",
       "0              550         200                3               3       smart  \n",
       "1             1950         150                1               1       ultra  "
      ]
     },
     "execution_count": 78,
     "metadata": {},
     "output_type": "execute_result"
    }
   ],
   "source": [
    "tariffs_data"
   ]
  },
  {
   "cell_type": "markdown",
   "metadata": {},
   "source": [
    "Распределения близки к нормальному"
   ]
  },
  {
   "cell_type": "markdown",
   "metadata": {},
   "source": [
    "На графиках распределение видно как среднее число сообщений у пользователей тарифа смарт смещается в сторону ограничения в 50 сообщений. В среднем 25% пользователей смарт превышают лимит в 50 сообщений."
   ]
  },
  {
   "cell_type": "markdown",
   "metadata": {},
   "source": [
    "У пользователей ультра такого смещения нет и значения больше соответсвуют естественным потребностям пользователей, никто из пользователей ультра не превышает лимита."
   ]
  },
  {
   "cell_type": "markdown",
   "metadata": {},
   "source": [
    "## Гипотезы"
   ]
  },
  {
   "cell_type": "markdown",
   "metadata": {},
   "source": [
    "### Cредняя выручка пользователей тарифов «Ультра» и «Смарт» различаются."
   ]
  },
  {
   "cell_type": "markdown",
   "metadata": {},
   "source": [
    "Предпологаю что у тарифа смарт и ультра различные дисперсии. В тарифе смарт проще превысить ограничения по рессурсам. Т.к. дисперсия возникает в результате, таких превышений, дисперсия тарифа ультра должна быть меньше чем у тарифа смарт. Также выборки разного размера."
   ]
  },
  {
   "cell_type": "code",
   "execution_count": 79,
   "metadata": {},
   "outputs": [
    {
     "data": {
      "text/plain": [
       "smart    2230\n",
       "ultra     986\n",
       "Name: tariff, dtype: int64"
      ]
     },
     "execution_count": 79,
     "metadata": {},
     "output_type": "execute_result"
    }
   ],
   "source": [
    "users_paid_monthly['tariff'].value_counts()"
   ]
  },
  {
   "cell_type": "code",
   "execution_count": 80,
   "metadata": {},
   "outputs": [
    {
     "data": {
      "text/plain": [
       "1289.6417040358745"
      ]
     },
     "execution_count": 80,
     "metadata": {},
     "output_type": "execute_result"
    }
   ],
   "source": [
    "users_paid_monthly[users_paid_monthly['tariff'] == 'smart']['paid'].mean()"
   ]
  },
  {
   "cell_type": "code",
   "execution_count": 81,
   "metadata": {},
   "outputs": [
    {
     "data": {
      "text/plain": [
       "2070.030425963489"
      ]
     },
     "execution_count": 81,
     "metadata": {},
     "output_type": "execute_result"
    }
   ],
   "source": [
    "users_paid_monthly[users_paid_monthly['tariff'] == 'ultra']['paid'].mean()"
   ]
  },
  {
   "cell_type": "markdown",
   "metadata": {},
   "source": [
    "H0 - средняя выручка пользователей тарифов «Ультра» и «Смарт» не различаются. H1 - средняя выручка отличается отличается. Альфа 10%"
   ]
  },
  {
   "cell_type": "code",
   "execution_count": 82,
   "metadata": {},
   "outputs": [
    {
     "name": "stdout",
     "output_type": "stream",
     "text": [
      "p-value 1.927011394420941e-250\n",
      "Отвергаем нулевую гипотезу\n"
     ]
    }
   ],
   "source": [
    "alpha = 0.1\n",
    "a1 = users_paid_monthly[users_paid_monthly['tariff'] == 'smart']['paid'].values\n",
    "a2 = users_paid_monthly[users_paid_monthly['tariff'] == 'ultra']['paid'].values\n",
    "test_res = st.ttest_ind(a1, a2,equal_var = False)\n",
    "\n",
    "print('p-value',test_res.pvalue)\n",
    "\n",
    "if test_res.pvalue < alpha:\n",
    "    print(\"Отвергаем нулевую гипотезу\")\n",
    "else:\n",
    "    print(\"Не получилось отвергнуть нулевую гипотезу\") "
   ]
  },
  {
   "cell_type": "markdown",
   "metadata": {},
   "source": [
    "Вероятность случайного получения таких выборочных средних как наши равна 1.0280667202187211e-244, согласно p-value. Следовательно мы отвергаем нулевую гипотезу и предпологаем что средняя выручка пользователей тарифа ультра значительно больше."
   ]
  },
  {
   "cell_type": "markdown",
   "metadata": {},
   "source": [
    "Для меня это вполне логично, у тарифов разная целевая аудитория с разным изначальным вектором поведения. Один тариф имеет своей целью экономить, другой иметь запас по рессурсу и стабильную плату в месяц. Ограничения тарифов конечно сглаживают эту разницу. Но если сглаживать ее настолько что средняя выручка станет одинаковой, то какой смысл иметь 2 разных тарифа, то же верно и для среднего пользователя тарифа, он не увидит разницы."
   ]
  },
  {
   "cell_type": "markdown",
   "metadata": {},
   "source": [
    "### Cредняя выручка пользователей из Москвы отличается от выручки пользователей из других регионов."
   ]
  },
  {
   "cell_type": "markdown",
   "metadata": {},
   "source": [
    "Предполагаю что у совокупностей разная дисперсия т.к Москва и солянка из остальных городов отличаются уже хотя бы предпочтением к тарифам. Также выборки разных размеров."
   ]
  },
  {
   "cell_type": "code",
   "execution_count": 83,
   "metadata": {},
   "outputs": [
    {
     "data": {
      "text/html": [
       "<div>\n",
       "<style scoped>\n",
       "    .dataframe tbody tr th:only-of-type {\n",
       "        vertical-align: middle;\n",
       "    }\n",
       "\n",
       "    .dataframe tbody tr th {\n",
       "        vertical-align: top;\n",
       "    }\n",
       "\n",
       "    .dataframe thead th {\n",
       "        text-align: right;\n",
       "    }\n",
       "</style>\n",
       "<table border=\"1\" class=\"dataframe\">\n",
       "  <thead>\n",
       "    <tr style=\"text-align: right;\">\n",
       "      <th>tariff</th>\n",
       "      <th>smart</th>\n",
       "      <th>ultra</th>\n",
       "    </tr>\n",
       "    <tr>\n",
       "      <th>msk</th>\n",
       "      <th></th>\n",
       "      <th></th>\n",
       "    </tr>\n",
       "  </thead>\n",
       "  <tbody>\n",
       "    <tr>\n",
       "      <th>False</th>\n",
       "      <td>1844</td>\n",
       "      <td>761</td>\n",
       "    </tr>\n",
       "    <tr>\n",
       "      <th>True</th>\n",
       "      <td>386</td>\n",
       "      <td>225</td>\n",
       "    </tr>\n",
       "  </tbody>\n",
       "</table>\n",
       "</div>"
      ],
      "text/plain": [
       "tariff  smart  ultra\n",
       "msk                 \n",
       "False    1844    761\n",
       "True      386    225"
      ]
     },
     "execution_count": 83,
     "metadata": {},
     "output_type": "execute_result"
    }
   ],
   "source": [
    "users_paid_monthly['msk'] = users_paid_monthly['city'] == 'Москва'\n",
    "users_paid_monthly.pivot_table(index='msk',columns='tariff', values='user_id', aggfunc='count')"
   ]
  },
  {
   "cell_type": "code",
   "execution_count": 84,
   "metadata": {},
   "outputs": [
    {
     "data": {
      "text/plain": [
       "1546.7135842880523"
      ]
     },
     "execution_count": 84,
     "metadata": {},
     "output_type": "execute_result"
    }
   ],
   "source": [
    "users_paid_monthly[users_paid_monthly['msk'] == True]['paid'].mean()"
   ]
  },
  {
   "cell_type": "code",
   "execution_count": 85,
   "metadata": {},
   "outputs": [
    {
     "data": {
      "text/plain": [
       "1524.7251439539348"
      ]
     },
     "execution_count": 85,
     "metadata": {},
     "output_type": "execute_result"
    }
   ],
   "source": [
    "users_paid_monthly[users_paid_monthly['msk'] == False]['paid'].mean()"
   ]
  },
  {
   "cell_type": "markdown",
   "metadata": {},
   "source": [
    "H0 - средняя выручка пользователей из Москвы не отличается от выручки пользователей из других регионов. H1 - средняя выручка отличается. Альфа 10%"
   ]
  },
  {
   "cell_type": "code",
   "execution_count": 86,
   "metadata": {},
   "outputs": [
    {
     "name": "stdout",
     "output_type": "stream",
     "text": [
      "p-value 0.5216952110000278\n",
      "Не получилось отвергнуть нулевую гипотезу\n"
     ]
    }
   ],
   "source": [
    "alpha = 0.1\n",
    "a1 = users_paid_monthly[users_paid_monthly['msk'] == True]['paid'].values\n",
    "a2 = users_paid_monthly[users_paid_monthly['msk'] == False]['paid'].values\n",
    "test_res = st.ttest_ind(a1, a2,equal_var = False)\n",
    "\n",
    "print('p-value',test_res.pvalue)\n",
    "\n",
    "if test_res.pvalue < alpha:\n",
    "    print(\"Отвергаем нулевую гипотезу\")\n",
    "else:\n",
    "    print(\"Не получилось отвергнуть нулевую гипотезу\") "
   ]
  },
  {
   "cell_type": "markdown",
   "metadata": {},
   "source": [
    "Вероятность случайно получить такие средние как у нас 44%, отвергнуть нулевую гипотезу не получается из за не репрезентативности нашей выборки в отношении средней выручки в мск и регионах. Отвергнуть нулевую гипотезу по этой выборке нельзя."
   ]
  },
  {
   "cell_type": "markdown",
   "metadata": {},
   "source": [
    "Одинаковые средние показатели выручки для реигонов и мск для меня не логичны. Пользователи регионов и столицы отличаются моделью поведения в отношении интернет трафика и общения. Так же в предпочтении одного тарифа другому. Хотя значительной разницы в пользовании тарифами на графиках нет. Видно что пользователи тарифа ультра из Москвы чаще превышают лимиты этого тарифа. Возможно среди них есть потребность в более расширенном тарифе."
   ]
  },
  {
   "cell_type": "code",
   "execution_count": 87,
   "metadata": {},
   "outputs": [
    {
     "name": "stdout",
     "output_type": "stream",
     "text": [
      "<class 'pandas.core.frame.DataFrame'>\n",
      "Int64Index: 3216 entries, 0 to 3215\n",
      "Data columns (total 16 columns):\n",
      " #   Column          Non-Null Count  Dtype         \n",
      "---  ------          --------------  -----         \n",
      " 0   user_id         3216 non-null   int64         \n",
      " 1   age             3216 non-null   int64         \n",
      " 2   churn_date      189 non-null    object        \n",
      " 3   city            3216 non-null   object        \n",
      " 4   first_name      3216 non-null   object        \n",
      " 5   last_name       3216 non-null   object        \n",
      " 6   reg_date        3216 non-null   datetime64[ns]\n",
      " 7   tariff          3216 non-null   object        \n",
      " 8   month           3214 non-null   float64       \n",
      " 9   minutes         3216 non-null   float64       \n",
      " 10  calls_count     3216 non-null   float64       \n",
      " 11  mb_used         3216 non-null   float64       \n",
      " 12  messages_count  3216 non-null   float64       \n",
      " 13  paid            3216 non-null   int64         \n",
      " 14  gb_used         3216 non-null   float64       \n",
      " 15  msk             3216 non-null   bool          \n",
      "dtypes: bool(1), datetime64[ns](1), float64(6), int64(3), object(5)\n",
      "memory usage: 405.1+ KB\n"
     ]
    }
   ],
   "source": [
    "users_paid_monthly.info()"
   ]
  },
  {
   "cell_type": "code",
   "execution_count": 88,
   "metadata": {},
   "outputs": [
    {
     "data": {
      "image/png": "[encoded data removed]",
      "text/plain": [
       "<Figure size 781.25x360 with 2 Axes>"
      ]
     },
     "metadata": {
      "needs_background": "light"
     },
     "output_type": "display_data"
    }
   ],
   "source": [
    "g = sns.FacetGrid(users_paid_monthly, col = 'tariff', hue= 'msk', height=5)\n",
    "_ = g.map(sns.kdeplot, 'paid')\n",
    "_ = g.add_legend()"
   ]
  },
  {
   "cell_type": "markdown",
   "metadata": {},
   "source": [
    "## Вывод"
   ]
  },
  {
   "cell_type": "code",
   "execution_count": 89,
   "metadata": {},
   "outputs": [
    {
     "data": {
      "text/plain": [
       "2875901"
      ]
     },
     "execution_count": 89,
     "metadata": {},
     "output_type": "execute_result"
    }
   ],
   "source": [
    "users_paid_monthly[users_paid_monthly['tariff'] == 'smart']['paid'].sum()"
   ]
  },
  {
   "cell_type": "code",
   "execution_count": 90,
   "metadata": {},
   "outputs": [
    {
     "data": {
      "text/plain": [
       "2230"
      ]
     },
     "execution_count": 90,
     "metadata": {},
     "output_type": "execute_result"
    }
   ],
   "source": [
    "users_paid_monthly[users_paid_monthly['tariff'] == 'smart']['paid'].count()"
   ]
  },
  {
   "cell_type": "code",
   "execution_count": 91,
   "metadata": {
    "scrolled": true
   },
   "outputs": [
    {
     "data": {
      "text/plain": [
       "2041050"
      ]
     },
     "execution_count": 91,
     "metadata": {},
     "output_type": "execute_result"
    }
   ],
   "source": [
    "users_paid_monthly[users_paid_monthly['tariff'] == 'ultra']['paid'].sum()"
   ]
  },
  {
   "cell_type": "code",
   "execution_count": 92,
   "metadata": {},
   "outputs": [
    {
     "data": {
      "text/plain": [
       "986"
      ]
     },
     "execution_count": 92,
     "metadata": {},
     "output_type": "execute_result"
    }
   ],
   "source": [
    "users_paid_monthly[users_paid_monthly['tariff'] == 'ultra']['paid'].count()"
   ]
  },
  {
   "cell_type": "markdown",
   "metadata": {},
   "source": [
    "В среднем пользователь тарифа ультра приносит 2100р, пользователь тарифа смарт 1200р. \n",
    "\n",
    "Годовая выручка с тарифа ультра 1969500 при 951 пользователе тарифа.\n",
    "\n",
    "Годовая выручка с тарифа смарт 2869651 при 2223 пользователе тарифа."
   ]
  },
  {
   "cell_type": "markdown",
   "metadata": {},
   "source": [
    "Гипотезы:\n",
    "\n",
    "    Средняя выручка пользователей тарифов «Ультра» и «Смарт» различаются, гипотеза подтвердилась, выручка пользователей ультра почти в 2 раза больше.\n",
    "    \n",
    "    Средняя выручка пользователей из Москвы отличается от выручки пользователей из других регионов: гипотеза не подтвердилась, согласно имеющейся выборке вероятность получить такое распределение средних как у нас, случайно, превышает 44%, по этому отвергнуть нулевую гипотезу о равенстве средних не получается.\n",
    "    \n",
    "Средние показатели пользователей смарт:\n",
    "\n",
    "    Cреднее время разговора 400 минут, 33% пользователей переходит за границу тарифа в 500 минут.\n",
    "\n",
    "    Среднее потребление трафика 16гб, дисперсия в 10гб. В среднем 58% пользователей превышают лимит в 15гб.\n",
    "    \n",
    "    На графиках распределение видно как среднее число сообщений смещается в сторону ограничения в 50 сообщений. В среднем 25% пользователей смарт превышают лимит в 50 сообщений.\n",
    "    \n",
    "Средние показатели пользователей ультра:\n",
    "    \n",
    "    Среднее время разговора 550 минут, никто не выходит за границу 3000 минут разговора.\n",
    "\n",
    "    Среднее потребление трафика 19гб и в два раза большую дисперсию в 10гб. В среднем 13% пользователей превышают лимит в 30гб.\n",
    "\n",
    "    У пользователей ультра смещения в сторону ограничения по сообщениям нет и значения больше соответсвуют естественным потребностям пользователей, никто из пользователей ультра не превышает лимита.\n",
    "\n",
    "Наблюдения: \n",
    "    \n",
    "    В ходе исследования обнаружилось что среди пользователей тарифа ультра, можно выделить большую группу пользователей с потребностями отличающимися от других, на графиках потребления трафика в некоторые месяцы видно что распределение пользователей ультра делится на два, с 2мя центрами.\n",
    "    \n",
    "Рекомендация:\n",
    "    \n",
    "    Расширить лимиты в тарифе смарт в первую очередь по сообщениям, если будет наблюдатся отток пользователей тарифа смарт, как на выборке."
   ]
  }
 ],
 "metadata": {
  "ExecuteTimeLog": [
   {
    "duration": 865,
    "start_time": "2022-04-06T12:01:04.085Z"
   },
   {
    "duration": 104,
    "start_time": "2022-04-06T12:05:43.182Z"
   },
   {
    "duration": 380,
    "start_time": "2022-04-06T12:06:08.787Z"
   },
   {
    "duration": 17,
    "start_time": "2022-04-06T12:06:22.237Z"
   },
   {
    "duration": 10,
    "start_time": "2022-04-06T12:08:31.187Z"
   },
   {
    "duration": 8,
    "start_time": "2022-04-06T12:09:11.213Z"
   },
   {
    "duration": 9,
    "start_time": "2022-04-06T12:09:31.044Z"
   },
   {
    "duration": 13,
    "start_time": "2022-04-06T12:10:11.061Z"
   },
   {
    "duration": 32,
    "start_time": "2022-04-06T12:12:36.111Z"
   },
   {
    "duration": 45,
    "start_time": "2022-04-06T12:17:27.815Z"
   },
   {
    "duration": 29,
    "start_time": "2022-04-06T12:17:36.101Z"
   },
   {
    "duration": 12,
    "start_time": "2022-04-06T12:18:20.239Z"
   },
   {
    "duration": 16,
    "start_time": "2022-04-06T12:18:28.522Z"
   },
   {
    "duration": 31,
    "start_time": "2022-04-06T12:18:42.973Z"
   },
   {
    "duration": 10,
    "start_time": "2022-04-06T12:19:16.899Z"
   },
   {
    "duration": 9,
    "start_time": "2022-04-06T12:19:20.789Z"
   },
   {
    "duration": 23,
    "start_time": "2022-04-06T12:19:23.602Z"
   },
   {
    "duration": 26,
    "start_time": "2022-04-06T12:19:53.462Z"
   },
   {
    "duration": 25,
    "start_time": "2022-04-06T12:20:34.600Z"
   },
   {
    "duration": 8,
    "start_time": "2022-04-06T12:21:50.589Z"
   },
   {
    "duration": 31,
    "start_time": "2022-04-06T12:22:01.652Z"
   },
   {
    "duration": 24,
    "start_time": "2022-04-06T12:22:35.070Z"
   },
   {
    "duration": 3,
    "start_time": "2022-04-06T12:23:03.222Z"
   },
   {
    "duration": 26,
    "start_time": "2022-04-06T12:23:03.725Z"
   },
   {
    "duration": 9,
    "start_time": "2022-04-06T12:23:03.929Z"
   },
   {
    "duration": 27,
    "start_time": "2022-04-06T12:23:04.121Z"
   },
   {
    "duration": 24,
    "start_time": "2022-04-06T12:23:05.684Z"
   },
   {
    "duration": 9,
    "start_time": "2022-04-06T12:23:06.578Z"
   },
   {
    "duration": 8,
    "start_time": "2022-04-06T12:23:16.330Z"
   },
   {
    "duration": 22,
    "start_time": "2022-04-06T12:23:54.017Z"
   },
   {
    "duration": 9,
    "start_time": "2022-04-06T12:24:37.410Z"
   },
   {
    "duration": 12,
    "start_time": "2022-04-06T12:25:14.675Z"
   },
   {
    "duration": 14,
    "start_time": "2022-04-06T12:25:55.005Z"
   },
   {
    "duration": 12,
    "start_time": "2022-04-06T12:26:03.962Z"
   },
   {
    "duration": 8,
    "start_time": "2022-04-06T12:26:15.509Z"
   },
   {
    "duration": 2,
    "start_time": "2022-04-06T12:29:56.836Z"
   },
   {
    "duration": 8,
    "start_time": "2022-04-06T12:31:14.246Z"
   },
   {
    "duration": 13,
    "start_time": "2022-04-06T12:31:21.601Z"
   },
   {
    "duration": 11,
    "start_time": "2022-04-06T12:32:06.419Z"
   },
   {
    "duration": 35,
    "start_time": "2022-04-06T12:32:53.902Z"
   },
   {
    "duration": 13,
    "start_time": "2022-04-06T12:33:02.787Z"
   },
   {
    "duration": 20,
    "start_time": "2022-04-06T12:33:08.927Z"
   },
   {
    "duration": 18,
    "start_time": "2022-04-06T12:34:42.499Z"
   },
   {
    "duration": 20,
    "start_time": "2022-04-06T12:34:42.974Z"
   },
   {
    "duration": 16,
    "start_time": "2022-04-06T12:34:52.355Z"
   },
   {
    "duration": 19,
    "start_time": "2022-04-06T12:34:52.756Z"
   },
   {
    "duration": 17,
    "start_time": "2022-04-06T12:36:19.896Z"
   },
   {
    "duration": 21,
    "start_time": "2022-04-06T12:36:20.500Z"
   },
   {
    "duration": 3,
    "start_time": "2022-04-06T12:36:53.025Z"
   },
   {
    "duration": 14,
    "start_time": "2022-04-06T12:37:33.740Z"
   },
   {
    "duration": 24,
    "start_time": "2022-04-06T12:37:47.557Z"
   },
   {
    "duration": 2416,
    "start_time": "2022-04-06T12:39:00.062Z"
   },
   {
    "duration": 0,
    "start_time": "2022-04-06T12:39:02.480Z"
   },
   {
    "duration": 1189,
    "start_time": "2022-04-06T12:39:17.837Z"
   },
   {
    "duration": 0,
    "start_time": "2022-04-06T12:39:19.028Z"
   },
   {
    "duration": 14,
    "start_time": "2022-04-06T12:39:45.948Z"
   },
   {
    "duration": 25,
    "start_time": "2022-04-06T12:40:29.712Z"
   },
   {
    "duration": 19,
    "start_time": "2022-04-06T12:40:30.307Z"
   },
   {
    "duration": 15,
    "start_time": "2022-04-06T12:40:31.639Z"
   },
   {
    "duration": 18,
    "start_time": "2022-04-06T12:41:09.436Z"
   },
   {
    "duration": 27,
    "start_time": "2022-04-06T12:41:09.720Z"
   },
   {
    "duration": 4,
    "start_time": "2022-04-06T12:41:18.251Z"
   },
   {
    "duration": 19,
    "start_time": "2022-04-06T12:41:18.972Z"
   },
   {
    "duration": 10,
    "start_time": "2022-04-06T12:41:19.502Z"
   },
   {
    "duration": 8,
    "start_time": "2022-04-06T12:41:20.284Z"
   },
   {
    "duration": 18,
    "start_time": "2022-04-06T12:41:20.628Z"
   },
   {
    "duration": 9,
    "start_time": "2022-04-06T12:41:20.787Z"
   },
   {
    "duration": 20,
    "start_time": "2022-04-06T12:41:21.062Z"
   },
   {
    "duration": 8,
    "start_time": "2022-04-06T12:41:21.205Z"
   },
   {
    "duration": 9,
    "start_time": "2022-04-06T12:41:21.489Z"
   },
   {
    "duration": 11,
    "start_time": "2022-04-06T12:41:22.098Z"
   },
   {
    "duration": 11,
    "start_time": "2022-04-06T12:41:22.299Z"
   },
   {
    "duration": 17,
    "start_time": "2022-04-06T12:41:23.680Z"
   },
   {
    "duration": 3,
    "start_time": "2022-04-06T12:41:25.103Z"
   },
   {
    "duration": 61,
    "start_time": "2022-04-06T12:41:25.759Z"
   },
   {
    "duration": 18,
    "start_time": "2022-04-06T12:41:26.355Z"
   },
   {
    "duration": 8,
    "start_time": "2022-04-06T12:42:16.830Z"
   },
   {
    "duration": 12,
    "start_time": "2022-04-06T12:42:20.141Z"
   },
   {
    "duration": 20,
    "start_time": "2022-04-06T12:43:25.583Z"
   },
   {
    "duration": 932,
    "start_time": "2022-04-06T12:43:48.236Z"
   },
   {
    "duration": 98,
    "start_time": "2022-04-06T12:43:49.171Z"
   },
   {
    "duration": 0,
    "start_time": "2022-04-06T12:43:49.272Z"
   },
   {
    "duration": 0,
    "start_time": "2022-04-06T12:43:49.273Z"
   },
   {
    "duration": 0,
    "start_time": "2022-04-06T12:43:49.275Z"
   },
   {
    "duration": 0,
    "start_time": "2022-04-06T12:43:49.275Z"
   },
   {
    "duration": 0,
    "start_time": "2022-04-06T12:43:49.277Z"
   },
   {
    "duration": 0,
    "start_time": "2022-04-06T12:43:49.278Z"
   },
   {
    "duration": 0,
    "start_time": "2022-04-06T12:43:49.279Z"
   },
   {
    "duration": 0,
    "start_time": "2022-04-06T12:43:49.280Z"
   },
   {
    "duration": 0,
    "start_time": "2022-04-06T12:43:49.281Z"
   },
   {
    "duration": 0,
    "start_time": "2022-04-06T12:43:49.282Z"
   },
   {
    "duration": 0,
    "start_time": "2022-04-06T12:43:49.283Z"
   },
   {
    "duration": 0,
    "start_time": "2022-04-06T12:43:49.301Z"
   },
   {
    "duration": 0,
    "start_time": "2022-04-06T12:43:49.302Z"
   },
   {
    "duration": 0,
    "start_time": "2022-04-06T12:43:49.304Z"
   },
   {
    "duration": 151,
    "start_time": "2022-04-06T12:45:53.193Z"
   },
   {
    "duration": 399,
    "start_time": "2022-04-06T12:48:31.673Z"
   },
   {
    "duration": 28,
    "start_time": "2022-04-06T12:48:33.777Z"
   },
   {
    "duration": 16,
    "start_time": "2022-04-06T12:48:33.929Z"
   },
   {
    "duration": 28,
    "start_time": "2022-04-06T12:48:34.078Z"
   },
   {
    "duration": 23,
    "start_time": "2022-04-06T12:48:34.363Z"
   },
   {
    "duration": 9,
    "start_time": "2022-04-06T12:48:34.522Z"
   },
   {
    "duration": 21,
    "start_time": "2022-04-06T12:48:34.810Z"
   },
   {
    "duration": 8,
    "start_time": "2022-04-06T12:48:34.960Z"
   },
   {
    "duration": 9,
    "start_time": "2022-04-06T12:48:35.435Z"
   },
   {
    "duration": 12,
    "start_time": "2022-04-06T12:48:35.727Z"
   },
   {
    "duration": 12,
    "start_time": "2022-04-06T12:48:35.871Z"
   },
   {
    "duration": 1165,
    "start_time": "2022-04-06T12:48:36.705Z"
   },
   {
    "duration": 0,
    "start_time": "2022-04-06T12:48:37.872Z"
   },
   {
    "duration": 0,
    "start_time": "2022-04-06T12:48:37.873Z"
   },
   {
    "duration": 0,
    "start_time": "2022-04-06T12:48:37.874Z"
   },
   {
    "duration": 1017,
    "start_time": "2022-04-06T12:49:02.296Z"
   },
   {
    "duration": 427,
    "start_time": "2022-04-06T12:49:03.316Z"
   },
   {
    "duration": 30,
    "start_time": "2022-04-06T12:49:03.746Z"
   },
   {
    "duration": 17,
    "start_time": "2022-04-06T12:49:03.778Z"
   },
   {
    "duration": 30,
    "start_time": "2022-04-06T12:49:03.800Z"
   },
   {
    "duration": 26,
    "start_time": "2022-04-06T12:49:03.832Z"
   },
   {
    "duration": 15,
    "start_time": "2022-04-06T12:49:03.860Z"
   },
   {
    "duration": 44,
    "start_time": "2022-04-06T12:49:03.877Z"
   },
   {
    "duration": 75,
    "start_time": "2022-04-06T12:49:03.923Z"
   },
   {
    "duration": 106,
    "start_time": "2022-04-06T12:49:04.001Z"
   },
   {
    "duration": 0,
    "start_time": "2022-04-06T12:49:04.108Z"
   },
   {
    "duration": 0,
    "start_time": "2022-04-06T12:49:04.110Z"
   },
   {
    "duration": 0,
    "start_time": "2022-04-06T12:49:04.111Z"
   },
   {
    "duration": 0,
    "start_time": "2022-04-06T12:49:04.112Z"
   },
   {
    "duration": 0,
    "start_time": "2022-04-06T12:49:04.113Z"
   },
   {
    "duration": 0,
    "start_time": "2022-04-06T12:49:04.114Z"
   },
   {
    "duration": 9,
    "start_time": "2022-04-06T12:49:29.745Z"
   },
   {
    "duration": 384,
    "start_time": "2022-04-06T12:49:38.649Z"
   },
   {
    "duration": 27,
    "start_time": "2022-04-06T12:49:39.059Z"
   },
   {
    "duration": 9,
    "start_time": "2022-04-06T12:49:39.248Z"
   },
   {
    "duration": 26,
    "start_time": "2022-04-06T12:49:39.421Z"
   },
   {
    "duration": 24,
    "start_time": "2022-04-06T12:49:40.230Z"
   },
   {
    "duration": 10,
    "start_time": "2022-04-06T12:49:40.575Z"
   },
   {
    "duration": 20,
    "start_time": "2022-04-06T12:49:41.189Z"
   },
   {
    "duration": 9,
    "start_time": "2022-04-06T12:49:41.412Z"
   },
   {
    "duration": 9,
    "start_time": "2022-04-06T12:49:42.101Z"
   },
   {
    "duration": 11,
    "start_time": "2022-04-06T12:49:43.111Z"
   },
   {
    "duration": 12,
    "start_time": "2022-04-06T12:49:43.544Z"
   },
   {
    "duration": 1156,
    "start_time": "2022-04-06T12:49:44.858Z"
   },
   {
    "duration": 0,
    "start_time": "2022-04-06T12:49:46.016Z"
   },
   {
    "duration": 37,
    "start_time": "2022-04-06T12:49:52.217Z"
   },
   {
    "duration": 20,
    "start_time": "2022-04-06T12:49:52.565Z"
   },
   {
    "duration": 25,
    "start_time": "2022-04-06T12:49:58.297Z"
   },
   {
    "duration": 20,
    "start_time": "2022-04-06T12:49:58.636Z"
   },
   {
    "duration": 11,
    "start_time": "2022-04-06T12:50:18.268Z"
   },
   {
    "duration": 24,
    "start_time": "2022-04-06T12:51:02.314Z"
   },
   {
    "duration": 16,
    "start_time": "2022-04-06T12:51:13.765Z"
   },
   {
    "duration": 16,
    "start_time": "2022-04-06T12:51:52.791Z"
   },
   {
    "duration": 2629,
    "start_time": "2022-04-06T12:52:47.902Z"
   },
   {
    "duration": 5,
    "start_time": "2022-04-06T12:53:10.083Z"
   },
   {
    "duration": 8,
    "start_time": "2022-04-06T12:53:19.898Z"
   },
   {
    "duration": 11,
    "start_time": "2022-04-06T12:53:26.560Z"
   },
   {
    "duration": 767,
    "start_time": "2022-04-07T09:39:18.421Z"
   },
   {
    "duration": 427,
    "start_time": "2022-04-07T09:39:19.190Z"
   },
   {
    "duration": 24,
    "start_time": "2022-04-07T09:39:19.745Z"
   },
   {
    "duration": 13,
    "start_time": "2022-04-07T09:39:20.798Z"
   },
   {
    "duration": 26,
    "start_time": "2022-04-07T09:39:24.315Z"
   },
   {
    "duration": 79,
    "start_time": "2022-04-07T09:39:58.748Z"
   },
   {
    "duration": 25,
    "start_time": "2022-04-07T09:40:04.426Z"
   },
   {
    "duration": 27,
    "start_time": "2022-04-07T09:41:08.387Z"
   },
   {
    "duration": 11,
    "start_time": "2022-04-07T09:49:27.524Z"
   },
   {
    "duration": 10,
    "start_time": "2022-04-07T09:52:52.320Z"
   },
   {
    "duration": 7,
    "start_time": "2022-04-07T09:53:08.262Z"
   },
   {
    "duration": 8,
    "start_time": "2022-04-07T09:53:22.172Z"
   },
   {
    "duration": 7,
    "start_time": "2022-04-07T09:53:37.319Z"
   },
   {
    "duration": 9,
    "start_time": "2022-04-07T09:54:10.348Z"
   },
   {
    "duration": 10,
    "start_time": "2022-04-07T09:54:31.394Z"
   },
   {
    "duration": 9,
    "start_time": "2022-04-07T09:55:54.535Z"
   },
   {
    "duration": 6,
    "start_time": "2022-04-07T09:56:37.229Z"
   },
   {
    "duration": 9,
    "start_time": "2022-04-07T09:57:29.649Z"
   },
   {
    "duration": 7,
    "start_time": "2022-04-07T09:57:37.828Z"
   },
   {
    "duration": 5,
    "start_time": "2022-04-07T09:58:53.101Z"
   },
   {
    "duration": 5,
    "start_time": "2022-04-07T09:59:24.908Z"
   },
   {
    "duration": 23,
    "start_time": "2022-04-07T09:59:25.712Z"
   },
   {
    "duration": 10,
    "start_time": "2022-04-07T10:06:13.751Z"
   },
   {
    "duration": 809,
    "start_time": "2022-04-07T10:06:35.479Z"
   },
   {
    "duration": 388,
    "start_time": "2022-04-07T10:06:36.290Z"
   },
   {
    "duration": 25,
    "start_time": "2022-04-07T10:06:36.679Z"
   },
   {
    "duration": 14,
    "start_time": "2022-04-07T10:06:36.705Z"
   },
   {
    "duration": 25,
    "start_time": "2022-04-07T10:06:36.721Z"
   },
   {
    "duration": 46,
    "start_time": "2022-04-07T10:06:36.747Z"
   },
   {
    "duration": 20,
    "start_time": "2022-04-07T10:06:36.795Z"
   },
   {
    "duration": 30,
    "start_time": "2022-04-07T10:06:36.816Z"
   },
   {
    "duration": 8,
    "start_time": "2022-04-07T10:06:36.847Z"
   },
   {
    "duration": 40,
    "start_time": "2022-04-07T10:06:36.856Z"
   },
   {
    "duration": 6,
    "start_time": "2022-04-07T10:06:36.898Z"
   },
   {
    "duration": 9,
    "start_time": "2022-04-07T10:06:36.906Z"
   },
   {
    "duration": 11,
    "start_time": "2022-04-07T10:06:36.916Z"
   },
   {
    "duration": 10,
    "start_time": "2022-04-07T10:06:36.930Z"
   },
   {
    "duration": 54,
    "start_time": "2022-04-07T10:06:36.941Z"
   },
   {
    "duration": 4,
    "start_time": "2022-04-07T10:06:36.997Z"
   },
   {
    "duration": 18,
    "start_time": "2022-04-07T10:06:37.003Z"
   },
   {
    "duration": 22,
    "start_time": "2022-04-07T10:06:37.022Z"
   },
   {
    "duration": 46,
    "start_time": "2022-04-07T10:06:37.046Z"
   },
   {
    "duration": 17,
    "start_time": "2022-04-07T10:06:37.093Z"
   },
   {
    "duration": 20,
    "start_time": "2022-04-07T10:06:37.111Z"
   },
   {
    "duration": 13,
    "start_time": "2022-04-07T10:06:37.133Z"
   },
   {
    "duration": 4,
    "start_time": "2022-04-07T10:06:37.148Z"
   },
   {
    "duration": 10,
    "start_time": "2022-04-07T10:06:37.180Z"
   },
   {
    "duration": 23,
    "start_time": "2022-04-07T10:08:22.696Z"
   },
   {
    "duration": 99,
    "start_time": "2022-04-07T10:08:53.572Z"
   },
   {
    "duration": 22,
    "start_time": "2022-04-07T10:09:21.859Z"
   },
   {
    "duration": 45,
    "start_time": "2022-04-07T10:10:07.349Z"
   },
   {
    "duration": 38,
    "start_time": "2022-04-07T10:18:40.797Z"
   },
   {
    "duration": 50,
    "start_time": "2022-04-07T10:18:46.687Z"
   },
   {
    "duration": 23,
    "start_time": "2022-04-07T10:25:31.718Z"
   },
   {
    "duration": 30,
    "start_time": "2022-04-07T10:25:48.413Z"
   },
   {
    "duration": 13,
    "start_time": "2022-04-07T10:26:00.875Z"
   },
   {
    "duration": 178,
    "start_time": "2022-04-07T10:28:43.492Z"
   },
   {
    "duration": 28,
    "start_time": "2022-04-07T10:28:54.899Z"
   },
   {
    "duration": 37,
    "start_time": "2022-04-07T10:29:58.055Z"
   },
   {
    "duration": 43,
    "start_time": "2022-04-07T10:30:30.546Z"
   },
   {
    "duration": 41,
    "start_time": "2022-04-07T10:35:32.437Z"
   },
   {
    "duration": 35,
    "start_time": "2022-04-07T10:42:39.005Z"
   },
   {
    "duration": 3135,
    "start_time": "2022-04-07T10:45:35.698Z"
   },
   {
    "duration": 34,
    "start_time": "2022-04-07T10:45:45.993Z"
   },
   {
    "duration": 3102,
    "start_time": "2022-04-07T10:45:46.665Z"
   },
   {
    "duration": 11,
    "start_time": "2022-04-07T10:47:36.357Z"
   },
   {
    "duration": 41,
    "start_time": "2022-04-07T10:48:41.497Z"
   },
   {
    "duration": 31,
    "start_time": "2022-04-07T10:48:47.104Z"
   },
   {
    "duration": 12,
    "start_time": "2022-04-07T10:48:47.707Z"
   },
   {
    "duration": 32,
    "start_time": "2022-04-07T10:49:14.989Z"
   },
   {
    "duration": 12,
    "start_time": "2022-04-07T10:49:15.695Z"
   },
   {
    "duration": 10,
    "start_time": "2022-04-07T10:50:15.824Z"
   },
   {
    "duration": 11,
    "start_time": "2022-04-07T10:50:40.665Z"
   },
   {
    "duration": 34,
    "start_time": "2022-04-07T10:52:15.820Z"
   },
   {
    "duration": 11,
    "start_time": "2022-04-07T10:52:16.265Z"
   },
   {
    "duration": 32,
    "start_time": "2022-04-07T10:52:31.862Z"
   },
   {
    "duration": 10,
    "start_time": "2022-04-07T10:52:32.484Z"
   },
   {
    "duration": 182,
    "start_time": "2022-04-07T10:55:16.922Z"
   },
   {
    "duration": 10,
    "start_time": "2022-04-07T10:55:17.316Z"
   },
   {
    "duration": 30,
    "start_time": "2022-04-07T10:55:27.272Z"
   },
   {
    "duration": 10,
    "start_time": "2022-04-07T10:55:28.946Z"
   },
   {
    "duration": 9,
    "start_time": "2022-04-07T10:58:37.299Z"
   },
   {
    "duration": 32,
    "start_time": "2022-04-07T11:17:48.451Z"
   },
   {
    "duration": 11,
    "start_time": "2022-04-07T11:17:55.818Z"
   },
   {
    "duration": 29,
    "start_time": "2022-04-07T11:18:58.094Z"
   },
   {
    "duration": 11,
    "start_time": "2022-04-07T11:18:58.510Z"
   },
   {
    "duration": 19,
    "start_time": "2022-04-07T11:19:19.802Z"
   },
   {
    "duration": 21,
    "start_time": "2022-04-07T11:19:52.859Z"
   },
   {
    "duration": 6,
    "start_time": "2022-04-07T11:19:56.502Z"
   },
   {
    "duration": 39,
    "start_time": "2022-04-07T11:20:31.899Z"
   },
   {
    "duration": 9,
    "start_time": "2022-04-07T11:20:32.683Z"
   },
   {
    "duration": 31,
    "start_time": "2022-04-07T11:21:01.322Z"
   },
   {
    "duration": 6,
    "start_time": "2022-04-07T11:21:01.881Z"
   },
   {
    "duration": 20,
    "start_time": "2022-04-07T11:21:20.929Z"
   },
   {
    "duration": 32,
    "start_time": "2022-04-07T11:22:01.584Z"
   },
   {
    "duration": 30,
    "start_time": "2022-04-07T11:22:48.244Z"
   },
   {
    "duration": 32,
    "start_time": "2022-04-07T11:23:12.802Z"
   },
   {
    "duration": 13,
    "start_time": "2022-04-07T11:24:03.602Z"
   },
   {
    "duration": 13,
    "start_time": "2022-04-07T11:24:04.001Z"
   },
   {
    "duration": 31,
    "start_time": "2022-04-07T11:24:04.797Z"
   },
   {
    "duration": 39,
    "start_time": "2022-04-07T11:24:19.970Z"
   },
   {
    "duration": 29,
    "start_time": "2022-04-07T11:24:29.438Z"
   },
   {
    "duration": 11,
    "start_time": "2022-04-07T11:24:31.910Z"
   },
   {
    "duration": 29,
    "start_time": "2022-04-07T11:26:13.762Z"
   },
   {
    "duration": 9,
    "start_time": "2022-04-07T11:26:14.257Z"
   },
   {
    "duration": 30,
    "start_time": "2022-04-07T11:26:38.809Z"
   },
   {
    "duration": 9,
    "start_time": "2022-04-07T11:26:39.110Z"
   },
   {
    "duration": 761,
    "start_time": "2022-04-07T14:31:48.831Z"
   },
   {
    "duration": 387,
    "start_time": "2022-04-07T14:31:49.594Z"
   },
   {
    "duration": 25,
    "start_time": "2022-04-07T14:31:49.982Z"
   },
   {
    "duration": 14,
    "start_time": "2022-04-07T14:31:50.008Z"
   },
   {
    "duration": 26,
    "start_time": "2022-04-07T14:31:50.024Z"
   },
   {
    "duration": 51,
    "start_time": "2022-04-07T14:31:50.052Z"
   },
   {
    "duration": 20,
    "start_time": "2022-04-07T14:31:50.105Z"
   },
   {
    "duration": 25,
    "start_time": "2022-04-07T14:31:50.126Z"
   },
   {
    "duration": 7,
    "start_time": "2022-04-07T14:31:50.152Z"
   },
   {
    "duration": 17,
    "start_time": "2022-04-07T14:31:50.181Z"
   },
   {
    "duration": 6,
    "start_time": "2022-04-07T14:31:50.199Z"
   },
   {
    "duration": 10,
    "start_time": "2022-04-07T14:31:50.207Z"
   },
   {
    "duration": 10,
    "start_time": "2022-04-07T14:31:50.219Z"
   },
   {
    "duration": 18,
    "start_time": "2022-04-07T14:31:50.232Z"
   },
   {
    "duration": 47,
    "start_time": "2022-04-07T14:31:50.251Z"
   },
   {
    "duration": 4,
    "start_time": "2022-04-07T14:31:50.300Z"
   },
   {
    "duration": 20,
    "start_time": "2022-04-07T14:31:50.306Z"
   },
   {
    "duration": 56,
    "start_time": "2022-04-07T14:31:50.327Z"
   },
   {
    "duration": 9,
    "start_time": "2022-04-07T14:31:50.385Z"
   },
   {
    "duration": 24,
    "start_time": "2022-04-07T14:31:50.396Z"
   },
   {
    "duration": 16,
    "start_time": "2022-04-07T14:31:50.421Z"
   },
   {
    "duration": 55,
    "start_time": "2022-04-07T14:31:50.439Z"
   },
   {
    "duration": 7,
    "start_time": "2022-04-07T14:31:50.496Z"
   },
   {
    "duration": 23,
    "start_time": "2022-04-07T14:31:50.505Z"
   },
   {
    "duration": 15,
    "start_time": "2022-04-07T14:31:50.530Z"
   },
   {
    "duration": 49,
    "start_time": "2022-04-07T14:31:50.546Z"
   },
   {
    "duration": 8,
    "start_time": "2022-04-07T14:31:50.597Z"
   },
   {
    "duration": 6,
    "start_time": "2022-04-07T14:31:50.607Z"
   },
   {
    "duration": 15,
    "start_time": "2022-04-07T14:31:50.614Z"
   },
   {
    "duration": 86,
    "start_time": "2022-04-07T14:34:37.013Z"
   },
   {
    "duration": 18,
    "start_time": "2022-04-07T14:35:41.061Z"
   },
   {
    "duration": 19,
    "start_time": "2022-04-07T14:36:41.711Z"
   },
   {
    "duration": 13,
    "start_time": "2022-04-07T14:36:54.079Z"
   },
   {
    "duration": 20,
    "start_time": "2022-04-07T14:37:54.691Z"
   },
   {
    "duration": 193,
    "start_time": "2022-04-07T14:39:06.950Z"
   },
   {
    "duration": 13,
    "start_time": "2022-04-07T14:39:11.452Z"
   },
   {
    "duration": 17,
    "start_time": "2022-04-07T14:39:15.315Z"
   },
   {
    "duration": 20,
    "start_time": "2022-04-07T14:40:12.971Z"
   },
   {
    "duration": 17,
    "start_time": "2022-04-07T14:40:25.835Z"
   },
   {
    "duration": 13,
    "start_time": "2022-04-07T14:40:41.372Z"
   },
   {
    "duration": 21,
    "start_time": "2022-04-07T14:40:49.945Z"
   },
   {
    "duration": 17,
    "start_time": "2022-04-07T14:41:23.115Z"
   },
   {
    "duration": 25,
    "start_time": "2022-04-07T14:41:23.443Z"
   },
   {
    "duration": 7,
    "start_time": "2022-04-07T14:45:36.369Z"
   },
   {
    "duration": 44,
    "start_time": "2022-04-07T14:48:04.615Z"
   },
   {
    "duration": 3408,
    "start_time": "2022-04-07T14:48:04.877Z"
   },
   {
    "duration": 12,
    "start_time": "2022-04-07T14:48:08.317Z"
   },
   {
    "duration": 20,
    "start_time": "2022-04-07T14:48:08.687Z"
   },
   {
    "duration": 33,
    "start_time": "2022-04-07T14:48:33.266Z"
   },
   {
    "duration": 11,
    "start_time": "2022-04-07T14:48:33.503Z"
   },
   {
    "duration": 18,
    "start_time": "2022-04-07T14:48:36.941Z"
   },
   {
    "duration": 22,
    "start_time": "2022-04-07T14:48:37.166Z"
   },
   {
    "duration": 8,
    "start_time": "2022-04-07T15:13:16.174Z"
   },
   {
    "duration": 0,
    "start_time": "2022-04-07T15:13:29.111Z"
   },
   {
    "duration": 7,
    "start_time": "2022-04-07T15:13:46.910Z"
   },
   {
    "duration": 3075,
    "start_time": "2022-04-07T15:14:08.396Z"
   },
   {
    "duration": 6,
    "start_time": "2022-04-07T15:14:11.683Z"
   },
   {
    "duration": 194,
    "start_time": "2022-04-07T15:14:42.210Z"
   },
   {
    "duration": 6,
    "start_time": "2022-04-07T15:15:01.383Z"
   },
   {
    "duration": 18,
    "start_time": "2022-04-07T15:15:15.066Z"
   },
   {
    "duration": 6,
    "start_time": "2022-04-07T15:15:47.399Z"
   },
   {
    "duration": 6,
    "start_time": "2022-04-07T15:15:53.540Z"
   },
   {
    "duration": 4,
    "start_time": "2022-04-07T15:16:29.605Z"
   },
   {
    "duration": 5,
    "start_time": "2022-04-07T15:16:42.344Z"
   },
   {
    "duration": 5,
    "start_time": "2022-04-07T15:16:47.029Z"
   },
   {
    "duration": 5,
    "start_time": "2022-04-07T15:16:51.838Z"
   },
   {
    "duration": 5,
    "start_time": "2022-04-07T15:17:07.237Z"
   },
   {
    "duration": 5,
    "start_time": "2022-04-07T15:17:11.343Z"
   },
   {
    "duration": 6,
    "start_time": "2022-04-07T15:17:18.381Z"
   },
   {
    "duration": 5,
    "start_time": "2022-04-07T15:17:58.671Z"
   },
   {
    "duration": 5,
    "start_time": "2022-04-07T15:18:36.737Z"
   },
   {
    "duration": 17,
    "start_time": "2022-04-07T15:19:00.814Z"
   },
   {
    "duration": 13,
    "start_time": "2022-04-07T15:19:17.404Z"
   },
   {
    "duration": 16,
    "start_time": "2022-04-07T15:19:24.238Z"
   },
   {
    "duration": 221,
    "start_time": "2022-04-07T15:47:40.066Z"
   },
   {
    "duration": 14,
    "start_time": "2022-04-07T15:47:44.815Z"
   },
   {
    "duration": 9,
    "start_time": "2022-04-07T15:47:54.611Z"
   },
   {
    "duration": 8,
    "start_time": "2022-04-07T15:47:58.797Z"
   },
   {
    "duration": 15,
    "start_time": "2022-04-07T15:48:03.846Z"
   },
   {
    "duration": 15,
    "start_time": "2022-04-07T15:48:08.361Z"
   },
   {
    "duration": 17,
    "start_time": "2022-04-07T15:48:16.321Z"
   },
   {
    "duration": 199,
    "start_time": "2022-04-07T15:48:21.741Z"
   },
   {
    "duration": 0,
    "start_time": "2022-04-07T15:48:26.734Z"
   },
   {
    "duration": 1592,
    "start_time": "2022-04-07T15:48:29.818Z"
   },
   {
    "duration": 200,
    "start_time": "2022-04-07T15:48:42.445Z"
   },
   {
    "duration": 218,
    "start_time": "2022-04-07T15:48:45.433Z"
   },
   {
    "duration": 12,
    "start_time": "2022-04-07T15:49:30.862Z"
   },
   {
    "duration": 11,
    "start_time": "2022-04-07T15:50:39.825Z"
   },
   {
    "duration": 6,
    "start_time": "2022-04-07T15:50:44.061Z"
   },
   {
    "duration": 7,
    "start_time": "2022-04-07T15:50:48.648Z"
   },
   {
    "duration": 5,
    "start_time": "2022-04-07T15:50:53.255Z"
   },
   {
    "duration": 6,
    "start_time": "2022-04-07T15:50:56.196Z"
   },
   {
    "duration": 5,
    "start_time": "2022-04-07T15:51:00.037Z"
   },
   {
    "duration": 5,
    "start_time": "2022-04-07T15:52:59.660Z"
   },
   {
    "duration": 3368,
    "start_time": "2022-04-07T15:53:55.235Z"
   },
   {
    "duration": 3308,
    "start_time": "2022-04-07T15:54:01.471Z"
   },
   {
    "duration": 8,
    "start_time": "2022-04-07T15:54:15.514Z"
   },
   {
    "duration": 3180,
    "start_time": "2022-04-07T15:54:16.384Z"
   },
   {
    "duration": 3037,
    "start_time": "2022-04-07T15:54:21.209Z"
   },
   {
    "duration": 5,
    "start_time": "2022-04-07T15:54:57.230Z"
   },
   {
    "duration": 229,
    "start_time": "2022-04-07T15:55:08.214Z"
   },
   {
    "duration": 12,
    "start_time": "2022-04-07T15:55:18.325Z"
   },
   {
    "duration": 6,
    "start_time": "2022-04-07T15:55:31.350Z"
   },
   {
    "duration": 6,
    "start_time": "2022-04-07T15:55:38.797Z"
   },
   {
    "duration": 6,
    "start_time": "2022-04-07T15:57:06.054Z"
   },
   {
    "duration": 7,
    "start_time": "2022-04-07T15:58:01.957Z"
   },
   {
    "duration": 5,
    "start_time": "2022-04-07T15:58:49.259Z"
   },
   {
    "duration": 5,
    "start_time": "2022-04-07T15:59:26.509Z"
   },
   {
    "duration": 195,
    "start_time": "2022-04-07T15:59:45.389Z"
   },
   {
    "duration": 202,
    "start_time": "2022-04-07T15:59:53.656Z"
   },
   {
    "duration": 5,
    "start_time": "2022-04-07T15:59:59.670Z"
   },
   {
    "duration": 5,
    "start_time": "2022-04-07T16:00:03.666Z"
   },
   {
    "duration": 5,
    "start_time": "2022-04-07T16:00:09.860Z"
   },
   {
    "duration": 5,
    "start_time": "2022-04-07T16:00:26.846Z"
   },
   {
    "duration": 5,
    "start_time": "2022-04-07T16:00:57.329Z"
   },
   {
    "duration": 6,
    "start_time": "2022-04-07T16:01:45.725Z"
   },
   {
    "duration": 30,
    "start_time": "2022-04-07T16:02:57.964Z"
   },
   {
    "duration": 14,
    "start_time": "2022-04-07T16:03:04.395Z"
   },
   {
    "duration": 17,
    "start_time": "2022-04-07T16:03:04.861Z"
   },
   {
    "duration": 1077,
    "start_time": "2022-04-08T08:48:07.723Z"
   },
   {
    "duration": 457,
    "start_time": "2022-04-08T08:48:08.803Z"
   },
   {
    "duration": 34,
    "start_time": "2022-04-08T08:48:09.263Z"
   },
   {
    "duration": 23,
    "start_time": "2022-04-08T08:48:09.300Z"
   },
   {
    "duration": 63,
    "start_time": "2022-04-08T08:48:09.325Z"
   },
   {
    "duration": 35,
    "start_time": "2022-04-08T08:48:09.391Z"
   },
   {
    "duration": 54,
    "start_time": "2022-04-08T08:48:09.429Z"
   },
   {
    "duration": 35,
    "start_time": "2022-04-08T08:48:09.485Z"
   },
   {
    "duration": 11,
    "start_time": "2022-04-08T08:48:09.523Z"
   },
   {
    "duration": 24,
    "start_time": "2022-04-08T08:48:09.570Z"
   },
   {
    "duration": 10,
    "start_time": "2022-04-08T08:48:09.596Z"
   },
   {
    "duration": 11,
    "start_time": "2022-04-08T08:48:09.607Z"
   },
   {
    "duration": 48,
    "start_time": "2022-04-08T08:48:09.620Z"
   },
   {
    "duration": 18,
    "start_time": "2022-04-08T08:48:09.670Z"
   },
   {
    "duration": 51,
    "start_time": "2022-04-08T08:48:09.690Z"
   },
   {
    "duration": 24,
    "start_time": "2022-04-08T08:48:09.743Z"
   },
   {
    "duration": 29,
    "start_time": "2022-04-08T08:48:09.770Z"
   },
   {
    "duration": 87,
    "start_time": "2022-04-08T08:48:09.801Z"
   },
   {
    "duration": 14,
    "start_time": "2022-04-08T08:48:09.891Z"
   },
   {
    "duration": 37,
    "start_time": "2022-04-08T08:48:09.908Z"
   },
   {
    "duration": 24,
    "start_time": "2022-04-08T08:48:09.967Z"
   },
   {
    "duration": 44,
    "start_time": "2022-04-08T08:48:09.993Z"
   },
   {
    "duration": 54,
    "start_time": "2022-04-08T08:48:10.039Z"
   },
   {
    "duration": 23,
    "start_time": "2022-04-08T08:48:10.095Z"
   },
   {
    "duration": 98,
    "start_time": "2022-04-08T08:48:10.120Z"
   },
   {
    "duration": 0,
    "start_time": "2022-04-08T08:48:10.221Z"
   },
   {
    "duration": 0,
    "start_time": "2022-04-08T08:48:10.222Z"
   },
   {
    "duration": 0,
    "start_time": "2022-04-08T08:48:10.224Z"
   },
   {
    "duration": 0,
    "start_time": "2022-04-08T08:48:10.226Z"
   },
   {
    "duration": 0,
    "start_time": "2022-04-08T08:48:10.227Z"
   },
   {
    "duration": 0,
    "start_time": "2022-04-08T08:48:10.229Z"
   },
   {
    "duration": 0,
    "start_time": "2022-04-08T08:48:10.230Z"
   },
   {
    "duration": 0,
    "start_time": "2022-04-08T08:48:10.232Z"
   },
   {
    "duration": 0,
    "start_time": "2022-04-08T08:48:10.234Z"
   },
   {
    "duration": 0,
    "start_time": "2022-04-08T08:48:10.235Z"
   },
   {
    "duration": 41,
    "start_time": "2022-04-08T08:48:37.123Z"
   },
   {
    "duration": 19,
    "start_time": "2022-04-08T08:48:41.286Z"
   },
   {
    "duration": 6,
    "start_time": "2022-04-08T08:48:42.229Z"
   },
   {
    "duration": 21,
    "start_time": "2022-04-08T08:48:42.439Z"
   },
   {
    "duration": 30,
    "start_time": "2022-04-08T08:48:42.655Z"
   },
   {
    "duration": 39,
    "start_time": "2022-04-08T08:48:42.835Z"
   },
   {
    "duration": 7,
    "start_time": "2022-04-08T08:48:43.017Z"
   },
   {
    "duration": 17,
    "start_time": "2022-04-08T08:48:43.190Z"
   },
   {
    "duration": 8,
    "start_time": "2022-04-08T08:48:43.374Z"
   },
   {
    "duration": 9,
    "start_time": "2022-04-08T08:48:43.555Z"
   },
   {
    "duration": 10,
    "start_time": "2022-04-08T08:48:43.745Z"
   },
   {
    "duration": 7,
    "start_time": "2022-04-08T08:50:00.154Z"
   },
   {
    "duration": 134,
    "start_time": "2022-04-08T08:50:27.738Z"
   },
   {
    "duration": 8,
    "start_time": "2022-04-08T08:50:35.786Z"
   },
   {
    "duration": 14,
    "start_time": "2022-04-08T08:50:49.051Z"
   },
   {
    "duration": 10,
    "start_time": "2022-04-08T08:51:10.131Z"
   },
   {
    "duration": 20,
    "start_time": "2022-04-08T08:53:23.628Z"
   },
   {
    "duration": 9,
    "start_time": "2022-04-08T08:53:40.262Z"
   },
   {
    "duration": 325,
    "start_time": "2022-04-08T08:59:38.258Z"
   },
   {
    "duration": 33,
    "start_time": "2022-04-08T08:59:42.200Z"
   },
   {
    "duration": 27,
    "start_time": "2022-04-08T09:00:11.495Z"
   },
   {
    "duration": 1377,
    "start_time": "2022-04-08T09:00:26.388Z"
   },
   {
    "duration": 1613,
    "start_time": "2022-04-08T09:01:04.708Z"
   },
   {
    "duration": 1368,
    "start_time": "2022-04-08T09:01:41.834Z"
   },
   {
    "duration": 8,
    "start_time": "2022-04-08T09:02:21.165Z"
   },
   {
    "duration": 1782,
    "start_time": "2022-04-08T09:02:29.754Z"
   },
   {
    "duration": 7,
    "start_time": "2022-04-08T09:02:42.852Z"
   },
   {
    "duration": 6,
    "start_time": "2022-04-08T09:02:48.722Z"
   },
   {
    "duration": 1871,
    "start_time": "2022-04-08T09:03:16.218Z"
   },
   {
    "duration": 31,
    "start_time": "2022-04-08T09:03:31.125Z"
   },
   {
    "duration": 1547,
    "start_time": "2022-04-08T09:03:42.775Z"
   },
   {
    "duration": 32,
    "start_time": "2022-04-08T09:04:30.401Z"
   },
   {
    "duration": 9,
    "start_time": "2022-04-08T09:04:53.910Z"
   },
   {
    "duration": 9,
    "start_time": "2022-04-08T09:05:10.820Z"
   },
   {
    "duration": 1178,
    "start_time": "2022-04-08T09:47:40.845Z"
   },
   {
    "duration": 1472,
    "start_time": "2022-04-08T09:47:49.789Z"
   },
   {
    "duration": 9,
    "start_time": "2022-04-08T09:48:48.485Z"
   },
   {
    "duration": 43,
    "start_time": "2022-04-08T09:49:24.712Z"
   },
   {
    "duration": 35,
    "start_time": "2022-04-08T09:49:46.122Z"
   },
   {
    "duration": 6164,
    "start_time": "2022-04-08T09:51:15.059Z"
   },
   {
    "duration": 125,
    "start_time": "2022-04-08T09:51:45.432Z"
   },
   {
    "duration": 6,
    "start_time": "2022-04-08T09:51:50.102Z"
   },
   {
    "duration": 8,
    "start_time": "2022-04-08T09:51:55.429Z"
   },
   {
    "duration": 5223,
    "start_time": "2022-04-08T09:55:41.733Z"
   },
   {
    "duration": 23,
    "start_time": "2022-04-08T10:01:14.827Z"
   },
   {
    "duration": 16,
    "start_time": "2022-04-08T10:01:27.138Z"
   },
   {
    "duration": 17,
    "start_time": "2022-04-08T10:01:33.593Z"
   },
   {
    "duration": 18,
    "start_time": "2022-04-08T10:01:42.622Z"
   },
   {
    "duration": 18,
    "start_time": "2022-04-08T10:03:08.968Z"
   },
   {
    "duration": 16,
    "start_time": "2022-04-08T10:03:49.899Z"
   },
   {
    "duration": 20,
    "start_time": "2022-04-08T10:04:03.371Z"
   },
   {
    "duration": 17,
    "start_time": "2022-04-08T10:05:21.018Z"
   },
   {
    "duration": 115,
    "start_time": "2022-04-08T10:06:28.809Z"
   },
   {
    "duration": 0,
    "start_time": "2022-04-08T10:06:58.264Z"
   },
   {
    "duration": 1478,
    "start_time": "2022-04-08T10:07:21.895Z"
   },
   {
    "duration": 7,
    "start_time": "2022-04-08T10:07:30.216Z"
   },
   {
    "duration": 13,
    "start_time": "2022-04-08T10:07:47.061Z"
   },
   {
    "duration": 8,
    "start_time": "2022-04-08T10:07:57.246Z"
   },
   {
    "duration": 99,
    "start_time": "2022-04-08T10:08:07.592Z"
   },
   {
    "duration": 199,
    "start_time": "2022-04-08T10:08:46.002Z"
   },
   {
    "duration": 6,
    "start_time": "2022-04-08T10:09:18.215Z"
   },
   {
    "duration": 2818,
    "start_time": "2022-04-08T10:09:39.719Z"
   },
   {
    "duration": 10,
    "start_time": "2022-04-08T10:10:01.689Z"
   },
   {
    "duration": 2820,
    "start_time": "2022-04-08T10:10:04.658Z"
   },
   {
    "duration": 6,
    "start_time": "2022-04-08T10:11:12.463Z"
   },
   {
    "duration": 2972,
    "start_time": "2022-04-08T10:11:13.442Z"
   },
   {
    "duration": 5,
    "start_time": "2022-04-08T10:11:37.797Z"
   },
   {
    "duration": 2812,
    "start_time": "2022-04-08T10:11:38.466Z"
   },
   {
    "duration": 5,
    "start_time": "2022-04-08T10:14:53.014Z"
   },
   {
    "duration": 6,
    "start_time": "2022-04-08T10:14:56.737Z"
   },
   {
    "duration": 2707,
    "start_time": "2022-04-08T10:14:57.503Z"
   },
   {
    "duration": 6,
    "start_time": "2022-04-08T10:15:39.430Z"
   },
   {
    "duration": 2917,
    "start_time": "2022-04-08T10:15:40.277Z"
   },
   {
    "duration": 5,
    "start_time": "2022-04-08T10:17:06.163Z"
   },
   {
    "duration": 2714,
    "start_time": "2022-04-08T10:17:06.594Z"
   },
   {
    "duration": 6,
    "start_time": "2022-04-08T10:17:53.033Z"
   },
   {
    "duration": 2797,
    "start_time": "2022-04-08T10:17:54.100Z"
   },
   {
    "duration": 5,
    "start_time": "2022-04-08T10:18:16.110Z"
   },
   {
    "duration": 19,
    "start_time": "2022-04-08T10:18:17.092Z"
   },
   {
    "duration": 6,
    "start_time": "2022-04-08T10:18:37.348Z"
   },
   {
    "duration": 2790,
    "start_time": "2022-04-08T10:18:38.078Z"
   },
   {
    "duration": 5,
    "start_time": "2022-04-08T10:46:53.676Z"
   },
   {
    "duration": 2814,
    "start_time": "2022-04-08T10:46:53.998Z"
   },
   {
    "duration": 11,
    "start_time": "2022-04-08T10:52:37.230Z"
   },
   {
    "duration": 7,
    "start_time": "2022-04-08T10:58:41.849Z"
   },
   {
    "duration": 15,
    "start_time": "2022-04-08T10:58:42.173Z"
   },
   {
    "duration": 9,
    "start_time": "2022-04-08T11:00:55.195Z"
   },
   {
    "duration": 17,
    "start_time": "2022-04-08T11:00:55.907Z"
   },
   {
    "duration": 7,
    "start_time": "2022-04-08T11:01:03.673Z"
   },
   {
    "duration": 7963,
    "start_time": "2022-04-08T11:01:03.973Z"
   },
   {
    "duration": 7798,
    "start_time": "2022-04-08T11:02:20.574Z"
   },
   {
    "duration": 29,
    "start_time": "2022-04-08T11:02:28.375Z"
   },
   {
    "duration": 12,
    "start_time": "2022-04-08T11:02:38.495Z"
   },
   {
    "duration": 4,
    "start_time": "2022-04-08T11:15:06.647Z"
   },
   {
    "duration": 467,
    "start_time": "2022-04-08T11:15:06.855Z"
   },
   {
    "duration": 33,
    "start_time": "2022-04-08T11:15:07.326Z"
   },
   {
    "duration": 21,
    "start_time": "2022-04-08T11:15:07.362Z"
   },
   {
    "duration": 32,
    "start_time": "2022-04-08T11:15:07.528Z"
   },
   {
    "duration": 34,
    "start_time": "2022-04-08T11:15:07.916Z"
   },
   {
    "duration": 29,
    "start_time": "2022-04-08T11:15:08.527Z"
   },
   {
    "duration": 47,
    "start_time": "2022-04-08T11:15:08.874Z"
   },
   {
    "duration": 12,
    "start_time": "2022-04-08T11:15:09.467Z"
   },
   {
    "duration": 25,
    "start_time": "2022-04-08T11:15:10.121Z"
   },
   {
    "duration": 12,
    "start_time": "2022-04-08T11:15:10.386Z"
   },
   {
    "duration": 11,
    "start_time": "2022-04-08T11:15:10.814Z"
   },
   {
    "duration": 15,
    "start_time": "2022-04-08T11:15:11.265Z"
   },
   {
    "duration": 16,
    "start_time": "2022-04-08T11:15:11.442Z"
   },
   {
    "duration": 52,
    "start_time": "2022-04-08T11:15:12.379Z"
   },
   {
    "duration": 7,
    "start_time": "2022-04-08T11:15:13.994Z"
   },
   {
    "duration": 27,
    "start_time": "2022-04-08T11:15:14.192Z"
   },
   {
    "duration": 39,
    "start_time": "2022-04-08T11:15:15.462Z"
   },
   {
    "duration": 54,
    "start_time": "2022-04-08T11:15:26.538Z"
   },
   {
    "duration": 15,
    "start_time": "2022-04-08T11:15:27.645Z"
   },
   {
    "duration": 13,
    "start_time": "2022-04-08T11:15:59.306Z"
   },
   {
    "duration": 55,
    "start_time": "2022-04-08T11:16:01.224Z"
   },
   {
    "duration": 15,
    "start_time": "2022-04-08T11:16:02.507Z"
   },
   {
    "duration": 72,
    "start_time": "2022-04-08T11:16:18.934Z"
   },
   {
    "duration": 16,
    "start_time": "2022-04-08T11:16:19.232Z"
   },
   {
    "duration": 54,
    "start_time": "2022-04-08T11:16:28.697Z"
   },
   {
    "duration": 56,
    "start_time": "2022-04-08T11:16:33.353Z"
   },
   {
    "duration": 15,
    "start_time": "2022-04-08T11:16:33.693Z"
   },
   {
    "duration": 53,
    "start_time": "2022-04-08T11:16:35.902Z"
   },
   {
    "duration": 13,
    "start_time": "2022-04-08T11:16:36.173Z"
   },
   {
    "duration": 63,
    "start_time": "2022-04-08T11:17:00.660Z"
   },
   {
    "duration": 18,
    "start_time": "2022-04-08T11:17:01.017Z"
   },
   {
    "duration": 62,
    "start_time": "2022-04-08T11:17:30.278Z"
   },
   {
    "duration": 17,
    "start_time": "2022-04-08T11:17:30.584Z"
   },
   {
    "duration": 62,
    "start_time": "2022-04-08T11:17:45.035Z"
   },
   {
    "duration": 16,
    "start_time": "2022-04-08T11:17:45.285Z"
   },
   {
    "duration": 67,
    "start_time": "2022-04-08T11:18:27.824Z"
   },
   {
    "duration": 59,
    "start_time": "2022-04-08T11:18:38.852Z"
   },
   {
    "duration": 6,
    "start_time": "2022-04-08T11:18:39.735Z"
   },
   {
    "duration": 83,
    "start_time": "2022-04-08T11:18:42.986Z"
   },
   {
    "duration": 7,
    "start_time": "2022-04-08T11:18:43.293Z"
   },
   {
    "duration": 101,
    "start_time": "2022-04-08T11:19:19.931Z"
   },
   {
    "duration": 11,
    "start_time": "2022-04-08T11:19:26.156Z"
   },
   {
    "duration": 64,
    "start_time": "2022-04-08T11:19:28.220Z"
   },
   {
    "duration": 4,
    "start_time": "2022-04-08T11:19:28.734Z"
   },
   {
    "duration": 16,
    "start_time": "2022-04-08T11:19:33.594Z"
   },
   {
    "duration": 15,
    "start_time": "2022-04-08T11:19:41.142Z"
   },
   {
    "duration": 62,
    "start_time": "2022-04-08T11:19:42.583Z"
   },
   {
    "duration": 4,
    "start_time": "2022-04-08T11:19:43.256Z"
   },
   {
    "duration": 14,
    "start_time": "2022-04-08T11:19:43.880Z"
   },
   {
    "duration": 61,
    "start_time": "2022-04-08T11:20:51.137Z"
   },
   {
    "duration": 17,
    "start_time": "2022-04-08T11:20:51.643Z"
   },
   {
    "duration": 63,
    "start_time": "2022-04-08T11:21:16.038Z"
   },
   {
    "duration": 17,
    "start_time": "2022-04-08T11:21:16.601Z"
   },
   {
    "duration": 4,
    "start_time": "2022-04-08T11:21:29.121Z"
   },
   {
    "duration": 14,
    "start_time": "2022-04-08T11:21:29.357Z"
   },
   {
    "duration": 4,
    "start_time": "2022-04-08T11:22:30.130Z"
   },
   {
    "duration": 14,
    "start_time": "2022-04-08T11:22:30.418Z"
   },
   {
    "duration": 59,
    "start_time": "2022-04-08T11:22:33.185Z"
   },
   {
    "duration": 4,
    "start_time": "2022-04-08T11:22:33.423Z"
   },
   {
    "duration": 14,
    "start_time": "2022-04-08T11:22:33.634Z"
   },
   {
    "duration": 32,
    "start_time": "2022-04-08T11:22:44.750Z"
   },
   {
    "duration": 25,
    "start_time": "2022-04-08T11:22:44.963Z"
   },
   {
    "duration": 45,
    "start_time": "2022-04-08T11:22:45.359Z"
   },
   {
    "duration": 29,
    "start_time": "2022-04-08T11:22:45.959Z"
   },
   {
    "duration": 28,
    "start_time": "2022-04-08T11:22:46.308Z"
   },
   {
    "duration": 41,
    "start_time": "2022-04-08T11:22:47.888Z"
   },
   {
    "duration": 15,
    "start_time": "2022-04-08T11:22:48.122Z"
   },
   {
    "duration": 6,
    "start_time": "2022-04-08T11:22:48.727Z"
   },
   {
    "duration": 16,
    "start_time": "2022-04-08T11:22:48.957Z"
   },
   {
    "duration": 22,
    "start_time": "2022-04-08T11:22:50.528Z"
   },
   {
    "duration": 21,
    "start_time": "2022-04-08T11:22:52.167Z"
   },
   {
    "duration": 6,
    "start_time": "2022-04-08T11:23:13.587Z"
   },
   {
    "duration": 7781,
    "start_time": "2022-04-08T11:23:13.991Z"
   },
   {
    "duration": 12,
    "start_time": "2022-04-08T11:23:21.776Z"
   },
   {
    "duration": 28,
    "start_time": "2022-04-08T11:23:21.791Z"
   },
   {
    "duration": 755,
    "start_time": "2022-04-09T10:46:36.032Z"
   },
   {
    "duration": 383,
    "start_time": "2022-04-09T10:46:36.789Z"
   },
   {
    "duration": 23,
    "start_time": "2022-04-09T10:46:37.174Z"
   },
   {
    "duration": 13,
    "start_time": "2022-04-09T10:46:37.198Z"
   },
   {
    "duration": 23,
    "start_time": "2022-04-09T10:46:37.213Z"
   },
   {
    "duration": 46,
    "start_time": "2022-04-09T10:46:37.237Z"
   },
   {
    "duration": 19,
    "start_time": "2022-04-09T10:46:37.284Z"
   },
   {
    "duration": 26,
    "start_time": "2022-04-09T10:46:37.305Z"
   },
   {
    "duration": 7,
    "start_time": "2022-04-09T10:46:37.333Z"
   },
   {
    "duration": 40,
    "start_time": "2022-04-09T10:46:37.341Z"
   },
   {
    "duration": 7,
    "start_time": "2022-04-09T10:46:37.382Z"
   },
   {
    "duration": 11,
    "start_time": "2022-04-09T10:46:37.390Z"
   },
   {
    "duration": 11,
    "start_time": "2022-04-09T10:46:37.403Z"
   },
   {
    "duration": 10,
    "start_time": "2022-04-09T10:46:37.416Z"
   },
   {
    "duration": 37,
    "start_time": "2022-04-09T10:46:37.427Z"
   },
   {
    "duration": 6,
    "start_time": "2022-04-09T10:46:37.481Z"
   },
   {
    "duration": 18,
    "start_time": "2022-04-09T10:46:37.488Z"
   },
   {
    "duration": 40,
    "start_time": "2022-04-09T10:46:37.507Z"
   },
   {
    "duration": 2,
    "start_time": "2022-04-09T10:46:37.549Z"
   },
   {
    "duration": 28,
    "start_time": "2022-04-09T10:46:37.553Z"
   },
   {
    "duration": 22,
    "start_time": "2022-04-09T10:46:37.583Z"
   },
   {
    "duration": 15,
    "start_time": "2022-04-09T10:46:37.606Z"
   },
   {
    "duration": 39,
    "start_time": "2022-04-09T10:46:37.622Z"
   },
   {
    "duration": 31,
    "start_time": "2022-04-09T10:46:37.681Z"
   },
   {
    "duration": 18,
    "start_time": "2022-04-09T10:46:37.714Z"
   },
   {
    "duration": 47,
    "start_time": "2022-04-09T10:46:37.734Z"
   },
   {
    "duration": 10,
    "start_time": "2022-04-09T10:46:37.782Z"
   },
   {
    "duration": 4,
    "start_time": "2022-04-09T10:46:37.793Z"
   },
   {
    "duration": 12,
    "start_time": "2022-04-09T10:46:37.799Z"
   },
   {
    "duration": 14,
    "start_time": "2022-04-09T10:46:37.813Z"
   },
   {
    "duration": 13,
    "start_time": "2022-04-09T10:46:37.828Z"
   },
   {
    "duration": 6,
    "start_time": "2022-04-09T10:46:37.843Z"
   },
   {
    "duration": 4172,
    "start_time": "2022-04-09T10:46:37.880Z"
   },
   {
    "duration": 7,
    "start_time": "2022-04-09T10:46:42.054Z"
   },
   {
    "duration": 29,
    "start_time": "2022-04-09T10:46:42.063Z"
   },
   {
    "duration": 2,
    "start_time": "2022-04-09T14:02:55.876Z"
   },
   {
    "duration": 383,
    "start_time": "2022-04-09T14:02:55.880Z"
   },
   {
    "duration": 22,
    "start_time": "2022-04-09T14:02:56.265Z"
   },
   {
    "duration": 6,
    "start_time": "2022-04-09T14:02:56.289Z"
   },
   {
    "duration": 22,
    "start_time": "2022-04-09T14:02:56.297Z"
   },
   {
    "duration": 23,
    "start_time": "2022-04-09T14:02:56.320Z"
   },
   {
    "duration": 40,
    "start_time": "2022-04-09T14:02:56.344Z"
   },
   {
    "duration": 24,
    "start_time": "2022-04-09T14:02:56.385Z"
   },
   {
    "duration": 7,
    "start_time": "2022-04-09T14:02:56.412Z"
   },
   {
    "duration": 17,
    "start_time": "2022-04-09T14:02:56.421Z"
   },
   {
    "duration": 7,
    "start_time": "2022-04-09T14:02:56.440Z"
   },
   {
    "duration": 7,
    "start_time": "2022-04-09T14:02:56.480Z"
   },
   {
    "duration": 11,
    "start_time": "2022-04-09T14:02:56.488Z"
   },
   {
    "duration": 11,
    "start_time": "2022-04-09T14:02:56.500Z"
   },
   {
    "duration": 32,
    "start_time": "2022-04-09T14:02:56.512Z"
   },
   {
    "duration": 4,
    "start_time": "2022-04-09T14:02:56.546Z"
   },
   {
    "duration": 38,
    "start_time": "2022-04-09T14:02:56.552Z"
   },
   {
    "duration": 37,
    "start_time": "2022-04-09T14:02:56.592Z"
   },
   {
    "duration": 3,
    "start_time": "2022-04-09T14:02:56.630Z"
   },
   {
    "duration": 11,
    "start_time": "2022-04-09T14:02:56.634Z"
   },
   {
    "duration": 40,
    "start_time": "2022-04-09T14:02:56.646Z"
   },
   {
    "duration": 14,
    "start_time": "2022-04-09T14:02:56.687Z"
   },
   {
    "duration": 30,
    "start_time": "2022-04-09T14:02:56.702Z"
   },
   {
    "duration": 17,
    "start_time": "2022-04-09T14:02:56.735Z"
   },
   {
    "duration": 29,
    "start_time": "2022-04-09T14:02:56.753Z"
   },
   {
    "duration": 28,
    "start_time": "2022-04-09T14:02:56.783Z"
   },
   {
    "duration": 9,
    "start_time": "2022-04-09T14:02:56.813Z"
   },
   {
    "duration": 3,
    "start_time": "2022-04-09T14:02:56.824Z"
   },
   {
    "duration": 10,
    "start_time": "2022-04-09T14:02:56.829Z"
   },
   {
    "duration": 45,
    "start_time": "2022-04-09T14:02:56.841Z"
   },
   {
    "duration": 13,
    "start_time": "2022-04-09T14:02:56.888Z"
   },
   {
    "duration": 5,
    "start_time": "2022-04-09T14:02:56.903Z"
   },
   {
    "duration": 4238,
    "start_time": "2022-04-09T14:02:56.910Z"
   },
   {
    "duration": 8,
    "start_time": "2022-04-09T14:03:01.149Z"
   },
   {
    "duration": 31,
    "start_time": "2022-04-09T14:03:01.159Z"
   },
   {
    "duration": 500,
    "start_time": "2022-04-09T14:03:07.841Z"
   },
   {
    "duration": 5,
    "start_time": "2022-04-09T14:07:42.105Z"
   },
   {
    "duration": 103,
    "start_time": "2022-04-09T14:10:23.318Z"
   },
   {
    "duration": 9,
    "start_time": "2022-04-09T14:10:58.440Z"
   },
   {
    "duration": 114,
    "start_time": "2022-04-09T14:11:06.553Z"
   },
   {
    "duration": 12,
    "start_time": "2022-04-09T14:11:28.138Z"
   },
   {
    "duration": 6298,
    "start_time": "2022-04-09T14:12:10.723Z"
   },
   {
    "duration": 478,
    "start_time": "2022-04-09T14:13:28.607Z"
   },
   {
    "duration": 6361,
    "start_time": "2022-04-09T14:13:35.779Z"
   },
   {
    "duration": 5228,
    "start_time": "2022-04-09T15:09:58.163Z"
   },
   {
    "duration": 7,
    "start_time": "2022-04-09T15:10:31.159Z"
   },
   {
    "duration": 8,
    "start_time": "2022-04-09T15:15:26.693Z"
   },
   {
    "duration": 1531,
    "start_time": "2022-04-09T15:15:45.750Z"
   },
   {
    "duration": 10,
    "start_time": "2022-04-09T15:16:01.598Z"
   },
   {
    "duration": 8,
    "start_time": "2022-04-09T15:16:10.975Z"
   },
   {
    "duration": 1254,
    "start_time": "2022-04-09T15:16:17.676Z"
   },
   {
    "duration": 1527,
    "start_time": "2022-04-09T15:16:34.133Z"
   },
   {
    "duration": 9,
    "start_time": "2022-04-09T15:16:57.180Z"
   },
   {
    "duration": 1597,
    "start_time": "2022-04-09T15:17:16.643Z"
   },
   {
    "duration": 1740,
    "start_time": "2022-04-09T15:20:27.235Z"
   },
   {
    "duration": 1694,
    "start_time": "2022-04-09T15:20:38.929Z"
   },
   {
    "duration": 11,
    "start_time": "2022-04-09T15:30:14.143Z"
   },
   {
    "duration": 12,
    "start_time": "2022-04-09T15:30:18.808Z"
   },
   {
    "duration": 3598,
    "start_time": "2022-04-09T15:31:14.110Z"
   },
   {
    "duration": 7,
    "start_time": "2022-04-09T15:31:22.653Z"
   },
   {
    "duration": 8380,
    "start_time": "2022-04-09T15:31:57.669Z"
   },
   {
    "duration": 1681,
    "start_time": "2022-04-09T15:33:57.966Z"
   },
   {
    "duration": 1698,
    "start_time": "2022-04-09T15:34:06.706Z"
   },
   {
    "duration": 1958,
    "start_time": "2022-04-09T15:35:39.723Z"
   },
   {
    "duration": 2912,
    "start_time": "2022-04-09T15:36:26.950Z"
   },
   {
    "duration": 2132,
    "start_time": "2022-04-09T15:37:48.978Z"
   },
   {
    "duration": 1751,
    "start_time": "2022-04-09T15:37:57.672Z"
   },
   {
    "duration": 1617,
    "start_time": "2022-04-09T15:38:51.324Z"
   },
   {
    "duration": 1652,
    "start_time": "2022-04-09T15:39:31.307Z"
   },
   {
    "duration": 1981,
    "start_time": "2022-04-09T15:39:44.851Z"
   },
   {
    "duration": 2756,
    "start_time": "2022-04-09T15:39:53.804Z"
   },
   {
    "duration": 2984,
    "start_time": "2022-04-09T15:40:07.982Z"
   },
   {
    "duration": 2394,
    "start_time": "2022-04-09T15:40:23.191Z"
   },
   {
    "duration": 2,
    "start_time": "2022-04-09T19:06:18.496Z"
   },
   {
    "duration": 258,
    "start_time": "2022-04-09T21:10:01.577Z"
   },
   {
    "duration": 8,
    "start_time": "2022-04-09T21:10:07.296Z"
   },
   {
    "duration": 6,
    "start_time": "2022-04-09T21:10:11.129Z"
   },
   {
    "duration": 11,
    "start_time": "2022-04-09T21:10:51.551Z"
   },
   {
    "duration": 12,
    "start_time": "2022-04-09T21:11:01.713Z"
   },
   {
    "duration": 11,
    "start_time": "2022-04-09T21:11:05.745Z"
   },
   {
    "duration": 7,
    "start_time": "2022-04-09T21:11:09.122Z"
   },
   {
    "duration": 7,
    "start_time": "2022-04-09T21:11:14.951Z"
   },
   {
    "duration": 11,
    "start_time": "2022-04-09T21:11:20.631Z"
   },
   {
    "duration": 7,
    "start_time": "2022-04-09T21:11:23.142Z"
   },
   {
    "duration": 6,
    "start_time": "2022-04-09T21:11:25.359Z"
   },
   {
    "duration": 10,
    "start_time": "2022-04-09T21:12:31.743Z"
   },
   {
    "duration": 4,
    "start_time": "2022-04-09T21:12:36.091Z"
   },
   {
    "duration": 193,
    "start_time": "2022-04-09T21:13:20.163Z"
   },
   {
    "duration": 9,
    "start_time": "2022-04-09T21:13:29.801Z"
   },
   {
    "duration": 5,
    "start_time": "2022-04-09T21:13:34.986Z"
   },
   {
    "duration": 5,
    "start_time": "2022-04-09T21:13:38.094Z"
   },
   {
    "duration": 7,
    "start_time": "2022-04-09T21:13:41.170Z"
   },
   {
    "duration": 5,
    "start_time": "2022-04-09T21:13:47.242Z"
   },
   {
    "duration": 6,
    "start_time": "2022-04-09T21:13:54.957Z"
   },
   {
    "duration": 6,
    "start_time": "2022-04-09T21:14:15.261Z"
   },
   {
    "duration": 6,
    "start_time": "2022-04-09T21:14:18.177Z"
   },
   {
    "duration": 6,
    "start_time": "2022-04-09T21:14:21.706Z"
   },
   {
    "duration": 11,
    "start_time": "2022-04-09T21:15:47.302Z"
   },
   {
    "duration": 10,
    "start_time": "2022-04-09T21:15:58.463Z"
   },
   {
    "duration": 11,
    "start_time": "2022-04-09T21:16:29.453Z"
   },
   {
    "duration": 6,
    "start_time": "2022-04-09T21:16:38.102Z"
   },
   {
    "duration": 6,
    "start_time": "2022-04-09T21:16:49.231Z"
   },
   {
    "duration": 6,
    "start_time": "2022-04-09T21:17:23.037Z"
   },
   {
    "duration": 6,
    "start_time": "2022-04-09T21:17:28.230Z"
   },
   {
    "duration": 10,
    "start_time": "2022-04-09T21:17:33.211Z"
   },
   {
    "duration": 10,
    "start_time": "2022-04-09T21:17:36.620Z"
   },
   {
    "duration": 6,
    "start_time": "2022-04-09T21:17:39.117Z"
   },
   {
    "duration": 6,
    "start_time": "2022-04-09T21:17:41.481Z"
   },
   {
    "duration": 10,
    "start_time": "2022-04-09T21:17:43.251Z"
   },
   {
    "duration": 7,
    "start_time": "2022-04-09T21:17:46.371Z"
   },
   {
    "duration": 7,
    "start_time": "2022-04-09T21:17:59.443Z"
   },
   {
    "duration": 6,
    "start_time": "2022-04-09T21:18:09.435Z"
   },
   {
    "duration": 196,
    "start_time": "2022-04-09T21:18:25.329Z"
   },
   {
    "duration": 7,
    "start_time": "2022-04-09T21:18:28.855Z"
   },
   {
    "duration": 1055,
    "start_time": "2022-04-10T05:44:43.639Z"
   },
   {
    "duration": 479,
    "start_time": "2022-04-10T05:44:44.697Z"
   },
   {
    "duration": 34,
    "start_time": "2022-04-10T05:44:45.178Z"
   },
   {
    "duration": 27,
    "start_time": "2022-04-10T05:44:45.215Z"
   },
   {
    "duration": 38,
    "start_time": "2022-04-10T05:44:45.245Z"
   },
   {
    "duration": 36,
    "start_time": "2022-04-10T05:44:45.285Z"
   },
   {
    "duration": 65,
    "start_time": "2022-04-10T05:44:45.323Z"
   },
   {
    "duration": 31,
    "start_time": "2022-04-10T05:44:45.390Z"
   },
   {
    "duration": 56,
    "start_time": "2022-04-10T05:44:45.423Z"
   },
   {
    "duration": 11,
    "start_time": "2022-04-10T05:44:45.481Z"
   },
   {
    "duration": 30,
    "start_time": "2022-04-10T05:44:45.494Z"
   },
   {
    "duration": 10,
    "start_time": "2022-04-10T05:44:45.526Z"
   },
   {
    "duration": 41,
    "start_time": "2022-04-10T05:44:45.538Z"
   },
   {
    "duration": 16,
    "start_time": "2022-04-10T05:44:45.583Z"
   },
   {
    "duration": 19,
    "start_time": "2022-04-10T05:44:45.601Z"
   },
   {
    "duration": 74,
    "start_time": "2022-04-10T05:44:45.622Z"
   },
   {
    "duration": 7,
    "start_time": "2022-04-10T05:44:45.698Z"
   },
   {
    "duration": 27,
    "start_time": "2022-04-10T05:44:45.707Z"
   },
   {
    "duration": 86,
    "start_time": "2022-04-10T05:44:45.736Z"
   },
   {
    "duration": 4,
    "start_time": "2022-04-10T05:44:45.824Z"
   },
   {
    "duration": 18,
    "start_time": "2022-04-10T05:44:45.829Z"
   },
   {
    "duration": 53,
    "start_time": "2022-04-10T05:44:45.849Z"
   },
   {
    "duration": 22,
    "start_time": "2022-04-10T05:44:45.904Z"
   },
   {
    "duration": 68,
    "start_time": "2022-04-10T05:44:45.929Z"
   },
   {
    "duration": 28,
    "start_time": "2022-04-10T05:44:46.000Z"
   },
   {
    "duration": 45,
    "start_time": "2022-04-10T05:44:46.030Z"
   },
   {
    "duration": 43,
    "start_time": "2022-04-10T05:44:46.077Z"
   },
   {
    "duration": 13,
    "start_time": "2022-04-10T05:44:46.122Z"
   },
   {
    "duration": 8,
    "start_time": "2022-04-10T05:44:46.137Z"
   },
   {
    "duration": 45,
    "start_time": "2022-04-10T05:44:46.147Z"
   },
   {
    "duration": 22,
    "start_time": "2022-04-10T05:44:46.195Z"
   },
   {
    "duration": 21,
    "start_time": "2022-04-10T05:44:46.219Z"
   },
   {
    "duration": 32,
    "start_time": "2022-04-10T05:44:46.242Z"
   },
   {
    "duration": 7904,
    "start_time": "2022-04-10T05:44:46.276Z"
   },
   {
    "duration": 10,
    "start_time": "2022-04-10T05:44:54.183Z"
   },
   {
    "duration": 30,
    "start_time": "2022-04-10T05:44:54.195Z"
   },
   {
    "duration": 23,
    "start_time": "2022-04-10T05:44:54.227Z"
   },
   {
    "duration": 701,
    "start_time": "2022-04-10T05:44:54.275Z"
   },
   {
    "duration": 13,
    "start_time": "2022-04-10T05:44:54.978Z"
   },
   {
    "duration": 10,
    "start_time": "2022-04-10T05:44:54.993Z"
   },
   {
    "duration": 176,
    "start_time": "2022-04-10T05:44:55.008Z"
   },
   {
    "duration": 12,
    "start_time": "2022-04-10T05:45:35.724Z"
   },
   {
    "duration": 4,
    "start_time": "2022-04-10T05:45:38.268Z"
   },
   {
    "duration": 3306,
    "start_time": "2022-04-10T05:45:39.600Z"
   },
   {
    "duration": 96,
    "start_time": "2022-04-10T05:47:42.866Z"
   },
   {
    "duration": 9,
    "start_time": "2022-04-10T05:48:19.979Z"
   },
   {
    "duration": 13,
    "start_time": "2022-04-10T05:48:51.886Z"
   },
   {
    "duration": 9,
    "start_time": "2022-04-10T05:48:58.421Z"
   },
   {
    "duration": 85,
    "start_time": "2022-04-10T05:50:41.411Z"
   },
   {
    "duration": 8,
    "start_time": "2022-04-10T05:51:28.908Z"
   },
   {
    "duration": 8,
    "start_time": "2022-04-10T05:51:29.861Z"
   },
   {
    "duration": 9,
    "start_time": "2022-04-10T05:52:05.782Z"
   },
   {
    "duration": 7,
    "start_time": "2022-04-10T05:52:13.709Z"
   },
   {
    "duration": 8,
    "start_time": "2022-04-10T05:52:20.753Z"
   },
   {
    "duration": 1096,
    "start_time": "2022-04-10T12:16:39.847Z"
   },
   {
    "duration": 573,
    "start_time": "2022-04-10T12:16:40.949Z"
   },
   {
    "duration": 45,
    "start_time": "2022-04-10T12:16:41.524Z"
   },
   {
    "duration": 32,
    "start_time": "2022-04-10T12:16:41.573Z"
   },
   {
    "duration": 13,
    "start_time": "2022-04-10T12:16:41.607Z"
   },
   {
    "duration": 60,
    "start_time": "2022-04-10T12:16:41.622Z"
   },
   {
    "duration": 60,
    "start_time": "2022-04-10T12:16:41.685Z"
   },
   {
    "duration": 38,
    "start_time": "2022-04-10T12:16:41.749Z"
   },
   {
    "duration": 70,
    "start_time": "2022-04-10T12:16:41.789Z"
   },
   {
    "duration": 12,
    "start_time": "2022-04-10T12:16:41.865Z"
   },
   {
    "duration": 40,
    "start_time": "2022-04-10T12:16:41.879Z"
   },
   {
    "duration": 32,
    "start_time": "2022-04-10T12:16:41.922Z"
   },
   {
    "duration": 30,
    "start_time": "2022-04-10T12:16:41.957Z"
   },
   {
    "duration": 18,
    "start_time": "2022-04-10T12:16:41.989Z"
   },
   {
    "duration": 42,
    "start_time": "2022-04-10T12:16:42.009Z"
   },
   {
    "duration": 68,
    "start_time": "2022-04-10T12:16:42.054Z"
   },
   {
    "duration": 7,
    "start_time": "2022-04-10T12:16:42.124Z"
   },
   {
    "duration": 43,
    "start_time": "2022-04-10T12:16:42.134Z"
   },
   {
    "duration": 78,
    "start_time": "2022-04-10T12:16:42.179Z"
   },
   {
    "duration": 7,
    "start_time": "2022-04-10T12:16:42.259Z"
   },
   {
    "duration": 19,
    "start_time": "2022-04-10T12:16:42.268Z"
   },
   {
    "duration": 69,
    "start_time": "2022-04-10T12:16:42.290Z"
   },
   {
    "duration": 27,
    "start_time": "2022-04-10T12:16:42.361Z"
   },
   {
    "duration": 65,
    "start_time": "2022-04-10T12:16:42.391Z"
   },
   {
    "duration": 33,
    "start_time": "2022-04-10T12:16:42.458Z"
   },
   {
    "duration": 22,
    "start_time": "2022-04-10T12:16:42.494Z"
   },
   {
    "duration": 47,
    "start_time": "2022-04-10T12:16:42.542Z"
   },
   {
    "duration": 13,
    "start_time": "2022-04-10T12:16:42.594Z"
   },
   {
    "duration": 37,
    "start_time": "2022-04-10T12:16:42.609Z"
   },
   {
    "duration": 28,
    "start_time": "2022-04-10T12:16:42.649Z"
   },
   {
    "duration": 27,
    "start_time": "2022-04-10T12:16:42.679Z"
   },
   {
    "duration": 41,
    "start_time": "2022-04-10T12:16:42.708Z"
   },
   {
    "duration": 16,
    "start_time": "2022-04-10T12:16:42.751Z"
   },
   {
    "duration": 8194,
    "start_time": "2022-04-10T12:16:42.769Z"
   },
   {
    "duration": 31,
    "start_time": "2022-04-10T12:16:50.965Z"
   },
   {
    "duration": 817,
    "start_time": "2022-04-10T12:16:50.999Z"
   },
   {
    "duration": 10,
    "start_time": "2022-04-10T12:16:51.819Z"
   },
   {
    "duration": 13,
    "start_time": "2022-04-10T12:16:51.846Z"
   },
   {
    "duration": 3559,
    "start_time": "2022-04-10T12:16:51.861Z"
   },
   {
    "duration": 10,
    "start_time": "2022-04-10T12:16:55.422Z"
   },
   {
    "duration": 16,
    "start_time": "2022-04-10T12:16:55.434Z"
   },
   {
    "duration": 4117,
    "start_time": "2022-04-10T12:17:01.133Z"
   },
   {
    "duration": 12,
    "start_time": "2022-04-10T12:18:55.696Z"
   },
   {
    "duration": 852,
    "start_time": "2022-04-10T12:20:15.251Z"
   },
   {
    "duration": 8,
    "start_time": "2022-04-10T13:43:34.088Z"
   },
   {
    "duration": 7,
    "start_time": "2022-04-10T13:43:42.126Z"
   },
   {
    "duration": 3642,
    "start_time": "2022-04-10T13:44:01.990Z"
   },
   {
    "duration": 15,
    "start_time": "2022-04-10T13:44:24.867Z"
   },
   {
    "duration": 200,
    "start_time": "2022-04-10T13:45:06.873Z"
   },
   {
    "duration": 207,
    "start_time": "2022-04-10T13:47:14.840Z"
   },
   {
    "duration": 11,
    "start_time": "2022-04-10T14:31:41.877Z"
   },
   {
    "duration": 10,
    "start_time": "2022-04-10T14:31:47.929Z"
   },
   {
    "duration": 872,
    "start_time": "2022-04-11T10:19:36.269Z"
   },
   {
    "duration": 461,
    "start_time": "2022-04-11T10:19:37.143Z"
   },
   {
    "duration": 28,
    "start_time": "2022-04-11T10:19:37.606Z"
   },
   {
    "duration": 24,
    "start_time": "2022-04-11T10:19:37.636Z"
   },
   {
    "duration": 9,
    "start_time": "2022-04-11T10:19:37.662Z"
   },
   {
    "duration": 27,
    "start_time": "2022-04-11T10:19:37.673Z"
   },
   {
    "duration": 57,
    "start_time": "2022-04-11T10:19:37.701Z"
   },
   {
    "duration": 23,
    "start_time": "2022-04-11T10:19:37.759Z"
   },
   {
    "duration": 54,
    "start_time": "2022-04-11T10:19:37.783Z"
   },
   {
    "duration": 8,
    "start_time": "2022-04-11T10:19:37.840Z"
   },
   {
    "duration": 23,
    "start_time": "2022-04-11T10:19:37.850Z"
   },
   {
    "duration": 7,
    "start_time": "2022-04-11T10:19:37.875Z"
   },
   {
    "duration": 10,
    "start_time": "2022-04-11T10:19:37.884Z"
   },
   {
    "duration": 40,
    "start_time": "2022-04-11T10:19:37.896Z"
   },
   {
    "duration": 20,
    "start_time": "2022-04-11T10:19:37.938Z"
   },
   {
    "duration": 50,
    "start_time": "2022-04-11T10:19:37.960Z"
   },
   {
    "duration": 26,
    "start_time": "2022-04-11T10:19:38.012Z"
   },
   {
    "duration": 21,
    "start_time": "2022-04-11T10:19:38.039Z"
   },
   {
    "duration": 48,
    "start_time": "2022-04-11T10:19:38.061Z"
   },
   {
    "duration": 21,
    "start_time": "2022-04-11T10:19:38.111Z"
   },
   {
    "duration": 10,
    "start_time": "2022-04-11T10:19:38.134Z"
   },
   {
    "duration": 29,
    "start_time": "2022-04-11T10:19:38.146Z"
   },
   {
    "duration": 19,
    "start_time": "2022-04-11T10:19:38.177Z"
   },
   {
    "duration": 65,
    "start_time": "2022-04-11T10:19:38.198Z"
   },
   {
    "duration": 21,
    "start_time": "2022-04-11T10:19:38.265Z"
   },
   {
    "duration": 16,
    "start_time": "2022-04-11T10:19:38.288Z"
   },
   {
    "duration": 54,
    "start_time": "2022-04-11T10:19:38.306Z"
   },
   {
    "duration": 9,
    "start_time": "2022-04-11T10:19:38.364Z"
   },
   {
    "duration": 6,
    "start_time": "2022-04-11T10:19:38.375Z"
   },
   {
    "duration": 16,
    "start_time": "2022-04-11T10:19:38.382Z"
   },
   {
    "duration": 44,
    "start_time": "2022-04-11T10:19:38.400Z"
   },
   {
    "duration": 15,
    "start_time": "2022-04-11T10:19:38.446Z"
   },
   {
    "duration": 6,
    "start_time": "2022-04-11T10:19:38.462Z"
   },
   {
    "duration": 5106,
    "start_time": "2022-04-11T10:19:38.469Z"
   },
   {
    "duration": 22,
    "start_time": "2022-04-11T10:19:43.577Z"
   },
   {
    "duration": 573,
    "start_time": "2022-04-11T10:19:43.600Z"
   },
   {
    "duration": 8,
    "start_time": "2022-04-11T10:19:44.175Z"
   },
   {
    "duration": 7,
    "start_time": "2022-04-11T10:19:44.185Z"
   },
   {
    "duration": 2531,
    "start_time": "2022-04-11T10:19:44.193Z"
   },
   {
    "duration": 7,
    "start_time": "2022-04-11T10:19:46.726Z"
   },
   {
    "duration": 9,
    "start_time": "2022-04-11T10:19:46.735Z"
   },
   {
    "duration": 2798,
    "start_time": "2022-04-11T10:19:46.746Z"
   },
   {
    "duration": 9,
    "start_time": "2022-04-11T10:19:49.546Z"
   },
   {
    "duration": 9,
    "start_time": "2022-04-11T10:19:49.557Z"
   },
   {
    "duration": 7,
    "start_time": "2022-04-11T10:19:49.568Z"
   },
   {
    "duration": 2379,
    "start_time": "2022-04-11T10:19:49.577Z"
   },
   {
    "duration": 9,
    "start_time": "2022-04-11T10:19:51.958Z"
   },
   {
    "duration": 3,
    "start_time": "2022-04-11T10:32:38.138Z"
   },
   {
    "duration": 431,
    "start_time": "2022-04-11T10:32:38.143Z"
   },
   {
    "duration": 28,
    "start_time": "2022-04-11T10:32:38.576Z"
   },
   {
    "duration": 18,
    "start_time": "2022-04-11T10:32:38.606Z"
   },
   {
    "duration": 9,
    "start_time": "2022-04-11T10:32:38.627Z"
   },
   {
    "duration": 28,
    "start_time": "2022-04-11T10:32:38.638Z"
   },
   {
    "duration": 29,
    "start_time": "2022-04-11T10:32:38.669Z"
   },
   {
    "duration": 40,
    "start_time": "2022-04-11T10:32:38.700Z"
   },
   {
    "duration": 33,
    "start_time": "2022-04-11T10:32:38.742Z"
   },
   {
    "duration": 9,
    "start_time": "2022-04-11T10:32:38.777Z"
   },
   {
    "duration": 34,
    "start_time": "2022-04-11T10:32:38.788Z"
   },
   {
    "duration": 9,
    "start_time": "2022-04-11T10:32:38.831Z"
   },
   {
    "duration": 19,
    "start_time": "2022-04-11T10:32:38.841Z"
   },
   {
    "duration": 17,
    "start_time": "2022-04-11T10:32:38.863Z"
   },
   {
    "duration": 22,
    "start_time": "2022-04-11T10:32:38.882Z"
   },
   {
    "duration": 47,
    "start_time": "2022-04-11T10:32:38.905Z"
   },
   {
    "duration": 5,
    "start_time": "2022-04-11T10:32:38.953Z"
   },
   {
    "duration": 26,
    "start_time": "2022-04-11T10:32:38.960Z"
   },
   {
    "duration": 46,
    "start_time": "2022-04-11T10:32:38.987Z"
   },
   {
    "duration": 3,
    "start_time": "2022-04-11T10:32:39.035Z"
   },
   {
    "duration": 21,
    "start_time": "2022-04-11T10:32:39.040Z"
   },
   {
    "duration": 34,
    "start_time": "2022-04-11T10:32:39.063Z"
   },
   {
    "duration": 18,
    "start_time": "2022-04-11T10:32:39.099Z"
   },
   {
    "duration": 38,
    "start_time": "2022-04-11T10:32:39.118Z"
   },
   {
    "duration": 21,
    "start_time": "2022-04-11T10:32:39.158Z"
   },
   {
    "duration": 16,
    "start_time": "2022-04-11T10:32:39.181Z"
   },
   {
    "duration": 53,
    "start_time": "2022-04-11T10:32:39.199Z"
   },
   {
    "duration": 10,
    "start_time": "2022-04-11T10:32:39.254Z"
   },
   {
    "duration": 19,
    "start_time": "2022-04-11T10:32:39.265Z"
   },
   {
    "duration": 23,
    "start_time": "2022-04-11T10:32:39.285Z"
   },
   {
    "duration": 30,
    "start_time": "2022-04-11T10:32:39.309Z"
   },
   {
    "duration": 13,
    "start_time": "2022-04-11T10:32:39.341Z"
   },
   {
    "duration": 5,
    "start_time": "2022-04-11T10:32:39.356Z"
   },
   {
    "duration": 5021,
    "start_time": "2022-04-11T10:32:39.362Z"
   },
   {
    "duration": 21,
    "start_time": "2022-04-11T10:32:44.385Z"
   },
   {
    "duration": 2,
    "start_time": "2022-04-11T10:32:44.408Z"
   },
   {
    "duration": 21,
    "start_time": "2022-04-11T10:32:44.412Z"
   },
   {
    "duration": 13,
    "start_time": "2022-04-11T10:32:44.435Z"
   },
   {
    "duration": 2440,
    "start_time": "2022-04-11T10:32:44.450Z"
   },
   {
    "duration": 7,
    "start_time": "2022-04-11T10:32:46.892Z"
   },
   {
    "duration": 8,
    "start_time": "2022-04-11T10:32:46.903Z"
   },
   {
    "duration": 2561,
    "start_time": "2022-04-11T10:32:46.912Z"
   },
   {
    "duration": 9,
    "start_time": "2022-04-11T10:32:49.475Z"
   },
   {
    "duration": 9,
    "start_time": "2022-04-11T10:32:49.486Z"
   },
   {
    "duration": 9,
    "start_time": "2022-04-11T10:32:49.496Z"
   },
   {
    "duration": 2453,
    "start_time": "2022-04-11T10:32:49.507Z"
   },
   {
    "duration": 8,
    "start_time": "2022-04-11T10:32:51.962Z"
   },
   {
    "duration": 24,
    "start_time": "2022-04-11T10:32:51.972Z"
   },
   {
    "duration": 134,
    "start_time": "2022-04-11T11:17:07.465Z"
   },
   {
    "duration": 3,
    "start_time": "2022-04-11T11:17:20.063Z"
   },
   {
    "duration": 15,
    "start_time": "2022-04-11T11:17:21.108Z"
   },
   {
    "duration": 215,
    "start_time": "2022-04-11T11:17:27.198Z"
   },
   {
    "duration": 205,
    "start_time": "2022-04-11T11:17:38.018Z"
   },
   {
    "duration": 203,
    "start_time": "2022-04-11T11:17:55.693Z"
   },
   {
    "duration": 4,
    "start_time": "2022-04-11T11:18:04.532Z"
   },
   {
    "duration": 6,
    "start_time": "2022-04-11T11:18:06.656Z"
   },
   {
    "duration": 7,
    "start_time": "2022-04-11T11:18:49.825Z"
   },
   {
    "duration": 7,
    "start_time": "2022-04-11T11:18:56.694Z"
   },
   {
    "duration": 17,
    "start_time": "2022-04-11T11:19:47.892Z"
   },
   {
    "duration": 434,
    "start_time": "2022-04-11T11:20:40.864Z"
   },
   {
    "duration": 10,
    "start_time": "2022-04-11T11:22:24.982Z"
   },
   {
    "duration": 9,
    "start_time": "2022-04-11T11:23:27.265Z"
   },
   {
    "duration": 13,
    "start_time": "2022-04-11T11:23:30.069Z"
   },
   {
    "duration": 8,
    "start_time": "2022-04-11T11:23:46.108Z"
   },
   {
    "duration": 4,
    "start_time": "2022-04-11T11:23:50.386Z"
   },
   {
    "duration": 172,
    "start_time": "2022-04-11T11:24:11.305Z"
   },
   {
    "duration": 183,
    "start_time": "2022-04-11T11:24:13.675Z"
   },
   {
    "duration": 175,
    "start_time": "2022-04-11T11:24:18.026Z"
   },
   {
    "duration": 191,
    "start_time": "2022-04-11T11:24:20.634Z"
   },
   {
    "duration": 173,
    "start_time": "2022-04-11T11:24:26.565Z"
   },
   {
    "duration": 5,
    "start_time": "2022-04-11T11:24:47.618Z"
   },
   {
    "duration": 5,
    "start_time": "2022-04-11T11:24:59.032Z"
   },
   {
    "duration": 6,
    "start_time": "2022-04-11T11:25:03.247Z"
   },
   {
    "duration": 5,
    "start_time": "2022-04-11T11:25:06.948Z"
   },
   {
    "duration": 6,
    "start_time": "2022-04-11T11:25:22.216Z"
   },
   {
    "duration": 4,
    "start_time": "2022-04-11T11:25:26.226Z"
   },
   {
    "duration": 4,
    "start_time": "2022-04-11T11:25:29.833Z"
   },
   {
    "duration": 175,
    "start_time": "2022-04-11T11:27:41.568Z"
   },
   {
    "duration": 4,
    "start_time": "2022-04-11T11:27:58.209Z"
   },
   {
    "duration": 4,
    "start_time": "2022-04-11T11:28:04.011Z"
   },
   {
    "duration": 4,
    "start_time": "2022-04-11T11:28:07.076Z"
   },
   {
    "duration": 5,
    "start_time": "2022-04-11T11:28:10.132Z"
   },
   {
    "duration": 5,
    "start_time": "2022-04-11T11:28:14.887Z"
   },
   {
    "duration": 5,
    "start_time": "2022-04-11T11:28:18.928Z"
   },
   {
    "duration": 16,
    "start_time": "2022-04-11T11:28:44.753Z"
   },
   {
    "duration": 10,
    "start_time": "2022-04-11T11:29:27.237Z"
   },
   {
    "duration": 8,
    "start_time": "2022-04-11T11:29:30.733Z"
   },
   {
    "duration": 5,
    "start_time": "2022-04-11T11:29:30.976Z"
   },
   {
    "duration": 13,
    "start_time": "2022-04-11T11:36:00.996Z"
   },
   {
    "duration": 14,
    "start_time": "2022-04-11T11:36:03.263Z"
   },
   {
    "duration": 14,
    "start_time": "2022-04-11T11:36:07.424Z"
   },
   {
    "duration": 14,
    "start_time": "2022-04-11T11:36:12.965Z"
   },
   {
    "duration": 7,
    "start_time": "2022-04-11T11:36:27.704Z"
   },
   {
    "duration": 9,
    "start_time": "2022-04-11T11:39:02.930Z"
   },
   {
    "duration": 9,
    "start_time": "2022-04-11T11:39:11.293Z"
   },
   {
    "duration": 3,
    "start_time": "2022-04-11T11:39:16.748Z"
   },
   {
    "duration": 8,
    "start_time": "2022-04-11T11:39:25.045Z"
   },
   {
    "duration": 7,
    "start_time": "2022-04-11T11:39:32.882Z"
   },
   {
    "duration": 7,
    "start_time": "2022-04-11T11:39:39.007Z"
   },
   {
    "duration": 7,
    "start_time": "2022-04-11T11:39:42.407Z"
   },
   {
    "duration": 7,
    "start_time": "2022-04-11T11:39:47.597Z"
   },
   {
    "duration": 7,
    "start_time": "2022-04-11T11:39:51.281Z"
   },
   {
    "duration": 8,
    "start_time": "2022-04-11T11:40:06.184Z"
   },
   {
    "duration": 5,
    "start_time": "2022-04-11T11:41:28.190Z"
   },
   {
    "duration": 5,
    "start_time": "2022-04-11T11:41:34.474Z"
   },
   {
    "duration": 4,
    "start_time": "2022-04-11T11:41:42.985Z"
   },
   {
    "duration": 4,
    "start_time": "2022-04-11T11:41:52.138Z"
   },
   {
    "duration": 7,
    "start_time": "2022-04-11T11:42:25.510Z"
   },
   {
    "duration": 4,
    "start_time": "2022-04-11T11:43:08.346Z"
   },
   {
    "duration": 12,
    "start_time": "2022-04-11T11:44:04.421Z"
   },
   {
    "duration": 40,
    "start_time": "2022-04-11T11:44:11.770Z"
   },
   {
    "duration": 13,
    "start_time": "2022-04-11T11:44:35.256Z"
   },
   {
    "duration": 14,
    "start_time": "2022-04-11T11:44:39.888Z"
   },
   {
    "duration": 15,
    "start_time": "2022-04-11T11:44:47.877Z"
   },
   {
    "duration": 18,
    "start_time": "2022-04-11T11:45:26.952Z"
   },
   {
    "duration": 220,
    "start_time": "2022-04-11T11:46:52.304Z"
   },
   {
    "duration": 10,
    "start_time": "2022-04-11T11:51:18.162Z"
   },
   {
    "duration": 13,
    "start_time": "2022-04-11T11:51:52.184Z"
   },
   {
    "duration": 13,
    "start_time": "2022-04-11T11:51:55.106Z"
   },
   {
    "duration": 1028,
    "start_time": "2022-04-11T11:52:28.399Z"
   },
   {
    "duration": 14,
    "start_time": "2022-04-11T11:55:56.386Z"
   },
   {
    "duration": 9,
    "start_time": "2022-04-11T11:56:30.152Z"
   },
   {
    "duration": 8,
    "start_time": "2022-04-11T11:56:31.013Z"
   },
   {
    "duration": 13,
    "start_time": "2022-04-11T11:57:21.157Z"
   },
   {
    "duration": 9,
    "start_time": "2022-04-11T11:58:51.880Z"
   },
   {
    "duration": 9,
    "start_time": "2022-04-11T11:58:56.947Z"
   },
   {
    "duration": 2452,
    "start_time": "2022-04-11T12:00:43.583Z"
   },
   {
    "duration": 671,
    "start_time": "2022-04-11T12:02:10.348Z"
   },
   {
    "duration": 761,
    "start_time": "2022-04-11T12:02:28.173Z"
   },
   {
    "duration": 573,
    "start_time": "2022-04-11T12:02:31.671Z"
   },
   {
    "duration": 1056,
    "start_time": "2022-04-11T12:02:35.227Z"
   },
   {
    "duration": 709,
    "start_time": "2022-04-11T12:04:43.292Z"
   },
   {
    "duration": 733,
    "start_time": "2022-04-11T12:04:50.288Z"
   },
   {
    "duration": 556,
    "start_time": "2022-04-11T12:06:20.602Z"
   },
   {
    "duration": 724,
    "start_time": "2022-04-11T12:06:26.979Z"
   },
   {
    "duration": 918,
    "start_time": "2022-04-11T12:06:31.903Z"
   },
   {
    "duration": 760,
    "start_time": "2022-04-11T12:06:42.901Z"
   },
   {
    "duration": 721,
    "start_time": "2022-04-11T12:06:47.093Z"
   },
   {
    "duration": 706,
    "start_time": "2022-04-11T12:06:54.382Z"
   },
   {
    "duration": 686,
    "start_time": "2022-04-11T12:09:40.185Z"
   },
   {
    "duration": 179,
    "start_time": "2022-04-11T12:10:47.226Z"
   },
   {
    "duration": 882,
    "start_time": "2022-04-11T12:13:08.000Z"
   },
   {
    "duration": 443,
    "start_time": "2022-04-11T12:13:08.884Z"
   },
   {
    "duration": 29,
    "start_time": "2022-04-11T12:13:09.328Z"
   },
   {
    "duration": 23,
    "start_time": "2022-04-11T12:13:09.359Z"
   },
   {
    "duration": 10,
    "start_time": "2022-04-11T12:13:09.385Z"
   },
   {
    "duration": 55,
    "start_time": "2022-04-11T12:13:09.397Z"
   },
   {
    "duration": 52,
    "start_time": "2022-04-11T12:13:09.453Z"
   },
   {
    "duration": 23,
    "start_time": "2022-04-11T12:13:09.507Z"
   },
   {
    "duration": 31,
    "start_time": "2022-04-11T12:13:09.532Z"
   },
   {
    "duration": 9,
    "start_time": "2022-04-11T12:13:09.564Z"
   },
   {
    "duration": 36,
    "start_time": "2022-04-11T12:13:09.574Z"
   },
   {
    "duration": 21,
    "start_time": "2022-04-11T12:13:09.612Z"
   },
   {
    "duration": 29,
    "start_time": "2022-04-11T12:13:09.635Z"
   },
   {
    "duration": 20,
    "start_time": "2022-04-11T12:13:09.668Z"
   },
   {
    "duration": 31,
    "start_time": "2022-04-11T12:13:09.689Z"
   },
   {
    "duration": 14,
    "start_time": "2022-04-11T12:13:09.722Z"
   },
   {
    "duration": 40,
    "start_time": "2022-04-11T12:13:09.738Z"
   },
   {
    "duration": 6,
    "start_time": "2022-04-11T12:13:09.780Z"
   },
   {
    "duration": 34,
    "start_time": "2022-04-11T12:13:09.788Z"
   },
   {
    "duration": 57,
    "start_time": "2022-04-11T12:13:09.824Z"
   },
   {
    "duration": 4,
    "start_time": "2022-04-11T12:13:09.882Z"
   },
   {
    "duration": 15,
    "start_time": "2022-04-11T12:13:09.887Z"
   },
   {
    "duration": 37,
    "start_time": "2022-04-11T12:13:09.903Z"
   },
   {
    "duration": 19,
    "start_time": "2022-04-11T12:13:09.941Z"
   },
   {
    "duration": 36,
    "start_time": "2022-04-11T12:13:09.962Z"
   },
   {
    "duration": 43,
    "start_time": "2022-04-11T12:13:09.999Z"
   },
   {
    "duration": 16,
    "start_time": "2022-04-11T12:13:10.044Z"
   },
   {
    "duration": 45,
    "start_time": "2022-04-11T12:13:10.062Z"
   },
   {
    "duration": 25,
    "start_time": "2022-04-11T12:13:10.108Z"
   },
   {
    "duration": 13,
    "start_time": "2022-04-11T12:13:10.135Z"
   },
   {
    "duration": 24,
    "start_time": "2022-04-11T12:13:10.150Z"
   },
   {
    "duration": 23,
    "start_time": "2022-04-11T12:13:10.175Z"
   },
   {
    "duration": 16,
    "start_time": "2022-04-11T12:13:10.200Z"
   },
   {
    "duration": 17,
    "start_time": "2022-04-11T12:13:10.218Z"
   },
   {
    "duration": 4941,
    "start_time": "2022-04-11T12:13:10.237Z"
   },
   {
    "duration": 20,
    "start_time": "2022-04-11T12:13:15.180Z"
   },
   {
    "duration": 389,
    "start_time": "2022-04-11T12:13:15.202Z"
   },
   {
    "duration": 7,
    "start_time": "2022-04-11T12:13:15.593Z"
   },
   {
    "duration": 8,
    "start_time": "2022-04-11T12:13:15.602Z"
   },
   {
    "duration": 2264,
    "start_time": "2022-04-11T12:13:15.612Z"
   },
   {
    "duration": 7,
    "start_time": "2022-04-11T12:13:17.881Z"
   },
   {
    "duration": 8,
    "start_time": "2022-04-11T12:13:17.890Z"
   },
   {
    "duration": 2484,
    "start_time": "2022-04-11T12:13:17.900Z"
   },
   {
    "duration": 10,
    "start_time": "2022-04-11T12:13:20.386Z"
   },
   {
    "duration": 8,
    "start_time": "2022-04-11T12:13:20.398Z"
   },
   {
    "duration": 28,
    "start_time": "2022-04-11T12:13:20.407Z"
   },
   {
    "duration": 2221,
    "start_time": "2022-04-11T12:13:20.437Z"
   },
   {
    "duration": 9,
    "start_time": "2022-04-11T12:13:22.660Z"
   },
   {
    "duration": 8,
    "start_time": "2022-04-11T12:13:22.671Z"
   },
   {
    "duration": 9,
    "start_time": "2022-04-11T12:13:22.681Z"
   },
   {
    "duration": 43,
    "start_time": "2022-04-11T12:13:22.691Z"
   },
   {
    "duration": 8,
    "start_time": "2022-04-11T12:13:22.736Z"
   },
   {
    "duration": 609,
    "start_time": "2022-04-11T12:13:22.746Z"
   },
   {
    "duration": 1121,
    "start_time": "2022-04-21T16:37:29.563Z"
   },
   {
    "duration": 937,
    "start_time": "2022-04-21T20:37:37.814Z"
   },
   {
    "duration": 537,
    "start_time": "2022-04-21T20:37:38.753Z"
   },
   {
    "duration": 25,
    "start_time": "2022-04-21T20:37:39.292Z"
   },
   {
    "duration": 19,
    "start_time": "2022-04-21T20:37:39.319Z"
   },
   {
    "duration": 8,
    "start_time": "2022-04-21T20:37:39.340Z"
   },
   {
    "duration": 24,
    "start_time": "2022-04-21T20:37:39.349Z"
   },
   {
    "duration": 51,
    "start_time": "2022-04-21T20:37:39.374Z"
   },
   {
    "duration": 22,
    "start_time": "2022-04-21T20:37:39.427Z"
   },
   {
    "duration": 51,
    "start_time": "2022-04-21T20:37:39.450Z"
   },
   {
    "duration": 8,
    "start_time": "2022-04-21T20:37:39.503Z"
   },
   {
    "duration": 17,
    "start_time": "2022-04-21T20:37:39.523Z"
   },
   {
    "duration": 11,
    "start_time": "2022-04-21T20:37:39.542Z"
   },
   {
    "duration": 22,
    "start_time": "2022-04-21T20:37:39.554Z"
   },
   {
    "duration": 23,
    "start_time": "2022-04-21T20:37:39.579Z"
   },
   {
    "duration": 20,
    "start_time": "2022-04-21T20:37:39.604Z"
   },
   {
    "duration": 17,
    "start_time": "2022-04-21T20:37:39.626Z"
   },
   {
    "duration": 44,
    "start_time": "2022-04-21T20:37:39.644Z"
   },
   {
    "duration": 5,
    "start_time": "2022-04-21T20:37:39.690Z"
   },
   {
    "duration": 35,
    "start_time": "2022-04-21T20:37:39.697Z"
   },
   {
    "duration": 52,
    "start_time": "2022-04-21T20:37:39.734Z"
   },
   {
    "duration": 3,
    "start_time": "2022-04-21T20:37:39.788Z"
   },
   {
    "duration": 12,
    "start_time": "2022-04-21T20:37:39.793Z"
   },
   {
    "duration": 27,
    "start_time": "2022-04-21T20:37:39.823Z"
   },
   {
    "duration": 19,
    "start_time": "2022-04-21T20:37:39.852Z"
   },
   {
    "duration": 54,
    "start_time": "2022-04-21T20:37:39.872Z"
   },
   {
    "duration": 20,
    "start_time": "2022-04-21T20:37:39.928Z"
   },
   {
    "duration": 17,
    "start_time": "2022-04-21T20:37:39.949Z"
   },
   {
    "duration": 33,
    "start_time": "2022-04-21T20:37:39.968Z"
   },
   {
    "duration": 26,
    "start_time": "2022-04-21T20:37:40.003Z"
   },
   {
    "duration": 7,
    "start_time": "2022-04-21T20:37:40.030Z"
   },
   {
    "duration": 22,
    "start_time": "2022-04-21T20:37:40.039Z"
   },
   {
    "duration": 29,
    "start_time": "2022-04-21T20:37:40.063Z"
   },
   {
    "duration": 13,
    "start_time": "2022-04-21T20:37:40.094Z"
   },
   {
    "duration": 25,
    "start_time": "2022-04-21T20:37:40.109Z"
   },
   {
    "duration": 6,
    "start_time": "2022-04-21T20:37:40.136Z"
   },
   {
    "duration": 5034,
    "start_time": "2022-04-21T20:37:40.144Z"
   },
   {
    "duration": 19,
    "start_time": "2022-04-21T20:37:45.179Z"
   },
   {
    "duration": 534,
    "start_time": "2022-04-21T20:37:45.200Z"
   },
   {
    "duration": 8,
    "start_time": "2022-04-21T20:37:45.736Z"
   },
   {
    "duration": 17,
    "start_time": "2022-04-21T20:37:45.745Z"
   },
   {
    "duration": 2028,
    "start_time": "2022-04-21T20:37:45.767Z"
   },
   {
    "duration": 8,
    "start_time": "2022-04-21T20:37:47.798Z"
   },
   {
    "duration": 18,
    "start_time": "2022-04-21T20:37:47.809Z"
   },
   {
    "duration": 2077,
    "start_time": "2022-04-21T20:37:47.829Z"
   },
   {
    "duration": 20,
    "start_time": "2022-04-21T20:37:49.908Z"
   },
   {
    "duration": 27,
    "start_time": "2022-04-21T20:37:49.930Z"
   },
   {
    "duration": 14,
    "start_time": "2022-04-21T20:37:49.959Z"
   },
   {
    "duration": 1870,
    "start_time": "2022-04-21T20:37:49.975Z"
   },
   {
    "duration": 9,
    "start_time": "2022-04-21T20:37:51.847Z"
   },
   {
    "duration": 18,
    "start_time": "2022-04-21T20:37:51.858Z"
   },
   {
    "duration": 17,
    "start_time": "2022-04-21T20:37:51.878Z"
   },
   {
    "duration": 32,
    "start_time": "2022-04-21T20:37:51.897Z"
   },
   {
    "duration": 8,
    "start_time": "2022-04-21T20:37:51.931Z"
   },
   {
    "duration": 583,
    "start_time": "2022-04-21T20:37:51.941Z"
   },
   {
    "duration": 13,
    "start_time": "2022-04-21T20:37:54.851Z"
   },
   {
    "duration": 4,
    "start_time": "2022-04-21T20:40:11.619Z"
   },
   {
    "duration": 990,
    "start_time": "2022-04-21T20:41:12.501Z"
   },
   {
    "duration": 433,
    "start_time": "2022-04-21T20:41:13.492Z"
   },
   {
    "duration": 28,
    "start_time": "2022-04-21T20:41:13.926Z"
   },
   {
    "duration": 23,
    "start_time": "2022-04-21T20:41:13.956Z"
   },
   {
    "duration": 41,
    "start_time": "2022-04-21T20:41:13.982Z"
   },
   {
    "duration": 27,
    "start_time": "2022-04-21T20:41:14.024Z"
   },
   {
    "duration": 28,
    "start_time": "2022-04-21T20:41:14.053Z"
   },
   {
    "duration": 44,
    "start_time": "2022-04-21T20:41:14.083Z"
   },
   {
    "duration": 31,
    "start_time": "2022-04-21T20:41:14.128Z"
   },
   {
    "duration": 10,
    "start_time": "2022-04-21T20:41:14.161Z"
   },
   {
    "duration": 60,
    "start_time": "2022-04-21T20:41:14.173Z"
   },
   {
    "duration": 11,
    "start_time": "2022-04-21T20:41:14.235Z"
   },
   {
    "duration": 10,
    "start_time": "2022-04-21T20:41:14.248Z"
   },
   {
    "duration": 12,
    "start_time": "2022-04-21T20:41:14.262Z"
   },
   {
    "duration": 48,
    "start_time": "2022-04-21T20:41:14.276Z"
   },
   {
    "duration": 9,
    "start_time": "2022-04-21T20:41:14.326Z"
   },
   {
    "duration": 54,
    "start_time": "2022-04-21T20:41:14.337Z"
   },
   {
    "duration": 6,
    "start_time": "2022-04-21T20:41:14.393Z"
   },
   {
    "duration": 43,
    "start_time": "2022-04-21T20:41:14.401Z"
   },
   {
    "duration": 58,
    "start_time": "2022-04-21T20:41:14.445Z"
   },
   {
    "duration": 3,
    "start_time": "2022-04-21T20:41:14.505Z"
   },
   {
    "duration": 24,
    "start_time": "2022-04-21T20:41:14.509Z"
   },
   {
    "duration": 26,
    "start_time": "2022-04-21T20:41:14.535Z"
   },
   {
    "duration": 18,
    "start_time": "2022-04-21T20:41:14.563Z"
   },
   {
    "duration": 71,
    "start_time": "2022-04-21T20:41:14.583Z"
   },
   {
    "duration": 32,
    "start_time": "2022-04-21T20:41:14.657Z"
   },
   {
    "duration": 35,
    "start_time": "2022-04-21T20:41:14.692Z"
   },
   {
    "duration": 34,
    "start_time": "2022-04-21T20:41:14.729Z"
   },
   {
    "duration": 12,
    "start_time": "2022-04-21T20:41:14.765Z"
   },
   {
    "duration": 4,
    "start_time": "2022-04-21T20:41:14.778Z"
   },
   {
    "duration": 39,
    "start_time": "2022-04-21T20:41:14.784Z"
   },
   {
    "duration": 16,
    "start_time": "2022-04-21T20:41:14.825Z"
   },
   {
    "duration": 17,
    "start_time": "2022-04-21T20:41:14.843Z"
   },
   {
    "duration": 14,
    "start_time": "2022-04-21T20:41:14.861Z"
   },
   {
    "duration": 5,
    "start_time": "2022-04-21T20:41:14.877Z"
   },
   {
    "duration": 9417,
    "start_time": "2022-04-21T20:41:14.884Z"
   },
   {
    "duration": 0,
    "start_time": "2022-04-21T20:41:24.303Z"
   },
   {
    "duration": 0,
    "start_time": "2022-04-21T20:41:24.304Z"
   },
   {
    "duration": 0,
    "start_time": "2022-04-21T20:41:24.305Z"
   },
   {
    "duration": 0,
    "start_time": "2022-04-21T20:41:24.306Z"
   },
   {
    "duration": 0,
    "start_time": "2022-04-21T20:41:24.307Z"
   },
   {
    "duration": 0,
    "start_time": "2022-04-21T20:41:24.308Z"
   },
   {
    "duration": 0,
    "start_time": "2022-04-21T20:41:24.309Z"
   },
   {
    "duration": 0,
    "start_time": "2022-04-21T20:41:24.310Z"
   },
   {
    "duration": 0,
    "start_time": "2022-04-21T20:41:24.311Z"
   },
   {
    "duration": 0,
    "start_time": "2022-04-21T20:41:24.312Z"
   },
   {
    "duration": 0,
    "start_time": "2022-04-21T20:41:24.313Z"
   },
   {
    "duration": 0,
    "start_time": "2022-04-21T20:41:24.313Z"
   },
   {
    "duration": 0,
    "start_time": "2022-04-21T20:41:24.315Z"
   },
   {
    "duration": 0,
    "start_time": "2022-04-21T20:41:24.316Z"
   },
   {
    "duration": 0,
    "start_time": "2022-04-21T20:41:24.317Z"
   },
   {
    "duration": 0,
    "start_time": "2022-04-21T20:41:24.317Z"
   },
   {
    "duration": 0,
    "start_time": "2022-04-21T20:41:24.318Z"
   },
   {
    "duration": 0,
    "start_time": "2022-04-21T20:41:24.319Z"
   },
   {
    "duration": 0,
    "start_time": "2022-04-21T20:41:24.320Z"
   },
   {
    "duration": 184,
    "start_time": "2022-04-21T20:42:39.779Z"
   },
   {
    "duration": 794,
    "start_time": "2022-04-21T20:42:59.451Z"
   },
   {
    "duration": 400,
    "start_time": "2022-04-21T20:43:00.247Z"
   },
   {
    "duration": 26,
    "start_time": "2022-04-21T20:43:00.649Z"
   },
   {
    "duration": 21,
    "start_time": "2022-04-21T20:43:00.676Z"
   },
   {
    "duration": 9,
    "start_time": "2022-04-21T20:43:00.699Z"
   },
   {
    "duration": 35,
    "start_time": "2022-04-21T20:43:00.710Z"
   },
   {
    "duration": 36,
    "start_time": "2022-04-21T20:43:00.747Z"
   },
   {
    "duration": 29,
    "start_time": "2022-04-21T20:43:00.784Z"
   },
   {
    "duration": 44,
    "start_time": "2022-04-21T20:43:00.815Z"
   },
   {
    "duration": 8,
    "start_time": "2022-04-21T20:43:00.861Z"
   },
   {
    "duration": 45,
    "start_time": "2022-04-21T20:43:00.871Z"
   },
   {
    "duration": 14,
    "start_time": "2022-04-21T20:43:00.918Z"
   },
   {
    "duration": 83,
    "start_time": "2022-04-21T20:43:00.933Z"
   },
   {
    "duration": 24,
    "start_time": "2022-04-21T20:43:01.019Z"
   },
   {
    "duration": 32,
    "start_time": "2022-04-21T20:43:01.044Z"
   },
   {
    "duration": 23,
    "start_time": "2022-04-21T20:43:01.078Z"
   },
   {
    "duration": 55,
    "start_time": "2022-04-21T20:43:01.103Z"
   },
   {
    "duration": 7,
    "start_time": "2022-04-21T20:43:01.160Z"
   },
   {
    "duration": 38,
    "start_time": "2022-04-21T20:43:01.168Z"
   },
   {
    "duration": 87,
    "start_time": "2022-04-21T20:43:01.208Z"
   },
   {
    "duration": 3,
    "start_time": "2022-04-21T20:43:01.297Z"
   },
   {
    "duration": 30,
    "start_time": "2022-04-21T20:43:01.301Z"
   },
   {
    "duration": 36,
    "start_time": "2022-04-21T20:43:01.332Z"
   },
   {
    "duration": 21,
    "start_time": "2022-04-21T20:43:01.369Z"
   },
   {
    "duration": 37,
    "start_time": "2022-04-21T20:43:01.392Z"
   },
   {
    "duration": 18,
    "start_time": "2022-04-21T20:43:01.430Z"
   },
   {
    "duration": 19,
    "start_time": "2022-04-21T20:43:01.450Z"
   },
   {
    "duration": 42,
    "start_time": "2022-04-21T20:43:01.470Z"
   },
   {
    "duration": 8,
    "start_time": "2022-04-21T20:43:01.513Z"
   },
   {
    "duration": 18,
    "start_time": "2022-04-21T20:43:01.522Z"
   },
   {
    "duration": 38,
    "start_time": "2022-04-21T20:43:01.541Z"
   },
   {
    "duration": 38,
    "start_time": "2022-04-21T20:43:01.581Z"
   },
   {
    "duration": 15,
    "start_time": "2022-04-21T20:43:01.621Z"
   },
   {
    "duration": 39,
    "start_time": "2022-04-21T20:43:01.637Z"
   },
   {
    "duration": 12,
    "start_time": "2022-04-21T20:43:01.678Z"
   },
   {
    "duration": 4505,
    "start_time": "2022-04-21T20:43:01.692Z"
   },
   {
    "duration": 25,
    "start_time": "2022-04-21T20:43:06.199Z"
   },
   {
    "duration": 4,
    "start_time": "2022-04-21T20:43:06.225Z"
   },
   {
    "duration": 342,
    "start_time": "2022-04-21T20:43:06.230Z"
   },
   {
    "duration": 6,
    "start_time": "2022-04-21T20:43:06.574Z"
   },
   {
    "duration": 5,
    "start_time": "2022-04-21T20:43:06.583Z"
   },
   {
    "duration": 1925,
    "start_time": "2022-04-21T20:43:06.590Z"
   },
   {
    "duration": 7,
    "start_time": "2022-04-21T20:43:08.516Z"
   },
   {
    "duration": 14,
    "start_time": "2022-04-21T20:43:08.524Z"
   },
   {
    "duration": 2230,
    "start_time": "2022-04-21T20:43:08.540Z"
   },
   {
    "duration": 10,
    "start_time": "2022-04-21T20:43:10.772Z"
   },
   {
    "duration": 23,
    "start_time": "2022-04-21T20:43:10.784Z"
   },
   {
    "duration": 23,
    "start_time": "2022-04-21T20:43:10.809Z"
   },
   {
    "duration": 1955,
    "start_time": "2022-04-21T20:43:10.834Z"
   },
   {
    "duration": 10,
    "start_time": "2022-04-21T20:43:12.791Z"
   },
   {
    "duration": 24,
    "start_time": "2022-04-21T20:43:12.803Z"
   },
   {
    "duration": 8,
    "start_time": "2022-04-21T20:43:12.829Z"
   },
   {
    "duration": 16,
    "start_time": "2022-04-21T20:43:12.839Z"
   },
   {
    "duration": 8,
    "start_time": "2022-04-21T20:43:12.857Z"
   },
   {
    "duration": 625,
    "start_time": "2022-04-21T20:43:12.867Z"
   },
   {
    "duration": 5,
    "start_time": "2022-04-21T20:43:16.128Z"
   },
   {
    "duration": 5,
    "start_time": "2022-04-21T20:43:29.814Z"
   },
   {
    "duration": 205,
    "start_time": "2022-04-21T20:44:01.889Z"
   },
   {
    "duration": 8,
    "start_time": "2022-04-21T20:45:33.475Z"
   },
   {
    "duration": 178,
    "start_time": "2022-04-21T20:45:52.085Z"
   },
   {
    "duration": 171,
    "start_time": "2022-04-21T20:46:43.207Z"
   },
   {
    "duration": 17,
    "start_time": "2022-04-21T20:52:10.243Z"
   },
   {
    "duration": 15,
    "start_time": "2022-04-21T20:52:19.523Z"
   },
   {
    "duration": 174,
    "start_time": "2022-04-21T20:53:26.645Z"
   },
   {
    "duration": 188,
    "start_time": "2022-04-21T20:57:41.959Z"
   },
   {
    "duration": 186,
    "start_time": "2022-04-21T20:59:16.170Z"
   },
   {
    "duration": 9,
    "start_time": "2022-04-21T20:59:35.475Z"
   },
   {
    "duration": 8,
    "start_time": "2022-04-21T20:59:49.221Z"
   },
   {
    "duration": 6,
    "start_time": "2022-04-21T20:59:50.532Z"
   },
   {
    "duration": 7,
    "start_time": "2022-04-21T21:00:31.004Z"
   },
   {
    "duration": 6,
    "start_time": "2022-04-21T21:01:28.695Z"
   },
   {
    "duration": 7,
    "start_time": "2022-04-21T21:01:34.151Z"
   },
   {
    "duration": 8,
    "start_time": "2022-04-21T21:02:14.682Z"
   },
   {
    "duration": 8,
    "start_time": "2022-04-21T21:02:19.706Z"
   },
   {
    "duration": 813,
    "start_time": "2022-04-21T21:05:45.431Z"
   },
   {
    "duration": 407,
    "start_time": "2022-04-21T21:05:46.247Z"
   },
   {
    "duration": 25,
    "start_time": "2022-04-21T21:05:46.656Z"
   },
   {
    "duration": 19,
    "start_time": "2022-04-21T21:05:46.683Z"
   },
   {
    "duration": 8,
    "start_time": "2022-04-21T21:05:46.704Z"
   },
   {
    "duration": 23,
    "start_time": "2022-04-21T21:05:46.714Z"
   },
   {
    "duration": 26,
    "start_time": "2022-04-21T21:05:46.738Z"
   },
   {
    "duration": 20,
    "start_time": "2022-04-21T21:05:46.765Z"
   },
   {
    "duration": 48,
    "start_time": "2022-04-21T21:05:46.787Z"
   },
   {
    "duration": 9,
    "start_time": "2022-04-21T21:05:46.836Z"
   },
   {
    "duration": 30,
    "start_time": "2022-04-21T21:05:46.847Z"
   },
   {
    "duration": 9,
    "start_time": "2022-04-21T21:05:46.879Z"
   },
   {
    "duration": 33,
    "start_time": "2022-04-21T21:05:46.890Z"
   },
   {
    "duration": 10,
    "start_time": "2022-04-21T21:05:46.927Z"
   },
   {
    "duration": 11,
    "start_time": "2022-04-21T21:05:46.938Z"
   },
   {
    "duration": 17,
    "start_time": "2022-04-21T21:05:46.951Z"
   },
   {
    "duration": 44,
    "start_time": "2022-04-21T21:05:46.970Z"
   },
   {
    "duration": 10,
    "start_time": "2022-04-21T21:05:47.015Z"
   },
   {
    "duration": 31,
    "start_time": "2022-04-21T21:05:47.026Z"
   },
   {
    "duration": 52,
    "start_time": "2022-04-21T21:05:47.059Z"
   },
   {
    "duration": 2,
    "start_time": "2022-04-21T21:05:47.113Z"
   },
   {
    "duration": 28,
    "start_time": "2022-04-21T21:05:47.117Z"
   },
   {
    "duration": 35,
    "start_time": "2022-04-21T21:05:47.147Z"
   },
   {
    "duration": 17,
    "start_time": "2022-04-21T21:05:47.184Z"
   },
   {
    "duration": 42,
    "start_time": "2022-04-21T21:05:47.203Z"
   },
   {
    "duration": 20,
    "start_time": "2022-04-21T21:05:47.247Z"
   },
   {
    "duration": 20,
    "start_time": "2022-04-21T21:05:47.269Z"
   },
   {
    "duration": 48,
    "start_time": "2022-04-21T21:05:47.291Z"
   },
   {
    "duration": 10,
    "start_time": "2022-04-21T21:05:47.341Z"
   },
   {
    "duration": 14,
    "start_time": "2022-04-21T21:05:47.353Z"
   },
   {
    "duration": 35,
    "start_time": "2022-04-21T21:05:47.369Z"
   },
   {
    "duration": 20,
    "start_time": "2022-04-21T21:05:47.406Z"
   },
   {
    "duration": 29,
    "start_time": "2022-04-21T21:05:47.428Z"
   },
   {
    "duration": 32,
    "start_time": "2022-04-21T21:05:47.459Z"
   },
   {
    "duration": 13,
    "start_time": "2022-04-21T21:05:47.493Z"
   },
   {
    "duration": 4458,
    "start_time": "2022-04-21T21:05:47.508Z"
   },
   {
    "duration": 18,
    "start_time": "2022-04-21T21:05:51.968Z"
   },
   {
    "duration": 6,
    "start_time": "2022-04-21T21:05:51.988Z"
   },
   {
    "duration": 4,
    "start_time": "2022-04-21T21:05:51.996Z"
   },
   {
    "duration": 30,
    "start_time": "2022-04-21T21:05:52.001Z"
   },
   {
    "duration": 357,
    "start_time": "2022-04-21T21:05:52.035Z"
   },
   {
    "duration": 8,
    "start_time": "2022-04-21T21:05:52.394Z"
   },
   {
    "duration": 15,
    "start_time": "2022-04-21T21:05:52.403Z"
   },
   {
    "duration": 1929,
    "start_time": "2022-04-21T21:05:52.422Z"
   },
   {
    "duration": 7,
    "start_time": "2022-04-21T21:05:54.352Z"
   },
   {
    "duration": 12,
    "start_time": "2022-04-21T21:05:54.361Z"
   },
   {
    "duration": 2290,
    "start_time": "2022-04-21T21:05:54.374Z"
   },
   {
    "duration": 8,
    "start_time": "2022-04-21T21:05:56.665Z"
   },
   {
    "duration": 7,
    "start_time": "2022-04-21T21:05:56.675Z"
   },
   {
    "duration": 5,
    "start_time": "2022-04-21T21:05:56.683Z"
   },
   {
    "duration": 1873,
    "start_time": "2022-04-21T21:05:56.689Z"
   },
   {
    "duration": 9,
    "start_time": "2022-04-21T21:05:58.563Z"
   },
   {
    "duration": 6,
    "start_time": "2022-04-21T21:05:58.573Z"
   },
   {
    "duration": 8,
    "start_time": "2022-04-21T21:05:58.581Z"
   },
   {
    "duration": 42,
    "start_time": "2022-04-21T21:05:58.591Z"
   },
   {
    "duration": 8,
    "start_time": "2022-04-21T21:05:58.635Z"
   },
   {
    "duration": 533,
    "start_time": "2022-04-21T21:05:58.645Z"
   },
   {
    "duration": 917,
    "start_time": "2022-04-22T09:00:40.617Z"
   },
   {
    "duration": 383,
    "start_time": "2022-04-22T09:00:41.536Z"
   },
   {
    "duration": 27,
    "start_time": "2022-04-22T09:00:41.921Z"
   },
   {
    "duration": 28,
    "start_time": "2022-04-22T09:00:41.950Z"
   },
   {
    "duration": 9,
    "start_time": "2022-04-22T09:00:41.980Z"
   },
   {
    "duration": 31,
    "start_time": "2022-04-22T09:00:41.991Z"
   },
   {
    "duration": 27,
    "start_time": "2022-04-22T09:00:42.024Z"
   },
   {
    "duration": 22,
    "start_time": "2022-04-22T09:00:42.052Z"
   },
   {
    "duration": 41,
    "start_time": "2022-04-22T09:00:42.076Z"
   },
   {
    "duration": 8,
    "start_time": "2022-04-22T09:00:42.120Z"
   },
   {
    "duration": 37,
    "start_time": "2022-04-22T09:00:42.130Z"
   },
   {
    "duration": 8,
    "start_time": "2022-04-22T09:00:42.168Z"
   },
   {
    "duration": 18,
    "start_time": "2022-04-22T09:00:42.178Z"
   },
   {
    "duration": 12,
    "start_time": "2022-04-22T09:00:42.198Z"
   },
   {
    "duration": 13,
    "start_time": "2022-04-22T09:00:42.212Z"
   },
   {
    "duration": 8,
    "start_time": "2022-04-22T09:00:42.227Z"
   },
   {
    "duration": 35,
    "start_time": "2022-04-22T09:01:05.143Z"
   },
   {
    "duration": 6,
    "start_time": "2022-04-22T09:01:30.061Z"
   },
   {
    "duration": 31,
    "start_time": "2022-04-22T09:01:31.608Z"
   },
   {
    "duration": 20,
    "start_time": "2022-04-22T09:04:34.002Z"
   },
   {
    "duration": 46,
    "start_time": "2022-04-22T09:04:35.277Z"
   },
   {
    "duration": 13,
    "start_time": "2022-04-22T09:05:19.590Z"
   },
   {
    "duration": 30,
    "start_time": "2022-04-22T09:07:02.613Z"
   },
   {
    "duration": 646,
    "start_time": "2022-04-22T09:08:02.588Z"
   },
   {
    "duration": 33,
    "start_time": "2022-04-22T09:09:45.073Z"
   },
   {
    "duration": 143,
    "start_time": "2022-04-22T09:12:35.852Z"
   },
   {
    "duration": 100,
    "start_time": "2022-04-22T09:13:20.050Z"
   },
   {
    "duration": 28,
    "start_time": "2022-04-22T09:13:58.562Z"
   },
   {
    "duration": 3,
    "start_time": "2022-04-22T09:13:58.775Z"
   },
   {
    "duration": 9,
    "start_time": "2022-04-22T09:13:58.985Z"
   },
   {
    "duration": 26,
    "start_time": "2022-04-22T09:13:59.346Z"
   },
   {
    "duration": 19,
    "start_time": "2022-04-22T09:13:59.567Z"
   },
   {
    "duration": 38,
    "start_time": "2022-04-22T09:14:00.004Z"
   },
   {
    "duration": 23,
    "start_time": "2022-04-22T09:14:00.539Z"
   },
   {
    "duration": 16,
    "start_time": "2022-04-22T09:14:00.753Z"
   },
   {
    "duration": 32,
    "start_time": "2022-04-22T09:14:01.183Z"
   },
   {
    "duration": 9,
    "start_time": "2022-04-22T09:14:01.419Z"
   },
   {
    "duration": 4,
    "start_time": "2022-04-22T09:14:02.241Z"
   },
   {
    "duration": 11,
    "start_time": "2022-04-22T09:14:02.734Z"
   },
   {
    "duration": 15,
    "start_time": "2022-04-22T09:14:03.222Z"
   },
   {
    "duration": 16,
    "start_time": "2022-04-22T09:14:07.388Z"
   },
   {
    "duration": 16,
    "start_time": "2022-04-22T09:14:09.160Z"
   },
   {
    "duration": 147,
    "start_time": "2022-04-22T09:14:32.279Z"
   },
   {
    "duration": 150,
    "start_time": "2022-04-22T09:15:13.624Z"
   },
   {
    "duration": 5,
    "start_time": "2022-04-22T09:15:24.587Z"
   },
   {
    "duration": 5657,
    "start_time": "2022-04-22T09:15:26.813Z"
   },
   {
    "duration": 31,
    "start_time": "2022-04-22T09:15:32.472Z"
   },
   {
    "duration": 2325,
    "start_time": "2022-04-22T09:17:42.361Z"
   },
   {
    "duration": 5,
    "start_time": "2022-04-22T09:17:48.967Z"
   },
   {
    "duration": 2286,
    "start_time": "2022-04-22T09:17:50.069Z"
   },
   {
    "duration": 2,
    "start_time": "2022-04-22T09:18:09.846Z"
   },
   {
    "duration": 399,
    "start_time": "2022-04-22T09:18:09.851Z"
   },
   {
    "duration": 27,
    "start_time": "2022-04-22T09:18:10.252Z"
   },
   {
    "duration": 15,
    "start_time": "2022-04-22T09:18:10.281Z"
   },
   {
    "duration": 8,
    "start_time": "2022-04-22T09:18:10.298Z"
   },
   {
    "duration": 33,
    "start_time": "2022-04-22T09:18:10.307Z"
   },
   {
    "duration": 26,
    "start_time": "2022-04-22T09:18:10.342Z"
   },
   {
    "duration": 39,
    "start_time": "2022-04-22T09:18:10.369Z"
   },
   {
    "duration": 28,
    "start_time": "2022-04-22T09:18:10.410Z"
   },
   {
    "duration": 8,
    "start_time": "2022-04-22T09:18:10.440Z"
   },
   {
    "duration": 43,
    "start_time": "2022-04-22T09:18:10.450Z"
   },
   {
    "duration": 8,
    "start_time": "2022-04-22T09:18:10.494Z"
   },
   {
    "duration": 12,
    "start_time": "2022-04-22T09:18:10.505Z"
   },
   {
    "duration": 13,
    "start_time": "2022-04-22T09:18:10.518Z"
   },
   {
    "duration": 14,
    "start_time": "2022-04-22T09:18:10.533Z"
   },
   {
    "duration": 9,
    "start_time": "2022-04-22T09:18:10.549Z"
   },
   {
    "duration": 66,
    "start_time": "2022-04-22T09:18:10.560Z"
   },
   {
    "duration": 6,
    "start_time": "2022-04-22T09:18:10.628Z"
   },
   {
    "duration": 25,
    "start_time": "2022-04-22T09:18:10.635Z"
   },
   {
    "duration": 65,
    "start_time": "2022-04-22T09:18:10.662Z"
   },
   {
    "duration": 29,
    "start_time": "2022-04-22T09:18:10.729Z"
   },
   {
    "duration": 6,
    "start_time": "2022-04-22T09:18:10.760Z"
   },
   {
    "duration": 28,
    "start_time": "2022-04-22T09:18:10.767Z"
   },
   {
    "duration": 27,
    "start_time": "2022-04-22T09:18:10.797Z"
   },
   {
    "duration": 17,
    "start_time": "2022-04-22T09:18:10.825Z"
   },
   {
    "duration": 54,
    "start_time": "2022-04-22T09:18:10.844Z"
   },
   {
    "duration": 20,
    "start_time": "2022-04-22T09:18:10.900Z"
   },
   {
    "duration": 15,
    "start_time": "2022-04-22T09:18:10.922Z"
   },
   {
    "duration": 33,
    "start_time": "2022-04-22T09:18:10.938Z"
   },
   {
    "duration": 9,
    "start_time": "2022-04-22T09:18:10.992Z"
   },
   {
    "duration": 7,
    "start_time": "2022-04-22T09:18:11.003Z"
   },
   {
    "duration": 15,
    "start_time": "2022-04-22T09:18:11.012Z"
   },
   {
    "duration": 18,
    "start_time": "2022-04-22T09:18:11.028Z"
   },
   {
    "duration": 16,
    "start_time": "2022-04-22T09:18:11.048Z"
   },
   {
    "duration": 34,
    "start_time": "2022-04-22T09:18:11.065Z"
   },
   {
    "duration": 4,
    "start_time": "2022-04-22T09:18:14.788Z"
   },
   {
    "duration": 5658,
    "start_time": "2022-04-22T09:18:16.578Z"
   },
   {
    "duration": 24,
    "start_time": "2022-04-22T09:18:22.238Z"
   },
   {
    "duration": 4,
    "start_time": "2022-04-22T09:18:37.285Z"
   },
   {
    "duration": 5,
    "start_time": "2022-04-22T09:18:42.172Z"
   },
   {
    "duration": 20,
    "start_time": "2022-04-22T09:18:49.165Z"
   },
   {
    "duration": 801,
    "start_time": "2022-04-22T09:18:59.508Z"
   },
   {
    "duration": 9,
    "start_time": "2022-04-22T09:19:00.337Z"
   },
   {
    "duration": 9,
    "start_time": "2022-04-22T09:19:00.626Z"
   },
   {
    "duration": 3466,
    "start_time": "2022-04-22T09:19:01.583Z"
   },
   {
    "duration": 7,
    "start_time": "2022-04-22T09:20:56.621Z"
   },
   {
    "duration": 7,
    "start_time": "2022-04-22T09:20:57.073Z"
   },
   {
    "duration": 7,
    "start_time": "2022-04-22T09:21:11.074Z"
   },
   {
    "duration": 2143,
    "start_time": "2022-04-22T09:21:11.884Z"
   },
   {
    "duration": 8,
    "start_time": "2022-04-22T09:21:34.502Z"
   },
   {
    "duration": 6,
    "start_time": "2022-04-22T09:21:42.036Z"
   },
   {
    "duration": 6,
    "start_time": "2022-04-22T09:21:42.486Z"
   },
   {
    "duration": 6,
    "start_time": "2022-04-22T09:21:57.434Z"
   },
   {
    "duration": 8,
    "start_time": "2022-04-22T09:22:02.310Z"
   },
   {
    "duration": 2659,
    "start_time": "2022-04-22T09:22:04.032Z"
   },
   {
    "duration": 0,
    "start_time": "2022-04-22T09:22:06.692Z"
   },
   {
    "duration": 911,
    "start_time": "2022-04-22T09:22:18.630Z"
   },
   {
    "duration": 405,
    "start_time": "2022-04-22T09:22:19.543Z"
   },
   {
    "duration": 29,
    "start_time": "2022-04-22T09:22:19.950Z"
   },
   {
    "duration": 23,
    "start_time": "2022-04-22T09:22:19.981Z"
   },
   {
    "duration": 10,
    "start_time": "2022-04-22T09:22:20.006Z"
   },
   {
    "duration": 29,
    "start_time": "2022-04-22T09:22:20.018Z"
   },
   {
    "duration": 53,
    "start_time": "2022-04-22T09:22:20.050Z"
   },
   {
    "duration": 24,
    "start_time": "2022-04-22T09:22:20.105Z"
   },
   {
    "duration": 29,
    "start_time": "2022-04-22T09:22:20.132Z"
   },
   {
    "duration": 30,
    "start_time": "2022-04-22T09:22:20.164Z"
   },
   {
    "duration": 24,
    "start_time": "2022-04-22T09:22:20.196Z"
   },
   {
    "duration": 9,
    "start_time": "2022-04-22T09:22:20.222Z"
   },
   {
    "duration": 18,
    "start_time": "2022-04-22T09:22:20.232Z"
   },
   {
    "duration": 16,
    "start_time": "2022-04-22T09:22:20.252Z"
   },
   {
    "duration": 38,
    "start_time": "2022-04-22T09:22:20.270Z"
   },
   {
    "duration": 8,
    "start_time": "2022-04-22T09:22:20.310Z"
   },
   {
    "duration": 40,
    "start_time": "2022-04-22T09:22:20.320Z"
   },
   {
    "duration": 5,
    "start_time": "2022-04-22T09:22:20.362Z"
   },
   {
    "duration": 42,
    "start_time": "2022-04-22T09:22:20.369Z"
   },
   {
    "duration": 47,
    "start_time": "2022-04-22T09:22:20.413Z"
   },
   {
    "duration": 51,
    "start_time": "2022-04-22T09:22:20.462Z"
   },
   {
    "duration": 4,
    "start_time": "2022-04-22T09:22:20.514Z"
   },
   {
    "duration": 19,
    "start_time": "2022-04-22T09:22:20.520Z"
   },
   {
    "duration": 32,
    "start_time": "2022-04-22T09:22:20.541Z"
   },
   {
    "duration": 19,
    "start_time": "2022-04-22T09:22:20.592Z"
   },
   {
    "duration": 35,
    "start_time": "2022-04-22T09:22:20.612Z"
   },
   {
    "duration": 48,
    "start_time": "2022-04-22T09:22:20.648Z"
   },
   {
    "duration": 16,
    "start_time": "2022-04-22T09:22:20.699Z"
   },
   {
    "duration": 34,
    "start_time": "2022-04-22T09:22:20.717Z"
   },
   {
    "duration": 10,
    "start_time": "2022-04-22T09:22:20.753Z"
   },
   {
    "duration": 5,
    "start_time": "2022-04-22T09:22:20.793Z"
   },
   {
    "duration": 18,
    "start_time": "2022-04-22T09:22:20.800Z"
   },
   {
    "duration": 17,
    "start_time": "2022-04-22T09:22:20.821Z"
   },
   {
    "duration": 18,
    "start_time": "2022-04-22T09:22:20.840Z"
   },
   {
    "duration": 41,
    "start_time": "2022-04-22T09:22:20.859Z"
   },
   {
    "duration": 5,
    "start_time": "2022-04-22T09:22:33.926Z"
   },
   {
    "duration": 6132,
    "start_time": "2022-04-22T09:22:36.456Z"
   },
   {
    "duration": 4,
    "start_time": "2022-04-22T09:24:59.220Z"
   },
   {
    "duration": 400,
    "start_time": "2022-04-22T09:24:59.226Z"
   },
   {
    "duration": 29,
    "start_time": "2022-04-22T09:24:59.627Z"
   },
   {
    "duration": 15,
    "start_time": "2022-04-22T09:24:59.659Z"
   },
   {
    "duration": 8,
    "start_time": "2022-04-22T09:24:59.676Z"
   },
   {
    "duration": 26,
    "start_time": "2022-04-22T09:24:59.693Z"
   },
   {
    "duration": 28,
    "start_time": "2022-04-22T09:24:59.721Z"
   },
   {
    "duration": 47,
    "start_time": "2022-04-22T09:24:59.750Z"
   },
   {
    "duration": 26,
    "start_time": "2022-04-22T09:24:59.799Z"
   },
   {
    "duration": 8,
    "start_time": "2022-04-22T09:24:59.829Z"
   },
   {
    "duration": 21,
    "start_time": "2022-04-22T09:24:59.839Z"
   },
   {
    "duration": 37,
    "start_time": "2022-04-22T09:24:59.861Z"
   },
   {
    "duration": 9,
    "start_time": "2022-04-22T09:24:59.900Z"
   },
   {
    "duration": 11,
    "start_time": "2022-04-22T09:24:59.911Z"
   },
   {
    "duration": 11,
    "start_time": "2022-04-22T09:24:59.924Z"
   },
   {
    "duration": 7,
    "start_time": "2022-04-22T09:24:59.936Z"
   },
   {
    "duration": 71,
    "start_time": "2022-04-22T09:24:59.945Z"
   },
   {
    "duration": 5,
    "start_time": "2022-04-22T09:25:00.018Z"
   },
   {
    "duration": 35,
    "start_time": "2022-04-22T09:25:00.025Z"
   },
   {
    "duration": 59,
    "start_time": "2022-04-22T09:25:00.062Z"
   },
   {
    "duration": 30,
    "start_time": "2022-04-22T09:25:00.123Z"
   },
   {
    "duration": 15,
    "start_time": "2022-04-22T09:25:00.155Z"
   },
   {
    "duration": 24,
    "start_time": "2022-04-22T09:25:00.172Z"
   },
   {
    "duration": 32,
    "start_time": "2022-04-22T09:25:00.198Z"
   },
   {
    "duration": 19,
    "start_time": "2022-04-22T09:25:00.232Z"
   },
   {
    "duration": 53,
    "start_time": "2022-04-22T09:25:00.253Z"
   },
   {
    "duration": 24,
    "start_time": "2022-04-22T09:25:00.308Z"
   },
   {
    "duration": 16,
    "start_time": "2022-04-22T09:25:00.335Z"
   },
   {
    "duration": 58,
    "start_time": "2022-04-22T09:25:00.353Z"
   },
   {
    "duration": 14,
    "start_time": "2022-04-22T09:25:00.413Z"
   },
   {
    "duration": 24,
    "start_time": "2022-04-22T09:25:00.428Z"
   },
   {
    "duration": 35,
    "start_time": "2022-04-22T09:25:00.454Z"
   },
   {
    "duration": 22,
    "start_time": "2022-04-22T09:25:00.491Z"
   },
   {
    "duration": 19,
    "start_time": "2022-04-22T09:25:00.515Z"
   },
   {
    "duration": 26,
    "start_time": "2022-04-22T09:25:00.536Z"
   },
   {
    "duration": 6,
    "start_time": "2022-04-22T09:25:07.773Z"
   },
   {
    "duration": 6260,
    "start_time": "2022-04-22T09:25:09.827Z"
   },
   {
    "duration": 21,
    "start_time": "2022-04-22T09:25:16.092Z"
   },
   {
    "duration": 3,
    "start_time": "2022-04-22T09:25:26.655Z"
   },
   {
    "duration": 389,
    "start_time": "2022-04-22T09:25:26.660Z"
   },
   {
    "duration": 27,
    "start_time": "2022-04-22T09:25:27.050Z"
   },
   {
    "duration": 15,
    "start_time": "2022-04-22T09:25:27.079Z"
   },
   {
    "duration": 9,
    "start_time": "2022-04-22T09:25:27.096Z"
   },
   {
    "duration": 27,
    "start_time": "2022-04-22T09:25:27.107Z"
   },
   {
    "duration": 27,
    "start_time": "2022-04-22T09:25:27.135Z"
   },
   {
    "duration": 44,
    "start_time": "2022-04-22T09:25:27.164Z"
   },
   {
    "duration": 27,
    "start_time": "2022-04-22T09:25:27.210Z"
   },
   {
    "duration": 9,
    "start_time": "2022-04-22T09:25:27.239Z"
   },
   {
    "duration": 48,
    "start_time": "2022-04-22T09:25:27.250Z"
   },
   {
    "duration": 8,
    "start_time": "2022-04-22T09:25:27.300Z"
   },
   {
    "duration": 10,
    "start_time": "2022-04-22T09:25:27.311Z"
   },
   {
    "duration": 12,
    "start_time": "2022-04-22T09:25:27.325Z"
   },
   {
    "duration": 14,
    "start_time": "2022-04-22T09:25:27.339Z"
   },
   {
    "duration": 43,
    "start_time": "2022-04-22T09:25:27.355Z"
   },
   {
    "duration": 32,
    "start_time": "2022-04-22T09:25:27.400Z"
   },
   {
    "duration": 5,
    "start_time": "2022-04-22T09:25:27.434Z"
   },
   {
    "duration": 21,
    "start_time": "2022-04-22T09:25:27.441Z"
   },
   {
    "duration": 68,
    "start_time": "2022-04-22T09:25:27.464Z"
   },
   {
    "duration": 29,
    "start_time": "2022-04-22T09:25:27.534Z"
   },
   {
    "duration": 30,
    "start_time": "2022-04-22T09:25:27.564Z"
   },
   {
    "duration": 12,
    "start_time": "2022-04-22T09:25:27.596Z"
   },
   {
    "duration": 28,
    "start_time": "2022-04-22T09:25:27.610Z"
   },
   {
    "duration": 18,
    "start_time": "2022-04-22T09:25:27.640Z"
   },
   {
    "duration": 61,
    "start_time": "2022-04-22T09:25:27.660Z"
   },
   {
    "duration": 23,
    "start_time": "2022-04-22T09:25:27.723Z"
   },
   {
    "duration": 16,
    "start_time": "2022-04-22T09:25:27.748Z"
   },
   {
    "duration": 54,
    "start_time": "2022-04-22T09:25:27.766Z"
   },
   {
    "duration": 10,
    "start_time": "2022-04-22T09:25:27.822Z"
   },
   {
    "duration": 9,
    "start_time": "2022-04-22T09:25:27.834Z"
   },
   {
    "duration": 17,
    "start_time": "2022-04-22T09:25:27.845Z"
   },
   {
    "duration": 36,
    "start_time": "2022-04-22T09:25:27.864Z"
   },
   {
    "duration": 17,
    "start_time": "2022-04-22T09:25:27.902Z"
   },
   {
    "duration": 14,
    "start_time": "2022-04-22T09:25:27.921Z"
   },
   {
    "duration": 7,
    "start_time": "2022-04-22T09:25:42.494Z"
   },
   {
    "duration": 5958,
    "start_time": "2022-04-22T09:25:44.454Z"
   },
   {
    "duration": 22,
    "start_time": "2022-04-22T09:25:50.414Z"
   },
   {
    "duration": 892,
    "start_time": "2022-04-22T09:26:14.182Z"
   },
   {
    "duration": 382,
    "start_time": "2022-04-22T09:26:15.076Z"
   },
   {
    "duration": 28,
    "start_time": "2022-04-22T09:26:15.460Z"
   },
   {
    "duration": 21,
    "start_time": "2022-04-22T09:26:15.490Z"
   },
   {
    "duration": 10,
    "start_time": "2022-04-22T09:26:15.513Z"
   },
   {
    "duration": 26,
    "start_time": "2022-04-22T09:26:15.525Z"
   },
   {
    "duration": 52,
    "start_time": "2022-04-22T09:26:15.553Z"
   },
   {
    "duration": 21,
    "start_time": "2022-04-22T09:26:15.607Z"
   },
   {
    "duration": 28,
    "start_time": "2022-04-22T09:26:15.630Z"
   },
   {
    "duration": 8,
    "start_time": "2022-04-22T09:26:15.660Z"
   },
   {
    "duration": 22,
    "start_time": "2022-04-22T09:26:15.693Z"
   },
   {
    "duration": 7,
    "start_time": "2022-04-22T09:26:15.717Z"
   },
   {
    "duration": 9,
    "start_time": "2022-04-22T09:26:15.726Z"
   },
   {
    "duration": 10,
    "start_time": "2022-04-22T09:26:15.738Z"
   },
   {
    "duration": 49,
    "start_time": "2022-04-22T09:26:15.750Z"
   },
   {
    "duration": 8,
    "start_time": "2022-04-22T09:26:15.801Z"
   },
   {
    "duration": 37,
    "start_time": "2022-04-22T09:26:15.810Z"
   },
   {
    "duration": 5,
    "start_time": "2022-04-22T09:26:15.849Z"
   },
   {
    "duration": 49,
    "start_time": "2022-04-22T09:26:15.856Z"
   },
   {
    "duration": 45,
    "start_time": "2022-04-22T09:26:15.906Z"
   },
   {
    "duration": 42,
    "start_time": "2022-04-22T09:26:15.953Z"
   },
   {
    "duration": 3,
    "start_time": "2022-04-22T09:26:15.997Z"
   },
   {
    "duration": 13,
    "start_time": "2022-04-22T09:26:16.001Z"
   },
   {
    "duration": 28,
    "start_time": "2022-04-22T09:26:16.015Z"
   },
   {
    "duration": 16,
    "start_time": "2022-04-22T09:26:16.045Z"
   },
   {
    "duration": 34,
    "start_time": "2022-04-22T09:26:16.093Z"
   },
   {
    "duration": 21,
    "start_time": "2022-04-22T09:26:16.128Z"
   },
   {
    "duration": 15,
    "start_time": "2022-04-22T09:26:16.151Z"
   },
   {
    "duration": 33,
    "start_time": "2022-04-22T09:26:16.193Z"
   },
   {
    "duration": 9,
    "start_time": "2022-04-22T09:26:16.228Z"
   },
   {
    "duration": 16,
    "start_time": "2022-04-22T09:26:16.239Z"
   },
   {
    "duration": 16,
    "start_time": "2022-04-22T09:26:16.257Z"
   },
   {
    "duration": 32,
    "start_time": "2022-04-22T09:26:16.275Z"
   },
   {
    "duration": 16,
    "start_time": "2022-04-22T09:26:16.309Z"
   },
   {
    "duration": 21,
    "start_time": "2022-04-22T09:26:16.327Z"
   },
   {
    "duration": 7,
    "start_time": "2022-04-22T09:27:03.760Z"
   },
   {
    "duration": 5805,
    "start_time": "2022-04-22T09:27:07.113Z"
   },
   {
    "duration": 22,
    "start_time": "2022-04-22T09:27:12.920Z"
   },
   {
    "duration": 5,
    "start_time": "2022-04-22T09:30:10.386Z"
   },
   {
    "duration": 4,
    "start_time": "2022-04-22T09:30:13.866Z"
   },
   {
    "duration": 2479,
    "start_time": "2022-04-22T09:30:14.654Z"
   },
   {
    "duration": 858,
    "start_time": "2022-04-22T09:30:29.832Z"
   },
   {
    "duration": 405,
    "start_time": "2022-04-22T09:30:30.693Z"
   },
   {
    "duration": 29,
    "start_time": "2022-04-22T09:30:31.099Z"
   },
   {
    "duration": 35,
    "start_time": "2022-04-22T09:30:31.131Z"
   },
   {
    "duration": 11,
    "start_time": "2022-04-22T09:30:31.167Z"
   },
   {
    "duration": 39,
    "start_time": "2022-04-22T09:30:31.180Z"
   },
   {
    "duration": 30,
    "start_time": "2022-04-22T09:30:31.220Z"
   },
   {
    "duration": 49,
    "start_time": "2022-04-22T09:30:31.252Z"
   },
   {
    "duration": 30,
    "start_time": "2022-04-22T09:30:31.302Z"
   },
   {
    "duration": 8,
    "start_time": "2022-04-22T09:30:31.335Z"
   },
   {
    "duration": 48,
    "start_time": "2022-04-22T09:30:31.345Z"
   },
   {
    "duration": 8,
    "start_time": "2022-04-22T09:30:31.395Z"
   },
   {
    "duration": 10,
    "start_time": "2022-04-22T09:30:31.404Z"
   },
   {
    "duration": 13,
    "start_time": "2022-04-22T09:30:31.416Z"
   },
   {
    "duration": 12,
    "start_time": "2022-04-22T09:30:31.430Z"
   },
   {
    "duration": 16,
    "start_time": "2022-04-22T09:30:31.444Z"
   },
   {
    "duration": 64,
    "start_time": "2022-04-22T09:30:31.461Z"
   },
   {
    "duration": 6,
    "start_time": "2022-04-22T09:30:31.527Z"
   },
   {
    "duration": 29,
    "start_time": "2022-04-22T09:30:31.534Z"
   },
   {
    "duration": 65,
    "start_time": "2022-04-22T09:30:31.565Z"
   },
   {
    "duration": 30,
    "start_time": "2022-04-22T09:30:31.632Z"
   },
   {
    "duration": 15,
    "start_time": "2022-04-22T09:30:31.663Z"
   },
   {
    "duration": 44,
    "start_time": "2022-04-22T09:30:31.680Z"
   },
   {
    "duration": 17,
    "start_time": "2022-04-22T09:30:31.726Z"
   },
   {
    "duration": 39,
    "start_time": "2022-04-22T09:30:31.745Z"
   },
   {
    "duration": 21,
    "start_time": "2022-04-22T09:30:31.786Z"
   },
   {
    "duration": 22,
    "start_time": "2022-04-22T09:30:31.809Z"
   },
   {
    "duration": 38,
    "start_time": "2022-04-22T09:30:31.834Z"
   },
   {
    "duration": 23,
    "start_time": "2022-04-22T09:30:31.874Z"
   },
   {
    "duration": 12,
    "start_time": "2022-04-22T09:30:31.898Z"
   },
   {
    "duration": 20,
    "start_time": "2022-04-22T09:30:31.912Z"
   },
   {
    "duration": 25,
    "start_time": "2022-04-22T09:30:31.934Z"
   },
   {
    "duration": 17,
    "start_time": "2022-04-22T09:30:31.960Z"
   },
   {
    "duration": 16,
    "start_time": "2022-04-22T09:30:31.979Z"
   },
   {
    "duration": 6,
    "start_time": "2022-04-22T09:30:34.457Z"
   },
   {
    "duration": 103,
    "start_time": "2022-04-22T09:30:36.462Z"
   },
   {
    "duration": 5,
    "start_time": "2022-04-22T09:30:52.258Z"
   },
   {
    "duration": 6202,
    "start_time": "2022-04-22T09:30:53.290Z"
   },
   {
    "duration": 23,
    "start_time": "2022-04-22T09:30:59.494Z"
   },
   {
    "duration": 14,
    "start_time": "2022-04-22T09:33:26.049Z"
   },
   {
    "duration": 944,
    "start_time": "2022-04-22T09:33:42.232Z"
   },
   {
    "duration": 388,
    "start_time": "2022-04-22T09:33:43.178Z"
   },
   {
    "duration": 27,
    "start_time": "2022-04-22T09:33:43.568Z"
   },
   {
    "duration": 22,
    "start_time": "2022-04-22T09:33:43.597Z"
   },
   {
    "duration": 10,
    "start_time": "2022-04-22T09:33:43.621Z"
   },
   {
    "duration": 26,
    "start_time": "2022-04-22T09:33:43.633Z"
   },
   {
    "duration": 55,
    "start_time": "2022-04-22T09:33:43.661Z"
   },
   {
    "duration": 24,
    "start_time": "2022-04-22T09:33:43.718Z"
   },
   {
    "duration": 50,
    "start_time": "2022-04-22T09:33:43.744Z"
   },
   {
    "duration": 10,
    "start_time": "2022-04-22T09:33:43.795Z"
   },
   {
    "duration": 22,
    "start_time": "2022-04-22T09:33:43.806Z"
   },
   {
    "duration": 7,
    "start_time": "2022-04-22T09:33:43.830Z"
   },
   {
    "duration": 10,
    "start_time": "2022-04-22T09:33:43.839Z"
   },
   {
    "duration": 14,
    "start_time": "2022-04-22T09:33:43.852Z"
   },
   {
    "duration": 13,
    "start_time": "2022-04-22T09:33:43.892Z"
   },
   {
    "duration": 7,
    "start_time": "2022-04-22T09:33:43.907Z"
   },
   {
    "duration": 76,
    "start_time": "2022-04-22T09:33:43.916Z"
   },
   {
    "duration": 6,
    "start_time": "2022-04-22T09:33:43.995Z"
   },
   {
    "duration": 34,
    "start_time": "2022-04-22T09:33:44.004Z"
   },
   {
    "duration": 80,
    "start_time": "2022-04-22T09:33:44.040Z"
   },
   {
    "duration": 38,
    "start_time": "2022-04-22T09:33:44.123Z"
   },
   {
    "duration": 4,
    "start_time": "2022-04-22T09:33:44.164Z"
   },
   {
    "duration": 58,
    "start_time": "2022-04-22T09:33:44.170Z"
   },
   {
    "duration": 26,
    "start_time": "2022-04-22T09:33:44.230Z"
   },
   {
    "duration": 59,
    "start_time": "2022-04-22T09:33:44.258Z"
   },
   {
    "duration": 35,
    "start_time": "2022-04-22T09:33:44.319Z"
   },
   {
    "duration": 37,
    "start_time": "2022-04-22T09:33:44.356Z"
   },
   {
    "duration": 49,
    "start_time": "2022-04-22T09:33:44.395Z"
   },
   {
    "duration": 13,
    "start_time": "2022-04-22T09:33:44.447Z"
   },
   {
    "duration": 5,
    "start_time": "2022-04-22T09:33:44.462Z"
   },
   {
    "duration": 12,
    "start_time": "2022-04-22T09:33:44.492Z"
   },
   {
    "duration": 19,
    "start_time": "2022-04-22T09:33:44.506Z"
   },
   {
    "duration": 18,
    "start_time": "2022-04-22T09:33:44.526Z"
   },
   {
    "duration": 20,
    "start_time": "2022-04-22T09:33:44.546Z"
   },
   {
    "duration": 5,
    "start_time": "2022-04-22T09:33:52.252Z"
   },
   {
    "duration": 14,
    "start_time": "2022-04-22T09:33:54.010Z"
   },
   {
    "duration": 4,
    "start_time": "2022-04-22T10:01:41.966Z"
   },
   {
    "duration": 13,
    "start_time": "2022-04-22T10:01:43.920Z"
   },
   {
    "duration": 94,
    "start_time": "2022-04-22T10:03:55.697Z"
   },
   {
    "duration": 11,
    "start_time": "2022-04-22T10:04:37.158Z"
   },
   {
    "duration": 19,
    "start_time": "2022-04-22T10:05:03.264Z"
   },
   {
    "duration": 8,
    "start_time": "2022-04-22T10:05:11.493Z"
   },
   {
    "duration": 144,
    "start_time": "2022-04-22T10:06:02.546Z"
   },
   {
    "duration": 20,
    "start_time": "2022-04-22T10:06:06.730Z"
   },
   {
    "duration": 19,
    "start_time": "2022-04-22T10:06:18.490Z"
   },
   {
    "duration": 20,
    "start_time": "2022-04-22T10:07:47.185Z"
   },
   {
    "duration": 9,
    "start_time": "2022-04-22T10:07:57.043Z"
   },
   {
    "duration": 8,
    "start_time": "2022-04-22T10:08:08.199Z"
   },
   {
    "duration": 44,
    "start_time": "2022-04-22T10:08:17.462Z"
   },
   {
    "duration": 25,
    "start_time": "2022-04-22T10:09:16.863Z"
   },
   {
    "duration": 15,
    "start_time": "2022-04-22T10:09:34.270Z"
   },
   {
    "duration": 4,
    "start_time": "2022-04-22T10:09:45.524Z"
   },
   {
    "duration": 12,
    "start_time": "2022-04-22T10:09:45.870Z"
   },
   {
    "duration": 15,
    "start_time": "2022-04-22T10:09:53.741Z"
   },
   {
    "duration": 12,
    "start_time": "2022-04-22T10:09:59.534Z"
   },
   {
    "duration": 12,
    "start_time": "2022-04-22T10:10:13.765Z"
   },
   {
    "duration": 27,
    "start_time": "2022-04-22T10:10:29.985Z"
   },
   {
    "duration": 12,
    "start_time": "2022-04-22T10:10:35.879Z"
   },
   {
    "duration": 40,
    "start_time": "2022-04-22T10:12:47.172Z"
   },
   {
    "duration": 4,
    "start_time": "2022-04-22T10:13:06.059Z"
   },
   {
    "duration": 8,
    "start_time": "2022-04-22T10:13:08.077Z"
   },
   {
    "duration": 140,
    "start_time": "2022-04-22T10:13:15.790Z"
   },
   {
    "duration": 6,
    "start_time": "2022-04-22T10:13:17.621Z"
   },
   {
    "duration": 40,
    "start_time": "2022-04-22T10:13:24.154Z"
   },
   {
    "duration": 5,
    "start_time": "2022-04-22T10:13:30.557Z"
   },
   {
    "duration": 17,
    "start_time": "2022-04-22T10:13:30.869Z"
   },
   {
    "duration": 5,
    "start_time": "2022-04-22T10:13:31.201Z"
   },
   {
    "duration": 25,
    "start_time": "2022-04-22T10:13:31.737Z"
   },
   {
    "duration": 13,
    "start_time": "2022-04-22T10:14:05.128Z"
   },
   {
    "duration": 140,
    "start_time": "2022-04-22T10:14:33.517Z"
   },
   {
    "duration": 23,
    "start_time": "2022-04-22T10:15:20.906Z"
   },
   {
    "duration": 12,
    "start_time": "2022-04-22T10:15:34.162Z"
   },
   {
    "duration": 4,
    "start_time": "2022-04-22T10:16:17.408Z"
   },
   {
    "duration": 23,
    "start_time": "2022-04-22T10:16:18.179Z"
   },
   {
    "duration": 12,
    "start_time": "2022-04-22T10:16:19.510Z"
   },
   {
    "duration": 12,
    "start_time": "2022-04-22T10:16:33.966Z"
   },
   {
    "duration": 10,
    "start_time": "2022-04-22T10:16:36.114Z"
   },
   {
    "duration": 14,
    "start_time": "2022-04-22T10:16:54.303Z"
   },
   {
    "duration": 4,
    "start_time": "2022-04-22T10:16:57.145Z"
   },
   {
    "duration": 22,
    "start_time": "2022-04-22T10:16:57.406Z"
   },
   {
    "duration": 14,
    "start_time": "2022-04-22T10:16:57.768Z"
   },
   {
    "duration": 11,
    "start_time": "2022-04-22T10:16:58.235Z"
   },
   {
    "duration": 14,
    "start_time": "2022-04-22T10:17:51.268Z"
   },
   {
    "duration": 19,
    "start_time": "2022-04-22T10:18:52.661Z"
   },
   {
    "duration": 10,
    "start_time": "2022-04-22T10:20:08.237Z"
   },
   {
    "duration": 4,
    "start_time": "2022-04-22T10:20:12.462Z"
   },
   {
    "duration": 22,
    "start_time": "2022-04-22T10:20:12.779Z"
   },
   {
    "duration": 152,
    "start_time": "2022-04-22T10:20:13.103Z"
   },
   {
    "duration": 5,
    "start_time": "2022-04-22T10:20:22.910Z"
   },
   {
    "duration": 24,
    "start_time": "2022-04-22T10:20:23.156Z"
   },
   {
    "duration": 14,
    "start_time": "2022-04-22T10:20:23.446Z"
   },
   {
    "duration": 178,
    "start_time": "2022-04-22T10:20:45.651Z"
   },
   {
    "duration": 184,
    "start_time": "2022-04-22T10:21:44.824Z"
   },
   {
    "duration": 2676,
    "start_time": "2022-04-22T10:24:19.914Z"
   },
   {
    "duration": 11,
    "start_time": "2022-04-22T10:24:52.087Z"
   },
   {
    "duration": 2343,
    "start_time": "2022-04-22T10:27:31.126Z"
   },
   {
    "duration": 14,
    "start_time": "2022-04-22T10:27:51.464Z"
   },
   {
    "duration": 15,
    "start_time": "2022-04-22T10:28:04.576Z"
   },
   {
    "duration": 10,
    "start_time": "2022-04-22T10:28:07.050Z"
   },
   {
    "duration": 177,
    "start_time": "2022-04-22T10:30:53.642Z"
   },
   {
    "duration": 195,
    "start_time": "2022-04-22T10:31:20.567Z"
   },
   {
    "duration": 12,
    "start_time": "2022-04-22T10:32:14.815Z"
   },
   {
    "duration": 17,
    "start_time": "2022-04-22T10:34:11.349Z"
   },
   {
    "duration": 10,
    "start_time": "2022-04-22T10:35:19.967Z"
   },
   {
    "duration": 4,
    "start_time": "2022-04-22T10:35:53.354Z"
   },
   {
    "duration": 11,
    "start_time": "2022-04-22T10:36:00.710Z"
   },
   {
    "duration": 14,
    "start_time": "2022-04-22T10:37:55.179Z"
   },
   {
    "duration": 9,
    "start_time": "2022-04-22T10:40:10.939Z"
   },
   {
    "duration": 26,
    "start_time": "2022-04-22T10:41:08.446Z"
   },
   {
    "duration": 27,
    "start_time": "2022-04-22T10:42:00.899Z"
   },
   {
    "duration": 6,
    "start_time": "2022-04-22T10:42:19.442Z"
   },
   {
    "duration": 6,
    "start_time": "2022-04-22T10:42:38.414Z"
   },
   {
    "duration": 32,
    "start_time": "2022-04-22T10:42:56.759Z"
   },
   {
    "duration": 212,
    "start_time": "2022-04-22T10:43:29.923Z"
   },
   {
    "duration": 11,
    "start_time": "2022-04-22T10:43:37.316Z"
   },
   {
    "duration": 11,
    "start_time": "2022-04-22T10:44:47.870Z"
   },
   {
    "duration": 9,
    "start_time": "2022-04-22T10:44:52.179Z"
   },
   {
    "duration": 24,
    "start_time": "2022-04-22T10:45:11.181Z"
   },
   {
    "duration": 13,
    "start_time": "2022-04-22T10:47:58.777Z"
   },
   {
    "duration": 10,
    "start_time": "2022-04-22T10:52:44.846Z"
   },
   {
    "duration": 12,
    "start_time": "2022-04-22T10:53:10.095Z"
   },
   {
    "duration": 24,
    "start_time": "2022-04-22T10:54:53.738Z"
   },
   {
    "duration": 24,
    "start_time": "2022-04-22T10:54:56.215Z"
   },
   {
    "duration": 9,
    "start_time": "2022-04-22T10:57:53.981Z"
   },
   {
    "duration": 15,
    "start_time": "2022-04-22T10:58:19.121Z"
   },
   {
    "duration": 2529,
    "start_time": "2022-04-22T11:03:10.448Z"
   },
   {
    "duration": 24,
    "start_time": "2022-04-22T11:03:33.819Z"
   },
   {
    "duration": 16,
    "start_time": "2022-04-22T11:03:41.410Z"
   },
   {
    "duration": 20,
    "start_time": "2022-04-22T11:04:20.496Z"
   },
   {
    "duration": 8,
    "start_time": "2022-04-22T11:05:17.900Z"
   },
   {
    "duration": 15,
    "start_time": "2022-04-22T11:05:21.425Z"
   },
   {
    "duration": 19,
    "start_time": "2022-04-22T11:05:45.590Z"
   },
   {
    "duration": 181,
    "start_time": "2022-04-22T11:06:14.149Z"
   },
   {
    "duration": 14,
    "start_time": "2022-04-22T11:06:33.989Z"
   },
   {
    "duration": 16,
    "start_time": "2022-04-22T11:07:04.557Z"
   },
   {
    "duration": 12,
    "start_time": "2022-04-22T11:09:11.063Z"
   },
   {
    "duration": 5,
    "start_time": "2022-04-22T11:11:10.405Z"
   },
   {
    "duration": 12,
    "start_time": "2022-04-22T11:11:20.236Z"
   },
   {
    "duration": 13,
    "start_time": "2022-04-22T11:11:25.205Z"
   },
   {
    "duration": 2825,
    "start_time": "2022-04-22T11:12:47.069Z"
   },
   {
    "duration": 0,
    "start_time": "2022-04-22T11:12:49.896Z"
   },
   {
    "duration": 6,
    "start_time": "2022-04-22T11:12:55.777Z"
   },
   {
    "duration": 3,
    "start_time": "2022-04-22T11:13:05.565Z"
   },
   {
    "duration": 15,
    "start_time": "2022-04-22T11:13:11.202Z"
   },
   {
    "duration": 5,
    "start_time": "2022-04-22T11:13:21.625Z"
   },
   {
    "duration": 12,
    "start_time": "2022-04-22T11:13:21.940Z"
   },
   {
    "duration": 2,
    "start_time": "2022-04-22T11:16:11.672Z"
   },
   {
    "duration": 452,
    "start_time": "2022-04-22T11:16:11.676Z"
   },
   {
    "duration": 26,
    "start_time": "2022-04-22T11:16:12.129Z"
   },
   {
    "duration": 25,
    "start_time": "2022-04-22T11:16:12.158Z"
   },
   {
    "duration": 21,
    "start_time": "2022-04-22T11:16:12.184Z"
   },
   {
    "duration": 62,
    "start_time": "2022-04-22T11:16:12.207Z"
   },
   {
    "duration": 35,
    "start_time": "2022-04-22T11:16:12.270Z"
   },
   {
    "duration": 26,
    "start_time": "2022-04-22T11:16:12.307Z"
   },
   {
    "duration": 37,
    "start_time": "2022-04-22T11:16:12.335Z"
   },
   {
    "duration": 8,
    "start_time": "2022-04-22T11:16:12.375Z"
   },
   {
    "duration": 66,
    "start_time": "2022-04-22T11:16:12.384Z"
   },
   {
    "duration": 28,
    "start_time": "2022-04-22T11:16:12.452Z"
   },
   {
    "duration": 30,
    "start_time": "2022-04-22T11:16:12.481Z"
   },
   {
    "duration": 30,
    "start_time": "2022-04-22T11:16:12.513Z"
   },
   {
    "duration": 43,
    "start_time": "2022-04-22T11:16:12.544Z"
   },
   {
    "duration": 35,
    "start_time": "2022-04-22T11:16:12.589Z"
   },
   {
    "duration": 59,
    "start_time": "2022-04-22T11:16:12.627Z"
   },
   {
    "duration": 6,
    "start_time": "2022-04-22T11:16:12.688Z"
   },
   {
    "duration": 45,
    "start_time": "2022-04-22T11:16:12.696Z"
   },
   {
    "duration": 48,
    "start_time": "2022-04-22T11:16:12.743Z"
   },
   {
    "duration": 19,
    "start_time": "2022-04-22T11:16:12.805Z"
   },
   {
    "duration": 37,
    "start_time": "2022-04-22T11:16:12.825Z"
   },
   {
    "duration": 25,
    "start_time": "2022-04-22T11:16:12.864Z"
   },
   {
    "duration": 35,
    "start_time": "2022-04-22T11:16:12.891Z"
   },
   {
    "duration": 37,
    "start_time": "2022-04-22T11:16:12.928Z"
   },
   {
    "duration": 12,
    "start_time": "2022-04-22T11:16:12.966Z"
   },
   {
    "duration": 61,
    "start_time": "2022-04-22T11:16:12.980Z"
   },
   {
    "duration": 15,
    "start_time": "2022-04-22T11:16:13.045Z"
   },
   {
    "duration": 58,
    "start_time": "2022-04-22T11:16:13.062Z"
   },
   {
    "duration": 17,
    "start_time": "2022-04-22T11:16:16.943Z"
   },
   {
    "duration": 15,
    "start_time": "2022-04-22T11:16:17.329Z"
   },
   {
    "duration": 50,
    "start_time": "2022-04-22T11:16:20.117Z"
   },
   {
    "duration": 12,
    "start_time": "2022-04-22T11:16:21.670Z"
   },
   {
    "duration": 7,
    "start_time": "2022-04-22T11:16:22.226Z"
   },
   {
    "duration": 12,
    "start_time": "2022-04-22T11:16:22.615Z"
   },
   {
    "duration": 22,
    "start_time": "2022-04-22T11:16:22.861Z"
   },
   {
    "duration": 1015,
    "start_time": "2022-04-22T11:16:40.264Z"
   },
   {
    "duration": 448,
    "start_time": "2022-04-22T11:16:41.281Z"
   },
   {
    "duration": 28,
    "start_time": "2022-04-22T11:16:41.731Z"
   },
   {
    "duration": 22,
    "start_time": "2022-04-22T11:16:41.761Z"
   },
   {
    "duration": 11,
    "start_time": "2022-04-22T11:16:41.785Z"
   },
   {
    "duration": 41,
    "start_time": "2022-04-22T11:16:41.801Z"
   },
   {
    "duration": 29,
    "start_time": "2022-04-22T11:16:41.844Z"
   },
   {
    "duration": 33,
    "start_time": "2022-04-22T11:16:41.874Z"
   },
   {
    "duration": 40,
    "start_time": "2022-04-22T11:16:41.910Z"
   },
   {
    "duration": 8,
    "start_time": "2022-04-22T11:16:41.952Z"
   },
   {
    "duration": 32,
    "start_time": "2022-04-22T11:16:41.961Z"
   },
   {
    "duration": 12,
    "start_time": "2022-04-22T11:16:41.995Z"
   },
   {
    "duration": 26,
    "start_time": "2022-04-22T11:16:42.009Z"
   },
   {
    "duration": 10,
    "start_time": "2022-04-22T11:16:42.038Z"
   },
   {
    "duration": 15,
    "start_time": "2022-04-22T11:16:42.050Z"
   },
   {
    "duration": 8,
    "start_time": "2022-04-22T11:16:42.066Z"
   },
   {
    "duration": 62,
    "start_time": "2022-04-22T11:16:42.075Z"
   },
   {
    "duration": 5,
    "start_time": "2022-04-22T11:16:42.138Z"
   },
   {
    "duration": 19,
    "start_time": "2022-04-22T11:16:42.145Z"
   },
   {
    "duration": 70,
    "start_time": "2022-04-22T11:16:42.166Z"
   },
   {
    "duration": 11,
    "start_time": "2022-04-22T11:16:42.238Z"
   },
   {
    "duration": 58,
    "start_time": "2022-04-22T11:16:42.251Z"
   },
   {
    "duration": 32,
    "start_time": "2022-04-22T11:16:42.311Z"
   },
   {
    "duration": 19,
    "start_time": "2022-04-22T11:16:42.344Z"
   },
   {
    "duration": 64,
    "start_time": "2022-04-22T11:16:42.365Z"
   },
   {
    "duration": 11,
    "start_time": "2022-04-22T11:16:42.431Z"
   },
   {
    "duration": 26,
    "start_time": "2022-04-22T11:16:42.443Z"
   },
   {
    "duration": 38,
    "start_time": "2022-04-22T11:16:42.471Z"
   },
   {
    "duration": 38,
    "start_time": "2022-04-22T11:16:42.511Z"
   },
   {
    "duration": 11,
    "start_time": "2022-04-22T11:16:42.550Z"
   },
   {
    "duration": 43,
    "start_time": "2022-04-22T11:16:42.562Z"
   },
   {
    "duration": 18,
    "start_time": "2022-04-22T11:16:42.607Z"
   },
   {
    "duration": 15,
    "start_time": "2022-04-22T11:16:45.075Z"
   },
   {
    "duration": 33,
    "start_time": "2022-04-22T11:16:50.256Z"
   },
   {
    "duration": 12,
    "start_time": "2022-04-22T11:16:50.982Z"
   },
   {
    "duration": 4,
    "start_time": "2022-04-22T11:16:52.830Z"
   },
   {
    "duration": 12,
    "start_time": "2022-04-22T11:16:53.218Z"
   },
   {
    "duration": 116,
    "start_time": "2022-04-22T11:16:54.922Z"
   },
   {
    "duration": 18,
    "start_time": "2022-04-22T11:17:16.933Z"
   },
   {
    "duration": 22,
    "start_time": "2022-04-22T11:18:35.546Z"
   },
   {
    "duration": 46,
    "start_time": "2022-04-22T11:18:45.640Z"
   },
   {
    "duration": 12,
    "start_time": "2022-04-22T11:18:46.149Z"
   },
   {
    "duration": 29,
    "start_time": "2022-04-22T11:18:49.831Z"
   },
   {
    "duration": 20,
    "start_time": "2022-04-22T11:19:11.819Z"
   },
   {
    "duration": 52,
    "start_time": "2022-04-22T11:20:06.768Z"
   },
   {
    "duration": 12,
    "start_time": "2022-04-22T11:20:07.922Z"
   },
   {
    "duration": 60,
    "start_time": "2022-04-22T11:21:05.864Z"
   },
   {
    "duration": 13,
    "start_time": "2022-04-22T11:21:06.249Z"
   },
   {
    "duration": 12,
    "start_time": "2022-04-22T11:21:13.178Z"
   },
   {
    "duration": 51,
    "start_time": "2022-04-22T11:22:03.116Z"
   },
   {
    "duration": 12,
    "start_time": "2022-04-22T11:22:04.049Z"
   },
   {
    "duration": 14,
    "start_time": "2022-04-22T11:22:05.309Z"
   },
   {
    "duration": 4,
    "start_time": "2022-04-22T11:34:06.368Z"
   },
   {
    "duration": 61,
    "start_time": "2022-04-22T11:34:16.896Z"
   },
   {
    "duration": 8,
    "start_time": "2022-04-22T11:34:17.207Z"
   },
   {
    "duration": 19,
    "start_time": "2022-04-22T11:34:17.700Z"
   },
   {
    "duration": 3,
    "start_time": "2022-04-22T11:34:30.139Z"
   },
   {
    "duration": 514,
    "start_time": "2022-04-22T11:34:30.145Z"
   },
   {
    "duration": 27,
    "start_time": "2022-04-22T11:34:30.661Z"
   },
   {
    "duration": 75,
    "start_time": "2022-04-22T11:34:30.690Z"
   },
   {
    "duration": 41,
    "start_time": "2022-04-22T11:34:30.767Z"
   },
   {
    "duration": 133,
    "start_time": "2022-04-22T11:34:30.810Z"
   },
   {
    "duration": 84,
    "start_time": "2022-04-22T11:34:30.945Z"
   },
   {
    "duration": 43,
    "start_time": "2022-04-22T11:34:31.031Z"
   },
   {
    "duration": 67,
    "start_time": "2022-04-22T11:34:31.076Z"
   },
   {
    "duration": 32,
    "start_time": "2022-04-22T11:34:31.148Z"
   },
   {
    "duration": 54,
    "start_time": "2022-04-22T11:34:31.182Z"
   },
   {
    "duration": 21,
    "start_time": "2022-04-22T11:34:31.238Z"
   },
   {
    "duration": 50,
    "start_time": "2022-04-22T11:34:31.261Z"
   },
   {
    "duration": 47,
    "start_time": "2022-04-22T11:34:31.313Z"
   },
   {
    "duration": 19,
    "start_time": "2022-04-22T11:34:31.362Z"
   },
   {
    "duration": 13,
    "start_time": "2022-04-22T11:34:31.383Z"
   },
   {
    "duration": 77,
    "start_time": "2022-04-22T11:34:31.400Z"
   },
   {
    "duration": 5,
    "start_time": "2022-04-22T11:34:31.478Z"
   },
   {
    "duration": 38,
    "start_time": "2022-04-22T11:34:31.484Z"
   },
   {
    "duration": 75,
    "start_time": "2022-04-22T11:34:31.524Z"
   },
   {
    "duration": 8,
    "start_time": "2022-04-22T11:34:31.601Z"
   },
   {
    "duration": 45,
    "start_time": "2022-04-22T11:34:31.612Z"
   },
   {
    "duration": 76,
    "start_time": "2022-04-22T11:34:31.659Z"
   },
   {
    "duration": 40,
    "start_time": "2022-04-22T11:34:31.739Z"
   },
   {
    "duration": 27,
    "start_time": "2022-04-22T11:34:31.782Z"
   },
   {
    "duration": 64,
    "start_time": "2022-04-22T11:34:31.811Z"
   },
   {
    "duration": 10,
    "start_time": "2022-04-22T11:34:31.877Z"
   },
   {
    "duration": 34,
    "start_time": "2022-04-22T11:34:31.891Z"
   },
   {
    "duration": 32,
    "start_time": "2022-04-22T11:34:31.927Z"
   },
   {
    "duration": 59,
    "start_time": "2022-04-22T11:34:31.961Z"
   },
   {
    "duration": 18,
    "start_time": "2022-04-22T11:34:32.024Z"
   },
   {
    "duration": 16,
    "start_time": "2022-04-22T11:34:32.046Z"
   },
   {
    "duration": 41,
    "start_time": "2022-04-22T11:34:32.064Z"
   },
   {
    "duration": 17,
    "start_time": "2022-04-22T11:36:15.222Z"
   },
   {
    "duration": 13,
    "start_time": "2022-04-22T11:36:21.458Z"
   },
   {
    "duration": 26,
    "start_time": "2022-04-22T11:36:42.862Z"
   },
   {
    "duration": 22,
    "start_time": "2022-04-22T11:36:55.909Z"
   },
   {
    "duration": 15,
    "start_time": "2022-04-22T11:36:58.815Z"
   },
   {
    "duration": 24,
    "start_time": "2022-04-22T11:37:10.791Z"
   },
   {
    "duration": 14,
    "start_time": "2022-04-22T11:37:11.834Z"
   },
   {
    "duration": 15,
    "start_time": "2022-04-22T11:37:21.252Z"
   },
   {
    "duration": 16,
    "start_time": "2022-04-22T11:37:24.331Z"
   },
   {
    "duration": 13,
    "start_time": "2022-04-22T11:37:26.364Z"
   },
   {
    "duration": 13,
    "start_time": "2022-04-22T11:38:26.461Z"
   },
   {
    "duration": 13,
    "start_time": "2022-04-22T11:38:48.084Z"
   },
   {
    "duration": 16,
    "start_time": "2022-04-22T11:38:59.708Z"
   },
   {
    "duration": 17,
    "start_time": "2022-04-22T11:40:14.219Z"
   },
   {
    "duration": 14,
    "start_time": "2022-04-22T11:40:36.587Z"
   },
   {
    "duration": 12,
    "start_time": "2022-04-22T11:41:03.667Z"
   },
   {
    "duration": 12,
    "start_time": "2022-04-22T11:41:17.526Z"
   },
   {
    "duration": 11,
    "start_time": "2022-04-22T11:41:30.278Z"
   },
   {
    "duration": 19,
    "start_time": "2022-04-22T11:41:58.089Z"
   },
   {
    "duration": 16,
    "start_time": "2022-04-22T11:42:30.818Z"
   },
   {
    "duration": 16,
    "start_time": "2022-04-22T11:44:07.463Z"
   },
   {
    "duration": 14,
    "start_time": "2022-04-22T11:44:13.912Z"
   },
   {
    "duration": 3,
    "start_time": "2022-04-22T11:49:26.816Z"
   },
   {
    "duration": 524,
    "start_time": "2022-04-22T11:49:26.831Z"
   },
   {
    "duration": 26,
    "start_time": "2022-04-22T11:49:27.357Z"
   },
   {
    "duration": 48,
    "start_time": "2022-04-22T11:49:27.385Z"
   },
   {
    "duration": 19,
    "start_time": "2022-04-22T11:49:27.437Z"
   },
   {
    "duration": 34,
    "start_time": "2022-04-22T11:49:27.458Z"
   },
   {
    "duration": 50,
    "start_time": "2022-04-22T11:49:27.500Z"
   },
   {
    "duration": 23,
    "start_time": "2022-04-22T11:49:27.551Z"
   },
   {
    "duration": 44,
    "start_time": "2022-04-22T11:49:27.576Z"
   },
   {
    "duration": 31,
    "start_time": "2022-04-22T11:49:27.622Z"
   },
   {
    "duration": 71,
    "start_time": "2022-04-22T11:49:27.655Z"
   },
   {
    "duration": 29,
    "start_time": "2022-04-22T11:49:27.728Z"
   },
   {
    "duration": 24,
    "start_time": "2022-04-22T11:49:27.758Z"
   },
   {
    "duration": 31,
    "start_time": "2022-04-22T11:49:27.784Z"
   },
   {
    "duration": 45,
    "start_time": "2022-04-22T11:49:27.819Z"
   },
   {
    "duration": 11,
    "start_time": "2022-04-22T11:49:27.866Z"
   },
   {
    "duration": 30,
    "start_time": "2022-04-22T11:49:27.878Z"
   },
   {
    "duration": 45,
    "start_time": "2022-04-22T11:49:27.910Z"
   },
   {
    "duration": 35,
    "start_time": "2022-04-22T11:49:27.956Z"
   },
   {
    "duration": 9,
    "start_time": "2022-04-22T11:49:27.994Z"
   },
   {
    "duration": 57,
    "start_time": "2022-04-22T11:49:28.005Z"
   },
   {
    "duration": 49,
    "start_time": "2022-04-22T11:49:28.064Z"
   },
   {
    "duration": 6,
    "start_time": "2022-04-22T11:49:28.116Z"
   },
   {
    "duration": 32,
    "start_time": "2022-04-22T11:49:28.123Z"
   },
   {
    "duration": 33,
    "start_time": "2022-04-22T11:49:28.157Z"
   },
   {
    "duration": 74,
    "start_time": "2022-04-22T11:49:28.192Z"
   },
   {
    "duration": 27,
    "start_time": "2022-04-22T11:49:28.269Z"
   },
   {
    "duration": 47,
    "start_time": "2022-04-22T11:49:28.304Z"
   },
   {
    "duration": 14,
    "start_time": "2022-04-22T11:49:28.353Z"
   },
   {
    "duration": 48,
    "start_time": "2022-04-22T11:49:28.370Z"
   },
   {
    "duration": 37,
    "start_time": "2022-04-22T11:49:28.420Z"
   },
   {
    "duration": 32,
    "start_time": "2022-04-22T11:49:28.459Z"
   },
   {
    "duration": 14,
    "start_time": "2022-04-22T11:49:28.492Z"
   },
   {
    "duration": 35,
    "start_time": "2022-04-22T11:49:28.508Z"
   },
   {
    "duration": 13,
    "start_time": "2022-04-22T11:49:28.545Z"
   },
   {
    "duration": 21,
    "start_time": "2022-04-22T11:49:28.560Z"
   },
   {
    "duration": 22,
    "start_time": "2022-04-22T11:49:28.583Z"
   },
   {
    "duration": 30,
    "start_time": "2022-04-22T11:49:28.617Z"
   },
   {
    "duration": 16,
    "start_time": "2022-04-22T11:49:28.650Z"
   },
   {
    "duration": 19,
    "start_time": "2022-04-22T11:49:28.668Z"
   },
   {
    "duration": 10,
    "start_time": "2022-04-22T11:49:28.694Z"
   },
   {
    "duration": 3093,
    "start_time": "2022-04-22T11:49:28.708Z"
   },
   {
    "duration": 0,
    "start_time": "2022-04-22T11:49:31.804Z"
   },
   {
    "duration": 0,
    "start_time": "2022-04-22T11:49:31.805Z"
   },
   {
    "duration": 6,
    "start_time": "2022-04-22T11:49:45.855Z"
   },
   {
    "duration": 19,
    "start_time": "2022-04-22T11:49:47.063Z"
   },
   {
    "duration": 7,
    "start_time": "2022-04-22T11:49:48.803Z"
   },
   {
    "duration": 4,
    "start_time": "2022-04-22T11:49:53.659Z"
   },
   {
    "duration": 13,
    "start_time": "2022-04-22T11:49:54.421Z"
   },
   {
    "duration": 24,
    "start_time": "2022-04-22T11:49:55.153Z"
   },
   {
    "duration": 22,
    "start_time": "2022-04-22T11:49:55.610Z"
   },
   {
    "duration": 12,
    "start_time": "2022-04-22T11:49:57.477Z"
   },
   {
    "duration": 13,
    "start_time": "2022-04-22T11:50:01.882Z"
   },
   {
    "duration": 22,
    "start_time": "2022-04-22T11:50:03.707Z"
   },
   {
    "duration": 5,
    "start_time": "2022-04-22T11:50:26.680Z"
   },
   {
    "duration": 14,
    "start_time": "2022-04-22T11:50:31.219Z"
   },
   {
    "duration": 8,
    "start_time": "2022-04-22T11:54:39.677Z"
   },
   {
    "duration": 30,
    "start_time": "2022-04-22T11:58:01.219Z"
   },
   {
    "duration": 4,
    "start_time": "2022-04-22T11:58:36.235Z"
   },
   {
    "duration": 26,
    "start_time": "2022-04-22T11:59:25.616Z"
   },
   {
    "duration": 6,
    "start_time": "2022-04-22T12:00:00.319Z"
   },
   {
    "duration": 34,
    "start_time": "2022-04-22T12:00:13.793Z"
   },
   {
    "duration": 14,
    "start_time": "2022-04-22T12:00:24.826Z"
   },
   {
    "duration": 6,
    "start_time": "2022-04-22T12:00:28.836Z"
   },
   {
    "duration": 12,
    "start_time": "2022-04-22T12:00:39.912Z"
   },
   {
    "duration": 6,
    "start_time": "2022-04-22T12:00:51.488Z"
   },
   {
    "duration": 6,
    "start_time": "2022-04-22T12:00:54.838Z"
   },
   {
    "duration": 34,
    "start_time": "2022-04-22T12:01:00.936Z"
   },
   {
    "duration": 5,
    "start_time": "2022-04-22T12:01:15.936Z"
   },
   {
    "duration": 186,
    "start_time": "2022-04-22T12:01:59.630Z"
   },
   {
    "duration": 175,
    "start_time": "2022-04-22T12:02:12.785Z"
   },
   {
    "duration": 169,
    "start_time": "2022-04-22T12:02:16.713Z"
   },
   {
    "duration": 5,
    "start_time": "2022-04-22T12:02:32.958Z"
   },
   {
    "duration": 7,
    "start_time": "2022-04-22T12:02:38.607Z"
   },
   {
    "duration": 10,
    "start_time": "2022-04-22T12:02:46.846Z"
   },
   {
    "duration": 11,
    "start_time": "2022-04-22T12:02:51.373Z"
   },
   {
    "duration": 14,
    "start_time": "2022-04-22T12:04:21.689Z"
   },
   {
    "duration": 11,
    "start_time": "2022-04-22T12:05:03.745Z"
   },
   {
    "duration": 12,
    "start_time": "2022-04-22T12:05:16.162Z"
   },
   {
    "duration": 14,
    "start_time": "2022-04-22T12:05:45.863Z"
   },
   {
    "duration": 10,
    "start_time": "2022-04-22T12:06:29.852Z"
   },
   {
    "duration": 16,
    "start_time": "2022-04-22T12:06:44.130Z"
   },
   {
    "duration": 175,
    "start_time": "2022-04-22T12:06:57.089Z"
   },
   {
    "duration": 16,
    "start_time": "2022-04-22T12:07:25.539Z"
   },
   {
    "duration": 15,
    "start_time": "2022-04-22T12:07:41.122Z"
   },
   {
    "duration": 4,
    "start_time": "2022-04-22T12:07:46.342Z"
   },
   {
    "duration": 16,
    "start_time": "2022-04-22T12:07:46.560Z"
   },
   {
    "duration": 41,
    "start_time": "2022-04-22T12:07:46.777Z"
   },
   {
    "duration": 20,
    "start_time": "2022-04-22T12:07:47.032Z"
   },
   {
    "duration": 12,
    "start_time": "2022-04-22T12:07:47.570Z"
   },
   {
    "duration": 6,
    "start_time": "2022-04-22T12:07:48.192Z"
   },
   {
    "duration": 13,
    "start_time": "2022-04-22T12:07:48.735Z"
   },
   {
    "duration": 12,
    "start_time": "2022-04-22T12:07:52.379Z"
   },
   {
    "duration": 19,
    "start_time": "2022-04-22T12:08:53.306Z"
   },
   {
    "duration": 12,
    "start_time": "2022-04-22T12:08:54.237Z"
   },
   {
    "duration": 15,
    "start_time": "2022-04-22T12:09:25.752Z"
   },
   {
    "duration": 12,
    "start_time": "2022-04-22T12:09:39.479Z"
   },
   {
    "duration": 10,
    "start_time": "2022-04-22T12:11:49.512Z"
   },
   {
    "duration": 12,
    "start_time": "2022-04-22T12:12:26.984Z"
   },
   {
    "duration": 14,
    "start_time": "2022-04-22T12:12:28.732Z"
   },
   {
    "duration": 16,
    "start_time": "2022-04-22T12:12:43.287Z"
   },
   {
    "duration": 20,
    "start_time": "2022-04-22T12:13:55.113Z"
   },
   {
    "duration": 11,
    "start_time": "2022-04-22T12:13:55.972Z"
   },
   {
    "duration": 15,
    "start_time": "2022-04-22T12:13:56.667Z"
   },
   {
    "duration": 18,
    "start_time": "2022-04-22T12:14:32.115Z"
   },
   {
    "duration": 5,
    "start_time": "2022-04-22T12:14:35.470Z"
   },
   {
    "duration": 11,
    "start_time": "2022-04-22T12:14:35.739Z"
   },
   {
    "duration": 43,
    "start_time": "2022-04-22T12:14:36.202Z"
   },
   {
    "duration": 19,
    "start_time": "2022-04-22T12:14:36.488Z"
   },
   {
    "duration": 10,
    "start_time": "2022-04-22T12:14:36.759Z"
   },
   {
    "duration": 4,
    "start_time": "2022-04-22T12:14:37.042Z"
   },
   {
    "duration": 16,
    "start_time": "2022-04-22T12:14:37.515Z"
   },
   {
    "duration": 15,
    "start_time": "2022-04-22T12:14:37.938Z"
   },
   {
    "duration": 13,
    "start_time": "2022-04-22T12:14:38.507Z"
   },
   {
    "duration": 21,
    "start_time": "2022-04-22T12:14:38.993Z"
   },
   {
    "duration": 13,
    "start_time": "2022-04-22T12:15:56.017Z"
   },
   {
    "duration": 13,
    "start_time": "2022-04-22T12:15:56.312Z"
   },
   {
    "duration": 14,
    "start_time": "2022-04-22T12:15:57.120Z"
   },
   {
    "duration": 5,
    "start_time": "2022-04-22T12:16:32.997Z"
   },
   {
    "duration": 3,
    "start_time": "2022-04-22T12:16:45.573Z"
   },
   {
    "duration": 15,
    "start_time": "2022-04-22T12:16:51.319Z"
   },
   {
    "duration": 400,
    "start_time": "2022-04-22T12:20:44.088Z"
   },
   {
    "duration": 8,
    "start_time": "2022-04-22T12:20:53.530Z"
   },
   {
    "duration": 8,
    "start_time": "2022-04-22T12:20:56.519Z"
   },
   {
    "duration": 2599,
    "start_time": "2022-04-22T12:21:06.842Z"
   },
   {
    "duration": 6,
    "start_time": "2022-04-22T12:23:16.806Z"
   },
   {
    "duration": 2662,
    "start_time": "2022-04-22T12:23:18.977Z"
   },
   {
    "duration": 14,
    "start_time": "2022-04-22T12:23:49.683Z"
   },
   {
    "duration": 149,
    "start_time": "2022-04-22T12:24:39.265Z"
   },
   {
    "duration": 9,
    "start_time": "2022-04-22T12:31:12.362Z"
   },
   {
    "duration": 10,
    "start_time": "2022-04-22T12:31:33.247Z"
   },
   {
    "duration": 11,
    "start_time": "2022-04-22T12:31:47.416Z"
   },
   {
    "duration": 6,
    "start_time": "2022-04-22T12:32:07.708Z"
   },
   {
    "duration": 13,
    "start_time": "2022-04-22T12:32:13.507Z"
   },
   {
    "duration": 4,
    "start_time": "2022-04-22T12:32:24.782Z"
   },
   {
    "duration": 7,
    "start_time": "2022-04-22T12:33:42.186Z"
   },
   {
    "duration": 22,
    "start_time": "2022-04-22T12:34:00.755Z"
   },
   {
    "duration": 13,
    "start_time": "2022-04-22T12:34:10.889Z"
   },
   {
    "duration": 8,
    "start_time": "2022-04-22T12:34:35.558Z"
   },
   {
    "duration": 9,
    "start_time": "2022-04-22T12:35:14.125Z"
   },
   {
    "duration": 13,
    "start_time": "2022-04-22T12:35:17.377Z"
   },
   {
    "duration": 9,
    "start_time": "2022-04-22T12:35:22.601Z"
   },
   {
    "duration": 7,
    "start_time": "2022-04-22T12:35:37.951Z"
   },
   {
    "duration": 17,
    "start_time": "2022-04-22T12:36:42.286Z"
   },
   {
    "duration": 10,
    "start_time": "2022-04-22T12:37:00.726Z"
   },
   {
    "duration": 9,
    "start_time": "2022-04-22T12:37:15.707Z"
   },
   {
    "duration": 10,
    "start_time": "2022-04-22T12:42:35.603Z"
   },
   {
    "duration": 10,
    "start_time": "2022-04-22T12:42:35.999Z"
   },
   {
    "duration": 2352,
    "start_time": "2022-04-22T12:43:01.625Z"
   },
   {
    "duration": 10,
    "start_time": "2022-04-22T12:43:12.237Z"
   },
   {
    "duration": 11,
    "start_time": "2022-04-22T12:43:14.620Z"
   },
   {
    "duration": 145,
    "start_time": "2022-04-22T12:44:37.679Z"
   },
   {
    "duration": 140,
    "start_time": "2022-04-22T12:47:34.731Z"
   },
   {
    "duration": 14,
    "start_time": "2022-04-22T12:47:52.522Z"
   },
   {
    "duration": 4,
    "start_time": "2022-04-22T12:47:59.258Z"
   },
   {
    "duration": 8,
    "start_time": "2022-04-22T12:48:08.212Z"
   },
   {
    "duration": 7,
    "start_time": "2022-04-22T12:48:13.953Z"
   },
   {
    "duration": 10,
    "start_time": "2022-04-22T12:48:15.163Z"
   },
   {
    "duration": 9,
    "start_time": "2022-04-22T12:48:48.990Z"
   },
   {
    "duration": 2472,
    "start_time": "2022-04-22T12:49:23.187Z"
   },
   {
    "duration": 10,
    "start_time": "2022-04-22T12:49:30.761Z"
   },
   {
    "duration": 10,
    "start_time": "2022-04-22T12:50:09.301Z"
   },
   {
    "duration": 10,
    "start_time": "2022-04-22T12:50:33.425Z"
   },
   {
    "duration": 9,
    "start_time": "2022-04-22T12:51:46.659Z"
   },
   {
    "duration": 10,
    "start_time": "2022-04-22T12:52:06.287Z"
   },
   {
    "duration": 8,
    "start_time": "2022-04-22T12:52:10.933Z"
   },
   {
    "duration": 11,
    "start_time": "2022-04-22T12:53:05.251Z"
   },
   {
    "duration": 11,
    "start_time": "2022-04-22T12:53:05.597Z"
   },
   {
    "duration": 9,
    "start_time": "2022-04-22T12:53:06.346Z"
   },
   {
    "duration": 7,
    "start_time": "2022-04-22T12:53:42.129Z"
   },
   {
    "duration": 7,
    "start_time": "2022-04-22T12:53:42.615Z"
   },
   {
    "duration": 231,
    "start_time": "2022-04-22T13:02:19.140Z"
   },
   {
    "duration": 147,
    "start_time": "2022-04-22T13:04:02.508Z"
   },
   {
    "duration": 10,
    "start_time": "2022-04-22T13:05:17.897Z"
   },
   {
    "duration": 8,
    "start_time": "2022-04-22T13:05:28.561Z"
   },
   {
    "duration": 10,
    "start_time": "2022-04-22T13:05:32.929Z"
   },
   {
    "duration": 158,
    "start_time": "2022-04-22T13:05:55.837Z"
   },
   {
    "duration": 150,
    "start_time": "2022-04-22T13:09:06.072Z"
   },
   {
    "duration": 25,
    "start_time": "2022-04-22T13:11:45.828Z"
   },
   {
    "duration": 10,
    "start_time": "2022-04-22T13:17:29.094Z"
   },
   {
    "duration": 10,
    "start_time": "2022-04-22T13:17:36.391Z"
   },
   {
    "duration": 24,
    "start_time": "2022-04-22T13:24:44.942Z"
   },
   {
    "duration": 47,
    "start_time": "2022-04-24T08:17:31.202Z"
   },
   {
    "duration": 1417,
    "start_time": "2022-04-24T08:17:39.116Z"
   },
   {
    "duration": 381,
    "start_time": "2022-04-24T08:17:40.536Z"
   },
   {
    "duration": 27,
    "start_time": "2022-04-24T08:17:40.918Z"
   },
   {
    "duration": 20,
    "start_time": "2022-04-24T08:17:40.947Z"
   },
   {
    "duration": 10,
    "start_time": "2022-04-24T08:17:40.970Z"
   },
   {
    "duration": 25,
    "start_time": "2022-04-24T08:17:40.982Z"
   },
   {
    "duration": 56,
    "start_time": "2022-04-24T08:17:41.009Z"
   },
   {
    "duration": 24,
    "start_time": "2022-04-24T08:17:41.067Z"
   },
   {
    "duration": 27,
    "start_time": "2022-04-24T08:17:41.093Z"
   },
   {
    "duration": 8,
    "start_time": "2022-04-24T08:17:41.122Z"
   },
   {
    "duration": 27,
    "start_time": "2022-04-24T08:17:41.155Z"
   },
   {
    "duration": 8,
    "start_time": "2022-04-24T08:17:41.184Z"
   },
   {
    "duration": 11,
    "start_time": "2022-04-24T08:17:41.194Z"
   },
   {
    "duration": 14,
    "start_time": "2022-04-24T08:17:41.206Z"
   },
   {
    "duration": 43,
    "start_time": "2022-04-24T08:17:41.221Z"
   },
   {
    "duration": 14,
    "start_time": "2022-04-24T08:17:41.266Z"
   },
   {
    "duration": 16,
    "start_time": "2022-04-24T08:17:41.282Z"
   },
   {
    "duration": 12,
    "start_time": "2022-04-24T08:17:41.300Z"
   },
   {
    "duration": 51,
    "start_time": "2022-04-24T08:17:41.314Z"
   },
   {
    "duration": 7,
    "start_time": "2022-04-24T08:17:41.369Z"
   },
   {
    "duration": 21,
    "start_time": "2022-04-24T08:17:41.378Z"
   },
   {
    "duration": 62,
    "start_time": "2022-04-24T08:17:41.400Z"
   },
   {
    "duration": 4,
    "start_time": "2022-04-24T08:17:41.464Z"
   },
   {
    "duration": 17,
    "start_time": "2022-04-24T08:17:41.469Z"
   },
   {
    "duration": 34,
    "start_time": "2022-04-24T08:17:41.488Z"
   },
   {
    "duration": 35,
    "start_time": "2022-04-24T08:17:41.524Z"
   },
   {
    "duration": 29,
    "start_time": "2022-04-24T08:17:41.562Z"
   },
   {
    "duration": 60,
    "start_time": "2022-04-24T08:17:41.598Z"
   },
   {
    "duration": 13,
    "start_time": "2022-04-24T08:17:41.660Z"
   },
   {
    "duration": 23,
    "start_time": "2022-04-24T08:17:41.675Z"
   },
   {
    "duration": 13,
    "start_time": "2022-04-24T08:17:41.700Z"
   },
   {
    "duration": 59,
    "start_time": "2022-04-24T08:17:41.715Z"
   },
   {
    "duration": 10,
    "start_time": "2022-04-24T08:17:41.776Z"
   },
   {
    "duration": 8,
    "start_time": "2022-04-24T08:17:41.788Z"
   },
   {
    "duration": 12,
    "start_time": "2022-04-24T08:17:41.798Z"
   },
   {
    "duration": 20,
    "start_time": "2022-04-24T08:17:41.812Z"
   },
   {
    "duration": 36,
    "start_time": "2022-04-24T08:17:41.834Z"
   },
   {
    "duration": 24,
    "start_time": "2022-04-24T08:17:41.872Z"
   },
   {
    "duration": 22,
    "start_time": "2022-04-24T08:17:41.898Z"
   },
   {
    "duration": 42,
    "start_time": "2022-04-24T08:17:41.922Z"
   },
   {
    "duration": 12,
    "start_time": "2022-04-24T08:17:41.965Z"
   },
   {
    "duration": 6,
    "start_time": "2022-04-24T08:17:41.978Z"
   },
   {
    "duration": 15,
    "start_time": "2022-04-24T08:17:41.985Z"
   },
   {
    "duration": 7,
    "start_time": "2022-04-24T08:17:42.002Z"
   },
   {
    "duration": 10,
    "start_time": "2022-04-24T08:17:42.011Z"
   },
   {
    "duration": 13,
    "start_time": "2022-04-24T08:17:42.023Z"
   },
   {
    "duration": 45,
    "start_time": "2022-04-24T08:17:42.038Z"
   },
   {
    "duration": 16,
    "start_time": "2022-04-24T08:17:42.085Z"
   },
   {
    "duration": 9,
    "start_time": "2022-04-24T08:17:42.103Z"
   },
   {
    "duration": 6,
    "start_time": "2022-04-24T08:17:42.115Z"
   },
   {
    "duration": 38,
    "start_time": "2022-04-24T08:17:42.123Z"
   },
   {
    "duration": 17,
    "start_time": "2022-04-24T08:17:42.164Z"
   },
   {
    "duration": 11,
    "start_time": "2022-04-24T08:17:42.183Z"
   },
   {
    "duration": 16,
    "start_time": "2022-04-24T08:17:42.196Z"
   },
   {
    "duration": 4,
    "start_time": "2022-04-24T08:17:42.214Z"
   },
   {
    "duration": 3,
    "start_time": "2022-04-24T08:17:42.220Z"
   },
   {
    "duration": 77,
    "start_time": "2022-04-24T08:17:42.225Z"
   },
   {
    "duration": 13,
    "start_time": "2022-04-24T08:17:42.305Z"
   },
   {
    "duration": 12,
    "start_time": "2022-04-24T08:17:42.320Z"
   },
   {
    "duration": 8,
    "start_time": "2022-04-24T08:17:42.334Z"
   },
   {
    "duration": 3103,
    "start_time": "2022-04-24T08:17:42.344Z"
   },
   {
    "duration": 14,
    "start_time": "2022-04-24T08:17:45.450Z"
   },
   {
    "duration": 18,
    "start_time": "2022-04-24T08:17:45.466Z"
   },
   {
    "duration": 11,
    "start_time": "2022-04-24T08:17:45.486Z"
   },
   {
    "duration": 8,
    "start_time": "2022-04-24T08:17:45.499Z"
   },
   {
    "duration": 8,
    "start_time": "2022-04-24T08:17:45.508Z"
   },
   {
    "duration": 7,
    "start_time": "2022-04-24T08:17:45.518Z"
   },
   {
    "duration": 1254,
    "start_time": "2022-04-24T08:17:45.527Z"
   },
   {
    "duration": 0,
    "start_time": "2022-04-24T08:17:46.783Z"
   },
   {
    "duration": 0,
    "start_time": "2022-04-24T08:17:46.785Z"
   },
   {
    "duration": 0,
    "start_time": "2022-04-24T08:17:46.786Z"
   },
   {
    "duration": 0,
    "start_time": "2022-04-24T08:17:46.787Z"
   },
   {
    "duration": 0,
    "start_time": "2022-04-24T08:17:46.788Z"
   },
   {
    "duration": 0,
    "start_time": "2022-04-24T08:17:46.789Z"
   },
   {
    "duration": 0,
    "start_time": "2022-04-24T08:17:46.790Z"
   },
   {
    "duration": 0,
    "start_time": "2022-04-24T08:17:46.792Z"
   },
   {
    "duration": 0,
    "start_time": "2022-04-24T08:17:46.792Z"
   },
   {
    "duration": 0,
    "start_time": "2022-04-24T08:17:46.793Z"
   },
   {
    "duration": 0,
    "start_time": "2022-04-24T08:17:46.794Z"
   },
   {
    "duration": 0,
    "start_time": "2022-04-24T08:17:46.795Z"
   },
   {
    "duration": 0,
    "start_time": "2022-04-24T08:17:46.796Z"
   },
   {
    "duration": 0,
    "start_time": "2022-04-24T08:17:46.797Z"
   },
   {
    "duration": 0,
    "start_time": "2022-04-24T08:17:46.798Z"
   },
   {
    "duration": 0,
    "start_time": "2022-04-24T08:17:46.800Z"
   },
   {
    "duration": 0,
    "start_time": "2022-04-24T08:17:46.801Z"
   },
   {
    "duration": 0,
    "start_time": "2022-04-24T08:17:46.802Z"
   },
   {
    "duration": 4,
    "start_time": "2022-04-24T08:20:14.599Z"
   },
   {
    "duration": 7,
    "start_time": "2022-04-24T08:20:14.972Z"
   },
   {
    "duration": 6,
    "start_time": "2022-04-24T08:20:15.422Z"
   },
   {
    "duration": 7,
    "start_time": "2022-04-24T08:20:25.269Z"
   },
   {
    "duration": 10,
    "start_time": "2022-04-24T08:20:25.278Z"
   },
   {
    "duration": 3588,
    "start_time": "2022-04-24T08:20:25.376Z"
   },
   {
    "duration": 12,
    "start_time": "2022-04-24T08:20:28.967Z"
   },
   {
    "duration": 11,
    "start_time": "2022-04-24T08:20:28.982Z"
   },
   {
    "duration": 13,
    "start_time": "2022-04-24T08:20:28.995Z"
   },
   {
    "duration": 12,
    "start_time": "2022-04-24T08:20:29.009Z"
   },
   {
    "duration": 155,
    "start_time": "2022-04-24T08:25:37.154Z"
   },
   {
    "duration": 146,
    "start_time": "2022-04-24T08:26:26.007Z"
   },
   {
    "duration": 150,
    "start_time": "2022-04-24T08:27:48.151Z"
   },
   {
    "duration": 2433,
    "start_time": "2022-04-24T08:27:59.217Z"
   },
   {
    "duration": 18,
    "start_time": "2022-04-24T08:28:22.426Z"
   },
   {
    "duration": 14,
    "start_time": "2022-04-24T08:28:24.109Z"
   },
   {
    "duration": 16,
    "start_time": "2022-04-24T08:28:32.228Z"
   },
   {
    "duration": 1179,
    "start_time": "2022-04-24T08:34:13.642Z"
   },
   {
    "duration": 390,
    "start_time": "2022-04-24T08:34:14.823Z"
   },
   {
    "duration": 27,
    "start_time": "2022-04-24T08:34:15.217Z"
   },
   {
    "duration": 41,
    "start_time": "2022-04-24T08:34:15.247Z"
   },
   {
    "duration": 13,
    "start_time": "2022-04-24T08:34:15.290Z"
   },
   {
    "duration": 24,
    "start_time": "2022-04-24T08:34:15.305Z"
   },
   {
    "duration": 46,
    "start_time": "2022-04-24T08:34:15.332Z"
   },
   {
    "duration": 25,
    "start_time": "2022-04-24T08:34:15.380Z"
   },
   {
    "duration": 58,
    "start_time": "2022-04-24T08:34:15.407Z"
   },
   {
    "duration": 11,
    "start_time": "2022-04-24T08:34:15.467Z"
   },
   {
    "duration": 19,
    "start_time": "2022-04-24T08:34:15.481Z"
   },
   {
    "duration": 7,
    "start_time": "2022-04-24T08:34:15.502Z"
   },
   {
    "duration": 7,
    "start_time": "2022-04-24T08:34:15.514Z"
   },
   {
    "duration": 45,
    "start_time": "2022-04-24T08:34:15.523Z"
   },
   {
    "duration": 16,
    "start_time": "2022-04-24T08:34:15.574Z"
   },
   {
    "duration": 35,
    "start_time": "2022-04-24T08:34:15.592Z"
   },
   {
    "duration": 25,
    "start_time": "2022-04-24T08:34:15.629Z"
   },
   {
    "duration": 27,
    "start_time": "2022-04-24T08:34:15.655Z"
   },
   {
    "duration": 55,
    "start_time": "2022-04-24T08:34:15.684Z"
   },
   {
    "duration": 6,
    "start_time": "2022-04-24T08:34:15.741Z"
   },
   {
    "duration": 53,
    "start_time": "2022-04-24T08:34:15.748Z"
   },
   {
    "duration": 42,
    "start_time": "2022-04-24T08:34:15.803Z"
   },
   {
    "duration": 3,
    "start_time": "2022-04-24T08:34:15.847Z"
   },
   {
    "duration": 30,
    "start_time": "2022-04-24T08:34:15.852Z"
   },
   {
    "duration": 41,
    "start_time": "2022-04-24T08:34:15.885Z"
   },
   {
    "duration": 45,
    "start_time": "2022-04-24T08:34:15.929Z"
   },
   {
    "duration": 27,
    "start_time": "2022-04-24T08:34:15.976Z"
   },
   {
    "duration": 66,
    "start_time": "2022-04-24T08:34:16.006Z"
   },
   {
    "duration": 24,
    "start_time": "2022-04-24T08:34:16.075Z"
   },
   {
    "duration": 27,
    "start_time": "2022-04-24T08:34:16.101Z"
   },
   {
    "duration": 23,
    "start_time": "2022-04-24T08:34:16.130Z"
   },
   {
    "duration": 62,
    "start_time": "2022-04-24T08:34:16.157Z"
   },
   {
    "duration": 11,
    "start_time": "2022-04-24T08:34:16.221Z"
   },
   {
    "duration": 13,
    "start_time": "2022-04-24T08:34:16.234Z"
   },
   {
    "duration": 14,
    "start_time": "2022-04-24T08:34:16.249Z"
   },
   {
    "duration": 39,
    "start_time": "2022-04-24T08:34:16.264Z"
   },
   {
    "duration": 14,
    "start_time": "2022-04-24T08:34:16.305Z"
   },
   {
    "duration": 28,
    "start_time": "2022-04-24T08:34:16.321Z"
   },
   {
    "duration": 20,
    "start_time": "2022-04-24T08:34:16.351Z"
   },
   {
    "duration": 22,
    "start_time": "2022-04-24T08:34:16.378Z"
   },
   {
    "duration": 6,
    "start_time": "2022-04-24T08:34:16.402Z"
   },
   {
    "duration": 6,
    "start_time": "2022-04-24T08:34:16.409Z"
   },
   {
    "duration": 13,
    "start_time": "2022-04-24T08:34:16.417Z"
   },
   {
    "duration": 26,
    "start_time": "2022-04-24T08:34:16.432Z"
   },
   {
    "duration": 19,
    "start_time": "2022-04-24T08:34:16.462Z"
   },
   {
    "duration": 16,
    "start_time": "2022-04-24T08:34:16.483Z"
   },
   {
    "duration": 31,
    "start_time": "2022-04-24T08:34:16.500Z"
   },
   {
    "duration": 24,
    "start_time": "2022-04-24T08:34:16.532Z"
   },
   {
    "duration": 11,
    "start_time": "2022-04-24T08:34:16.559Z"
   },
   {
    "duration": 16,
    "start_time": "2022-04-24T08:34:16.574Z"
   },
   {
    "duration": 12,
    "start_time": "2022-04-24T08:34:16.591Z"
   },
   {
    "duration": 15,
    "start_time": "2022-04-24T08:34:16.605Z"
   },
   {
    "duration": 8,
    "start_time": "2022-04-24T08:34:16.622Z"
   },
   {
    "duration": 4,
    "start_time": "2022-04-24T08:34:16.632Z"
   },
   {
    "duration": 5,
    "start_time": "2022-04-24T08:34:16.638Z"
   },
   {
    "duration": 25,
    "start_time": "2022-04-24T08:34:16.656Z"
   },
   {
    "duration": 8,
    "start_time": "2022-04-24T08:34:16.682Z"
   },
   {
    "duration": 9,
    "start_time": "2022-04-24T08:34:16.692Z"
   },
   {
    "duration": 9,
    "start_time": "2022-04-24T08:34:16.703Z"
   },
   {
    "duration": 2205,
    "start_time": "2022-04-24T08:34:16.714Z"
   },
   {
    "duration": 10,
    "start_time": "2022-04-24T08:34:18.921Z"
   },
   {
    "duration": 8,
    "start_time": "2022-04-24T08:34:18.932Z"
   },
   {
    "duration": 18,
    "start_time": "2022-04-24T08:34:18.942Z"
   },
   {
    "duration": 26,
    "start_time": "2022-04-24T08:34:18.961Z"
   },
   {
    "duration": 11,
    "start_time": "2022-04-24T08:34:18.989Z"
   },
   {
    "duration": 13,
    "start_time": "2022-04-24T08:34:19.002Z"
   },
   {
    "duration": 6,
    "start_time": "2022-04-24T08:34:19.017Z"
   },
   {
    "duration": 2817,
    "start_time": "2022-04-24T08:34:19.024Z"
   },
   {
    "duration": 22,
    "start_time": "2022-04-24T08:34:21.843Z"
   },
   {
    "duration": 20,
    "start_time": "2022-04-24T08:34:21.869Z"
   },
   {
    "duration": 8,
    "start_time": "2022-04-24T08:34:21.891Z"
   },
   {
    "duration": 14,
    "start_time": "2022-04-24T08:34:21.901Z"
   },
   {
    "duration": 10,
    "start_time": "2022-04-24T08:34:21.916Z"
   },
   {
    "duration": 9,
    "start_time": "2022-04-24T08:34:21.927Z"
   },
   {
    "duration": 2346,
    "start_time": "2022-04-24T08:34:21.938Z"
   },
   {
    "duration": 12,
    "start_time": "2022-04-24T08:34:24.286Z"
   },
   {
    "duration": 9,
    "start_time": "2022-04-24T08:34:24.299Z"
   },
   {
    "duration": 9,
    "start_time": "2022-04-24T08:34:24.310Z"
   },
   {
    "duration": 38,
    "start_time": "2022-04-24T08:34:24.321Z"
   },
   {
    "duration": 9,
    "start_time": "2022-04-24T08:34:24.364Z"
   },
   {
    "duration": 16,
    "start_time": "2022-04-24T08:34:24.374Z"
   },
   {
    "duration": 7,
    "start_time": "2022-04-24T08:34:24.392Z"
   },
   {
    "duration": 15,
    "start_time": "2022-04-24T08:34:24.400Z"
   },
   {
    "duration": 15,
    "start_time": "2022-04-24T08:34:24.416Z"
   },
   {
    "duration": 37,
    "start_time": "2022-04-24T08:34:24.432Z"
   },
   {
    "duration": 415,
    "start_time": "2022-04-24T08:34:24.471Z"
   },
   {
    "duration": 353,
    "start_time": "2022-04-24T08:35:32.876Z"
   },
   {
    "duration": 17,
    "start_time": "2022-04-24T08:35:46.809Z"
   },
   {
    "duration": 16,
    "start_time": "2022-04-24T08:35:48.869Z"
   },
   {
    "duration": 339,
    "start_time": "2022-04-24T08:35:50.694Z"
   },
   {
    "duration": 8,
    "start_time": "2022-04-24T08:37:12.469Z"
   },
   {
    "duration": 9,
    "start_time": "2022-04-24T08:37:24.616Z"
   },
   {
    "duration": 147,
    "start_time": "2022-04-24T08:38:48.505Z"
   },
   {
    "duration": 561,
    "start_time": "2022-04-24T08:39:50.695Z"
   },
   {
    "duration": 139,
    "start_time": "2022-04-24T08:40:59.889Z"
   },
   {
    "duration": 411,
    "start_time": "2022-04-24T08:47:05.885Z"
   },
   {
    "duration": 43,
    "start_time": "2022-04-24T08:47:18.246Z"
   },
   {
    "duration": 14,
    "start_time": "2022-04-24T08:47:32.977Z"
   },
   {
    "duration": 10,
    "start_time": "2022-04-24T08:48:23.035Z"
   },
   {
    "duration": 8,
    "start_time": "2022-04-24T08:48:43.153Z"
   },
   {
    "duration": 18,
    "start_time": "2022-04-24T08:48:48.398Z"
   },
   {
    "duration": 34,
    "start_time": "2022-04-24T08:48:54.017Z"
   },
   {
    "duration": 626,
    "start_time": "2022-04-24T08:48:59.020Z"
   },
   {
    "duration": 582,
    "start_time": "2022-04-24T08:49:03.289Z"
   },
   {
    "duration": 788,
    "start_time": "2022-04-24T08:49:08.982Z"
   },
   {
    "duration": 9,
    "start_time": "2022-04-24T09:21:06.671Z"
   },
   {
    "duration": 10,
    "start_time": "2022-04-24T09:21:12.856Z"
   },
   {
    "duration": 9,
    "start_time": "2022-04-24T09:21:17.296Z"
   },
   {
    "duration": 13,
    "start_time": "2022-04-24T09:22:00.464Z"
   },
   {
    "duration": 7,
    "start_time": "2022-04-24T09:22:08.342Z"
   },
   {
    "duration": 9,
    "start_time": "2022-04-24T09:22:16.798Z"
   },
   {
    "duration": 9,
    "start_time": "2022-04-24T09:22:24.667Z"
   },
   {
    "duration": 1553,
    "start_time": "2022-04-24T09:24:27.628Z"
   },
   {
    "duration": 502,
    "start_time": "2022-04-24T09:24:29.184Z"
   },
   {
    "duration": 44,
    "start_time": "2022-04-24T09:24:29.688Z"
   },
   {
    "duration": 32,
    "start_time": "2022-04-24T09:24:29.735Z"
   },
   {
    "duration": 14,
    "start_time": "2022-04-24T09:24:29.770Z"
   },
   {
    "duration": 45,
    "start_time": "2022-04-24T09:24:29.786Z"
   },
   {
    "duration": 51,
    "start_time": "2022-04-24T09:24:29.833Z"
   },
   {
    "duration": 36,
    "start_time": "2022-04-24T09:24:29.889Z"
   },
   {
    "duration": 49,
    "start_time": "2022-04-24T09:24:29.928Z"
   },
   {
    "duration": 11,
    "start_time": "2022-04-24T09:24:29.981Z"
   },
   {
    "duration": 30,
    "start_time": "2022-04-24T09:24:29.995Z"
   },
   {
    "duration": 15,
    "start_time": "2022-04-24T09:24:30.027Z"
   },
   {
    "duration": 24,
    "start_time": "2022-04-24T09:24:30.044Z"
   },
   {
    "duration": 31,
    "start_time": "2022-04-24T09:24:30.070Z"
   },
   {
    "duration": 22,
    "start_time": "2022-04-24T09:24:30.103Z"
   },
   {
    "duration": 12,
    "start_time": "2022-04-24T09:24:30.127Z"
   },
   {
    "duration": 21,
    "start_time": "2022-04-24T09:24:30.141Z"
   },
   {
    "duration": 16,
    "start_time": "2022-04-24T09:24:30.164Z"
   },
   {
    "duration": 63,
    "start_time": "2022-04-24T09:24:30.182Z"
   },
   {
    "duration": 6,
    "start_time": "2022-04-24T09:24:30.247Z"
   },
   {
    "duration": 23,
    "start_time": "2022-04-24T09:24:30.255Z"
   },
   {
    "duration": 59,
    "start_time": "2022-04-24T09:24:30.280Z"
   },
   {
    "duration": 13,
    "start_time": "2022-04-24T09:24:30.341Z"
   },
   {
    "duration": 15,
    "start_time": "2022-04-24T09:24:30.356Z"
   },
   {
    "duration": 43,
    "start_time": "2022-04-24T09:24:30.373Z"
   },
   {
    "duration": 47,
    "start_time": "2022-04-24T09:24:30.421Z"
   },
   {
    "duration": 30,
    "start_time": "2022-04-24T09:24:30.471Z"
   },
   {
    "duration": 62,
    "start_time": "2022-04-24T09:24:30.508Z"
   },
   {
    "duration": 16,
    "start_time": "2022-04-24T09:24:30.572Z"
   },
   {
    "duration": 58,
    "start_time": "2022-04-24T09:24:30.590Z"
   },
   {
    "duration": 24,
    "start_time": "2022-04-24T09:24:30.651Z"
   },
   {
    "duration": 32,
    "start_time": "2022-04-24T09:24:30.677Z"
   },
   {
    "duration": 10,
    "start_time": "2022-04-24T09:24:30.711Z"
   },
   {
    "duration": 30,
    "start_time": "2022-04-24T09:24:30.723Z"
   },
   {
    "duration": 13,
    "start_time": "2022-04-24T09:24:30.756Z"
   },
   {
    "duration": 33,
    "start_time": "2022-04-24T09:24:30.771Z"
   },
   {
    "duration": 32,
    "start_time": "2022-04-24T09:24:30.806Z"
   },
   {
    "duration": 50,
    "start_time": "2022-04-24T09:24:30.840Z"
   },
   {
    "duration": 18,
    "start_time": "2022-04-24T09:24:30.892Z"
   },
   {
    "duration": 25,
    "start_time": "2022-04-24T09:24:30.915Z"
   },
   {
    "duration": 32,
    "start_time": "2022-04-24T09:24:30.942Z"
   },
   {
    "duration": 11,
    "start_time": "2022-04-24T09:24:30.976Z"
   },
   {
    "duration": 28,
    "start_time": "2022-04-24T09:24:30.989Z"
   },
   {
    "duration": 15,
    "start_time": "2022-04-24T09:24:31.019Z"
   },
   {
    "duration": 14,
    "start_time": "2022-04-24T09:24:31.036Z"
   },
   {
    "duration": 18,
    "start_time": "2022-04-24T09:24:31.052Z"
   },
   {
    "duration": 38,
    "start_time": "2022-04-24T09:24:31.072Z"
   },
   {
    "duration": 40,
    "start_time": "2022-04-24T09:24:31.114Z"
   },
   {
    "duration": 12,
    "start_time": "2022-04-24T09:24:31.156Z"
   },
   {
    "duration": 20,
    "start_time": "2022-04-24T09:24:31.170Z"
   },
   {
    "duration": 35,
    "start_time": "2022-04-24T09:24:31.192Z"
   },
   {
    "duration": 20,
    "start_time": "2022-04-24T09:24:31.229Z"
   },
   {
    "duration": 22,
    "start_time": "2022-04-24T09:24:31.252Z"
   },
   {
    "duration": 11,
    "start_time": "2022-04-24T09:24:31.276Z"
   },
   {
    "duration": 38,
    "start_time": "2022-04-24T09:24:31.290Z"
   },
   {
    "duration": 11,
    "start_time": "2022-04-24T09:24:31.331Z"
   },
   {
    "duration": 27,
    "start_time": "2022-04-24T09:24:31.344Z"
   },
   {
    "duration": 17,
    "start_time": "2022-04-24T09:24:31.375Z"
   },
   {
    "duration": 2861,
    "start_time": "2022-04-24T09:24:31.394Z"
   },
   {
    "duration": 12,
    "start_time": "2022-04-24T09:24:34.258Z"
   },
   {
    "duration": 11,
    "start_time": "2022-04-24T09:24:34.272Z"
   },
   {
    "duration": 9,
    "start_time": "2022-04-24T09:24:34.286Z"
   },
   {
    "duration": 14,
    "start_time": "2022-04-24T09:24:34.297Z"
   },
   {
    "duration": 9,
    "start_time": "2022-04-24T09:24:34.313Z"
   },
   {
    "duration": 39,
    "start_time": "2022-04-24T09:24:34.324Z"
   },
   {
    "duration": 11,
    "start_time": "2022-04-24T09:24:34.365Z"
   },
   {
    "duration": 2289,
    "start_time": "2022-04-24T09:24:34.378Z"
   },
   {
    "duration": 13,
    "start_time": "2022-04-24T09:24:36.670Z"
   },
   {
    "duration": 18,
    "start_time": "2022-04-24T09:24:36.687Z"
   },
   {
    "duration": 32,
    "start_time": "2022-04-24T09:24:36.707Z"
   },
   {
    "duration": 33,
    "start_time": "2022-04-24T09:24:36.741Z"
   },
   {
    "duration": 27,
    "start_time": "2022-04-24T09:24:36.778Z"
   },
   {
    "duration": 28,
    "start_time": "2022-04-24T09:24:36.808Z"
   },
   {
    "duration": 1980,
    "start_time": "2022-04-24T09:24:36.838Z"
   },
   {
    "duration": 12,
    "start_time": "2022-04-24T09:24:38.820Z"
   },
   {
    "duration": 28,
    "start_time": "2022-04-24T09:24:38.834Z"
   },
   {
    "duration": 33,
    "start_time": "2022-04-24T09:24:38.864Z"
   },
   {
    "duration": 31,
    "start_time": "2022-04-24T09:24:38.902Z"
   },
   {
    "duration": 30,
    "start_time": "2022-04-24T09:24:38.936Z"
   },
   {
    "duration": 22,
    "start_time": "2022-04-24T09:24:38.969Z"
   },
   {
    "duration": 32,
    "start_time": "2022-04-24T09:24:38.994Z"
   },
   {
    "duration": 22,
    "start_time": "2022-04-24T09:24:39.034Z"
   },
   {
    "duration": 52,
    "start_time": "2022-04-24T09:24:39.061Z"
   },
   {
    "duration": 11,
    "start_time": "2022-04-24T09:24:39.116Z"
   },
   {
    "duration": 31,
    "start_time": "2022-04-24T09:24:39.131Z"
   },
   {
    "duration": 17,
    "start_time": "2022-04-24T09:24:39.165Z"
   },
   {
    "duration": 36,
    "start_time": "2022-04-24T09:24:39.185Z"
   },
   {
    "duration": 883,
    "start_time": "2022-04-24T09:24:39.224Z"
   },
   {
    "duration": 8,
    "start_time": "2022-04-24T09:24:40.112Z"
   },
   {
    "duration": 28,
    "start_time": "2022-04-24T09:24:40.123Z"
   },
   {
    "duration": 14,
    "start_time": "2022-04-24T09:24:40.153Z"
   },
   {
    "duration": 30,
    "start_time": "2022-04-24T09:24:40.169Z"
   },
   {
    "duration": 192,
    "start_time": "2022-04-24T11:18:57.278Z"
   },
   {
    "duration": 560,
    "start_time": "2022-04-24T11:20:14.412Z"
   },
   {
    "duration": 51,
    "start_time": "2022-04-24T11:31:06.693Z"
   },
   {
    "duration": 1536,
    "start_time": "2022-04-24T11:31:12.072Z"
   },
   {
    "duration": 622,
    "start_time": "2022-04-24T11:31:13.611Z"
   },
   {
    "duration": 47,
    "start_time": "2022-04-24T11:31:14.236Z"
   },
   {
    "duration": 24,
    "start_time": "2022-04-24T11:31:14.286Z"
   },
   {
    "duration": 24,
    "start_time": "2022-04-24T11:31:14.312Z"
   },
   {
    "duration": 41,
    "start_time": "2022-04-24T11:31:14.339Z"
   },
   {
    "duration": 55,
    "start_time": "2022-04-24T11:31:14.382Z"
   },
   {
    "duration": 22,
    "start_time": "2022-04-24T11:31:14.439Z"
   },
   {
    "duration": 40,
    "start_time": "2022-04-24T11:31:14.463Z"
   },
   {
    "duration": 19,
    "start_time": "2022-04-24T11:31:14.506Z"
   },
   {
    "duration": 50,
    "start_time": "2022-04-24T11:31:14.530Z"
   },
   {
    "duration": 10,
    "start_time": "2022-04-24T11:31:14.582Z"
   },
   {
    "duration": 19,
    "start_time": "2022-04-24T11:31:14.593Z"
   },
   {
    "duration": 25,
    "start_time": "2022-04-24T11:31:14.613Z"
   },
   {
    "duration": 20,
    "start_time": "2022-04-24T11:31:14.640Z"
   },
   {
    "duration": 22,
    "start_time": "2022-04-24T11:31:14.661Z"
   },
   {
    "duration": 26,
    "start_time": "2022-04-24T11:31:14.684Z"
   },
   {
    "duration": 23,
    "start_time": "2022-04-24T11:31:14.712Z"
   },
   {
    "duration": 68,
    "start_time": "2022-04-24T11:31:14.737Z"
   },
   {
    "duration": 6,
    "start_time": "2022-04-24T11:31:14.807Z"
   },
   {
    "duration": 38,
    "start_time": "2022-04-24T11:31:14.815Z"
   },
   {
    "duration": 56,
    "start_time": "2022-04-24T11:31:14.855Z"
   },
   {
    "duration": 10,
    "start_time": "2022-04-24T11:31:14.913Z"
   },
   {
    "duration": 30,
    "start_time": "2022-04-24T11:31:14.929Z"
   },
   {
    "duration": 35,
    "start_time": "2022-04-24T11:31:14.960Z"
   },
   {
    "duration": 51,
    "start_time": "2022-04-24T11:31:14.996Z"
   },
   {
    "duration": 17,
    "start_time": "2022-04-24T11:31:15.049Z"
   },
   {
    "duration": 46,
    "start_time": "2022-04-24T11:31:15.071Z"
   },
   {
    "duration": 13,
    "start_time": "2022-04-24T11:31:15.119Z"
   },
   {
    "duration": 28,
    "start_time": "2022-04-24T11:31:15.134Z"
   },
   {
    "duration": 22,
    "start_time": "2022-04-24T11:31:15.164Z"
   },
   {
    "duration": 55,
    "start_time": "2022-04-24T11:31:15.188Z"
   },
   {
    "duration": 11,
    "start_time": "2022-04-24T11:31:15.245Z"
   },
   {
    "duration": 19,
    "start_time": "2022-04-24T11:31:15.258Z"
   },
   {
    "duration": 26,
    "start_time": "2022-04-24T11:31:15.279Z"
   },
   {
    "duration": 20,
    "start_time": "2022-04-24T11:31:15.306Z"
   },
   {
    "duration": 20,
    "start_time": "2022-04-24T11:31:15.328Z"
   },
   {
    "duration": 33,
    "start_time": "2022-04-24T11:31:15.350Z"
   },
   {
    "duration": 43,
    "start_time": "2022-04-24T11:31:15.385Z"
   },
   {
    "duration": 18,
    "start_time": "2022-04-24T11:31:15.430Z"
   },
   {
    "duration": 5,
    "start_time": "2022-04-24T11:31:15.449Z"
   },
   {
    "duration": 5,
    "start_time": "2022-04-24T11:31:15.455Z"
   },
   {
    "duration": 13,
    "start_time": "2022-04-24T11:31:15.462Z"
   },
   {
    "duration": 6,
    "start_time": "2022-04-24T11:31:15.476Z"
   },
   {
    "duration": 41,
    "start_time": "2022-04-24T11:31:15.484Z"
   },
   {
    "duration": 13,
    "start_time": "2022-04-24T11:31:15.536Z"
   },
   {
    "duration": 34,
    "start_time": "2022-04-24T11:31:15.551Z"
   },
   {
    "duration": 35,
    "start_time": "2022-04-24T11:31:15.587Z"
   },
   {
    "duration": 12,
    "start_time": "2022-04-24T11:31:15.624Z"
   },
   {
    "duration": 23,
    "start_time": "2022-04-24T11:31:15.638Z"
   },
   {
    "duration": 29,
    "start_time": "2022-04-24T11:31:15.663Z"
   },
   {
    "duration": 11,
    "start_time": "2022-04-24T11:31:15.695Z"
   },
   {
    "duration": 28,
    "start_time": "2022-04-24T11:31:15.708Z"
   },
   {
    "duration": 13,
    "start_time": "2022-04-24T11:31:15.742Z"
   },
   {
    "duration": 57,
    "start_time": "2022-04-24T11:31:15.757Z"
   },
   {
    "duration": 4,
    "start_time": "2022-04-24T11:31:15.816Z"
   },
   {
    "duration": 23,
    "start_time": "2022-04-24T11:31:15.826Z"
   },
   {
    "duration": 11,
    "start_time": "2022-04-24T11:31:15.851Z"
   },
   {
    "duration": 2124,
    "start_time": "2022-04-24T11:31:15.863Z"
   },
   {
    "duration": 11,
    "start_time": "2022-04-24T11:31:17.988Z"
   },
   {
    "duration": 31,
    "start_time": "2022-04-24T11:31:18.000Z"
   },
   {
    "duration": 8,
    "start_time": "2022-04-24T11:31:18.034Z"
   },
   {
    "duration": 11,
    "start_time": "2022-04-24T11:31:18.044Z"
   },
   {
    "duration": 7,
    "start_time": "2022-04-24T11:31:18.056Z"
   },
   {
    "duration": 11,
    "start_time": "2022-04-24T11:31:18.065Z"
   },
   {
    "duration": 6,
    "start_time": "2022-04-24T11:31:18.079Z"
   },
   {
    "duration": 2415,
    "start_time": "2022-04-24T11:31:18.087Z"
   },
   {
    "duration": 21,
    "start_time": "2022-04-24T11:31:20.503Z"
   },
   {
    "duration": 9,
    "start_time": "2022-04-24T11:31:20.535Z"
   },
   {
    "duration": 14,
    "start_time": "2022-04-24T11:31:20.546Z"
   },
   {
    "duration": 9,
    "start_time": "2022-04-24T11:31:20.563Z"
   },
   {
    "duration": 17,
    "start_time": "2022-04-24T11:31:20.574Z"
   },
   {
    "duration": 6,
    "start_time": "2022-04-24T11:31:20.593Z"
   },
   {
    "duration": 2180,
    "start_time": "2022-04-24T11:31:20.601Z"
   },
   {
    "duration": 9,
    "start_time": "2022-04-24T11:31:22.782Z"
   },
   {
    "duration": 8,
    "start_time": "2022-04-24T11:31:22.793Z"
   },
   {
    "duration": 14,
    "start_time": "2022-04-24T11:31:22.823Z"
   },
   {
    "duration": 12,
    "start_time": "2022-04-24T11:31:22.840Z"
   },
   {
    "duration": 7,
    "start_time": "2022-04-24T11:31:22.854Z"
   },
   {
    "duration": 6,
    "start_time": "2022-04-24T11:31:22.863Z"
   },
   {
    "duration": 8,
    "start_time": "2022-04-24T11:31:22.870Z"
   },
   {
    "duration": 39,
    "start_time": "2022-04-24T11:31:22.884Z"
   },
   {
    "duration": 29,
    "start_time": "2022-04-24T11:31:22.926Z"
   },
   {
    "duration": 5,
    "start_time": "2022-04-24T11:31:22.957Z"
   },
   {
    "duration": 6,
    "start_time": "2022-04-24T11:31:22.964Z"
   },
   {
    "duration": 8,
    "start_time": "2022-04-24T11:31:22.971Z"
   },
   {
    "duration": 18,
    "start_time": "2022-04-24T11:31:22.980Z"
   },
   {
    "duration": 765,
    "start_time": "2022-04-24T11:31:23.023Z"
   },
   {
    "duration": 8,
    "start_time": "2022-04-24T11:31:23.790Z"
   },
   {
    "duration": 26,
    "start_time": "2022-04-24T11:31:23.800Z"
   },
   {
    "duration": 13,
    "start_time": "2022-04-24T11:31:23.828Z"
   },
   {
    "duration": 6,
    "start_time": "2022-04-24T11:31:23.843Z"
   },
   {
    "duration": 24,
    "start_time": "2022-04-24T11:31:23.851Z"
   },
   {
    "duration": 54,
    "start_time": "2022-04-24T11:31:27.155Z"
   },
   {
    "duration": 4,
    "start_time": "2022-04-24T11:31:42.265Z"
   },
   {
    "duration": 3,
    "start_time": "2022-04-24T11:32:02.713Z"
   },
   {
    "duration": 1493,
    "start_time": "2022-04-24T11:32:40.795Z"
   },
   {
    "duration": 387,
    "start_time": "2022-04-24T11:33:17.310Z"
   },
   {
    "duration": 162,
    "start_time": "2022-04-24T11:33:36.807Z"
   },
   {
    "duration": 147,
    "start_time": "2022-04-24T11:33:38.349Z"
   },
   {
    "duration": 2,
    "start_time": "2022-04-24T11:33:53.327Z"
   },
   {
    "duration": 473,
    "start_time": "2022-04-24T11:35:37.602Z"
   },
   {
    "duration": 1798,
    "start_time": "2022-04-24T11:35:48.643Z"
   },
   {
    "duration": 457,
    "start_time": "2022-04-24T11:35:50.443Z"
   },
   {
    "duration": 29,
    "start_time": "2022-04-24T11:35:50.901Z"
   },
   {
    "duration": 23,
    "start_time": "2022-04-24T11:35:50.933Z"
   },
   {
    "duration": 14,
    "start_time": "2022-04-24T11:35:50.958Z"
   },
   {
    "duration": 63,
    "start_time": "2022-04-24T11:35:50.974Z"
   },
   {
    "duration": 28,
    "start_time": "2022-04-24T11:35:51.040Z"
   },
   {
    "duration": 21,
    "start_time": "2022-04-24T11:35:51.070Z"
   },
   {
    "duration": 62,
    "start_time": "2022-04-24T11:35:51.092Z"
   },
   {
    "duration": 9,
    "start_time": "2022-04-24T11:35:51.159Z"
   },
   {
    "duration": 22,
    "start_time": "2022-04-24T11:35:51.170Z"
   },
   {
    "duration": 8,
    "start_time": "2022-04-24T11:35:51.194Z"
   },
   {
    "duration": 13,
    "start_time": "2022-04-24T11:35:51.222Z"
   },
   {
    "duration": 13,
    "start_time": "2022-04-24T11:35:51.237Z"
   },
   {
    "duration": 12,
    "start_time": "2022-04-24T11:35:51.251Z"
   },
   {
    "duration": 7,
    "start_time": "2022-04-24T11:35:51.265Z"
   },
   {
    "duration": 13,
    "start_time": "2022-04-24T11:35:51.274Z"
   },
   {
    "duration": 14,
    "start_time": "2022-04-24T11:35:51.327Z"
   },
   {
    "duration": 34,
    "start_time": "2022-04-24T11:35:51.343Z"
   },
   {
    "duration": 4,
    "start_time": "2022-04-24T11:35:51.379Z"
   },
   {
    "duration": 45,
    "start_time": "2022-04-24T11:35:51.385Z"
   },
   {
    "duration": 43,
    "start_time": "2022-04-24T11:35:51.432Z"
   },
   {
    "duration": 3,
    "start_time": "2022-04-24T11:35:51.477Z"
   },
   {
    "duration": 12,
    "start_time": "2022-04-24T11:35:51.481Z"
   },
   {
    "duration": 53,
    "start_time": "2022-04-24T11:35:51.494Z"
   },
   {
    "duration": 42,
    "start_time": "2022-04-24T11:35:51.549Z"
   },
   {
    "duration": 39,
    "start_time": "2022-04-24T11:35:51.593Z"
   },
   {
    "duration": 33,
    "start_time": "2022-04-24T11:35:51.638Z"
   },
   {
    "duration": 10,
    "start_time": "2022-04-24T11:35:51.673Z"
   },
   {
    "duration": 49,
    "start_time": "2022-04-24T11:35:51.685Z"
   },
   {
    "duration": 17,
    "start_time": "2022-04-24T11:35:51.736Z"
   },
   {
    "duration": 31,
    "start_time": "2022-04-24T11:35:51.755Z"
   },
   {
    "duration": 10,
    "start_time": "2022-04-24T11:35:51.787Z"
   },
   {
    "duration": 27,
    "start_time": "2022-04-24T11:35:51.799Z"
   },
   {
    "duration": 13,
    "start_time": "2022-04-24T11:35:51.828Z"
   },
   {
    "duration": 16,
    "start_time": "2022-04-24T11:35:51.843Z"
   },
   {
    "duration": 11,
    "start_time": "2022-04-24T11:35:51.861Z"
   },
   {
    "duration": 22,
    "start_time": "2022-04-24T11:35:51.874Z"
   },
   {
    "duration": 42,
    "start_time": "2022-04-24T11:35:51.898Z"
   },
   {
    "duration": 19,
    "start_time": "2022-04-24T11:35:51.942Z"
   },
   {
    "duration": 7,
    "start_time": "2022-04-24T11:35:51.963Z"
   },
   {
    "duration": 4,
    "start_time": "2022-04-24T11:35:51.972Z"
   },
   {
    "duration": 11,
    "start_time": "2022-04-24T11:35:51.978Z"
   },
   {
    "duration": 34,
    "start_time": "2022-04-24T11:35:51.991Z"
   },
   {
    "duration": 4,
    "start_time": "2022-04-24T11:35:52.034Z"
   },
   {
    "duration": 9,
    "start_time": "2022-04-24T11:35:52.042Z"
   },
   {
    "duration": 24,
    "start_time": "2022-04-24T11:35:52.053Z"
   },
   {
    "duration": 14,
    "start_time": "2022-04-24T11:35:52.079Z"
   },
   {
    "duration": 40,
    "start_time": "2022-04-24T11:35:52.094Z"
   },
   {
    "duration": 7,
    "start_time": "2022-04-24T11:35:52.136Z"
   },
   {
    "duration": 14,
    "start_time": "2022-04-24T11:35:52.144Z"
   },
   {
    "duration": 11,
    "start_time": "2022-04-24T11:35:52.160Z"
   },
   {
    "duration": 6,
    "start_time": "2022-04-24T11:35:52.172Z"
   },
   {
    "duration": 8,
    "start_time": "2022-04-24T11:35:52.180Z"
   },
   {
    "duration": 51,
    "start_time": "2022-04-24T11:35:52.189Z"
   },
   {
    "duration": 3,
    "start_time": "2022-04-24T11:35:52.241Z"
   },
   {
    "duration": 7,
    "start_time": "2022-04-24T11:35:52.246Z"
   },
   {
    "duration": 8,
    "start_time": "2022-04-24T11:35:52.254Z"
   },
   {
    "duration": 2019,
    "start_time": "2022-04-24T11:35:52.264Z"
   },
   {
    "duration": 9,
    "start_time": "2022-04-24T11:35:54.285Z"
   },
   {
    "duration": 8,
    "start_time": "2022-04-24T11:35:54.296Z"
   },
   {
    "duration": 16,
    "start_time": "2022-04-24T11:35:54.322Z"
   },
   {
    "duration": 10,
    "start_time": "2022-04-24T11:35:54.342Z"
   },
   {
    "duration": 6,
    "start_time": "2022-04-24T11:35:54.354Z"
   },
   {
    "duration": 8,
    "start_time": "2022-04-24T11:35:54.362Z"
   },
   {
    "duration": 11,
    "start_time": "2022-04-24T11:35:54.373Z"
   },
   {
    "duration": 2344,
    "start_time": "2022-04-24T11:35:54.386Z"
   },
   {
    "duration": 11,
    "start_time": "2022-04-24T11:35:56.732Z"
   },
   {
    "duration": 9,
    "start_time": "2022-04-24T11:35:56.746Z"
   },
   {
    "duration": 13,
    "start_time": "2022-04-24T11:35:56.757Z"
   },
   {
    "duration": 12,
    "start_time": "2022-04-24T11:35:56.772Z"
   },
   {
    "duration": 37,
    "start_time": "2022-04-24T11:35:56.786Z"
   },
   {
    "duration": 10,
    "start_time": "2022-04-24T11:35:56.824Z"
   },
   {
    "duration": 1994,
    "start_time": "2022-04-24T11:35:56.836Z"
   },
   {
    "duration": 10,
    "start_time": "2022-04-24T11:35:58.832Z"
   },
   {
    "duration": 24,
    "start_time": "2022-04-24T11:35:58.843Z"
   },
   {
    "duration": 20,
    "start_time": "2022-04-24T11:35:58.868Z"
   },
   {
    "duration": 26,
    "start_time": "2022-04-24T11:35:58.890Z"
   },
   {
    "duration": 26,
    "start_time": "2022-04-24T11:35:58.917Z"
   },
   {
    "duration": 20,
    "start_time": "2022-04-24T11:35:58.944Z"
   },
   {
    "duration": 33,
    "start_time": "2022-04-24T11:35:58.966Z"
   },
   {
    "duration": 15,
    "start_time": "2022-04-24T11:35:59.004Z"
   },
   {
    "duration": 28,
    "start_time": "2022-04-24T11:35:59.021Z"
   },
   {
    "duration": 19,
    "start_time": "2022-04-24T11:35:59.051Z"
   },
   {
    "duration": 27,
    "start_time": "2022-04-24T11:35:59.071Z"
   },
   {
    "duration": 34,
    "start_time": "2022-04-24T11:35:59.100Z"
   },
   {
    "duration": 31,
    "start_time": "2022-04-24T11:35:59.136Z"
   },
   {
    "duration": 785,
    "start_time": "2022-04-24T11:35:59.170Z"
   },
   {
    "duration": 8,
    "start_time": "2022-04-24T11:35:59.958Z"
   },
   {
    "duration": 20,
    "start_time": "2022-04-24T11:35:59.967Z"
   },
   {
    "duration": 19,
    "start_time": "2022-04-24T11:35:59.988Z"
   },
   {
    "duration": 41,
    "start_time": "2022-04-24T11:36:00.009Z"
   },
   {
    "duration": 4,
    "start_time": "2022-04-24T11:36:00.051Z"
   },
   {
    "duration": 1522,
    "start_time": "2022-04-24T11:36:00.056Z"
   },
   {
    "duration": 182,
    "start_time": "2022-04-24T11:36:01.579Z"
   },
   {
    "duration": 179,
    "start_time": "2022-04-24T11:36:01.762Z"
   },
   {
    "duration": 167,
    "start_time": "2022-04-24T11:36:01.943Z"
   },
   {
    "duration": 3,
    "start_time": "2022-04-24T11:36:02.111Z"
   },
   {
    "duration": 58,
    "start_time": "2022-04-24T11:36:02.123Z"
   },
   {
    "duration": 7,
    "start_time": "2022-04-24T17:47:11.319Z"
   },
   {
    "duration": 2518,
    "start_time": "2022-04-24T17:49:39.965Z"
   },
   {
    "duration": 938,
    "start_time": "2022-04-24T17:49:42.487Z"
   },
   {
    "duration": 84,
    "start_time": "2022-04-24T17:49:43.428Z"
   },
   {
    "duration": 42,
    "start_time": "2022-04-24T17:49:43.516Z"
   },
   {
    "duration": 75,
    "start_time": "2022-04-24T17:49:43.562Z"
   },
   {
    "duration": 98,
    "start_time": "2022-04-24T17:49:43.640Z"
   },
   {
    "duration": 69,
    "start_time": "2022-04-24T17:49:43.749Z"
   },
   {
    "duration": 82,
    "start_time": "2022-04-24T17:49:43.828Z"
   },
   {
    "duration": 107,
    "start_time": "2022-04-24T17:49:43.914Z"
   },
   {
    "duration": 28,
    "start_time": "2022-04-24T17:49:44.035Z"
   },
   {
    "duration": 82,
    "start_time": "2022-04-24T17:49:44.066Z"
   },
   {
    "duration": 23,
    "start_time": "2022-04-24T17:49:44.152Z"
   },
   {
    "duration": 34,
    "start_time": "2022-04-24T17:49:44.184Z"
   },
   {
    "duration": 124,
    "start_time": "2022-04-24T17:49:44.222Z"
   },
   {
    "duration": 55,
    "start_time": "2022-04-24T17:49:44.349Z"
   },
   {
    "duration": 34,
    "start_time": "2022-04-24T17:49:44.408Z"
   },
   {
    "duration": 103,
    "start_time": "2022-04-24T17:49:44.445Z"
   },
   {
    "duration": 139,
    "start_time": "2022-04-24T17:49:44.554Z"
   },
   {
    "duration": 100,
    "start_time": "2022-04-24T17:49:44.696Z"
   },
   {
    "duration": 13,
    "start_time": "2022-04-24T17:49:44.799Z"
   },
   {
    "duration": 87,
    "start_time": "2022-04-24T17:49:44.816Z"
   },
   {
    "duration": 92,
    "start_time": "2022-04-24T17:49:44.907Z"
   },
   {
    "duration": 6,
    "start_time": "2022-04-24T17:49:45.002Z"
   },
   {
    "duration": 120,
    "start_time": "2022-04-24T17:49:45.012Z"
   },
   {
    "duration": 144,
    "start_time": "2022-04-24T17:49:45.135Z"
   },
   {
    "duration": 102,
    "start_time": "2022-04-24T17:49:45.282Z"
   },
   {
    "duration": 43,
    "start_time": "2022-04-24T17:49:45.388Z"
   },
   {
    "duration": 81,
    "start_time": "2022-04-24T17:49:45.441Z"
   },
   {
    "duration": 22,
    "start_time": "2022-04-24T17:49:45.534Z"
   },
   {
    "duration": 107,
    "start_time": "2022-04-24T17:49:45.560Z"
   },
   {
    "duration": 63,
    "start_time": "2022-04-24T17:49:45.679Z"
   },
   {
    "duration": 69,
    "start_time": "2022-04-24T17:49:45.745Z"
   },
   {
    "duration": 28,
    "start_time": "2022-04-24T17:49:45.817Z"
   },
   {
    "duration": 30,
    "start_time": "2022-04-24T17:49:45.848Z"
   },
   {
    "duration": 28,
    "start_time": "2022-04-24T17:49:45.882Z"
   },
   {
    "duration": 42,
    "start_time": "2022-04-24T17:50:47.463Z"
   },
   {
    "duration": 16,
    "start_time": "2022-04-24T17:52:22.162Z"
   },
   {
    "duration": 18,
    "start_time": "2022-04-24T17:52:29.364Z"
   },
   {
    "duration": 212,
    "start_time": "2022-04-24T17:52:37.217Z"
   },
   {
    "duration": 27,
    "start_time": "2022-04-24T17:52:37.552Z"
   },
   {
    "duration": 14,
    "start_time": "2022-04-24T17:53:11.201Z"
   },
   {
    "duration": 26,
    "start_time": "2022-04-24T17:53:11.789Z"
   },
   {
    "duration": 15,
    "start_time": "2022-04-24T17:58:46.081Z"
   },
   {
    "duration": 31,
    "start_time": "2022-04-24T17:58:46.487Z"
   },
   {
    "duration": 13,
    "start_time": "2022-04-24T18:18:30.488Z"
   },
   {
    "duration": 33,
    "start_time": "2022-04-24T18:18:31.420Z"
   },
   {
    "duration": 11,
    "start_time": "2022-04-24T18:20:37.363Z"
   },
   {
    "duration": 21,
    "start_time": "2022-04-24T18:20:37.853Z"
   },
   {
    "duration": 37,
    "start_time": "2022-04-24T18:20:42.431Z"
   },
   {
    "duration": 29,
    "start_time": "2022-04-24T18:20:42.851Z"
   },
   {
    "duration": 35,
    "start_time": "2022-04-24T18:20:52.045Z"
   },
   {
    "duration": 22,
    "start_time": "2022-04-24T18:20:52.464Z"
   },
   {
    "duration": 47,
    "start_time": "2022-04-24T18:21:08.410Z"
   },
   {
    "duration": 37,
    "start_time": "2022-04-24T18:21:08.660Z"
   },
   {
    "duration": 31,
    "start_time": "2022-04-24T18:21:14.361Z"
   },
   {
    "duration": 44,
    "start_time": "2022-04-24T18:21:27.107Z"
   },
   {
    "duration": 23,
    "start_time": "2022-04-24T18:21:27.323Z"
   },
   {
    "duration": 43,
    "start_time": "2022-04-24T18:25:00.351Z"
   },
   {
    "duration": 47,
    "start_time": "2022-04-24T18:25:23.128Z"
   },
   {
    "duration": 30,
    "start_time": "2022-04-24T18:25:47.873Z"
   },
   {
    "duration": 33,
    "start_time": "2022-04-24T18:25:48.347Z"
   },
   {
    "duration": 29,
    "start_time": "2022-04-24T18:28:01.584Z"
   },
   {
    "duration": 25,
    "start_time": "2022-04-24T18:28:12.147Z"
   },
   {
    "duration": 18,
    "start_time": "2022-04-24T18:29:52.683Z"
   },
   {
    "duration": 98,
    "start_time": "2022-04-24T18:30:11.564Z"
   },
   {
    "duration": 34,
    "start_time": "2022-04-24T18:32:01.576Z"
   },
   {
    "duration": 35,
    "start_time": "2022-04-24T18:32:33.278Z"
   },
   {
    "duration": 40,
    "start_time": "2022-04-24T18:32:41.752Z"
   },
   {
    "duration": 33,
    "start_time": "2022-04-24T18:32:54.470Z"
   },
   {
    "duration": 32,
    "start_time": "2022-04-24T18:32:54.763Z"
   },
   {
    "duration": 72,
    "start_time": "2022-04-24T18:33:01.083Z"
   },
   {
    "duration": 32,
    "start_time": "2022-04-24T18:33:11.543Z"
   },
   {
    "duration": 28,
    "start_time": "2022-04-24T18:34:11.367Z"
   },
   {
    "duration": 27,
    "start_time": "2022-04-24T18:34:11.761Z"
   },
   {
    "duration": 101,
    "start_time": "2022-04-24T18:34:15.882Z"
   },
   {
    "duration": 21,
    "start_time": "2022-04-24T18:34:18.872Z"
   },
   {
    "duration": 7,
    "start_time": "2022-04-24T18:34:20.538Z"
   },
   {
    "duration": 190,
    "start_time": "2022-04-24T18:34:42.323Z"
   },
   {
    "duration": 8,
    "start_time": "2022-04-24T18:34:53.938Z"
   },
   {
    "duration": 31,
    "start_time": "2022-04-24T18:34:54.450Z"
   },
   {
    "duration": 13,
    "start_time": "2022-04-24T18:35:11.669Z"
   },
   {
    "duration": 26,
    "start_time": "2022-04-24T18:35:11.969Z"
   },
   {
    "duration": 1867,
    "start_time": "2022-04-24T18:54:18.393Z"
   },
   {
    "duration": 633,
    "start_time": "2022-04-24T18:54:20.263Z"
   },
   {
    "duration": 39,
    "start_time": "2022-04-24T18:54:20.899Z"
   },
   {
    "duration": 36,
    "start_time": "2022-04-24T18:54:20.942Z"
   },
   {
    "duration": 15,
    "start_time": "2022-04-24T18:54:20.984Z"
   },
   {
    "duration": 75,
    "start_time": "2022-04-24T18:54:21.001Z"
   },
   {
    "duration": 80,
    "start_time": "2022-04-24T18:54:21.079Z"
   },
   {
    "duration": 30,
    "start_time": "2022-04-24T18:54:21.165Z"
   },
   {
    "duration": 67,
    "start_time": "2022-04-24T18:54:21.198Z"
   },
   {
    "duration": 13,
    "start_time": "2022-04-24T18:54:21.267Z"
   },
   {
    "duration": 71,
    "start_time": "2022-04-24T18:54:21.283Z"
   },
   {
    "duration": 12,
    "start_time": "2022-04-24T18:54:21.357Z"
   },
   {
    "duration": 16,
    "start_time": "2022-04-24T18:54:21.372Z"
   },
   {
    "duration": 37,
    "start_time": "2022-04-24T18:54:21.395Z"
   },
   {
    "duration": 38,
    "start_time": "2022-04-24T18:54:21.435Z"
   },
   {
    "duration": 14,
    "start_time": "2022-04-24T18:54:21.476Z"
   },
   {
    "duration": 19,
    "start_time": "2022-04-24T18:54:21.493Z"
   },
   {
    "duration": 38,
    "start_time": "2022-04-24T18:54:21.514Z"
   },
   {
    "duration": 67,
    "start_time": "2022-04-24T18:54:21.557Z"
   },
   {
    "duration": 14,
    "start_time": "2022-04-24T18:54:21.628Z"
   },
   {
    "duration": 50,
    "start_time": "2022-04-24T18:54:21.646Z"
   },
   {
    "duration": 77,
    "start_time": "2022-04-24T18:54:21.698Z"
   },
   {
    "duration": 4,
    "start_time": "2022-04-24T18:54:21.777Z"
   },
   {
    "duration": 21,
    "start_time": "2022-04-24T18:54:21.784Z"
   },
   {
    "duration": 52,
    "start_time": "2022-04-24T18:54:21.825Z"
   },
   {
    "duration": 92,
    "start_time": "2022-04-24T18:54:21.879Z"
   },
   {
    "duration": 33,
    "start_time": "2022-04-24T18:54:21.974Z"
   },
   {
    "duration": 64,
    "start_time": "2022-04-24T18:54:22.009Z"
   },
   {
    "duration": 16,
    "start_time": "2022-04-24T18:54:22.075Z"
   },
   {
    "duration": 62,
    "start_time": "2022-04-24T18:54:22.093Z"
   },
   {
    "duration": 25,
    "start_time": "2022-04-24T18:54:22.158Z"
   },
   {
    "duration": 80,
    "start_time": "2022-04-24T18:54:22.186Z"
   },
   {
    "duration": 15,
    "start_time": "2022-04-24T18:54:22.268Z"
   },
   {
    "duration": 12,
    "start_time": "2022-04-24T18:54:22.286Z"
   },
   {
    "duration": 36,
    "start_time": "2022-04-24T18:54:22.301Z"
   },
   {
    "duration": 54,
    "start_time": "2022-04-24T18:54:22.340Z"
   },
   {
    "duration": 18,
    "start_time": "2022-04-24T18:54:22.397Z"
   },
   {
    "duration": 77,
    "start_time": "2022-04-24T18:54:22.417Z"
   },
   {
    "duration": 16,
    "start_time": "2022-04-24T18:54:22.496Z"
   },
   {
    "duration": 4,
    "start_time": "2022-04-24T18:54:22.526Z"
   },
   {
    "duration": 29,
    "start_time": "2022-04-24T18:54:22.545Z"
   },
   {
    "duration": 26,
    "start_time": "2022-04-24T18:54:22.577Z"
   },
   {
    "duration": 33,
    "start_time": "2022-04-24T18:54:22.606Z"
   },
   {
    "duration": 28,
    "start_time": "2022-04-24T18:54:22.649Z"
   },
   {
    "duration": 27,
    "start_time": "2022-04-24T18:54:22.680Z"
   },
   {
    "duration": 53,
    "start_time": "2022-04-24T18:54:22.710Z"
   },
   {
    "duration": 41,
    "start_time": "2022-04-24T18:54:22.766Z"
   },
   {
    "duration": 29,
    "start_time": "2022-04-24T18:54:22.810Z"
   },
   {
    "duration": 14,
    "start_time": "2022-04-24T18:54:22.844Z"
   },
   {
    "duration": 27,
    "start_time": "2022-04-24T18:54:22.861Z"
   },
   {
    "duration": 37,
    "start_time": "2022-04-24T18:54:22.891Z"
   },
   {
    "duration": 10,
    "start_time": "2022-04-24T18:54:22.931Z"
   },
   {
    "duration": 22,
    "start_time": "2022-04-24T18:54:22.944Z"
   },
   {
    "duration": 71,
    "start_time": "2022-04-24T18:54:22.969Z"
   },
   {
    "duration": 8,
    "start_time": "2022-04-24T18:54:23.047Z"
   },
   {
    "duration": 18,
    "start_time": "2022-04-24T18:54:23.058Z"
   },
   {
    "duration": 8,
    "start_time": "2022-04-24T18:54:23.079Z"
   },
   {
    "duration": 3923,
    "start_time": "2022-04-24T18:54:23.090Z"
   },
   {
    "duration": 36,
    "start_time": "2022-04-24T18:54:27.016Z"
   },
   {
    "duration": 22,
    "start_time": "2022-04-24T18:54:27.057Z"
   },
   {
    "duration": 10,
    "start_time": "2022-04-24T18:54:27.082Z"
   },
   {
    "duration": 13,
    "start_time": "2022-04-24T18:54:27.095Z"
   },
   {
    "duration": 30,
    "start_time": "2022-04-24T18:54:27.111Z"
   },
   {
    "duration": 18,
    "start_time": "2022-04-24T18:54:27.148Z"
   },
   {
    "duration": 10,
    "start_time": "2022-04-24T18:54:27.169Z"
   },
   {
    "duration": 5848,
    "start_time": "2022-04-24T18:54:27.182Z"
   },
   {
    "duration": 23,
    "start_time": "2022-04-24T18:54:33.033Z"
   },
   {
    "duration": 27,
    "start_time": "2022-04-24T18:54:33.059Z"
   },
   {
    "duration": 28,
    "start_time": "2022-04-24T18:54:33.089Z"
   },
   {
    "duration": 49,
    "start_time": "2022-04-24T18:54:33.119Z"
   },
   {
    "duration": 23,
    "start_time": "2022-04-24T18:54:33.170Z"
   },
   {
    "duration": 61,
    "start_time": "2022-04-24T18:54:33.195Z"
   },
   {
    "duration": 3970,
    "start_time": "2022-04-24T18:54:33.258Z"
   },
   {
    "duration": 23,
    "start_time": "2022-04-24T18:54:37.233Z"
   },
   {
    "duration": 37,
    "start_time": "2022-04-24T18:54:37.260Z"
   },
   {
    "duration": 17,
    "start_time": "2022-04-24T18:54:37.299Z"
   },
   {
    "duration": 51,
    "start_time": "2022-04-24T18:54:37.318Z"
   },
   {
    "duration": 17,
    "start_time": "2022-04-24T18:54:37.372Z"
   },
   {
    "duration": 19,
    "start_time": "2022-04-24T18:54:37.392Z"
   },
   {
    "duration": 50,
    "start_time": "2022-04-24T18:54:37.413Z"
   },
   {
    "duration": 19,
    "start_time": "2022-04-24T18:54:37.465Z"
   },
   {
    "duration": 55,
    "start_time": "2022-04-24T18:54:37.486Z"
   },
   {
    "duration": 29,
    "start_time": "2022-04-24T18:54:37.544Z"
   },
   {
    "duration": 27,
    "start_time": "2022-04-24T18:54:37.575Z"
   },
   {
    "duration": 52,
    "start_time": "2022-04-24T18:54:37.604Z"
   },
   {
    "duration": 45,
    "start_time": "2022-04-24T18:54:37.660Z"
   },
   {
    "duration": 1202,
    "start_time": "2022-04-24T18:54:37.708Z"
   },
   {
    "duration": 17,
    "start_time": "2022-04-24T18:54:38.913Z"
   },
   {
    "duration": 13,
    "start_time": "2022-04-24T18:54:38.933Z"
   },
   {
    "duration": 21,
    "start_time": "2022-04-24T18:54:38.950Z"
   },
   {
    "duration": 12,
    "start_time": "2022-04-24T18:54:38.974Z"
   },
   {
    "duration": 43,
    "start_time": "2022-04-24T18:54:38.989Z"
   },
   {
    "duration": 2337,
    "start_time": "2022-04-24T18:54:39.035Z"
   },
   {
    "duration": 433,
    "start_time": "2022-04-24T18:54:41.375Z"
   },
   {
    "duration": 364,
    "start_time": "2022-04-24T18:54:41.810Z"
   },
   {
    "duration": 343,
    "start_time": "2022-04-24T18:54:42.177Z"
   },
   {
    "duration": 5,
    "start_time": "2022-04-24T18:54:42.524Z"
   },
   {
    "duration": 74,
    "start_time": "2022-04-24T18:54:42.532Z"
   },
   {
    "duration": 1904,
    "start_time": "2022-04-25T07:55:00.951Z"
   },
   {
    "duration": 575,
    "start_time": "2022-04-25T07:55:02.858Z"
   },
   {
    "duration": 36,
    "start_time": "2022-04-25T07:55:03.435Z"
   },
   {
    "duration": 25,
    "start_time": "2022-04-25T07:55:03.474Z"
   },
   {
    "duration": 16,
    "start_time": "2022-04-25T07:55:03.502Z"
   },
   {
    "duration": 80,
    "start_time": "2022-04-25T07:55:03.521Z"
   },
   {
    "duration": 46,
    "start_time": "2022-04-25T07:55:03.603Z"
   },
   {
    "duration": 60,
    "start_time": "2022-04-25T07:55:03.651Z"
   },
   {
    "duration": 68,
    "start_time": "2022-04-25T07:55:03.714Z"
   },
   {
    "duration": 18,
    "start_time": "2022-04-25T07:55:03.786Z"
   },
   {
    "duration": 32,
    "start_time": "2022-04-25T07:55:03.806Z"
   },
   {
    "duration": 11,
    "start_time": "2022-04-25T07:55:03.840Z"
   },
   {
    "duration": 47,
    "start_time": "2022-04-25T07:55:03.853Z"
   },
   {
    "duration": 31,
    "start_time": "2022-04-25T07:55:03.903Z"
   },
   {
    "duration": 37,
    "start_time": "2022-04-25T07:55:03.936Z"
   },
   {
    "duration": 22,
    "start_time": "2022-04-25T07:55:03.975Z"
   },
   {
    "duration": 33,
    "start_time": "2022-04-25T07:55:03.999Z"
   },
   {
    "duration": 17,
    "start_time": "2022-04-25T07:55:04.034Z"
   },
   {
    "duration": 83,
    "start_time": "2022-04-25T07:55:04.054Z"
   },
   {
    "duration": 7,
    "start_time": "2022-04-25T07:55:04.139Z"
   },
   {
    "duration": 47,
    "start_time": "2022-04-25T07:55:04.148Z"
   },
   {
    "duration": 68,
    "start_time": "2022-04-25T07:55:04.200Z"
   },
   {
    "duration": 17,
    "start_time": "2022-04-25T07:55:04.270Z"
   },
   {
    "duration": 37,
    "start_time": "2022-04-25T07:55:04.290Z"
   },
   {
    "duration": 61,
    "start_time": "2022-04-25T07:55:04.329Z"
   },
   {
    "duration": 63,
    "start_time": "2022-04-25T07:55:04.393Z"
   },
   {
    "duration": 37,
    "start_time": "2022-04-25T07:55:04.459Z"
   },
   {
    "duration": 59,
    "start_time": "2022-04-25T07:55:04.504Z"
   },
   {
    "duration": 35,
    "start_time": "2022-04-25T07:55:04.565Z"
   },
   {
    "duration": 49,
    "start_time": "2022-04-25T07:55:04.602Z"
   },
   {
    "duration": 29,
    "start_time": "2022-04-25T07:55:04.654Z"
   },
   {
    "duration": 48,
    "start_time": "2022-04-25T07:55:04.685Z"
   },
   {
    "duration": 15,
    "start_time": "2022-04-25T07:55:04.735Z"
   },
   {
    "duration": 29,
    "start_time": "2022-04-25T07:55:04.753Z"
   },
   {
    "duration": 31,
    "start_time": "2022-04-25T07:55:04.785Z"
   },
   {
    "duration": 19,
    "start_time": "2022-04-25T07:55:14.613Z"
   },
   {
    "duration": 15,
    "start_time": "2022-04-25T07:55:44.015Z"
   },
   {
    "duration": 16,
    "start_time": "2022-04-25T07:55:48.382Z"
   },
   {
    "duration": 33,
    "start_time": "2022-04-25T07:57:00.034Z"
   },
   {
    "duration": 21,
    "start_time": "2022-04-25T07:57:00.393Z"
   },
   {
    "duration": 36,
    "start_time": "2022-04-25T07:58:28.461Z"
   },
   {
    "duration": 22,
    "start_time": "2022-04-25T07:58:28.500Z"
   },
   {
    "duration": 32,
    "start_time": "2022-04-25T07:58:28.527Z"
   },
   {
    "duration": 61,
    "start_time": "2022-04-25T07:58:37.209Z"
   },
   {
    "duration": 34,
    "start_time": "2022-04-25T07:58:44.677Z"
   },
   {
    "duration": 1684,
    "start_time": "2022-04-25T08:00:42.087Z"
   },
   {
    "duration": 2259,
    "start_time": "2022-04-25T08:00:43.774Z"
   },
   {
    "duration": 37,
    "start_time": "2022-04-25T08:00:46.036Z"
   },
   {
    "duration": 39,
    "start_time": "2022-04-25T08:00:46.077Z"
   },
   {
    "duration": 18,
    "start_time": "2022-04-25T08:00:46.118Z"
   },
   {
    "duration": 70,
    "start_time": "2022-04-25T08:00:46.138Z"
   },
   {
    "duration": 38,
    "start_time": "2022-04-25T08:00:46.210Z"
   },
   {
    "duration": 46,
    "start_time": "2022-04-25T08:00:46.251Z"
   },
   {
    "duration": 52,
    "start_time": "2022-04-25T08:00:46.300Z"
   },
   {
    "duration": 13,
    "start_time": "2022-04-25T08:00:46.357Z"
   },
   {
    "duration": 35,
    "start_time": "2022-04-25T08:00:46.392Z"
   },
   {
    "duration": 11,
    "start_time": "2022-04-25T08:00:46.430Z"
   },
   {
    "duration": 13,
    "start_time": "2022-04-25T08:00:46.443Z"
   },
   {
    "duration": 43,
    "start_time": "2022-04-25T08:00:46.458Z"
   },
   {
    "duration": 32,
    "start_time": "2022-04-25T08:00:46.506Z"
   },
   {
    "duration": 12,
    "start_time": "2022-04-25T08:00:46.540Z"
   },
   {
    "duration": 27,
    "start_time": "2022-04-25T08:00:46.555Z"
   },
   {
    "duration": 23,
    "start_time": "2022-04-25T08:00:46.584Z"
   },
   {
    "duration": 54,
    "start_time": "2022-04-25T08:00:46.611Z"
   },
   {
    "duration": 11,
    "start_time": "2022-04-25T08:00:46.682Z"
   },
   {
    "duration": 39,
    "start_time": "2022-04-25T08:00:46.697Z"
   },
   {
    "duration": 77,
    "start_time": "2022-04-25T08:00:46.738Z"
   },
   {
    "duration": 4,
    "start_time": "2022-04-25T08:00:46.817Z"
   },
   {
    "duration": 24,
    "start_time": "2022-04-25T08:00:46.823Z"
   },
   {
    "duration": 69,
    "start_time": "2022-04-25T08:00:46.850Z"
   },
   {
    "duration": 76,
    "start_time": "2022-04-25T08:00:46.922Z"
   },
   {
    "duration": 41,
    "start_time": "2022-04-25T08:00:47.000Z"
   },
   {
    "duration": 69,
    "start_time": "2022-04-25T08:00:47.052Z"
   },
   {
    "duration": 21,
    "start_time": "2022-04-25T08:00:47.124Z"
   },
   {
    "duration": 68,
    "start_time": "2022-04-25T08:00:47.148Z"
   },
   {
    "duration": 35,
    "start_time": "2022-04-25T08:00:47.218Z"
   },
   {
    "duration": 75,
    "start_time": "2022-04-25T08:00:47.255Z"
   },
   {
    "duration": 20,
    "start_time": "2022-04-25T08:00:47.332Z"
   },
   {
    "duration": 34,
    "start_time": "2022-04-25T08:00:47.355Z"
   },
   {
    "duration": 37,
    "start_time": "2022-04-25T08:00:47.395Z"
   },
   {
    "duration": 26,
    "start_time": "2022-04-25T08:00:47.435Z"
   },
   {
    "duration": 19,
    "start_time": "2022-04-25T08:00:47.463Z"
   },
   {
    "duration": 25,
    "start_time": "2022-04-25T08:00:47.486Z"
   },
   {
    "duration": 74,
    "start_time": "2022-04-25T08:00:47.514Z"
   },
   {
    "duration": 32,
    "start_time": "2022-04-25T08:00:47.591Z"
   },
   {
    "duration": 4,
    "start_time": "2022-04-25T08:00:47.626Z"
   },
   {
    "duration": 9,
    "start_time": "2022-04-25T08:00:47.633Z"
   },
   {
    "duration": 56,
    "start_time": "2022-04-25T08:00:47.645Z"
   },
   {
    "duration": 21,
    "start_time": "2022-04-25T08:00:47.703Z"
   },
   {
    "duration": 8,
    "start_time": "2022-04-25T08:00:47.726Z"
   },
   {
    "duration": 17,
    "start_time": "2022-04-25T08:00:47.736Z"
   },
   {
    "duration": 67,
    "start_time": "2022-04-25T08:00:47.755Z"
   },
   {
    "duration": 23,
    "start_time": "2022-04-25T08:00:47.825Z"
   },
   {
    "duration": 13,
    "start_time": "2022-04-25T08:00:47.850Z"
   },
   {
    "duration": 22,
    "start_time": "2022-04-25T08:00:47.865Z"
   },
   {
    "duration": 31,
    "start_time": "2022-04-25T08:00:47.889Z"
   },
   {
    "duration": 13,
    "start_time": "2022-04-25T08:00:47.922Z"
   },
   {
    "duration": 7,
    "start_time": "2022-04-25T08:00:47.940Z"
   },
   {
    "duration": 8,
    "start_time": "2022-04-25T08:00:47.949Z"
   },
   {
    "duration": 59,
    "start_time": "2022-04-25T08:00:47.986Z"
   },
   {
    "duration": 6,
    "start_time": "2022-04-25T08:00:48.047Z"
   },
   {
    "duration": 16,
    "start_time": "2022-04-25T08:00:48.056Z"
   },
   {
    "duration": 20,
    "start_time": "2022-04-25T08:00:48.074Z"
   },
   {
    "duration": 3967,
    "start_time": "2022-04-25T08:00:48.096Z"
   },
   {
    "duration": 18,
    "start_time": "2022-04-25T08:00:52.066Z"
   },
   {
    "duration": 46,
    "start_time": "2022-04-25T08:00:52.087Z"
   },
   {
    "duration": 15,
    "start_time": "2022-04-25T08:00:52.135Z"
   },
   {
    "duration": 29,
    "start_time": "2022-04-25T08:00:52.152Z"
   },
   {
    "duration": 37,
    "start_time": "2022-04-25T08:00:52.183Z"
   },
   {
    "duration": 13,
    "start_time": "2022-04-25T08:00:52.222Z"
   },
   {
    "duration": 12,
    "start_time": "2022-04-25T08:00:52.237Z"
   },
   {
    "duration": 4159,
    "start_time": "2022-04-25T08:00:52.252Z"
   },
   {
    "duration": 13,
    "start_time": "2022-04-25T08:00:56.416Z"
   },
   {
    "duration": 16,
    "start_time": "2022-04-25T08:00:56.431Z"
   },
   {
    "duration": 10,
    "start_time": "2022-04-25T08:00:56.449Z"
   },
   {
    "duration": 46,
    "start_time": "2022-04-25T08:00:56.461Z"
   },
   {
    "duration": 20,
    "start_time": "2022-04-25T08:00:56.509Z"
   },
   {
    "duration": 16,
    "start_time": "2022-04-25T08:00:56.532Z"
   },
   {
    "duration": 3666,
    "start_time": "2022-04-25T08:00:56.551Z"
   },
   {
    "duration": 12,
    "start_time": "2022-04-25T08:01:00.220Z"
   },
   {
    "duration": 12,
    "start_time": "2022-04-25T08:01:00.235Z"
   },
   {
    "duration": 54,
    "start_time": "2022-04-25T08:01:00.250Z"
   },
   {
    "duration": 29,
    "start_time": "2022-04-25T08:01:00.309Z"
   },
   {
    "duration": 17,
    "start_time": "2022-04-25T08:01:00.340Z"
   },
   {
    "duration": 18,
    "start_time": "2022-04-25T08:01:00.359Z"
   },
   {
    "duration": 42,
    "start_time": "2022-04-25T08:01:00.379Z"
   },
   {
    "duration": 17,
    "start_time": "2022-04-25T08:01:00.430Z"
   },
   {
    "duration": 43,
    "start_time": "2022-04-25T08:01:00.449Z"
   },
   {
    "duration": 22,
    "start_time": "2022-04-25T08:01:00.495Z"
   },
   {
    "duration": 13,
    "start_time": "2022-04-25T08:01:00.519Z"
   },
   {
    "duration": 13,
    "start_time": "2022-04-25T08:01:00.535Z"
   },
   {
    "duration": 149,
    "start_time": "2022-04-25T08:01:00.550Z"
   },
   {
    "duration": 915,
    "start_time": "2022-04-25T08:01:00.702Z"
   },
   {
    "duration": 9,
    "start_time": "2022-04-25T08:01:01.620Z"
   },
   {
    "duration": 17,
    "start_time": "2022-04-25T08:01:01.631Z"
   },
   {
    "duration": 24,
    "start_time": "2022-04-25T08:01:01.650Z"
   },
   {
    "duration": 17,
    "start_time": "2022-04-25T08:01:01.676Z"
   },
   {
    "duration": 26,
    "start_time": "2022-04-25T08:01:01.696Z"
   },
   {
    "duration": 2202,
    "start_time": "2022-04-25T08:01:01.725Z"
   },
   {
    "duration": 322,
    "start_time": "2022-04-25T08:01:03.930Z"
   },
   {
    "duration": 361,
    "start_time": "2022-04-25T08:01:04.255Z"
   },
   {
    "duration": 302,
    "start_time": "2022-04-25T08:01:04.619Z"
   },
   {
    "duration": 4,
    "start_time": "2022-04-25T08:01:04.923Z"
   },
   {
    "duration": 54,
    "start_time": "2022-04-25T08:01:04.929Z"
   }
  ],
  "kernelspec": {
   "display_name": "Python 3 (ipykernel)",
   "language": "python",
   "name": "python3"
  },
  "language_info": {
   "codemirror_mode": {
    "name": "ipython",
    "version": 3
   },
   "file_extension": ".py",
   "mimetype": "text/x-python",
   "name": "python",
   "nbconvert_exporter": "python",
   "pygments_lexer": "ipython3",
   "version": "3.8.8"
  },
  "toc": {
   "base_numbering": 1,
   "nav_menu": {
    "height": "445px",
    "width": "592px"
   },
   "number_sections": true,
   "sideBar": true,
   "skip_h1_title": true,
   "title_cell": "Table of Contents",
   "title_sidebar": "Contents",
   "toc_cell": false,
   "toc_position": {},
   "toc_section_display": true,
   "toc_window_display": false
  }
 },
 "nbformat": 4,
 "nbformat_minor": 4
}
